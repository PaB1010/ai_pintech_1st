{
 "cells": [
  {
   "cell_type": "code",
   "execution_count": 1,
   "id": "a15dfc8f-486f-4156-90fe-9a8dd7106e66",
   "metadata": {},
   "outputs": [],
   "source": [
    "# Iterator 생성하는 iter(...) 함수"
   ]
  },
  {
   "cell_type": "code",
   "execution_count": 12,
   "id": "82a4ca38-d92a-40e2-b946-f5fd486c3bd5",
   "metadata": {},
   "outputs": [],
   "source": [
    "fruits = ['사과', '오렌지', '망고', '멜론']\n",
    "\n",
    "# Iterator 객체\n",
    "itr = iter(fruits)"
   ]
  },
  {
   "cell_type": "code",
   "execution_count": 13,
   "id": "834e4997-f4a4-4bb2-ba7c-6ea305cce4dd",
   "metadata": {},
   "outputs": [
    {
     "data": {
      "text/plain": [
       "'사과'"
      ]
     },
     "execution_count": 13,
     "metadata": {},
     "output_type": "execute_result"
    }
   ],
   "source": [
    "next(itr)"
   ]
  },
  {
   "cell_type": "code",
   "execution_count": 14,
   "id": "248b254e-5f35-41bc-9478-d77ca055033c",
   "metadata": {
    "jupyter": {
     "source_hidden": true
    }
   },
   "outputs": [
    {
     "data": {
      "text/plain": [
       "'오렌지'"
      ]
     },
     "execution_count": 14,
     "metadata": {},
     "output_type": "execute_result"
    }
   ],
   "source": [
    "next(itr)"
   ]
  },
  {
   "cell_type": "code",
   "execution_count": 15,
   "id": "85df79e6-f628-43db-8360-1c920290bca2",
   "metadata": {},
   "outputs": [
    {
     "data": {
      "text/plain": [
       "'망고'"
      ]
     },
     "execution_count": 15,
     "metadata": {},
     "output_type": "execute_result"
    }
   ],
   "source": [
    "next(itr)"
   ]
  },
  {
   "cell_type": "code",
   "execution_count": 16,
   "id": "a46a9a4c-308b-4c6d-ac84-acad6fa5f903",
   "metadata": {},
   "outputs": [
    {
     "data": {
      "text/plain": [
       "'멜론'"
      ]
     },
     "execution_count": 16,
     "metadata": {},
     "output_type": "execute_result"
    }
   ],
   "source": [
    "next(itr)"
   ]
  },
  {
   "cell_type": "code",
   "execution_count": 18,
   "id": "32d51560-b995-4332-a80f-e95fe5046b98",
   "metadata": {},
   "outputs": [
    {
     "ename": "StopIteration",
     "evalue": "",
     "output_type": "error",
     "traceback": [
      "\u001b[1;31m---------------------------------------------------------------------------\u001b[0m",
      "\u001b[1;31mStopIteration\u001b[0m                             Traceback (most recent call last)",
      "Cell \u001b[1;32mIn[18], line 1\u001b[0m\n\u001b[1;32m----> 1\u001b[0m \u001b[38;5;28;43mnext\u001b[39;49m\u001b[43m(\u001b[49m\u001b[43mitr\u001b[49m\u001b[43m)\u001b[49m\n",
      "\u001b[1;31mStopIteration\u001b[0m: "
     ]
    }
   ],
   "source": [
    "next(itr)"
   ]
  },
  {
   "cell_type": "code",
   "execution_count": 27,
   "id": "04d82885-197c-4765-b8af-a5fd766479d4",
   "metadata": {},
   "outputs": [],
   "source": [
    "fruits = ['사과', '오렌지', '망고', '멜론']\n",
    "\n",
    "# Iterator 객체\n",
    "itr = iter(fruits)"
   ]
  },
  {
   "cell_type": "code",
   "execution_count": 28,
   "id": "1a59fe9a-bd06-4caf-91c8-4a0e7b414b80",
   "metadata": {},
   "outputs": [
    {
     "name": "stdout",
     "output_type": "stream",
     "text": [
      "사과\n",
      "오렌지\n",
      "망고\n",
      "멜론\n"
     ]
    }
   ],
   "source": [
    "while True :\n",
    "    try :\n",
    "        print(next(itr))\n",
    "        \n",
    "    except StopIteration : \n",
    "        break"
   ]
  },
  {
   "cell_type": "code",
   "execution_count": 45,
   "id": "7c3ad4c4-3518-4695-9187-51721960a9d1",
   "metadata": {},
   "outputs": [],
   "source": [
    "fruits = ['사과', '오렌지', '망고', '멜론']\n",
    "\n",
    "# Iterator 객체\n",
    "itr = iter(fruits)"
   ]
  },
  {
   "cell_type": "code",
   "execution_count": 46,
   "id": "b8f34ee0-7ff2-4fc7-ab57-b8c0f8325ca3",
   "metadata": {},
   "outputs": [
    {
     "name": "stdout",
     "output_type": "stream",
     "text": [
      "사과\n",
      "오렌지\n",
      "망고\n",
      "멜론\n"
     ]
    }
   ],
   "source": [
    "# Iterator는 자동으로 예외처리가 되어있어 간편하게 for문 사용\n",
    "\n",
    "for fruit in itr :\n",
    "\n",
    "    print(fruit)"
   ]
  },
  {
   "cell_type": "code",
   "execution_count": 47,
   "id": "98512050-a748-462f-a389-66c40fed53a5",
   "metadata": {},
   "outputs": [
    {
     "data": {
      "text/plain": [
       "list_iterator"
      ]
     },
     "execution_count": 47,
     "metadata": {},
     "output_type": "execute_result"
    }
   ],
   "source": [
    "type(itr)"
   ]
  },
  {
   "cell_type": "code",
   "execution_count": 34,
   "id": "2762f0e2-1ac3-4dc7-a378-234b21803435",
   "metadata": {},
   "outputs": [],
   "source": [
    "# Generator"
   ]
  },
  {
   "cell_type": "code",
   "execution_count": 35,
   "id": "c940eafc-1431-4d08-9b95-1a59a28c55de",
   "metadata": {},
   "outputs": [],
   "source": [
    "def mygen() :\n",
    "\n",
    "    yield 'A'\n",
    "    yield 'B'\n",
    "    yield 'C'\n",
    "    yield 'D'"
   ]
  },
  {
   "cell_type": "code",
   "execution_count": 37,
   "id": "4588f08c-d443-4e7b-af51-e784a9fcc905",
   "metadata": {},
   "outputs": [
    {
     "data": {
      "text/plain": [
       "generator"
      ]
     },
     "execution_count": 37,
     "metadata": {},
     "output_type": "execute_result"
    }
   ],
   "source": [
    "gen = mygen()\n",
    "\n",
    "type(gen)"
   ]
  },
  {
   "cell_type": "code",
   "execution_count": 38,
   "id": "0af50a5c-409f-49e7-9495-cb1c9350e5b5",
   "metadata": {},
   "outputs": [
    {
     "data": {
      "text/plain": [
       "'A'"
      ]
     },
     "execution_count": 38,
     "metadata": {},
     "output_type": "execute_result"
    }
   ],
   "source": [
    "next(gen)"
   ]
  },
  {
   "cell_type": "code",
   "execution_count": 39,
   "id": "2ad05f1e-2f7d-4d7f-a250-01f9a91678de",
   "metadata": {},
   "outputs": [
    {
     "data": {
      "text/plain": [
       "'B'"
      ]
     },
     "execution_count": 39,
     "metadata": {},
     "output_type": "execute_result"
    }
   ],
   "source": [
    "next(gen)"
   ]
  },
  {
   "cell_type": "code",
   "execution_count": 40,
   "id": "a076b97d-d474-40c9-a45b-e09fd11069c4",
   "metadata": {},
   "outputs": [
    {
     "data": {
      "text/plain": [
       "'C'"
      ]
     },
     "execution_count": 40,
     "metadata": {},
     "output_type": "execute_result"
    }
   ],
   "source": [
    "next(gen)"
   ]
  },
  {
   "cell_type": "code",
   "execution_count": 41,
   "id": "c96e724d-b5c0-4eda-94f4-76fea7eeac24",
   "metadata": {},
   "outputs": [
    {
     "data": {
      "text/plain": [
       "'D'"
      ]
     },
     "execution_count": 41,
     "metadata": {},
     "output_type": "execute_result"
    }
   ],
   "source": [
    "next(gen)"
   ]
  },
  {
   "cell_type": "code",
   "execution_count": 42,
   "id": "08f70893-2285-481c-9d06-a1b933e2dfcc",
   "metadata": {},
   "outputs": [
    {
     "ename": "StopIteration",
     "evalue": "",
     "output_type": "error",
     "traceback": [
      "\u001b[1;31m---------------------------------------------------------------------------\u001b[0m",
      "\u001b[1;31mStopIteration\u001b[0m                             Traceback (most recent call last)",
      "Cell \u001b[1;32mIn[42], line 1\u001b[0m\n\u001b[1;32m----> 1\u001b[0m \u001b[38;5;28;43mnext\u001b[39;49m\u001b[43m(\u001b[49m\u001b[43mgen\u001b[49m\u001b[43m)\u001b[49m\n",
      "\u001b[1;31mStopIteration\u001b[0m: "
     ]
    }
   ],
   "source": [
    "next(gen)"
   ]
  },
  {
   "cell_type": "code",
   "execution_count": 48,
   "id": "a9ba5fca-c85d-4bd1-87f4-859e13d6918f",
   "metadata": {},
   "outputs": [
    {
     "name": "stdout",
     "output_type": "stream",
     "text": [
      "A\n",
      "B\n",
      "C\n",
      "D\n"
     ]
    }
   ],
   "source": [
    "for item in mygen() :\n",
    "\n",
    "    print(item)"
   ]
  }
 ],
 "metadata": {
  "kernelspec": {
   "display_name": "Python 3 (ipykernel)",
   "language": "python",
   "name": "python3"
  },
  "language_info": {
   "codemirror_mode": {
    "name": "ipython",
    "version": 3
   },
   "file_extension": ".py",
   "mimetype": "text/x-python",
   "name": "python",
   "nbconvert_exporter": "python",
   "pygments_lexer": "ipython3",
   "version": "3.12.7"
  }
 },
 "nbformat": 4,
 "nbformat_minor": 5
}
