{
 "cells": [
  {
   "cell_type": "code",
   "execution_count": 1,
   "id": "6ed593eb-d5be-4c2f-8cf2-6fe9eb1c665e",
   "metadata": {},
   "outputs": [],
   "source": [
    "# 정규 표현식"
   ]
  },
  {
   "cell_type": "code",
   "execution_count": 2,
   "id": "114011b1-1025-4835-bb2a-b4c5b3398f17",
   "metadata": {},
   "outputs": [],
   "source": [
    "# 뒷자리만 *으로 변경해보기"
   ]
  },
  {
   "cell_type": "code",
   "execution_count": 12,
   "id": "7445f0b8-f2d6-4668-b3b5-95f2df364665",
   "metadata": {},
   "outputs": [
    {
     "name": "stdout",
     "output_type": "stream",
     "text": [
      "\n",
      "park 800905-*******\n",
      "kim  700905-*******\n",
      "\n"
     ]
    }
   ],
   "source": [
    "# re = 내장 표준 Lib\n",
    "import re\n",
    "\n",
    "data = \"\"\"\n",
    "park 800905-1049118\n",
    "kim  700905-1059119\n",
    "\"\"\"\n",
    "\n",
    "# 숫자니까 d, 앞자리 6개 + 뒷자리 7개\n",
    "p = re.compile('(\\\\d{6})[-]\\\\d{7}')\n",
    "\n",
    "# g = group\n",
    "print(p.sub('\\\\g<1>-*******', data))"
   ]
  },
  {
   "cell_type": "code",
   "execution_count": 13,
   "id": "833e5f75-f5f2-4e3f-96eb-3c7709b2e795",
   "metadata": {},
   "outputs": [],
   "source": [
    "# [] 문자 클래스"
   ]
  },
  {
   "cell_type": "code",
   "execution_count": 26,
   "id": "5e6afd42-e81b-496a-b7cf-b44d3185081d",
   "metadata": {},
   "outputs": [
    {
     "data": {
      "text/plain": [
       "<re.Match object; span=(0, 1), match='a'>"
      ]
     },
     "execution_count": 26,
     "metadata": {},
     "output_type": "execute_result"
    }
   ],
   "source": [
    "# a, b, c 각각 패턴 체크\n",
    "p = re.compile('[abc]')\n",
    "\n",
    "# match - 패턴을 첫 문자부터 체크\n",
    "p.match('a1234b')"
   ]
  },
  {
   "cell_type": "code",
   "execution_count": 25,
   "id": "287a6ad0-37e0-4f26-9f6d-d61c1890cc5d",
   "metadata": {},
   "outputs": [],
   "source": [
    "p.match('1234b')\n",
    "# 매칭 X"
   ]
  },
  {
   "cell_type": "code",
   "execution_count": 27,
   "id": "ffb04f47-3425-4205-8212-e986095cb890",
   "metadata": {},
   "outputs": [
    {
     "data": {
      "text/plain": [
       "<re.Match object; span=(0, 1), match='b'>"
      ]
     },
     "execution_count": 27,
     "metadata": {},
     "output_type": "execute_result"
    }
   ],
   "source": [
    "p.match('b1234')"
   ]
  },
  {
   "cell_type": "code",
   "execution_count": 28,
   "id": "d31ddf8b-3356-4354-9a7d-1411bcbf608e",
   "metadata": {},
   "outputs": [],
   "source": [
    "# 체크하는 문자열이 알파벳으로 구성되어 있는지"
   ]
  },
  {
   "cell_type": "code",
   "execution_count": 41,
   "id": "da0a0848-ae76-4fff-b872-b1b010a03af7",
   "metadata": {},
   "outputs": [
    {
     "data": {
      "text/plain": [
       "<re.Match object; span=(0, 1), match='c'>"
      ]
     },
     "execution_count": 41,
     "metadata": {},
     "output_type": "execute_result"
    }
   ],
   "source": [
    "# 소문자 a~z, 대문자 A~Z, 숫자 0~9로 체크 범위 설정\n",
    "p = re.compile('[a-zA-Z0-9]')\n",
    "\n",
    "p.match('cdefg1234')"
   ]
  },
  {
   "cell_type": "code",
   "execution_count": 42,
   "id": "7a6404d1-d6ec-462e-881c-fae0a13b5bca",
   "metadata": {},
   "outputs": [
    {
     "data": {
      "text/plain": [
       "<re.Match object; span=(0, 1), match='A'>"
      ]
     },
     "execution_count": 42,
     "metadata": {},
     "output_type": "execute_result"
    }
   ],
   "source": [
    "p.match('ABCD1234')"
   ]
  },
  {
   "cell_type": "code",
   "execution_count": 55,
   "id": "eabc29f6-4869-4654-97e1-9da240aa8c46",
   "metadata": {},
   "outputs": [
    {
     "data": {
      "text/plain": [
       "<re.Match object; span=(0, 1), match='2'>"
      ]
     },
     "execution_count": 55,
     "metadata": {},
     "output_type": "execute_result"
    }
   ],
   "source": [
    "# 숫자로 패턴이 시작하는지\n",
    "# p = re.compile('[0-9]')\n",
    "\n",
    "# \\d == [0-9] 즉, 모든 숫자\n",
    "# \\d로 인식하게 하기위해 \\하나더 사용해 \\\\d\n",
    "p = re.compile('\\\\d')\n",
    "\n",
    "p.match('234BCD')"
   ]
  },
  {
   "cell_type": "code",
   "execution_count": 61,
   "id": "68d834da-df6b-47e1-91fa-76c9d1d9f505",
   "metadata": {},
   "outputs": [],
   "source": [
    "# [..] 문자 클래스에 ^로 시작하면 ~ 아닌 패턴(부정)\n",
    "\n",
    "# [^0-9] - 0~9 숫자를 제외한 모든 문자\n",
    "# -> \\D = [^0-9]\n",
    "# \\소문자 = ~ 인 패턴\n",
    "# \\대문자 = ~ 가 아닌 패턴"
   ]
  },
  {
   "cell_type": "code",
   "execution_count": 62,
   "id": "4d73d164-2624-41f3-a903-cd1152ceaf01",
   "metadata": {},
   "outputs": [
    {
     "data": {
      "text/plain": [
       "<re.Match object; span=(0, 1), match='!'>"
      ]
     },
     "execution_count": 62,
     "metadata": {},
     "output_type": "execute_result"
    }
   ],
   "source": [
    "# 숫자로 시작하면 안되는 패턴\n",
    "# p = re.compile('[^0-9]')\n",
    "p =  re.compile('\\\\D')\n",
    "\n",
    "p.match('!234BCD')"
   ]
  },
  {
   "cell_type": "code",
   "execution_count": 60,
   "id": "a93a4a19-140e-4b8a-919d-1ea05dc2ba3c",
   "metadata": {},
   "outputs": [],
   "source": [
    "# raw 문자 그대로 인식\n",
    "# \\d 사용 가능 -> r'...'"
   ]
  },
  {
   "cell_type": "code",
   "execution_count": 65,
   "id": "1a9e88a7-9b10-4f26-8be5-787699ca574f",
   "metadata": {},
   "outputs": [
    {
     "data": {
      "text/plain": [
       "<re.Match object; span=(0, 1), match='1'>"
      ]
     },
     "execution_count": 65,
     "metadata": {},
     "output_type": "execute_result"
    }
   ],
   "source": [
    "p = re.compile(r'\\d')\n",
    "\n",
    "p.match('123ABC')"
   ]
  },
  {
   "cell_type": "code",
   "execution_count": 66,
   "id": "78b2e472-6b94-436d-8772-fa446e26f2f3",
   "metadata": {},
   "outputs": [],
   "source": [
    "# . : \\n(줄개행 문자)를 제외한 모든 문자 1개"
   ]
  },
  {
   "cell_type": "code",
   "execution_count": 75,
   "id": "cd07dc34-a451-4718-a040-e2085b7eb2bc",
   "metadata": {},
   "outputs": [
    {
     "data": {
      "text/plain": [
       "<re.Match object; span=(0, 3), match='a가b'>"
      ]
     },
     "execution_count": 75,
     "metadata": {},
     "output_type": "execute_result"
    }
   ],
   "source": [
    "p = re.compile('a.b')\n",
    "\n",
    "p.match('a가b')"
   ]
  },
  {
   "cell_type": "code",
   "execution_count": 80,
   "id": "0e81c041-8b31-4a89-be25-601de95865d4",
   "metadata": {},
   "outputs": [],
   "source": [
    "p.match('a\\nb')\n",
    "# 매칭 X"
   ]
  },
  {
   "cell_type": "code",
   "execution_count": 91,
   "id": "7e488112-c9b8-4a04-9b9b-3ae6b8c076ac",
   "metadata": {},
   "outputs": [
    {
     "data": {
      "text/plain": [
       "<re.Match object; span=(0, 5), match='a가나다b'>"
      ]
     },
     "execution_count": 91,
     "metadata": {},
     "output_type": "execute_result"
    }
   ],
   "source": [
    "# a ~ 문자 3개 ~ b\n",
    "p = re.compile('a...b')\n",
    "\n",
    "p.match('a가나다b')"
   ]
  },
  {
   "cell_type": "code",
   "execution_count": 87,
   "id": "b109c767-8ed7-46cb-84fb-ad16ed76e54d",
   "metadata": {},
   "outputs": [],
   "source": [
    "# {} 문자"
   ]
  },
  {
   "cell_type": "code",
   "execution_count": 92,
   "id": "b3a22bcb-5b0a-4a5c-9395-88398cd8f8df",
   "metadata": {},
   "outputs": [
    {
     "data": {
      "text/plain": [
       "<re.Match object; span=(0, 5), match='a가나다b'>"
      ]
     },
     "execution_count": 92,
     "metadata": {},
     "output_type": "execute_result"
    }
   ],
   "source": [
    "# a ~ 문자 3개 ~ b\n",
    "p = re.compile('a.{3}b')\n",
    "\n",
    "p.match('a가나다b')"
   ]
  },
  {
   "cell_type": "code",
   "execution_count": 93,
   "id": "5fb8ec5b-4351-4c13-ac44-d656d7c2e5f1",
   "metadata": {},
   "outputs": [],
   "source": [
    "# {m, n} 문자"
   ]
  },
  {
   "cell_type": "code",
   "execution_count": 134,
   "id": "bea03429-5492-4840-bb2c-b4a06e03aa24",
   "metadata": {},
   "outputs": [
    {
     "data": {
      "text/plain": [
       "<re.Match object; span=(0, 12), match='016-123-1234'>"
      ]
     },
     "execution_count": 134,
     "metadata": {},
     "output_type": "execute_result"
    }
   ],
   "source": [
    "# 휴대전화 번호 검증\n",
    "\n",
    "# 01[016] = 010, 011, 016 가능\n",
    "p = re.compile(r'01[016]\\D*\\d{3,4}\\D*\\d{4}')\n",
    "\n",
    "# -, _, ... 숫자가 아닌 모든 특수문자가 사이에 있어도 통과되도록\n",
    "p.match('016-123-1234')"
   ]
  },
  {
   "cell_type": "code",
   "execution_count": null,
   "id": "6e3528e4-1444-4562-8e85-61760b758dbf",
   "metadata": {},
   "outputs": [],
   "source": [
    "# search & ^패턴, 패턴$"
   ]
  },
  {
   "cell_type": "code",
   "execution_count": 137,
   "id": "f66025f7-e3c6-447a-a4a8-484ab6329b3b",
   "metadata": {},
   "outputs": [
    {
     "name": "stdout",
     "output_type": "stream",
     "text": [
      "None\n",
      "<re.Match object; span=(0, 13), match='010-1111-1111'>\n"
     ]
    }
   ],
   "source": [
    "# ^01 - 반드시 01로 시작\n",
    "# \\d{4}$ - 반드시 숫자 4자리로 끝남\n",
    "p = re.compile(r'^01[016]\\D*\\d{3,4}\\D*\\d{4}$')\n",
    "\n",
    "print(p.search('1111016-123-12342222'))\n",
    "print(p.search('010-1111-1111'))"
   ]
  },
  {
   "cell_type": "code",
   "execution_count": 96,
   "id": "28ff80d9-8500-4e99-bae1-911c839c9374",
   "metadata": {},
   "outputs": [],
   "source": [
    "# {숫자,} - 숫자 이상 반복\n",
    "# (...) - 패턴을 그룹화"
   ]
  },
  {
   "cell_type": "code",
   "execution_count": 128,
   "id": "a167846c-d010-4738-9b13-76a3b7c2d55d",
   "metadata": {},
   "outputs": [
    {
     "data": {
      "text/plain": [
       "<re.Match object; span=(0, 6), match='ABABAB'>"
      ]
     },
     "execution_count": 128,
     "metadata": {},
     "output_type": "execute_result"
    }
   ],
   "source": [
    "# p = re.compile(r'(AB){3,}')\n",
    "\n",
    "# p = re.compile(r'(AB){'3}) = 불가능! {0,3}으로 표현해야함\n",
    "\n",
    "# AB가 한번 이상 반복되면\n",
    "p = re.compile(r'(AB)+')\n",
    "\n",
    "p.match('ABABAB')"
   ]
  },
  {
   "cell_type": "code",
   "execution_count": 112,
   "id": "ce1e64ff-63de-4187-b028-5929f8e0d5a0",
   "metadata": {},
   "outputs": [],
   "source": [
    "# * 문자"
   ]
  },
  {
   "cell_type": "code",
   "execution_count": 113,
   "id": "30569c12-8d6b-4c7e-b3ba-9d38dcdd2a7b",
   "metadata": {},
   "outputs": [
    {
     "data": {
      "text/plain": [
       "<re.Match object; span=(0, 9), match='abc123abc'>"
      ]
     },
     "execution_count": 113,
     "metadata": {},
     "output_type": "execute_result"
    }
   ],
   "source": [
    "# 숫자가 포함된 패턴, 숫자 앞 뒤로 아무거나 붙거나 안붙어도 됨\n",
    "\n",
    "p = re.compile(r'.*\\d.*')\n",
    "\n",
    "p.match('abc123abc')"
   ]
  }
 ],
 "metadata": {
  "kernelspec": {
   "display_name": "Python 3 (ipykernel)",
   "language": "python",
   "name": "python3"
  },
  "language_info": {
   "codemirror_mode": {
    "name": "ipython",
    "version": 3
   },
   "file_extension": ".py",
   "mimetype": "text/x-python",
   "name": "python",
   "nbconvert_exporter": "python",
   "pygments_lexer": "ipython3",
   "version": "3.12.7"
  }
 },
 "nbformat": 4,
 "nbformat_minor": 5
}
