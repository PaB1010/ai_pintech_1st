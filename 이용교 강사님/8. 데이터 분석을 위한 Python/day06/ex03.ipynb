{
 "cells": [
  {
   "cell_type": "code",
   "execution_count": null,
   "id": "df3ae81d-9902-422f-86b7-20449b2b1281",
   "metadata": {},
   "outputs": [],
   "source": [
    "# 특정 Web에서 HTML 데이터 가져오기"
   ]
  },
  {
   "cell_type": "code",
   "execution_count": 18,
   "id": "b47191e1-8a9a-4a18-8538-5c7f64852b95",
   "metadata": {},
   "outputs": [],
   "source": [
    "import requests\n",
    "\n",
    "response = requests.get('https://news.naver.com/')\n",
    "html = response.text"
   ]
  },
  {
   "cell_type": "code",
   "execution_count": null,
   "id": "cc2dd961-707a-4d08-8cd8-9a4010ef908f",
   "metadata": {},
   "outputs": [],
   "source": [
    "import re\n",
    "\n",
    "# <img로 시작하고 >가 아닌(^>) 패턴 1개 이상 >로 끝남(>)\n",
    "p = re.compile(r'<img[^>]+>')\n",
    "\n",
    "imgs = p.findall(html)\n",
    "\n",
    "for img in imgs : \n",
    "    print(img)"
   ]
  },
  {
   "cell_type": "code",
   "execution_count": 64,
   "id": "3b21abce-439c-404f-91a4-5a44a2da67d3",
   "metadata": {},
   "outputs": [
    {
     "name": "stdout",
     "output_type": "stream",
     "text": [
      "<span class=\"Nitem_link_menu\">언론사별</span>\n",
      "<span class=\"Nitem_link_menu\">정치</span>\n",
      "<span class=\"Nitem_link_menu\">경제</span>\n",
      "<span class=\"Nitem_link_menu\">사회</span>\n",
      "<span class=\"Nitem_link_menu\">생활/문화</span>\n",
      "<span class=\"Nitem_link_menu\">IT/과학</span>\n",
      "<span class=\"Nitem_link_menu\">세계</span>\n",
      "<span class=\"Nitem_link_menu\">랭킹</span>\n",
      "<span class=\"Nitem_link_menu\">신문보기</span>\n",
      "<span class=\"Nitem_link_menu\">오피니언</span>\n",
      "<span class=\"Nitem_link_menu\">TV</span>\n",
      "<span class=\"Nitem_link_menu\">팩트체크</span>\n",
      "<span class=\"Nitem_link_menu\">알고리즘 안내</span>\n",
      "<span class=\"Nitem_link_menu\">정정보도 모음</span>\n"
     ]
    }
   ],
   "source": [
    "\"\"\"\n",
    "Quiz - 다음과 같은 형태의 메뉴 태그만 가져오기\n",
    "<span class=\"Nitem_link_menu\">정치</span>\n",
    "\"\"\"\n",
    "\n",
    "# 내 풀이1\n",
    "import re\n",
    "\n",
    "p = re.compile(r\"<span[^>]+class=.Nitem_link_menu[^>]*>[^<]+</span>\")\n",
    "\n",
    "menus = p.findall(html)\n",
    "\n",
    "for menu in menus :\n",
    "    print(menu)"
   ]
  },
  {
   "cell_type": "code",
   "execution_count": 65,
   "id": "fa758ee5-5cb4-4463-9082-52be689c620e",
   "metadata": {},
   "outputs": [
    {
     "name": "stdout",
     "output_type": "stream",
     "text": [
      "<span class=\"Nitem_link_menu\">언론사별</span>\n",
      "<span class=\"Nitem_link_menu\">정치</span>\n",
      "<span class=\"Nitem_link_menu\">경제</span>\n",
      "<span class=\"Nitem_link_menu\">사회</span>\n",
      "<span class=\"Nitem_link_menu\">생활/문화</span>\n",
      "<span class=\"Nitem_link_menu\">IT/과학</span>\n",
      "<span class=\"Nitem_link_menu\">세계</span>\n",
      "<span class=\"Nitem_link_menu\">랭킹</span>\n",
      "<span class=\"Nitem_link_menu\">신문보기</span>\n",
      "<span class=\"Nitem_link_menu\">오피니언</span>\n",
      "<span class=\"Nitem_link_menu\">TV</span>\n",
      "<span class=\"Nitem_link_menu\">팩트체크</span>\n",
      "<span class=\"Nitem_link_menu\">알고리즘 안내</span>\n",
      "<span class=\"Nitem_link_menu\">정정보도 모음</span>\n"
     ]
    }
   ],
   "source": [
    "\"\"\"\n",
    "Quiz - 다음과 같은 형태의 메뉴 태그만 가져오기\n",
    "<span class=\"Nitem_link_menu\">정치</span>\n",
    "\"\"\"\n",
    "\n",
    "# 내 풀이2\n",
    "import re\n",
    "\n",
    "p = re.compile(r\"<span.*class=.Nitem_link_menu..*[^>]+/span>\")\n",
    "\n",
    "menus = p.findall(html)\n",
    "\n",
    "for menu in menus :\n",
    "    print(menu)"
   ]
  },
  {
   "cell_type": "code",
   "execution_count": 66,
   "id": "2b3079e1-13da-4068-89db-099203fb0a04",
   "metadata": {},
   "outputs": [
    {
     "name": "stdout",
     "output_type": "stream",
     "text": [
      "<span class=\"Nitem_link_menu\">언론사별</span>\n",
      "<span class=\"Nitem_link_menu\">정치</span>\n",
      "<span class=\"Nitem_link_menu\">경제</span>\n",
      "<span class=\"Nitem_link_menu\">사회</span>\n",
      "<span class=\"Nitem_link_menu\">생활/문화</span>\n",
      "<span class=\"Nitem_link_menu\">IT/과학</span>\n",
      "<span class=\"Nitem_link_menu\">세계</span>\n",
      "<span class=\"Nitem_link_menu\">랭킹</span>\n",
      "<span class=\"Nitem_link_menu\">신문보기</span>\n",
      "<span class=\"Nitem_link_menu\">오피니언</span>\n",
      "<span class=\"Nitem_link_menu\">TV</span>\n",
      "<span class=\"Nitem_link_menu\">팩트체크</span>\n",
      "<span class=\"Nitem_link_menu\">알고리즘 안내</span>\n",
      "<span class=\"Nitem_link_menu\">정정보도 모음</span>\n"
     ]
    }
   ],
   "source": [
    "# 강사님 풀이\n",
    "\n",
    "p = re.compile(r\"<span.*class=['\\\"]Nitem_link_menu['\\\"][^>]*>[^<]+</span>\")\n",
    "\n",
    "items = p.findall(html)\n",
    "\n",
    "for item in items :\n",
    "    print(item)"
   ]
  },
  {
   "cell_type": "code",
   "execution_count": null,
   "id": "78bbbec8-ec7f-45ad-8de9-7fa868a30521",
   "metadata": {},
   "outputs": [],
   "source": [
    "# finditer()"
   ]
  },
  {
   "cell_type": "code",
   "execution_count": 85,
   "id": "25a03bba-7a7c-417c-b523-a409130674c1",
   "metadata": {},
   "outputs": [],
   "source": [
    "p = re.compile(r\"<span.*class=['\\\"]Nitem_link_menu['\\\"][^>]*>[^<]+</span>\")\n",
    "\n",
    "itr = p.finditer(html)"
   ]
  },
  {
   "cell_type": "code",
   "execution_count": 71,
   "id": "a71a2fcc-3d35-4d09-9073-ffaadfc20a11",
   "metadata": {},
   "outputs": [
    {
     "data": {
      "text/plain": [
       "<re.Match object; span=(12180, 12221), match='<span class=\"Nitem_link_menu\">언론사별</span>'>"
      ]
     },
     "execution_count": 71,
     "metadata": {},
     "output_type": "execute_result"
    }
   ],
   "source": [
    "next(itr)"
   ]
  },
  {
   "cell_type": "code",
   "execution_count": 72,
   "id": "98c8f39c-5186-4e01-9b7e-2dab040ef9e9",
   "metadata": {},
   "outputs": [
    {
     "data": {
      "text/plain": [
       "<re.Match object; span=(13520, 13559), match='<span class=\"Nitem_link_menu\">정치</span>'>"
      ]
     },
     "execution_count": 72,
     "metadata": {},
     "output_type": "execute_result"
    }
   ],
   "source": [
    "next(itr)"
   ]
  },
  {
   "cell_type": "code",
   "execution_count": 73,
   "id": "c5d4c273-11ef-4f42-890f-3cbc04b73b0e",
   "metadata": {},
   "outputs": [
    {
     "data": {
      "text/plain": [
       "<re.Match object; span=(14858, 14897), match='<span class=\"Nitem_link_menu\">경제</span>'>"
      ]
     },
     "execution_count": 73,
     "metadata": {},
     "output_type": "execute_result"
    }
   ],
   "source": [
    "next(itr)"
   ]
  },
  {
   "cell_type": "code",
   "execution_count": 84,
   "id": "42f2376d-adc4-4a3e-97ec-6973c3982aa2",
   "metadata": {},
   "outputs": [
    {
     "name": "stdout",
     "output_type": "stream",
     "text": [
      "<re.Match object; span=(12180, 12221), match='<span class=\"Nitem_link_menu\">언론사별</span>'>\n",
      "<re.Match object; span=(13520, 13559), match='<span class=\"Nitem_link_menu\">정치</span>'>\n",
      "<re.Match object; span=(14858, 14897), match='<span class=\"Nitem_link_menu\">경제</span>'>\n",
      "<re.Match object; span=(16196, 16235), match='<span class=\"Nitem_link_menu\">사회</span>'>\n",
      "<re.Match object; span=(17534, 17576), match='<span class=\"Nitem_link_menu\">생활/문화</span>'>\n",
      "<re.Match object; span=(18875, 18917), match='<span class=\"Nitem_link_menu\">IT/과학</span>'>\n",
      "<re.Match object; span=(20216, 20255), match='<span class=\"Nitem_link_menu\">세계</span>'>\n",
      "<re.Match object; span=(21666, 21705), match='<span class=\"Nitem_link_menu\">랭킹</span>'>\n",
      "<re.Match object; span=(23114, 23155), match='<span class=\"Nitem_link_menu\">신문보기</span>'>\n",
      "<re.Match object; span=(24455, 24496), match='<span class=\"Nitem_link_menu\">오피니언</span>'>\n",
      "<re.Match object; span=(25810, 25849), match='<span class=\"Nitem_link_menu\">TV</span>'>\n",
      "<re.Match object; span=(27152, 27193), match='<span class=\"Nitem_link_menu\">팩트체크</span>'>\n",
      "<re.Match object; span=(28492, 28536), match='<span class=\"Nitem_link_menu\">알고리즘 안내</span>'>\n",
      "<re.Match object; span=(29966, 30010), match='<span class=\"Nitem_link_menu\">정정보도 모음</span>'>\n"
     ]
    }
   ],
   "source": [
    "for m in itr : \n",
    "    print(m)"
   ]
  },
  {
   "cell_type": "code",
   "execution_count": null,
   "id": "410f72d7-8086-4edb-afda-f9e769df1fa8",
   "metadata": {},
   "outputs": [],
   "source": [
    "# match 객체 메서드"
   ]
  },
  {
   "cell_type": "code",
   "execution_count": 86,
   "id": "b2b17c54-4c83-4e2b-9aae-611f05f18655",
   "metadata": {},
   "outputs": [
    {
     "name": "stdout",
     "output_type": "stream",
     "text": [
      "--------------------------------------------------\n",
      "group() :  <span class=\"Nitem_link_menu\">언론사별</span>\n",
      "start() :  12180\n",
      "end() :  12221\n",
      "span() :  (12180, 12221)\n",
      "--------------------------------------------------\n",
      "group() :  <span class=\"Nitem_link_menu\">정치</span>\n",
      "start() :  13520\n",
      "end() :  13559\n",
      "span() :  (13520, 13559)\n",
      "--------------------------------------------------\n",
      "group() :  <span class=\"Nitem_link_menu\">경제</span>\n",
      "start() :  14858\n",
      "end() :  14897\n",
      "span() :  (14858, 14897)\n",
      "--------------------------------------------------\n",
      "group() :  <span class=\"Nitem_link_menu\">사회</span>\n",
      "start() :  16196\n",
      "end() :  16235\n",
      "span() :  (16196, 16235)\n",
      "--------------------------------------------------\n",
      "group() :  <span class=\"Nitem_link_menu\">생활/문화</span>\n",
      "start() :  17534\n",
      "end() :  17576\n",
      "span() :  (17534, 17576)\n",
      "--------------------------------------------------\n",
      "group() :  <span class=\"Nitem_link_menu\">IT/과학</span>\n",
      "start() :  18875\n",
      "end() :  18917\n",
      "span() :  (18875, 18917)\n",
      "--------------------------------------------------\n",
      "group() :  <span class=\"Nitem_link_menu\">세계</span>\n",
      "start() :  20216\n",
      "end() :  20255\n",
      "span() :  (20216, 20255)\n",
      "--------------------------------------------------\n",
      "group() :  <span class=\"Nitem_link_menu\">랭킹</span>\n",
      "start() :  21666\n",
      "end() :  21705\n",
      "span() :  (21666, 21705)\n",
      "--------------------------------------------------\n",
      "group() :  <span class=\"Nitem_link_menu\">신문보기</span>\n",
      "start() :  23114\n",
      "end() :  23155\n",
      "span() :  (23114, 23155)\n",
      "--------------------------------------------------\n",
      "group() :  <span class=\"Nitem_link_menu\">오피니언</span>\n",
      "start() :  24455\n",
      "end() :  24496\n",
      "span() :  (24455, 24496)\n",
      "--------------------------------------------------\n",
      "group() :  <span class=\"Nitem_link_menu\">TV</span>\n",
      "start() :  25810\n",
      "end() :  25849\n",
      "span() :  (25810, 25849)\n",
      "--------------------------------------------------\n",
      "group() :  <span class=\"Nitem_link_menu\">팩트체크</span>\n",
      "start() :  27152\n",
      "end() :  27193\n",
      "span() :  (27152, 27193)\n",
      "--------------------------------------------------\n",
      "group() :  <span class=\"Nitem_link_menu\">알고리즘 안내</span>\n",
      "start() :  28492\n",
      "end() :  28536\n",
      "span() :  (28492, 28536)\n",
      "--------------------------------------------------\n",
      "group() :  <span class=\"Nitem_link_menu\">정정보도 모음</span>\n",
      "start() :  29966\n",
      "end() :  30010\n",
      "span() :  (29966, 30010)\n"
     ]
    }
   ],
   "source": [
    "for m in itr :\n",
    "    print('-' * 50)\n",
    "    print('group() : ', m.group())\n",
    "    print('start() : ', m.start())\n",
    "    print('end() : ', m.end())\n",
    "    print('span() : ', m.span())"
   ]
  },
  {
   "cell_type": "code",
   "execution_count": 87,
   "id": "0abeb01b-578d-4ce5-85c4-14e1cb56b693",
   "metadata": {},
   "outputs": [],
   "source": [
    "# Module 단위로 Compile 없이 match & search 수행"
   ]
  },
  {
   "cell_type": "code",
   "execution_count": 88,
   "id": "dcb9bda8-b735-4d57-8407-33e092a62c84",
   "metadata": {},
   "outputs": [
    {
     "data": {
      "text/plain": [
       "<re.Match object; span=(0, 13), match='010-1000-1000'>"
      ]
     },
     "execution_count": 88,
     "metadata": {},
     "output_type": "execute_result"
    }
   ],
   "source": [
    "re.search(r'01[016]\\D*\\d{3,4}\\D*\\d{4}$', '010-1000-1000')"
   ]
  }
 ],
 "metadata": {
  "kernelspec": {
   "display_name": "Python 3 (ipykernel)",
   "language": "python",
   "name": "python3"
  },
  "language_info": {
   "codemirror_mode": {
    "name": "ipython",
    "version": 3
   },
   "file_extension": ".py",
   "mimetype": "text/x-python",
   "name": "python",
   "nbconvert_exporter": "python",
   "pygments_lexer": "ipython3",
   "version": "3.12.7"
  }
 },
 "nbformat": 4,
 "nbformat_minor": 5
}
