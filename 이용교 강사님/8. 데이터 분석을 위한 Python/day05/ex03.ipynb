{
 "cells": [
  {
   "cell_type": "code",
   "execution_count": 1,
   "id": "8b9c325f-b571-46df-8647-8ed4072dfe39",
   "metadata": {},
   "outputs": [],
   "source": [
    "# 표준 라이브러리"
   ]
  },
  {
   "cell_type": "code",
   "execution_count": 2,
   "id": "04cb218d-97f9-4fc7-88cf-4744ad41802e",
   "metadata": {},
   "outputs": [],
   "source": [
    "# time.localtime"
   ]
  },
  {
   "cell_type": "code",
   "execution_count": 4,
   "id": "79a9b912-c5df-4fcc-b051-cc890d8c6eb1",
   "metadata": {},
   "outputs": [
    {
     "name": "stdout",
     "output_type": "stream",
     "text": [
      "2024. 11. 21\n"
     ]
    }
   ],
   "source": [
    "import time\n",
    "\n",
    "today = time.localtime(time.time())\n",
    "\n",
    "strDate = time.strftime('%Y. %m. %d', today)\n",
    "\n",
    "print(strDate)"
   ]
  },
  {
   "cell_type": "code",
   "execution_count": 5,
   "id": "7a1ebe11-2f1d-40f5-992c-06a962c2f2c1",
   "metadata": {},
   "outputs": [],
   "source": [
    "# glob"
   ]
  },
  {
   "cell_type": "code",
   "execution_count": 15,
   "id": "01ffd69c-4f6f-4904-872c-40a06eb2e759",
   "metadata": {},
   "outputs": [
    {
     "name": "stdout",
     "output_type": "stream",
     "text": [
      "D:/pkg/game\\__init__.py\n"
     ]
    }
   ],
   "source": [
    "from glob import glob\n",
    "\n",
    "import os\n",
    "\n",
    "files = glob('D:/pkg/game/*')\n",
    "\n",
    "for file in files :\n",
    "\n",
    "    if not os.path.isdir(file) :\n",
    "        print(file)"
   ]
  }
 ],
 "metadata": {
  "kernelspec": {
   "display_name": "Python 3 (ipykernel)",
   "language": "python",
   "name": "python3"
  },
  "language_info": {
   "codemirror_mode": {
    "name": "ipython",
    "version": 3
   },
   "file_extension": ".py",
   "mimetype": "text/x-python",
   "name": "python",
   "nbconvert_exporter": "python",
   "pygments_lexer": "ipython3",
   "version": "3.12.7"
  }
 },
 "nbformat": 4,
 "nbformat_minor": 5
}
