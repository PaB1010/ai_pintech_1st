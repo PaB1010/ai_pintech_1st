{
 "cells": [
  {
   "cell_type": "code",
   "execution_count": 1,
   "id": "3baa7b07-1720-4c19-8b02-d85b38b31e8e",
   "metadata": {},
   "outputs": [],
   "source": [
    "# 예외 처리"
   ]
  },
  {
   "cell_type": "code",
   "execution_count": 2,
   "id": "04ec9402-f828-44be-8147-e5a835e5ab1b",
   "metadata": {},
   "outputs": [],
   "source": [
    "# try-except 문"
   ]
  },
  {
   "cell_type": "code",
   "execution_count": 10,
   "id": "1a104db6-bb73-4304-adf9-44be7c720dc2",
   "metadata": {},
   "outputs": [
    {
     "name": "stdout",
     "output_type": "stream",
     "text": [
      "예외 발생\n",
      "매우 중요한 코드! 꼭 실행 되어야 함\n"
     ]
    }
   ],
   "source": [
    "try : # 예외가 발생할 가능성이 있는 코드 구간\n",
    "    num1 = 10\n",
    "    num2 = 0\n",
    "    result = num1 / num2\n",
    "    print(result)\n",
    "\n",
    "except : # 예외에 대한 처리 구간\n",
    "    print('예외 발생')\n",
    "\n",
    "print('매우 중요한 코드! 꼭 실행 되어야 함')"
   ]
  },
  {
   "cell_type": "code",
   "execution_count": null,
   "id": "92ece21b-2d71-499f-9131-4a1a3ddc3148",
   "metadata": {},
   "outputs": [],
   "source": [
    "# Error 명시 가능"
   ]
  },
  {
   "cell_type": "code",
   "execution_count": 11,
   "id": "ca477077-700f-4ce3-9303-12754ce970a8",
   "metadata": {},
   "outputs": [
    {
     "name": "stdout",
     "output_type": "stream",
     "text": [
      "예외 발생\n",
      "매우 중요한 코드! 꼭 실행 되어야 함\n"
     ]
    }
   ],
   "source": [
    "try : # 예외가 발생할 가능성이 있는 코드 구간\n",
    "    num1 = 10\n",
    "    num2 = 0\n",
    "    result = num1 / num2\n",
    "    print(result)\n",
    "\n",
    "# Error 명시해서 지정 가능\n",
    "except ZeroDivisionError : # 예외에 대한 처리 구간\n",
    "    print('예외 발생')\n",
    "\n",
    "print('매우 중요한 코드! 꼭 실행 되어야 함')"
   ]
  },
  {
   "cell_type": "code",
   "execution_count": null,
   "id": "e1f910be-8a57-472f-a63a-e36cfdc1e98e",
   "metadata": {},
   "outputs": [],
   "source": [
    "# 다중 예외 처리 & as e & traceback"
   ]
  },
  {
   "cell_type": "code",
   "execution_count": 31,
   "id": "333d6763-32fa-47ca-b2cc-0b3569cb7c76",
   "metadata": {},
   "outputs": [
    {
     "name": "stdout",
     "output_type": "stream",
     "text": [
      "5.0\n",
      "'망고' is not in list\n",
      "Traceback (most recent call last):\n",
      "  File \"C:\\Users\\admin\\AppData\\Local\\Temp\\ipykernel_2100\\2396815384.py\", line 12, in <module>\n",
      "    pos = fruits.index('망고')\n",
      "          ^^^^^^^^^^^^^^^^^^^^\n",
      "ValueError: '망고' is not in list\n",
      "\n",
      "매우 중요한 코드! 꼭 실행 되어야 함\n"
     ]
    }
   ],
   "source": [
    "# JAVA - printStackTrace와 유사\n",
    "import traceback\n",
    "\n",
    "try : # 예외가 발생할 가능성이 있는 코드 구간\n",
    "    num1 = 10\n",
    "    # num2 = 0\n",
    "    num2 = 2\n",
    "    result = num1 / num2\n",
    "    print(result)\n",
    "\n",
    "    fruits = ['사과', '멜론', '오렌지']\n",
    "    pos = fruits.index('망고')\n",
    "    print(pos)\n",
    "\n",
    "# Error 명시해서 지정 가능\n",
    "# e : 발생한 예외 객체 참조 변수\n",
    "except ZeroDivisionError as e: # 예외에 대한 처리 구간\n",
    "    # print('Zero 예외 발생')\n",
    "\n",
    "    # __str__ 호출\n",
    "    print(e)\n",
    "    # 예외 발생에 대한 자세한 정보 확인\n",
    "    print(traceback.format_exc())\n",
    "\n",
    "except ValueError as e :\n",
    "    # print('Value 예외 발생')\n",
    "    \n",
    "    print(e)\n",
    "    print(traceback.format_exc())\n",
    "\n",
    "print('매우 중요한 코드! 꼭 실행 되어야 함')"
   ]
  },
  {
   "cell_type": "code",
   "execution_count": 21,
   "id": "48d176d5-71a2-42bc-98b8-541a515b3852",
   "metadata": {},
   "outputs": [],
   "source": [
    "# Tuple 이용 다종 예외 처리"
   ]
  },
  {
   "cell_type": "code",
   "execution_count": 26,
   "id": "a65d425c-3ec8-4f31-a078-6fee8b2f2234",
   "metadata": {},
   "outputs": [
    {
     "name": "stdout",
     "output_type": "stream",
     "text": [
      "5.0\n",
      "예외 발생\n",
      "매우 중요한 코드! 꼭 실행 되어야 함\n"
     ]
    }
   ],
   "source": [
    "try : # 예외가 발생할 가능성이 있는 코드 구간\n",
    "    num1 = 10\n",
    "    # num2 = 0\n",
    "    num2 = 2\n",
    "    result = num1 / num2\n",
    "    print(result)\n",
    "\n",
    "    fruits = ['사과', '멜론', '오렌지']\n",
    "    pos = fruits.index('망고')\n",
    "    print(pos)\n",
    "\n",
    "# Error 명시해서 지정 가능\n",
    "# ':'때문에 (Tuple)생략은 불가능\n",
    "except (ZeroDivisionError, ValueError) : # 예외에 대한 처리 구간\n",
    "    print('예외 발생')\n",
    "\n",
    "# except ValueError :\n",
    "#     print('Value 예외 발생')\n",
    "\n",
    "print('매우 중요한 코드! 꼭 실행 되어야 함')"
   ]
  },
  {
   "cell_type": "code",
   "execution_count": 27,
   "id": "1dca9d8d-4045-4bf5-9e26-4a09abe29f44",
   "metadata": {},
   "outputs": [],
   "source": [
    "# 다형성 이용"
   ]
  },
  {
   "cell_type": "code",
   "execution_count": 47,
   "id": "743a52e4-4885-4d73-81ab-19af7d27e617",
   "metadata": {},
   "outputs": [
    {
     "name": "stdout",
     "output_type": "stream",
     "text": [
      "5.0\n",
      "예외 발생\n",
      "매우 중요한 코드! 꼭 실행 되어야 함\n"
     ]
    }
   ],
   "source": [
    "try : # 예외가 발생할 가능성이 있는 코드 구간\n",
    "    num1 = 10\n",
    "    # num2 = 0\n",
    "    num2 = 2\n",
    "    result = num1 / num2\n",
    "    print(result)\n",
    "\n",
    "    fruits = ['사과', '멜론', '오렌지']\n",
    "    pos = fruits.index('망고')\n",
    "    print(pos)\n",
    "\n",
    "# Error 명시해서 지정 가능\n",
    "except Exception : # 예외에 대한 처리 구간\n",
    "    print('예외 발생')\n",
    "\n",
    "# except ValueError :\n",
    "#     print('Value 예외 발생')\n",
    "\n",
    "print('매우 중요한 코드! 꼭 실행 되어야 함')"
   ]
  },
  {
   "cell_type": "code",
   "execution_count": null,
   "id": "ad3bd32a-9b2f-4b85-9dba-b4e82db0dd29",
   "metadata": {},
   "outputs": [],
   "source": [
    "# try-finally 문 써야하는 이유"
   ]
  },
  {
   "cell_type": "code",
   "execution_count": 34,
   "id": "ea9c2c6d-fdd2-4ad1-84b8-864b0956f535",
   "metadata": {},
   "outputs": [],
   "source": [
    "def add(a, b) :\n",
    "    return a + b\n",
    "    print('return 후')"
   ]
  },
  {
   "cell_type": "code",
   "execution_count": 37,
   "id": "dd64e81e-b74f-4877-8f3b-13d40780c27a",
   "metadata": {},
   "outputs": [
    {
     "data": {
      "text/plain": [
       "30"
      ]
     },
     "execution_count": 37,
     "metadata": {},
     "output_type": "execute_result"
    }
   ],
   "source": [
    "add(10, 20)"
   ]
  },
  {
   "cell_type": "code",
   "execution_count": 38,
   "id": "cc11afdf-436d-44b3-adc1-d5c825a70073",
   "metadata": {},
   "outputs": [],
   "source": [
    "# try-finally 문"
   ]
  },
  {
   "cell_type": "code",
   "execution_count": 43,
   "id": "af8259c2-6e49-4731-9663-aab9c806b794",
   "metadata": {},
   "outputs": [],
   "source": [
    "def add(a, b) :\n",
    "    try :\n",
    "        return print(a + b)\n",
    "\n",
    "    finally :\n",
    "        print('return 후')"
   ]
  },
  {
   "cell_type": "code",
   "execution_count": 49,
   "id": "4a9f8b65-fc90-4a18-bccc-521e3d9448f6",
   "metadata": {},
   "outputs": [
    {
     "name": "stdout",
     "output_type": "stream",
     "text": [
      "30\n",
      "return 후\n"
     ]
    }
   ],
   "source": [
    "add(10, 20)"
   ]
  },
  {
   "cell_type": "code",
   "execution_count": null,
   "id": "5c231175-e682-4f35-a1a5-a5b2746c9608",
   "metadata": {},
   "outputs": [],
   "source": [
    "# try - else 문"
   ]
  },
  {
   "cell_type": "code",
   "execution_count": 60,
   "id": "af37c781-735f-4ed7-8d87-a7032e8ee3ea",
   "metadata": {},
   "outputs": [
    {
     "name": "stdout",
     "output_type": "stream",
     "text": [
      "5.0\n",
      "1\n",
      "잘 처리됨...\n",
      "매우 중요한 코드! 꼭 실행 되어야 함\n"
     ]
    }
   ],
   "source": [
    "try : # 예외가 발생할 가능성이 있는 코드 구간\n",
    "    num1 = 10\n",
    "    # num2 = 0\n",
    "    num2 = 2\n",
    "    result = num1 / num2\n",
    "    print(result)\n",
    "\n",
    "    fruits = ['사과', '멜론', '오렌지']\n",
    "    # pos = fruits.index('망고')\n",
    "    pos = fruits.index('멜론')\n",
    "    print(pos)\n",
    "\n",
    "# Error 명시해서 지정 가능\n",
    "# 다형성, 예외가 발생하면 실행\n",
    "except Exception : # 예외에 대한 처리 구간\n",
    "    print('예외 발생')\n",
    "\n",
    "else : # 예외가 발생하지 않으면 실행되는 구간\n",
    "    print('잘 처리됨...')\n",
    "\n",
    "# except ValueError :\n",
    "#     print('Value 예외 발생')\n",
    "\n",
    "print('매우 중요한 코드! 꼭 실행 되어야 함')"
   ]
  },
  {
   "cell_type": "code",
   "execution_count": 61,
   "id": "d676a3d2-f88c-413b-aa9d-92d3583a0fe1",
   "metadata": {},
   "outputs": [],
   "source": [
    "# pass - 오류 회피"
   ]
  },
  {
   "cell_type": "code",
   "execution_count": 63,
   "id": "30522ccd-ecd7-4b05-ae9c-0e063a09792c",
   "metadata": {},
   "outputs": [
    {
     "name": "stdout",
     "output_type": "stream",
     "text": [
      "5.0\n",
      "매우 중요한 코드! 꼭 실행 되어야 함\n"
     ]
    }
   ],
   "source": [
    "try : # 예외가 발생할 가능성이 있는 코드 구간\n",
    "    num1 = 10\n",
    "    # num2 = 0\n",
    "    num2 = 2\n",
    "    result = num1 / num2\n",
    "    print(result)\n",
    "\n",
    "    fruits = ['사과', '멜론', '오렌지']\n",
    "    pos = fruits.index('망고')\n",
    "    print(pos)\n",
    "\n",
    "# Error 명시해서 지정 가능\n",
    "# ':'때문에 (Tuple)생략은 불가능\n",
    "except (ZeroDivisionError, ValueError) : # 예외에 대한 처리 구간\n",
    "    # print('예외 발생')\n",
    "    \n",
    "    # 예외 처리, 아무 것도 안하겠다\n",
    "    pass\n",
    "    \n",
    "\n",
    "# except ValueError :\n",
    "#     print('Value 예외 발생')\n",
    "\n",
    "print('매우 중요한 코드! 꼭 실행 되어야 함')"
   ]
  },
  {
   "cell_type": "code",
   "execution_count": 64,
   "id": "322c6420-b44c-4743-bc3d-86d2c088fcfb",
   "metadata": {},
   "outputs": [],
   "source": [
    "# raise - 예외 발생"
   ]
  },
  {
   "cell_type": "code",
   "execution_count": 74,
   "id": "22be13f6-cd72-47e5-80c5-88b22485a475",
   "metadata": {},
   "outputs": [],
   "source": [
    "def login(user_id, user_pass) :\n",
    "\n",
    "    if user_id != 'user01' :\n",
    "\n",
    "        raise Exception('아이디가 일치하지 않습니다.')\n",
    "\n",
    "    if user_pass != '1234' :\n",
    "\n",
    "        raise Exception('비밀번호가 일치하지 않습니다.')\n",
    "\n",
    "    print('로그인 성공!')"
   ]
  },
  {
   "cell_type": "code",
   "execution_count": 75,
   "id": "ac381b05-8909-44f7-a27b-d95aa911c684",
   "metadata": {},
   "outputs": [
    {
     "name": "stdout",
     "output_type": "stream",
     "text": [
      "로그인 성공!\n"
     ]
    }
   ],
   "source": [
    "login('user01', '1234')"
   ]
  },
  {
   "cell_type": "code",
   "execution_count": 76,
   "id": "c96a6b6f-4ad5-44d8-9da8-ff143387832a",
   "metadata": {},
   "outputs": [
    {
     "ename": "Exception",
     "evalue": "아이디가 일치하지 않습니다.",
     "output_type": "error",
     "traceback": [
      "\u001b[1;31m---------------------------------------------------------------------------\u001b[0m",
      "\u001b[1;31mException\u001b[0m                                 Traceback (most recent call last)",
      "Cell \u001b[1;32mIn[76], line 1\u001b[0m\n\u001b[1;32m----> 1\u001b[0m \u001b[43mlogin\u001b[49m\u001b[43m(\u001b[49m\u001b[38;5;124;43m'\u001b[39;49m\u001b[38;5;124;43muser02\u001b[39;49m\u001b[38;5;124;43m'\u001b[39;49m\u001b[43m,\u001b[49m\u001b[43m \u001b[49m\u001b[38;5;124;43m'\u001b[39;49m\u001b[38;5;124;43m1234\u001b[39;49m\u001b[38;5;124;43m'\u001b[39;49m\u001b[43m)\u001b[49m\n",
      "Cell \u001b[1;32mIn[74], line 5\u001b[0m, in \u001b[0;36mlogin\u001b[1;34m(user_id, user_pass)\u001b[0m\n\u001b[0;32m      1\u001b[0m \u001b[38;5;28;01mdef\u001b[39;00m \u001b[38;5;21mlogin\u001b[39m(user_id, user_pass) :\n\u001b[0;32m      3\u001b[0m     \u001b[38;5;28;01mif\u001b[39;00m user_id \u001b[38;5;241m!=\u001b[39m \u001b[38;5;124m'\u001b[39m\u001b[38;5;124muser01\u001b[39m\u001b[38;5;124m'\u001b[39m :\n\u001b[1;32m----> 5\u001b[0m         \u001b[38;5;28;01mraise\u001b[39;00m \u001b[38;5;167;01mException\u001b[39;00m(\u001b[38;5;124m'\u001b[39m\u001b[38;5;124m아이디가 일치하지 않습니다.\u001b[39m\u001b[38;5;124m'\u001b[39m)\n\u001b[0;32m      7\u001b[0m     \u001b[38;5;28;01mif\u001b[39;00m user_pass \u001b[38;5;241m!=\u001b[39m \u001b[38;5;124m'\u001b[39m\u001b[38;5;124m1234\u001b[39m\u001b[38;5;124m'\u001b[39m :\n\u001b[0;32m      9\u001b[0m         \u001b[38;5;28;01mraise\u001b[39;00m \u001b[38;5;167;01mException\u001b[39;00m(\u001b[38;5;124m'\u001b[39m\u001b[38;5;124m비밀번호가 일치하지 않습니다.\u001b[39m\u001b[38;5;124m'\u001b[39m)\n",
      "\u001b[1;31mException\u001b[0m: 아이디가 일치하지 않습니다."
     ]
    }
   ],
   "source": [
    "login('user02', '1234')"
   ]
  },
  {
   "cell_type": "code",
   "execution_count": 77,
   "id": "900daa80-dc65-4410-a3cb-352ab04e671f",
   "metadata": {},
   "outputs": [],
   "source": [
    "# 예외 Class 생성"
   ]
  },
  {
   "cell_type": "code",
   "execution_count": 108,
   "id": "22a34b10-0838-4ee6-833e-a21fc4bb1186",
   "metadata": {},
   "outputs": [],
   "source": [
    "# Exception을 상속 받으면 예외 Class가 됨\n",
    "class UserIdException(Exception) : \n",
    "\n",
    "    def __init__(self, message) :\n",
    "\n",
    "        self.message = message\n",
    "    \n",
    "    def __str__(self) :\n",
    "        \n",
    "        return self.message\n",
    "\n",
    "class UserPassEsception(Exception) :\n",
    "\n",
    "    def __init__(self, message) :\n",
    "\n",
    "        self.message = message\n",
    "\n",
    "    def __str__(self) :\n",
    "\n",
    "        return self.message"
   ]
  },
  {
   "cell_type": "code",
   "execution_count": 109,
   "id": "f34b9b89-17c8-4cc7-a944-abe708592b7c",
   "metadata": {},
   "outputs": [],
   "source": [
    "def login(user_id, user_pass) :\n",
    "    \n",
    "    if user_id != 'user01' :\n",
    "\n",
    "        # raise UserIdException()\n",
    "        raise UserIdException('아이디가 일치하지 않습니다')\n",
    "\n",
    "    if user_pass != '1234' :\n",
    "\n",
    "        raise UserPassException('비밀번호가 일치하지 않습니다')\n",
    "\n",
    "    print('로그인 성공...')"
   ]
  },
  {
   "cell_type": "code",
   "execution_count": 110,
   "id": "c3063e75-9c26-4219-a59f-12df05673de7",
   "metadata": {},
   "outputs": [
    {
     "name": "stdout",
     "output_type": "stream",
     "text": [
      "아이디가 일치하지 않습니다\n",
      "Traceback (most recent call last):\n",
      "  File \"C:\\Users\\admin\\AppData\\Local\\Temp\\ipykernel_2100\\2719047312.py\", line 4, in <module>\n",
      "    login('user02', '1234')\n",
      "  File \"C:\\Users\\admin\\AppData\\Local\\Temp\\ipykernel_2100\\3398329811.py\", line 6, in login\n",
      "    raise UserIdException('아이디가 일치하지 않습니다')\n",
      "UserIdException: 아이디가 일치하지 않습니다\n",
      "\n"
     ]
    }
   ],
   "source": [
    "import traceback\n",
    "\n",
    "try :\n",
    "    login('user02', '1234')\n",
    "\n",
    "except (UserIdException, UserPassEsception) as e :\n",
    "    \n",
    "    print(e)  # __str__ 호출\n",
    "    print(traceback.format_exc())"
   ]
  }
 ],
 "metadata": {
  "kernelspec": {
   "display_name": "Python 3 (ipykernel)",
   "language": "python",
   "name": "python3"
  },
  "language_info": {
   "codemirror_mode": {
    "name": "ipython",
    "version": 3
   },
   "file_extension": ".py",
   "mimetype": "text/x-python",
   "name": "python",
   "nbconvert_exporter": "python",
   "pygments_lexer": "ipython3",
   "version": "3.12.7"
  }
 },
 "nbformat": 4,
 "nbformat_minor": 5
}
