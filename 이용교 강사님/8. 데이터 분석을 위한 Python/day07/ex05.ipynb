{
 "cells": [
  {
   "cell_type": "code",
   "execution_count": 1,
   "id": "a735c3a1-2aaa-4e44-9564-f6a09783676b",
   "metadata": {},
   "outputs": [],
   "source": [
    "# 전방 탐색"
   ]
  },
  {
   "cell_type": "code",
   "execution_count": 2,
   "id": "909a6389-8fae-45cd-a1cf-bcfa2274c8fd",
   "metadata": {},
   "outputs": [],
   "source": [
    "import re\n",
    "\n",
    "url = 'http://www.naver.com'"
   ]
  },
  {
   "cell_type": "code",
   "execution_count": 6,
   "id": "89ba3746-ccb1-4398-948b-4798e14527c2",
   "metadata": {},
   "outputs": [
    {
     "data": {
      "text/plain": [
       "<re.Match object; span=(0, 7), match='http://'>"
      ]
     },
     "execution_count": 6,
     "metadata": {},
     "output_type": "execute_result"
    }
   ],
   "source": [
    "p = re.compile(r'http[s]?://')\n",
    "\n",
    "p.match(url)"
   ]
  },
  {
   "cell_type": "code",
   "execution_count": null,
   "id": "20541c65-e439-4973-8711-2fe7aacde83b",
   "metadata": {},
   "outputs": [],
   "source": [
    "# 긍정형 전방 탐색"
   ]
  },
  {
   "cell_type": "code",
   "execution_count": 9,
   "id": "e0502c5d-3626-4258-b2fd-91c7e588e14a",
   "metadata": {},
   "outputs": [
    {
     "data": {
      "text/plain": [
       "<re.Match object; span=(0, 4), match='http'>"
      ]
     },
     "execution_count": 9,
     "metadata": {},
     "output_type": "execute_result"
    }
   ],
   "source": [
    "# ://의 전까지 체크\n",
    "p = re.compile(r'.+(?=://)')\n",
    "\n",
    "p.match(url)"
   ]
  },
  {
   "cell_type": "code",
   "execution_count": 10,
   "id": "674126a8-1ab4-4e3e-9a55-a395142eece7",
   "metadata": {},
   "outputs": [],
   "source": [
    "# 부정형 전방 탐색"
   ]
  },
  {
   "cell_type": "code",
   "execution_count": 12,
   "id": "88294e73-3283-41db-8860-6b2511560e33",
   "metadata": {},
   "outputs": [
    {
     "name": "stdout",
     "output_type": "stream",
     "text": [
      "https://www.naver.com\n"
     ]
    }
   ],
   "source": [
    "urls = ['abc', 'def', 'https://www.naver.com', 'ghi']\n",
    "\n",
    "for url in urls :\n",
    "\n",
    "    if p.match(url) :\n",
    "        print(url)"
   ]
  },
  {
   "cell_type": "code",
   "execution_count": 43,
   "id": "b1351c0d-22c7-4075-9916-80db3afe96b8",
   "metadata": {},
   "outputs": [
    {
     "name": "stdout",
     "output_type": "stream",
     "text": [
      "abc\n",
      "def\n",
      "https://www.naver.com\n",
      "ghi\n"
     ]
    }
   ],
   "source": [
    "# :// 패턴이 아닌 문구의 앞에 있는 패턴 체크\n",
    "p = re.compile(r'.+(?!=://)')\n",
    "\n",
    "for url in urls :\n",
    "\n",
    "    if p.match(url) :\n",
    "        print(url)"
   ]
  },
  {
   "cell_type": "code",
   "execution_count": 20,
   "id": "f4bd7571-e0c5-461c-9935-e6afa3b9d575",
   "metadata": {},
   "outputs": [],
   "source": [
    "# greedy & non-greedy"
   ]
  },
  {
   "cell_type": "code",
   "execution_count": 22,
   "id": "8b6d2723-6989-42ed-9380-a6b667670b53",
   "metadata": {},
   "outputs": [],
   "source": [
    "a = '<html><head><title>Title</title></head></html>'"
   ]
  },
  {
   "cell_type": "code",
   "execution_count": null,
   "id": "efea17b5-7c16-4130-8981-6f3ae86e5add",
   "metadata": {},
   "outputs": [],
   "source": [
    "# .* = 최대 매칭"
   ]
  },
  {
   "cell_type": "code",
   "execution_count": 30,
   "id": "355550bf-ebcf-4a5f-a2f0-ab093a169f52",
   "metadata": {},
   "outputs": [
    {
     "data": {
      "text/plain": [
       "'<html><head><title>Title</title></head></html>'"
      ]
     },
     "execution_count": 30,
     "metadata": {},
     "output_type": "execute_result"
    }
   ],
   "source": [
    "# 전체 매칭됨\n",
    "p = re.compile(r'<.*>')\n",
    "\n",
    "p.match(a).group()"
   ]
  },
  {
   "cell_type": "code",
   "execution_count": 31,
   "id": "246cc71b-1c83-493f-9a44-cce06c3f0a60",
   "metadata": {},
   "outputs": [],
   "source": [
    "# .*? = 최소 매칭"
   ]
  },
  {
   "cell_type": "code",
   "execution_count": 44,
   "id": "48391985-41ba-48fa-aefc-5d58e0c92a18",
   "metadata": {},
   "outputs": [
    {
     "data": {
      "text/plain": [
       "'<html>'"
      ]
     },
     "execution_count": 44,
     "metadata": {},
     "output_type": "execute_result"
    }
   ],
   "source": [
    "p = re.compile(r'<.*?>')\n",
    "\n",
    "p.match(a).group()"
   ]
  },
  {
   "cell_type": "code",
   "execution_count": 45,
   "id": "8197bec4-4da2-4f2a-80e9-00ae12eb6485",
   "metadata": {},
   "outputs": [],
   "source": [
    "# sub 메서드 - 문자열 바꾸기"
   ]
  },
  {
   "cell_type": "code",
   "execution_count": 56,
   "id": "9ffb4f0e-df02-4022-ac34-a2c36cf41fae",
   "metadata": {},
   "outputs": [
    {
     "data": {
      "text/plain": [
       "'1 fruits, 2 fruits, 3 fruits'"
      ]
     },
     "execution_count": 56,
     "metadata": {},
     "output_type": "execute_result"
    }
   ],
   "source": [
    "p = re.compile('apple|orange|melon')\n",
    "\n",
    "str = '1 apples, 2 oranges, 3 melons'\n",
    "\n",
    "p.sub('fruit', str)"
   ]
  },
  {
   "cell_type": "code",
   "execution_count": 58,
   "id": "eebc1a32-ede5-4873-b085-68b4e8f8c343",
   "metadata": {},
   "outputs": [
    {
     "data": {
      "text/plain": [
       "'1 fruits, 2 fruits, 3 melons'"
      ]
     },
     "execution_count": 58,
     "metadata": {},
     "output_type": "execute_result"
    }
   ],
   "source": [
    "# 2개까지만 치환, 3번째인 melon\n",
    "p.sub('fruit', str, count=2)"
   ]
  },
  {
   "cell_type": "code",
   "execution_count": 61,
   "id": "317f2141-8fe1-4905-92dc-ed44de055c3a",
   "metadata": {},
   "outputs": [
    {
     "data": {
      "text/plain": [
       "('1 fruits, 2 fruits, 3 melons', 2)"
      ]
     },
     "execution_count": 61,
     "metadata": {},
     "output_type": "execute_result"
    }
   ],
   "source": [
    "p.subn('fruit', str, 2)"
   ]
  }
 ],
 "metadata": {
  "kernelspec": {
   "display_name": "Python 3 (ipykernel)",
   "language": "python",
   "name": "python3"
  },
  "language_info": {
   "codemirror_mode": {
    "name": "ipython",
    "version": 3
   },
   "file_extension": ".py",
   "mimetype": "text/x-python",
   "name": "python",
   "nbconvert_exporter": "python",
   "pygments_lexer": "ipython3",
   "version": "3.12.7"
  }
 },
 "nbformat": 4,
 "nbformat_minor": 5
}
