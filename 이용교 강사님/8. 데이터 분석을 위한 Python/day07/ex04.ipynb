{
 "cells": [
  {
   "cell_type": "code",
   "execution_count": 1,
   "id": "0ea7ddbc-5d94-4c7e-bf75-b2482ff8019f",
   "metadata": {},
   "outputs": [],
   "source": [
    "# Grouping"
   ]
  },
  {
   "cell_type": "code",
   "execution_count": 2,
   "id": "f08c3565-8660-4b42-85a8-4968f09c0536",
   "metadata": {},
   "outputs": [],
   "source": [
    "# 휴대폰 번호"
   ]
  },
  {
   "cell_type": "code",
   "execution_count": 3,
   "id": "86cf95f2-0604-4745-947d-d7fb84548e44",
   "metadata": {},
   "outputs": [],
   "source": [
    "import re"
   ]
  },
  {
   "cell_type": "code",
   "execution_count": 5,
   "id": "0e2e5fee-4fe0-4373-b74c-7cb35cf06271",
   "metadata": {},
   "outputs": [],
   "source": [
    "data = \"\"\"\n",
    "이이름 010-1000-1000\n",
    "김이름 010-2000-2000\n",
    "\"\"\""
   ]
  },
  {
   "cell_type": "code",
   "execution_count": 7,
   "id": "995b9167-a44d-47c9-b377-8eba985e911b",
   "metadata": {},
   "outputs": [
    {
     "name": "stdout",
     "output_type": "stream",
     "text": [
      "['이이름 010-1000-1000', '김이름 010-2000-2000']\n"
     ]
    }
   ],
   "source": [
    "p = re.compile(r'[a-zA-Zㄱ-ㅎ-가-힣]+\\s01[016]\\D*\\d{3,4}\\D*\\d{4}')\n",
    "\n",
    "print(p.findall(data))"
   ]
  },
  {
   "cell_type": "code",
   "execution_count": null,
   "id": "8d8922a5-4d69-4ef4-868e-dae3f7c8b90e",
   "metadata": {},
   "outputs": [],
   "source": [
    "# 이름, 번호로 나누어 Grouping\n",
    "# match 객체"
   ]
  },
  {
   "cell_type": "code",
   "execution_count": 9,
   "id": "8bc73b22-f980-433b-b059-2a46b3102042",
   "metadata": {},
   "outputs": [],
   "source": [
    "p = re.compile(r'([a-zA-Zㄱ-ㅎ-가-힣]+)\\s(01[016]\\D*\\d{3,4}\\D*\\d{4})')"
   ]
  },
  {
   "cell_type": "code",
   "execution_count": 12,
   "id": "126103c4-a3a3-4540-9b3c-872cb18a401c",
   "metadata": {},
   "outputs": [
    {
     "name": "stdout",
     "output_type": "stream",
     "text": [
      "이이름 010-1000-1000\n",
      "이이름\n",
      "010-1000-1000\n",
      "김이름 010-2000-2000\n",
      "김이름\n",
      "010-2000-2000\n"
     ]
    }
   ],
   "source": [
    "for m in p.finditer(data) :\n",
    "    \n",
    "    # .group() = 전체 패턴에 매칭되는 문자열\n",
    "    print(m.group())\n",
    "\n",
    "    # .group(1) = 첫번째 group에 매칭되는 문자열\n",
    "    print(m.group(1))\n",
    "\n",
    "    # .group(2) = 두번째 group에 매칭되는 문자열\n",
    "    print(m.group(2))"
   ]
  },
  {
   "cell_type": "code",
   "execution_count": 13,
   "id": "9f3dcf70-3407-4264-a705-f6d0493009ee",
   "metadata": {},
   "outputs": [],
   "source": [
    "# sub(..) 치환"
   ]
  },
  {
   "cell_type": "code",
   "execution_count": 16,
   "id": "4d15a912-00e4-4e93-ab38-d19c7eef3819",
   "metadata": {},
   "outputs": [
    {
     "name": "stdout",
     "output_type": "stream",
     "text": [
      "\n",
      "010-1000-1000 이이름\n",
      "010-2000-2000 김이름\n",
      "\n"
     ]
    }
   ],
   "source": [
    "# \\g<1>, \\g<2>\n",
    "p = re.compile(r'([a-zA-Zㄱ-ㅎ-가-힣]+)\\s(01[016]\\D*\\d{3,4}\\D*\\d{4})')\n",
    "\n",
    "a = p.sub(r'\\g<2> \\g<1>', data)\n",
    "\n",
    "print(a)"
   ]
  },
  {
   "cell_type": "code",
   "execution_count": null,
   "id": "1d291716-8fc0-41a6-aa5e-c1955ebba88c",
   "metadata": {},
   "outputs": [],
   "source": [
    "# ?P<Group명>(Group) = Grouping된 문자열에 이름 붙이기"
   ]
  },
  {
   "cell_type": "code",
   "execution_count": 32,
   "id": "0f1ffce4-b2f4-404e-a17d-46fc4eff9590",
   "metadata": {},
   "outputs": [
    {
     "name": "stdout",
     "output_type": "stream",
     "text": [
      "\n",
      "이이름 010-1000-1000\n",
      "김이름 010-2000-2000\n",
      "\n"
     ]
    }
   ],
   "source": [
    "p = re.compile(r'(?P<name>[a-zA-Zㄱ-ㅎ-가-힣]+)\\s(?P<phone>01[016]\\D*\\d{3,4}\\D*\\d{4})')\n",
    "\n",
    "a = p.sub(r'\\g<name> \\g<phone>', data)\n",
    "\n",
    "print(a)"
   ]
  },
  {
   "cell_type": "code",
   "execution_count": null,
   "id": "edae3546-8d15-4c73-85fe-d83f4b065348",
   "metadata": {},
   "outputs": [],
   "source": [
    "# Grouping된 문자열 재참조하기"
   ]
  },
  {
   "cell_type": "code",
   "execution_count": 21,
   "id": "7fa9363d-7f78-4d37-a686-5c7d93bc5f11",
   "metadata": {},
   "outputs": [],
   "source": [
    "a = '111 ab ab 222 222'"
   ]
  },
  {
   "cell_type": "code",
   "execution_count": 27,
   "id": "1d8069ba-f203-4eac-b335-222ab2e7a726",
   "metadata": {},
   "outputs": [
    {
     "data": {
      "text/plain": [
       "<re.Match object; span=(4, 9), match='ab ab'>"
      ]
     },
     "execution_count": 27,
     "metadata": {},
     "output_type": "execute_result"
    }
   ],
   "source": [
    "# p = re.compile(r'(ab)\\(ab)')\n",
    "# =\n",
    "# \\1 = (ab), 1번째 group을 참조\n",
    "p = re.compile(r'(ab)\\s\\1')\n",
    "\n",
    "p.search(a)"
   ]
  },
  {
   "cell_type": "code",
   "execution_count": 29,
   "id": "f2240a8c-c476-4ed4-91f3-a9f4d3de4a90",
   "metadata": {},
   "outputs": [
    {
     "data": {
      "text/plain": [
       "<re.Match object; span=(4, 17), match='ab ab 222 222'>"
      ]
     },
     "execution_count": 29,
     "metadata": {},
     "output_type": "execute_result"
    }
   ],
   "source": [
    "# \\2 = (222)\n",
    "p = re.compile(r'(ab)\\s\\1\\s(222)\\s\\2')\n",
    "\n",
    "p.search(a)"
   ]
  }
 ],
 "metadata": {
  "kernelspec": {
   "display_name": "Python 3 (ipykernel)",
   "language": "python",
   "name": "python3"
  },
  "language_info": {
   "codemirror_mode": {
    "name": "ipython",
    "version": 3
   },
   "file_extension": ".py",
   "mimetype": "text/x-python",
   "name": "python",
   "nbconvert_exporter": "python",
   "pygments_lexer": "ipython3",
   "version": "3.12.7"
  }
 },
 "nbformat": 4,
 "nbformat_minor": 5
}
