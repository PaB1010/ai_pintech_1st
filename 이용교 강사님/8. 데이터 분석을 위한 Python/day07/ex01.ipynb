{
 "cells": [
  {
   "cell_type": "code",
   "execution_count": null,
   "id": "557113e7-42cf-4d92-a911-4d3861057444",
   "metadata": {},
   "outputs": [],
   "source": [
    "# 정규표현식"
   ]
  },
  {
   "cell_type": "code",
   "execution_count": null,
   "id": "7faaf006-b403-4553-8507-7c4f58adcfb1",
   "metadata": {},
   "outputs": [],
   "source": [
    "# . : 줄 개행 문자(\\n)를 제외한 모든 문자 1자"
   ]
  },
  {
   "cell_type": "code",
   "execution_count": 3,
   "id": "ea9d8fe9-1169-42b1-916c-2ac300c2e384",
   "metadata": {},
   "outputs": [],
   "source": [
    "import re\n",
    "p = re.compile('a.b')\n",
    "\n",
    "# p.match('a1b')\n",
    "\n",
    "# .은 줄개행 문자(\\n) 제외한 모든 문자 1자이므로 match X\n",
    "p.match('a\\nb')"
   ]
  },
  {
   "cell_type": "code",
   "execution_count": null,
   "id": "5719ee8a-2cac-4cf3-b1f7-d67f9d1de1bf",
   "metadata": {},
   "outputs": [],
   "source": [
    "# re.DOTALL = re.S\n",
    "# .이 줄 개행 문자(\\n)도 포함한 모든 문자 1개"
   ]
  },
  {
   "cell_type": "code",
   "execution_count": 5,
   "id": "655f68d7-d83a-44e6-85aa-56c0eaeebda4",
   "metadata": {},
   "outputs": [
    {
     "data": {
      "text/plain": [
       "<re.Match object; span=(0, 3), match='a\\nb'>"
      ]
     },
     "execution_count": 5,
     "metadata": {},
     "output_type": "execute_result"
    }
   ],
   "source": [
    "# p = re.compile('a.b', re.DOTALL)\n",
    "# =\n",
    "p = re.compile('a.b', re.S)\n",
    "\n",
    "p.match('a\\nb')"
   ]
  },
  {
   "cell_type": "code",
   "execution_count": 13,
   "id": "49fd6054-86c5-4d75-a5db-c307ba8be4c9",
   "metadata": {},
   "outputs": [],
   "source": [
    "# re.IGNORECASE = re.I\n",
    "# 알파벳 대소문자 구분 없이 체크"
   ]
  },
  {
   "cell_type": "code",
   "execution_count": 15,
   "id": "1894c50b-e69d-4543-a374-f1629975f032",
   "metadata": {},
   "outputs": [
    {
     "data": {
      "text/plain": [
       "<re.Match object; span=(0, 6), match='Python'>"
      ]
     },
     "execution_count": 15,
     "metadata": {},
     "output_type": "execute_result"
    }
   ],
   "source": [
    "# 알파벳 대소문자\n",
    "# p = re.compile('[a-zA-Z]+')\n",
    "# =\n",
    "# 알파벳 대소문자 구분 X\n",
    "# p = re.compile('[a-z]+', re.IGNORECASE)\n",
    "# =\n",
    "#\n",
    "p = re.compile('[a-z]+', re.I)\n",
    "\n",
    "p.match('Python')"
   ]
  },
  {
   "cell_type": "code",
   "execution_count": 16,
   "id": "0275ca8c-63ac-4fc9-96fb-fcfda2895785",
   "metadata": {},
   "outputs": [],
   "source": [
    "# re.MULTILINE = re.M\n",
    "# 각각의 행별로 ^(시작), $(끝) 패턴 체크"
   ]
  },
  {
   "cell_type": "code",
   "execution_count": 26,
   "id": "63227f4d-116d-494c-ba28-089c69721350",
   "metadata": {},
   "outputs": [
    {
     "name": "stdout",
     "output_type": "stream",
     "text": [
      "['python one12', 'python two', 'python three']\n"
     ]
    }
   ],
   "source": [
    "str = \"\"\"python one12\n",
    "life is short\n",
    "python two\n",
    "you need python\n",
    "python three\"\"\"\n",
    "\n",
    "# 전체 하나의 문장으로 체크\n",
    "# p = re.compile(r'^python\\s\\w+')\n",
    "\n",
    "# 각각의 행별로 ^(시작), $(끝) 패턴\n",
    "# p = re.compile(r'^python\\s\\w+', re.MULTILINE)\n",
    "# = \n",
    "p = re.compile(r'^python\\s\\w+', re.M)\n",
    "\n",
    "items = p.findall(str)\n",
    "\n",
    "print(items)"
   ]
  },
  {
   "cell_type": "code",
   "execution_count": 27,
   "id": "eb90a53d-d914-4b8f-90fd-3dde47e44b11",
   "metadata": {},
   "outputs": [],
   "source": [
    "# \\ 문제 = \\\\으로 해결"
   ]
  },
  {
   "cell_type": "code",
   "execution_count": 31,
   "id": "93532072-82b3-42dd-b39c-608ee0bed2b1",
   "metadata": {},
   "outputs": [
    {
     "data": {
      "text/plain": [
       "<re.Match object; span=(0, 5), match='ab cd'>"
      ]
     },
     "execution_count": 31,
     "metadata": {},
     "output_type": "execute_result"
    }
   ],
   "source": [
    "# \\s -> s\n",
    "# p = re.compile('ab\\scd')\n",
    "\n",
    "# \\\\로 해결\n",
    "# p = re.compile('ab\\\\scd')\n",
    "\n",
    "# row 문자\n",
    "p = re.compile(r'ab\\scd')\n",
    "\n",
    "p.match('ab cd')"
   ]
  }
 ],
 "metadata": {
  "kernelspec": {
   "display_name": "Python 3 (ipykernel)",
   "language": "python",
   "name": "python3"
  },
  "language_info": {
   "codemirror_mode": {
    "name": "ipython",
    "version": 3
   },
   "file_extension": ".py",
   "mimetype": "text/x-python",
   "name": "python",
   "nbconvert_exporter": "python",
   "pygments_lexer": "ipython3",
   "version": "3.12.7"
  }
 },
 "nbformat": 4,
 "nbformat_minor": 5
}
