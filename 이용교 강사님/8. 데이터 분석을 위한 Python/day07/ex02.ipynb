{
 "cells": [
  {
   "cell_type": "code",
   "execution_count": 1,
   "id": "256ab09a-468d-47b0-ae3d-9cdbfc8d213d",
   "metadata": {},
   "outputs": [],
   "source": [
    "# 강력한 정규 표현식"
   ]
  },
  {
   "cell_type": "code",
   "execution_count": 2,
   "id": "ecde1d5d-419e-45a9-bf3e-eecb26bccdd3",
   "metadata": {},
   "outputs": [],
   "source": [
    "# |"
   ]
  },
  {
   "cell_type": "code",
   "execution_count": 16,
   "id": "74875c82-ec5d-4c57-9bfb-bfb270b0dd84",
   "metadata": {},
   "outputs": [],
   "source": [
    "import re"
   ]
  },
  {
   "cell_type": "code",
   "execution_count": 17,
   "id": "e4ddf384-857f-4d64-85e0-6e4452140a4c",
   "metadata": {},
   "outputs": [
    {
     "data": {
      "text/plain": [
       "<re.Match object; span=(6, 12), match='orange'>"
      ]
     },
     "execution_count": 17,
     "metadata": {},
     "output_type": "execute_result"
    }
   ],
   "source": [
    "# apple 또는 oragne 또는 melon\n",
    "p = re.compile('apple|orange|melon')\n",
    "\n",
    "p.search('three oranges')"
   ]
  },
  {
   "cell_type": "code",
   "execution_count": 18,
   "id": "3d5ad4bc-0ec9-490e-a45f-db826e48ad01",
   "metadata": {},
   "outputs": [],
   "source": [
    "p. search('three mango')"
   ]
  },
  {
   "cell_type": "code",
   "execution_count": null,
   "id": "f069c370-4d8c-40e5-be16-76ade07d845d",
   "metadata": {},
   "outputs": [],
   "source": [
    "# ^ ~ $"
   ]
  },
  {
   "cell_type": "code",
   "execution_count": 21,
   "id": "af0ae204-72c4-43e6-94c1-809893878eb2",
   "metadata": {},
   "outputs": [
    {
     "data": {
      "text/plain": [
       "<re.Match object; span=(0, 12), match='010-111-1111'>"
      ]
     },
     "execution_count": 21,
     "metadata": {},
     "output_type": "execute_result"
    }
   ],
   "source": [
    "# 01로 반드시 시작,  숫자 4자리로 반드시 끝나는 패턴\n",
    "p = re.compile(r'^01[016]\\d{3,4}\\d{4}$')\n",
    "\n",
    "# 010-1000.1000, 010.1000.1000\n",
    "# 숫자가 아닌 문자가 섞여도 되도록\n",
    "# \\D* = 숫자가 아닌 문자 0개 이상\n",
    "p = re.compile(r'^01[016]\\D*\\d{3,4}\\D*\\d{4}$')\n",
    "\n",
    "p.search('010-111-1111')"
   ]
  },
  {
   "cell_type": "code",
   "execution_count": 22,
   "id": "cdc00051-9332-46ab-ba6e-2ad897d75872",
   "metadata": {},
   "outputs": [],
   "source": [
    "# \\b"
   ]
  },
  {
   "cell_type": "code",
   "execution_count": 26,
   "id": "eb4abc36-67e8-44cb-83ec-362e60f80ad2",
   "metadata": {},
   "outputs": [
    {
     "data": {
      "text/plain": [
       "<re.Match object; span=(3, 8), match='class'>"
      ]
     },
     "execution_count": 26,
     "metadata": {},
     "output_type": "execute_result"
    }
   ],
   "source": [
    "# class 단어 체크, \\b는 class 단어의 경계선(공백)\n",
    "p = re.compile(r'\\bclass\\b')\n",
    "\n",
    "p.search('my class is oer 6pm')"
   ]
  },
  {
   "cell_type": "code",
   "execution_count": 28,
   "id": "612db692-f756-463c-8e25-6c57778d17e5",
   "metadata": {},
   "outputs": [
    {
     "data": {
      "text/plain": [
       "<re.Match object; span=(0, 5), match='class'>"
      ]
     },
     "execution_count": 28,
     "metadata": {},
     "output_type": "execute_result"
    }
   ],
   "source": [
    "# class가 맨 앞이나 맨 뒤에 붙어 공백이 양옆에 없어도 동일하게 인식\n",
    "p.search('class is over 6pm')"
   ]
  },
  {
   "cell_type": "code",
   "execution_count": 31,
   "id": "e6f616dc-e6a9-4d71-9007-817f172292bc",
   "metadata": {},
   "outputs": [],
   "source": [
    "# \\B"
   ]
  },
  {
   "cell_type": "code",
   "execution_count": 32,
   "id": "3459ca96-a6d0-494d-b567-03dac04994b8",
   "metadata": {},
   "outputs": [],
   "source": [
    "p.search('my subclass is over 6pm')"
   ]
  },
  {
   "cell_type": "code",
   "execution_count": 34,
   "id": "7d407b32-70ec-45fd-8da3-068e3ae4d86d",
   "metadata": {},
   "outputs": [
    {
     "data": {
      "text/plain": [
       "<re.Match object; span=(6, 11), match='class'>"
      ]
     },
     "execution_count": 34,
     "metadata": {},
     "output_type": "execute_result"
    }
   ],
   "source": [
    "p = re.compile(r'\\Bclass\\b')\n",
    "\n",
    "p.search('my subclass is over 6pm')"
   ]
  }
 ],
 "metadata": {
  "kernelspec": {
   "display_name": "Python 3 (ipykernel)",
   "language": "python",
   "name": "python3"
  },
  "language_info": {
   "codemirror_mode": {
    "name": "ipython",
    "version": 3
   },
   "file_extension": ".py",
   "mimetype": "text/x-python",
   "name": "python",
   "nbconvert_exporter": "python",
   "pygments_lexer": "ipython3",
   "version": "3.12.7"
  }
 },
 "nbformat": 4,
 "nbformat_minor": 5
}
