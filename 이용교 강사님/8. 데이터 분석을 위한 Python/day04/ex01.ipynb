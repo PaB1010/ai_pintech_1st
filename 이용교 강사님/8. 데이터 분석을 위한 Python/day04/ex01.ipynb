{
 "cells": [
  {
   "cell_type": "code",
   "execution_count": null,
   "id": "aaf98e23-9bfc-43a4-a340-8f8d06918e69",
   "metadata": {},
   "outputs": [],
   "source": [
    "# day03 파일 읽고 쓰기 review"
   ]
  },
  {
   "cell_type": "code",
   "execution_count": 11,
   "id": "11fb309f-3eea-4324-b827-374171caa475",
   "metadata": {},
   "outputs": [],
   "source": [
    "# w - 쓰기, 지정된 경로에 파일이 없는 경우 새 파일 생성\n",
    "f = open('D:/data.txt', 'w') \n",
    "\n",
    "# 1 ~ 10을 10회 반복\n",
    "for i in range(1, 11):\n",
    "    f.write('%d번 라인\\n' % i)\n",
    "\n",
    "f.close()"
   ]
  },
  {
   "cell_type": "code",
   "execution_count": 4,
   "id": "36dd66b2-eaba-459e-87c6-d4a0744e4d09",
   "metadata": {},
   "outputs": [],
   "source": [
    "# 파일 읽기"
   ]
  },
  {
   "cell_type": "code",
   "execution_count": 12,
   "id": "1b698ffe-1047-487f-857f-d0e0a21fc208",
   "metadata": {},
   "outputs": [
    {
     "name": "stdout",
     "output_type": "stream",
     "text": [
      "1번 라인\n",
      "2번 라인\n",
      "3번 라인\n",
      "4번 라인\n",
      "5번 라인\n",
      "6번 라인\n",
      "7번 라인\n",
      "8번 라인\n",
      "9번 라인\n",
      "10번 라인\n",
      "\n"
     ]
    }
   ],
   "source": [
    "f = open('D:/data.txt', 'r')\n",
    "\n",
    "# 파일 내용 전체 읽기\n",
    "data = f.read()\n",
    "\n",
    "f.close()\n",
    "\n",
    "print(data)"
   ]
  },
  {
   "cell_type": "code",
   "execution_count": 15,
   "id": "af911ea9-c8f9-4554-a9d1-0c1370e2f716",
   "metadata": {},
   "outputs": [
    {
     "name": "stdout",
     "output_type": "stream",
     "text": [
      "1번 라인\n",
      "2번 라인\n",
      "3번 라인\n",
      "4번 라인\n",
      "5번 라인\n",
      "6번 라인\n",
      "7번 라인\n",
      "8번 라인\n",
      "9번 라인\n",
      "10번 라인\n"
     ]
    }
   ],
   "source": [
    "# readLine - 한줄 한줄 읽기\n",
    "f = open('D:/data.txt','r')\n",
    "\n",
    "while True :\n",
    "    line = f.readline()\n",
    "    if not line : break;\n",
    "    # end의 default값 = \\n\n",
    "    # print(line, end = '')\n",
    "    print(line.strip())\n",
    "\n",
    "f.close()"
   ]
  },
  {
   "cell_type": "code",
   "execution_count": 16,
   "id": "2db53ed8-c952-487e-8552-f589d1be1e41",
   "metadata": {},
   "outputs": [],
   "source": [
    "# readlines() - 한꺼번에 읽어와서 한줄 한줄 List로 반환"
   ]
  },
  {
   "cell_type": "code",
   "execution_count": 22,
   "id": "bc818919-6464-4dee-854d-183962cf3e2c",
   "metadata": {},
   "outputs": [
    {
     "name": "stdout",
     "output_type": "stream",
     "text": [
      "1번 라인\n",
      "2번 라인\n",
      "3번 라인\n",
      "4번 라인\n",
      "5번 라인\n",
      "6번 라인\n",
      "7번 라인\n",
      "8번 라인\n",
      "9번 라인\n",
      "10번 라인\n"
     ]
    }
   ],
   "source": [
    "f = open('D:/data.txt', 'r')\n",
    "\n",
    "lines = f.readlines()\n",
    "\n",
    "for line in lines :\n",
    "    print(line, end = '')\n",
    "\n",
    "f.close()"
   ]
  },
  {
   "cell_type": "code",
   "execution_count": 20,
   "id": "c60c92e4-9d1d-4556-bbd7-64ca8b526e81",
   "metadata": {},
   "outputs": [],
   "source": [
    "# file 객체 바로 읽어오기"
   ]
  },
  {
   "cell_type": "code",
   "execution_count": 24,
   "id": "7c41657d-1afe-4da3-be02-b0226be11858",
   "metadata": {},
   "outputs": [
    {
     "name": "stdout",
     "output_type": "stream",
     "text": [
      "<_io.TextIOWrapper name='D:/data.txt' mode='r' encoding='cp949'>\n",
      "1번 라인\n",
      "2번 라인\n",
      "3번 라인\n",
      "4번 라인\n",
      "5번 라인\n",
      "6번 라인\n",
      "7번 라인\n",
      "8번 라인\n",
      "9번 라인\n",
      "10번 라인\n"
     ]
    }
   ],
   "source": [
    "f = open('D:/data.txt', 'r')\n",
    "\n",
    "print(f)\n",
    "\n",
    "for line in f :\n",
    "    print(line, end = '')\n",
    "\n",
    "f.close()"
   ]
  },
  {
   "cell_type": "code",
   "execution_count": 25,
   "id": "19c20bdd-af75-4ce1-a146-99390953e439",
   "metadata": {},
   "outputs": [],
   "source": [
    "# a - append 모드, 추가 text가 계속 끝에 추가(Cursor 유지)"
   ]
  },
  {
   "cell_type": "code",
   "execution_count": 29,
   "id": "4f3210f3-1264-4d6c-afc9-1c1f66c93e3b",
   "metadata": {},
   "outputs": [],
   "source": [
    "f = open('D:/log.txt', 'a')\n",
    "\n",
    "f.write('로그3\\n')\n",
    "f.write('로그4\\n')\n",
    "\n",
    "f.close()"
   ]
  },
  {
   "cell_type": "code",
   "execution_count": 30,
   "id": "a8595545-58a6-4187-8e9d-61ce0252b5f9",
   "metadata": {},
   "outputs": [],
   "source": [
    "# with 구문 - 자원 해제 자동화"
   ]
  },
  {
   "cell_type": "code",
   "execution_count": 31,
   "id": "f26a88b5-797c-4b65-b3d5-490c03955b60",
   "metadata": {},
   "outputs": [],
   "source": [
    "with open('D:/data2.txt', 'w') as f :\n",
    "    f.write('test text...')"
   ]
  }
 ],
 "metadata": {
  "kernelspec": {
   "display_name": "Python 3 (ipykernel)",
   "language": "python",
   "name": "python3"
  },
  "language_info": {
   "codemirror_mode": {
    "name": "ipython",
    "version": 3
   },
   "file_extension": ".py",
   "mimetype": "text/x-python",
   "name": "python",
   "nbconvert_exporter": "python",
   "pygments_lexer": "ipython3",
   "version": "3.12.7"
  }
 },
 "nbformat": 4,
 "nbformat_minor": 5
}
