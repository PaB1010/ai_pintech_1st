{
 "cells": [
  {
   "cell_type": "code",
   "execution_count": 42,
   "id": "742879d3-c39d-41e2-add5-cfd87af83430",
   "metadata": {},
   "outputs": [],
   "source": [
    "# Class"
   ]
  },
  {
   "cell_type": "code",
   "execution_count": null,
   "id": "7e0b84b7-680a-4c64-ad2d-b7b26f3e6fcd",
   "metadata": {},
   "outputs": [],
   "source": [
    "# Class 정의와 self & 초기화 메서드(생성자)"
   ]
  },
  {
   "cell_type": "code",
   "execution_count": 32,
   "id": "f2b17deb-5ca5-4358-8027-21feac33d35e",
   "metadata": {},
   "outputs": [],
   "source": [
    "class Calculator :\n",
    "\n",
    "    # Calculator() 호출시 가장 먼저 호출되는 메서드 - 초기화 메서드(생성자)\n",
    "    # 객체 변수(인스턴스 변수) 초기화 작업을 주로 담당\n",
    "    def __init__(self, a, b) :\n",
    "        print('__init__ 호출')\n",
    "\n",
    "        self.a = a\n",
    "        self.b = b\n",
    "\n",
    "    # self:객체 자원 중 인스턴스 변수(객체 변수)를 접근하기 위한 수단 - JAVA의 this와 유사\n",
    "    def add(self) :\n",
    "        return self.a + self.b  # 객체 변수 a, b를 더함\n",
    "\n",
    "    def sub(self) :\n",
    "        return self.a - self.b\n",
    "\n",
    "    def mul(self) :\n",
    "        return self.a * self.b\n",
    "\n",
    "    def div(self) :\n",
    "        return self.a / self.b"
   ]
  },
  {
   "cell_type": "code",
   "execution_count": 19,
   "id": "827f9fd8-909d-440f-8b18-bb4eda6e8bcb",
   "metadata": {},
   "outputs": [
    {
     "name": "stdout",
     "output_type": "stream",
     "text": [
      "__init__ 호출\n"
     ]
    }
   ],
   "source": [
    "# 객체 생성\n",
    "# cal = Calculator()\n",
    "cal = Calculator(10, 20)"
   ]
  },
  {
   "cell_type": "code",
   "execution_count": 22,
   "id": "4ce68883-16c5-4dc3-ab7e-5da63c4ff8c7",
   "metadata": {},
   "outputs": [
    {
     "name": "stdout",
     "output_type": "stream",
     "text": [
      "30\n",
      "-10\n",
      "200\n",
      "0.5\n"
     ]
    }
   ],
   "source": [
    "# 객체 변수(인스턴스 변수)\n",
    "# cal.a = 10\n",
    "# cal.b = 20\n",
    "\n",
    "# Calculator.add(cal)\n",
    "\n",
    "cal.add()\n",
    "# cal이 self에 대입됨\n",
    "\n",
    "print(cal.add())\n",
    "\n",
    "print(cal.sub())\n",
    "\n",
    "print(cal.mul())\n",
    "\n",
    "print(cal.div())"
   ]
  },
  {
   "cell_type": "code",
   "execution_count": null,
   "id": "88178377-4f63-44ea-8813-66b725db6f2b",
   "metadata": {},
   "outputs": [],
   "source": [
    "# Class 상속 - ProCalculator(자식), Calculator(부모)"
   ]
  },
  {
   "cell_type": "code",
   "execution_count": 36,
   "id": "8c403bfa-6987-43e9-8163-a3b6203d1426",
   "metadata": {},
   "outputs": [],
   "source": [
    "class ProCalculator(Calculator) :\n",
    "    # pass\n",
    "\n",
    "    # Calculator에 정의된 div() 메서드 재정의\n",
    "    def div(self) :\n",
    "        \n",
    "        if self.b == 0:\n",
    "            return 0\n",
    "\n",
    "        # super가 없어서 직접 호출하면 비슷하게 사용 가능\n",
    "        # return Calculator.div(self)\n",
    "        return self.a / self.b\n",
    "\n",
    "    def square(self, x) :\n",
    "\n",
    "        return x ** 2"
   ]
  },
  {
   "cell_type": "code",
   "execution_count": 43,
   "id": "9585ab87-33c6-4d28-8fc6-f8a8e2b13304",
   "metadata": {},
   "outputs": [
    {
     "name": "stdout",
     "output_type": "stream",
     "text": [
      "__init__ 호출\n",
      "0\n",
      "100\n"
     ]
    }
   ],
   "source": [
    "cal2 = ProCalculator(10, 0)\n",
    "\n",
    "# Calculator의 div는 0으로 나눗셈 하면 오류\n",
    "print(cal2.div())\n",
    "\n",
    "print(cal2.square(10))"
   ]
  },
  {
   "cell_type": "code",
   "execution_count": null,
   "id": "31648882-548a-419d-84fc-c921495651d3",
   "metadata": {},
   "outputs": [],
   "source": [
    "# Student Class"
   ]
  },
  {
   "cell_type": "code",
   "execution_count": 48,
   "id": "47bae032-1126-4f0c-b2a6-03957c038778",
   "metadata": {},
   "outputs": [],
   "source": [
    "class Student :\n",
    "\n",
    "    def __init__(self, id, name, major) :\n",
    "        self.id = id\n",
    "        self.name = name\n",
    "        self.major = major\n",
    "\n",
    "    \"\"\"\n",
    "        __str__(self) default - 객체 메모리 주소\n",
    "        JAVA의 toString() 메서드와 유사!\n",
    "    \"\"\"\n",
    "    def __str__(self) :\n",
    "        return f'id = {self.id} / name = {self.name} / major = {self.major}'"
   ]
  },
  {
   "cell_type": "code",
   "execution_count": null,
   "id": "7047c9f0-f634-423c-8668-c578115a0249",
   "metadata": {},
   "outputs": [],
   "source": [
    "# def__str__(self)"
   ]
  },
  {
   "cell_type": "code",
   "execution_count": 50,
   "id": "31acfd5a-e6fa-4038-9e01-7a5022db6587",
   "metadata": {},
   "outputs": [
    {
     "name": "stdout",
     "output_type": "stream",
     "text": [
      "id = 1000 / name = 이이름 / major = Python\n"
     ]
    }
   ],
   "source": [
    "s1 = Student(1000, '이이름', 'Python')\n",
    "\n",
    "# __str__(self) default - 객체 메모리 주소\n",
    "print(s1)  # def __str__(self)"
   ]
  },
  {
   "cell_type": "code",
   "execution_count": 51,
   "id": "19f39627-3b63-41e7-a9ac-f100b34e5428",
   "metadata": {},
   "outputs": [],
   "source": [
    "# def__call__(self) - 객체를 함수처럼 사용"
   ]
  },
  {
   "cell_type": "code",
   "execution_count": 55,
   "id": "6f8804e5-092e-46cf-8b3e-ffc56c95be3f",
   "metadata": {},
   "outputs": [],
   "source": [
    "class Multiply :\n",
    "\n",
    "    def __init__(self, num) :\n",
    "        self.num = num\n",
    "\n",
    "    # 객체의 참조 변수를 함수처럼 호출했을 때 실행\n",
    "    def __call__(self, num) :\n",
    "        return self.num * num\n",
    "\n",
    "    def __str__(self) :\n",
    "        return str(self.num)"
   ]
  },
  {
   "cell_type": "code",
   "execution_count": 58,
   "id": "da4e7400-fbc1-45e7-bb78-ce4d7d263d35",
   "metadata": {},
   "outputs": [
    {
     "name": "stdout",
     "output_type": "stream",
     "text": [
      "200\n",
      "10\n"
     ]
    }
   ],
   "source": [
    "# __init__(self, num) 호출\n",
    "mul = Multiply(10)\n",
    "\n",
    "# __call__(self, num) 호출\n",
    "result = mul(20)\n",
    "\n",
    "print(result)\n",
    "\n",
    "# __str__(self) 호출\n",
    "print(mul)\n"
   ]
  },
  {
   "cell_type": "code",
   "execution_count": 59,
   "id": "5c2f116d-bf4d-4844-85ab-002e115d78c7",
   "metadata": {},
   "outputs": [],
   "source": [
    "# Class 변수 (static)"
   ]
  },
  {
   "cell_type": "code",
   "execution_count": 63,
   "id": "0fbebac0-e7db-4733-87ff-895db4ffcd4b",
   "metadata": {},
   "outputs": [],
   "source": [
    "class Family :\n",
    "    lastname = '김'\n",
    "    \"\"\"\n",
    "        Class 변수 = 객체 생성 상관없이 접근 가능\n",
    "        self.변수(인스턴스 변수) = 객체 생성시 접근 가능\n",
    "    \"\"\""
   ]
  },
  {
   "cell_type": "code",
   "execution_count": 61,
   "id": "2fc1a247-0de1-45f9-9163-0e43e05e325c",
   "metadata": {},
   "outputs": [],
   "source": [
    "# Class 변수 = 정적 변수, 다른 객체가 공유할 목적의 변수\n",
    "# Family.lastname = '김'"
   ]
  },
  {
   "cell_type": "code",
   "execution_count": 66,
   "id": "3785b97e-1c25-4663-86d1-7e0e04919681",
   "metadata": {},
   "outputs": [
    {
     "name": "stdout",
     "output_type": "stream",
     "text": [
      "f1 : 이\n",
      "f2 : 김\n"
     ]
    }
   ],
   "source": [
    "f1 = Family()\n",
    "f2 = Family()\n",
    "\n",
    "#  인스턴스 변수(객체 변수) 정의\n",
    "f1.lastname = '이'\n",
    "\n",
    "# f1.lastname : 인스턴스 변수와 헷갈림, Family.lastname - Class명으로 직접 접근하라\n",
    "print('f1 : %s' % f1.lastname)\n",
    "print('f2 : %s' % f2.lastname)"
   ]
  },
  {
   "cell_type": "code",
   "execution_count": 67,
   "id": "f0f49f56-4b2f-4b72-9d13-f911dd196bec",
   "metadata": {},
   "outputs": [],
   "source": [
    "# 예외처리 활용해 추상 메서드 비슷하게 만들어보기"
   ]
  },
  {
   "cell_type": "code",
   "execution_count": 69,
   "id": "76a1601e-bea8-484d-b750-88477412251c",
   "metadata": {},
   "outputs": [],
   "source": [
    "class Bird :\n",
    "\n",
    "    def fly(self) :\n",
    "\n",
    "        # raise - 예외 발생 예약어\n",
    "        raise NotImplementedError"
   ]
  },
  {
   "cell_type": "code",
   "execution_count": 73,
   "id": "c0ec459e-82e6-49fc-8423-01772294f7e0",
   "metadata": {},
   "outputs": [],
   "source": [
    "class Eagle(Bird) :\n",
    "\n",
    "    # 메서드 재정의 (강제)\n",
    "    def fly(self) :\n",
    "        print('독수리가 아주 빠르게 패배한다!')"
   ]
  },
  {
   "cell_type": "code",
   "execution_count": 74,
   "id": "6abe1b73-b2aa-465f-ae97-aa745fafea69",
   "metadata": {},
   "outputs": [
    {
     "name": "stdout",
     "output_type": "stream",
     "text": [
      "독수리가 아주 빠르게 패배한다!\n"
     ]
    }
   ],
   "source": [
    "e1 = Eagle()\n",
    "\n",
    "e1.fly()"
   ]
  }
 ],
 "metadata": {
  "kernelspec": {
   "display_name": "Python 3 (ipykernel)",
   "language": "python",
   "name": "python3"
  },
  "language_info": {
   "codemirror_mode": {
    "name": "ipython",
    "version": 3
   },
   "file_extension": ".py",
   "mimetype": "text/x-python",
   "name": "python",
   "nbconvert_exporter": "python",
   "pygments_lexer": "ipython3",
   "version": "3.12.7"
  }
 },
 "nbformat": 4,
 "nbformat_minor": 5
}
