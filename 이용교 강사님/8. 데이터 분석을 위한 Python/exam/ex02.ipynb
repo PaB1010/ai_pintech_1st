{
 "cells": [
  {
   "cell_type": "code",
   "execution_count": 3,
   "id": "4adff5f5-d1b9-456d-b59d-b50019eb5c97",
   "metadata": {},
   "outputs": [],
   "source": [
    "# 1. 평균 점수 구하기"
   ]
  },
  {
   "cell_type": "code",
   "execution_count": 56,
   "id": "83580bff-7139-4452-a33d-a20f89c6cf8f",
   "metadata": {},
   "outputs": [
    {
     "name": "stdout",
     "output_type": "stream",
     "text": [
      "70.0\n"
     ]
    }
   ],
   "source": [
    "exam = [{'과목' : '국어', '점수' : 80},\n",
    "       {'과목' : '영어', '점수' : 75},\n",
    "       {'과목' : '수학', '점수' : 55}]\n",
    "\n",
    "total = 0\n",
    "cnt = 0\n",
    "\n",
    "for item in exam:\n",
    "    total += item['점수']\n",
    "    cnt += 1\n",
    "\n",
    "print(total / cnt) "
   ]
  },
  {
   "cell_type": "code",
   "execution_count": 53,
   "id": "5530c070-0101-4454-a282-544ffa718023",
   "metadata": {},
   "outputs": [
    {
     "name": "stdout",
     "output_type": "stream",
     "text": [
      "70.0\n"
     ]
    }
   ],
   "source": [
    "exam = [('국어', 80), ('영어', 75), ('수학', 55)]\n",
    "\n",
    "avg = (exam[0][1] + exam[1][1] + exam[2][1]) / 3\n",
    "\n",
    "print(avg)"
   ]
  },
  {
   "cell_type": "code",
   "execution_count": 54,
   "id": "c1a5a45c-56d5-4aa8-9ec9-39f57f2e8088",
   "metadata": {},
   "outputs": [],
   "source": [
    "# 2. 홀수 / 짝수 판별하기"
   ]
  },
  {
   "cell_type": "code",
   "execution_count": 57,
   "id": "2dfbc861-54ca-4217-bdd0-84df67389690",
   "metadata": {},
   "outputs": [
    {
     "name": "stdout",
     "output_type": "stream",
     "text": [
      "num은 홀수입니다.\n"
     ]
    }
   ],
   "source": [
    "# 자연수 13이 홀수인지 짝수인지 판별하기\n",
    "\n",
    "num = 13\n",
    "\n",
    "if num % 2 == 0 :\n",
    "    print('num은 짝수입니다.')\n",
    "else :\n",
    "    print('num은 홀수입니다.')"
   ]
  },
  {
   "cell_type": "code",
   "execution_count": 5,
   "id": "1a203c5a-c745-4632-9131-a62310f839fa",
   "metadata": {},
   "outputs": [],
   "source": [
    "# 3. 주민등록번호 나누기"
   ]
  },
  {
   "cell_type": "code",
   "execution_count": 4,
   "id": "5c75af29-cf78-4507-b5b9-e4a308af928a",
   "metadata": {},
   "outputs": [
    {
     "name": "stdout",
     "output_type": "stream",
     "text": [
      "881120\n",
      "1068234\n"
     ]
    }
   ],
   "source": [
    "pin = '881120-1068234'\n",
    "yyyymmdd = pin[:6]\n",
    "num = pin[7:]\n",
    "\n",
    "# 연월일 부분 출력\n",
    "print(yyyymmdd)\n",
    "\n",
    "# 숫자 부분 출력\n",
    "print(num)"
   ]
  },
  {
   "cell_type": "code",
   "execution_count": 6,
   "id": "871df8a8-de13-4a34-acb4-6b2e4cfb882b",
   "metadata": {},
   "outputs": [],
   "source": [
    "# 4. 주민등록번호 인덱싱"
   ]
  },
  {
   "cell_type": "code",
   "execution_count": 8,
   "id": "570fe275-f93e-4cec-a09d-9ad815a4e751",
   "metadata": {},
   "outputs": [
    {
     "name": "stdout",
     "output_type": "stream",
     "text": [
      "1\n"
     ]
    }
   ],
   "source": [
    "pin = '881120-1068234'\n",
    "print(pin[7])"
   ]
  },
  {
   "cell_type": "code",
   "execution_count": 9,
   "id": "da5c9eaf-79df-4267-879a-b85d187ee9c1",
   "metadata": {},
   "outputs": [],
   "source": [
    "# 5. 문자열 바꾸기"
   ]
  },
  {
   "cell_type": "code",
   "execution_count": 12,
   "id": "87c14d73-30eb-4e89-9891-1a75fc755e01",
   "metadata": {},
   "outputs": [
    {
     "name": "stdout",
     "output_type": "stream",
     "text": [
      "a#b#c#d#\n"
     ]
    }
   ],
   "source": [
    "a = 'a:b:c:d:'\n",
    "b = a.replace(':', '#')\n",
    "print(b)"
   ]
  },
  {
   "cell_type": "code",
   "execution_count": 13,
   "id": "6f8a5cd7-c61d-4e69-adaa-841ee8f042e0",
   "metadata": {},
   "outputs": [],
   "source": [
    "# 6. List 역순 정렬"
   ]
  },
  {
   "cell_type": "code",
   "execution_count": 16,
   "id": "613ebcb2-5ee0-46f5-a60b-13c0efb75944",
   "metadata": {},
   "outputs": [
    {
     "name": "stdout",
     "output_type": "stream",
     "text": [
      "[5, 4, 3, 2, 1]\n"
     ]
    }
   ],
   "source": [
    "a = [1, 3, 5, 4, 2]\n",
    "\n",
    "a.sort()\n",
    "a.reverse()\n",
    "\n",
    "print(a)"
   ]
  },
  {
   "cell_type": "code",
   "execution_count": 17,
   "id": "27710d98-8d21-460c-84a4-b809b70d5ee7",
   "metadata": {},
   "outputs": [],
   "source": [
    "# 7. List -> 문자열 변환"
   ]
  },
  {
   "cell_type": "code",
   "execution_count": 20,
   "id": "2945bd33-9ec4-4eb0-aa30-46eb17d21aec",
   "metadata": {},
   "outputs": [
    {
     "name": "stdout",
     "output_type": "stream",
     "text": [
      "Life is too short\n"
     ]
    }
   ],
   "source": [
    "a = ['Life', 'is', 'too', 'short']\n",
    "\n",
    "result = ' '.join(a)\n",
    "\n",
    "print(result)"
   ]
  },
  {
   "cell_type": "code",
   "execution_count": 21,
   "id": "f595c7a5-7c9a-47c1-b3f1-e35729338aac",
   "metadata": {},
   "outputs": [],
   "source": [
    "# 8. Tuple 더하기"
   ]
  },
  {
   "cell_type": "code",
   "execution_count": 3,
   "id": "372cb90c-58db-451d-9de6-dbacaf5db850",
   "metadata": {},
   "outputs": [
    {
     "name": "stdout",
     "output_type": "stream",
     "text": [
      "(1, 2, 3, 4)\n"
     ]
    }
   ],
   "source": [
    "a = (1, 2, 3)\n",
    "a = a + (4,)\n",
    "print(a)"
   ]
  },
  {
   "cell_type": "code",
   "execution_count": 35,
   "id": "ae0323ec-932d-4bfe-8e47-5302d15b8929",
   "metadata": {},
   "outputs": [],
   "source": [
    "# 9. Dict의 Key"
   ]
  },
  {
   "cell_type": "code",
   "execution_count": 37,
   "id": "f15ea299-ba67-4760-876c-acbb60e67a84",
   "metadata": {},
   "outputs": [
    {
     "data": {
      "text/plain": [
       "{}"
      ]
     },
     "execution_count": 37,
     "metadata": {},
     "output_type": "execute_result"
    }
   ],
   "source": [
    "a = dict()\n",
    "a"
   ]
  },
  {
   "cell_type": "code",
   "execution_count": 39,
   "id": "667c6451-3181-4206-ab4d-1701eddb31fe",
   "metadata": {},
   "outputs": [],
   "source": [
    "a['name'] = 'python'"
   ]
  },
  {
   "cell_type": "code",
   "execution_count": 41,
   "id": "5817b5bb-4957-45a5-86a5-3183f7662efb",
   "metadata": {},
   "outputs": [],
   "source": [
    "a[('a',)] = 'python'"
   ]
  },
  {
   "cell_type": "code",
   "execution_count": 4,
   "id": "6a7e15e6-1c16-4c68-8ea1-1ece615e17fa",
   "metadata": {},
   "outputs": [
    {
     "ename": "TypeError",
     "evalue": "'tuple' object does not support item assignment",
     "output_type": "error",
     "traceback": [
      "\u001b[1;31m---------------------------------------------------------------------------\u001b[0m",
      "\u001b[1;31mTypeError\u001b[0m                                 Traceback (most recent call last)",
      "Cell \u001b[1;32mIn[4], line 1\u001b[0m\n\u001b[1;32m----> 1\u001b[0m \u001b[43ma\u001b[49m\u001b[43m[\u001b[49m\u001b[43m[\u001b[49m\u001b[38;5;241;43m1\u001b[39;49m\u001b[43m]\u001b[49m\u001b[43m]\u001b[49m \u001b[38;5;241m=\u001b[39m \u001b[38;5;124m'\u001b[39m\u001b[38;5;124mpython\u001b[39m\u001b[38;5;124m'\u001b[39m\n\u001b[0;32m      2\u001b[0m \u001b[38;5;66;03m# key 값은 변경 가능하기 때문에 List는 사용 불가능\u001b[39;00m\n",
      "\u001b[1;31mTypeError\u001b[0m: 'tuple' object does not support item assignment"
     ]
    }
   ],
   "source": [
    "a[[1]] = 'python'\n",
    "# key 값은 변경 가능하기 때문에 List는 사용 불가능"
   ]
  },
  {
   "cell_type": "code",
   "execution_count": 45,
   "id": "ce637651-918b-43b0-8a38-c208095bab62",
   "metadata": {},
   "outputs": [],
   "source": [
    "a[250] = 'python'"
   ]
  },
  {
   "cell_type": "code",
   "execution_count": 46,
   "id": "42ec0bdb-62b4-4796-8c29-cb6e682b11a4",
   "metadata": {},
   "outputs": [],
   "source": [
    "# 10. Dict 값 추출"
   ]
  },
  {
   "cell_type": "code",
   "execution_count": 32,
   "id": "cdd56ca7-b520-45e0-b135-897d9df2daa3",
   "metadata": {},
   "outputs": [
    {
     "name": "stdout",
     "output_type": "stream",
     "text": [
      "{'A': 90, 'C': 70}\n",
      "80\n"
     ]
    }
   ],
   "source": [
    "a = {'A' : 90, 'B' : 80, 'C' : 70}\n",
    "result = a.pop('B')\n",
    "print(a)\n",
    "print(result)"
   ]
  },
  {
   "cell_type": "code",
   "execution_count": 18,
   "id": "ac9744e8-1a82-401b-9087-729ab8902b57",
   "metadata": {},
   "outputs": [],
   "source": [
    "# 11. List에서 중복 제거"
   ]
  },
  {
   "cell_type": "code",
   "execution_count": 26,
   "id": "73018561-3580-4d94-b5a5-18ac85acf205",
   "metadata": {},
   "outputs": [
    {
     "name": "stdout",
     "output_type": "stream",
     "text": [
      "[1, 2, 3, 4, 5]\n"
     ]
    }
   ],
   "source": [
    "a = [1, 1, 1, 2, 2, 3, 3, 3, 4, 4, 5]\n",
    "aSet = set(a)\n",
    "b = list(aSet)\n",
    "print(b)"
   ]
  },
  {
   "cell_type": "code",
   "execution_count": 27,
   "id": "707c9d6d-97a4-4753-9269-2d65892e4fc2",
   "metadata": {},
   "outputs": [],
   "source": [
    "# 12. Python 변수"
   ]
  },
  {
   "cell_type": "code",
   "execution_count": 6,
   "id": "b44585cb-dbaa-45d8-ac69-97056348ab62",
   "metadata": {},
   "outputs": [
    {
     "name": "stdout",
     "output_type": "stream",
     "text": [
      "[1, 4, 3]\n",
      "[1, 5, 3]\n",
      "[1, 4, 3]\n"
     ]
    }
   ],
   "source": [
    "a = b = [1, 2, 3]\n",
    "a[1] = 4\n",
    "print(b)\n",
    "\n",
    "# 주소값말고 값만 복사하려면 (깊은복사) 어케했을까요?\n",
    "c = a[:]\n",
    "d = a.copy()\n",
    "\n",
    "print(c)\n",
    "print(d)\n",
    "\n",
    "# 주소 값이 같아서 a[1]을 변경하면 b[1]도 변경되어서\n",
    "# b = [1, 4, 3]"
   ]
  },
  {
   "cell_type": "code",
   "execution_count": 30,
   "id": "3fd24126-95c9-4231-aa4a-f6a05cd28cfa",
   "metadata": {},
   "outputs": [],
   "source": [
    "# 제어문"
   ]
  },
  {
   "cell_type": "code",
   "execution_count": 31,
   "id": "4ffe4f4d-eccd-4851-a4be-701bb816d31a",
   "metadata": {},
   "outputs": [],
   "source": [
    "# 1. 조건문의 참과 거짓"
   ]
  },
  {
   "cell_type": "code",
   "execution_count": 33,
   "id": "f1c4407d-ad48-4769-9fbf-59081465d53f",
   "metadata": {},
   "outputs": [
    {
     "name": "stdout",
     "output_type": "stream",
     "text": [
      "shirt\n"
     ]
    }
   ],
   "source": [
    "a = 'Life is to short, you need ptyhon'\n",
    "\n",
    "if 'wife' in a: print('wife')\n",
    "elif 'python' in a and 'you' not in a : print('python')\n",
    "elif 'shirt' not in a : print('shirt')\n",
    "elif 'need' in a: print('need')\n",
    "else: print('none')\n",
    "\n",
    "# 결과 값은..\n",
    "# shirt"
   ]
  },
  {
   "cell_type": "code",
   "execution_count": 34,
   "id": "7e8d3fa7-9c46-45d9-a9cd-916a51dae7e6",
   "metadata": {},
   "outputs": [],
   "source": [
    "# 2. 3의 배수의 합 구하기"
   ]
  },
  {
   "cell_type": "code",
   "execution_count": 37,
   "id": "68578280-ee6f-449c-8339-180b34143a65",
   "metadata": {},
   "outputs": [
    {
     "name": "stdout",
     "output_type": "stream",
     "text": [
      "166833\n"
     ]
    }
   ],
   "source": [
    "result = 0\n",
    "\n",
    "i = 1\n",
    "\n",
    "while i <= 1000 :\n",
    "    if i % 3 == 0 :\n",
    "        result += i\n",
    "    i +=1\n",
    "\n",
    "print(result)"
   ]
  },
  {
   "cell_type": "code",
   "execution_count": 38,
   "id": "97ef2d00-4c25-43df-a184-2d3e1b6eb7dc",
   "metadata": {},
   "outputs": [],
   "source": [
    "# 3. 별 표시하기"
   ]
  },
  {
   "cell_type": "code",
   "execution_count": 8,
   "id": "6390208b-0685-47f4-91bf-2b0f07d7f1c4",
   "metadata": {},
   "outputs": [
    {
     "name": "stdout",
     "output_type": "stream",
     "text": [
      "*\n",
      "**\n",
      "***\n",
      "****\n",
      "*****\n"
     ]
    }
   ],
   "source": [
    "i = 0\n",
    "\n",
    "while True : \n",
    "    i += 1\n",
    "    if i > 5 : break\n",
    "    print('*' * i)"
   ]
  },
  {
   "cell_type": "code",
   "execution_count": 42,
   "id": "8db78a9d-ac4c-485f-b61d-847bcd94125e",
   "metadata": {},
   "outputs": [],
   "source": [
    "# 4. 1부터 100까지 출력하기"
   ]
  },
  {
   "cell_type": "code",
   "execution_count": 48,
   "id": "822dbc0b-8733-4128-8d70-879d866c9c73",
   "metadata": {},
   "outputs": [
    {
     "name": "stdout",
     "output_type": "stream",
     "text": [
      "1\n",
      "2\n",
      "3\n",
      "4\n",
      "5\n",
      "6\n",
      "7\n",
      "8\n",
      "9\n",
      "10\n",
      "11\n",
      "12\n",
      "13\n",
      "14\n",
      "15\n",
      "16\n",
      "17\n",
      "18\n",
      "19\n",
      "20\n",
      "21\n",
      "22\n",
      "23\n",
      "24\n",
      "25\n",
      "26\n",
      "27\n",
      "28\n",
      "29\n",
      "30\n",
      "31\n",
      "32\n",
      "33\n",
      "34\n",
      "35\n",
      "36\n",
      "37\n",
      "38\n",
      "39\n",
      "40\n",
      "41\n",
      "42\n",
      "43\n",
      "44\n",
      "45\n",
      "46\n",
      "47\n",
      "48\n",
      "49\n",
      "50\n",
      "51\n",
      "52\n",
      "53\n",
      "54\n",
      "55\n",
      "56\n",
      "57\n",
      "58\n",
      "59\n",
      "60\n",
      "61\n",
      "62\n",
      "63\n",
      "64\n",
      "65\n",
      "66\n",
      "67\n",
      "68\n",
      "69\n",
      "70\n",
      "71\n",
      "72\n",
      "73\n",
      "74\n",
      "75\n",
      "76\n",
      "77\n",
      "78\n",
      "79\n",
      "80\n",
      "81\n",
      "82\n",
      "83\n",
      "84\n",
      "85\n",
      "86\n",
      "87\n",
      "88\n",
      "89\n",
      "90\n",
      "91\n",
      "92\n",
      "93\n",
      "94\n",
      "95\n",
      "96\n",
      "97\n",
      "98\n",
      "99\n",
      "100\n"
     ]
    }
   ],
   "source": [
    "for i in range(1, 101) :\n",
    "    print(i)"
   ]
  },
  {
   "cell_type": "code",
   "execution_count": 49,
   "id": "0c2ed471-f3fe-4650-ba47-96a21d16cdf0",
   "metadata": {},
   "outputs": [],
   "source": [
    "# 5. 평균 점수 구하기"
   ]
  },
  {
   "cell_type": "code",
   "execution_count": 9,
   "id": "e13acb3f-a97b-4bae-8977-943e3fe48d36",
   "metadata": {},
   "outputs": [
    {
     "name": "stdout",
     "output_type": "stream",
     "text": [
      "79.0\n"
     ]
    }
   ],
   "source": [
    "A = [70, 60, 55, 75, 95, 90, 80, 80, 85, 100]\n",
    "\n",
    "total = 0\n",
    "\n",
    "for score in A :\n",
    "    \n",
    "    total += score\n",
    "\n",
    "\n",
    "average = total / len(A)\n",
    "\n",
    "print(average)"
   ]
  },
  {
   "cell_type": "code",
   "execution_count": 55,
   "id": "f16ff373-3e3d-4eb9-b60f-1b5519170ba4",
   "metadata": {},
   "outputs": [],
   "source": [
    "# 6. 리스트 컴프리헨션 사용"
   ]
  },
  {
   "cell_type": "code",
   "execution_count": 1,
   "id": "6a2204db-f72d-4d3f-9f7e-6f5705eca315",
   "metadata": {},
   "outputs": [
    {
     "name": "stdout",
     "output_type": "stream",
     "text": [
      "[1, 3, 5]\n"
     ]
    }
   ],
   "source": [
    "number = [1, 2, 3, 4, 5]\n",
    "\n",
    "result = [i for i in number if i % 2 == 1]\n",
    "\n",
    "print(result)"
   ]
  },
  {
   "cell_type": "code",
   "execution_count": 57,
   "id": "7b611278-b299-4ebb-9748-904f509cf58e",
   "metadata": {},
   "outputs": [],
   "source": [
    "# 입출력"
   ]
  },
  {
   "cell_type": "code",
   "execution_count": 58,
   "id": "2df79668-d825-4656-a47a-e8e41694a280",
   "metadata": {},
   "outputs": [],
   "source": [
    "# 1. 홀수, 짝수 판별하기"
   ]
  },
  {
   "cell_type": "code",
   "execution_count": 60,
   "id": "d6dc404d-c58c-4dc8-9ffc-8d3a92bb4559",
   "metadata": {},
   "outputs": [],
   "source": [
    "def is_odd(number) :\n",
    "    if number % 2 == 1 :\n",
    "        return True\n",
    "    else :\n",
    "        return False"
   ]
  },
  {
   "cell_type": "code",
   "execution_count": 61,
   "id": "562dd400-c1ec-46de-806a-aa26494845c1",
   "metadata": {},
   "outputs": [],
   "source": [
    "# 2. 모든 입력의 평균값 구하기"
   ]
  },
  {
   "cell_type": "code",
   "execution_count": 17,
   "id": "5b258852-8c2e-4ce0-a927-2def0cfc89b4",
   "metadata": {},
   "outputs": [
    {
     "name": "stdout",
     "output_type": "stream",
     "text": [
      "1.5\n",
      "3.0\n"
     ]
    }
   ],
   "source": [
    "def avg_numbers(*args) :\n",
    "    result = 0\n",
    "    for i in args :\n",
    "        result += i\n",
    "    return result / len(args)\n",
    "\n",
    "print(avg_numbers(1, 2))\n",
    "print(avg_numbers(1, 2, 3, 4, 5))"
   ]
  },
  {
   "cell_type": "code",
   "execution_count": 86,
   "id": "bdcc8525-60e3-478c-b497-fe0540c8866e",
   "metadata": {},
   "outputs": [],
   "source": [
    "# 3. 프로그램 오류 수정하기1"
   ]
  },
  {
   "cell_type": "code",
   "execution_count": null,
   "id": "8d8dbf44-3464-4a1f-a8eb-8279781763e4",
   "metadata": {},
   "outputs": [],
   "source": [
    "# input1 = input('첫 번째 숫자를 입력하세요 : ')\n",
    "# input2 = input('두 번째 숫자를 입력하세요 : ')\n",
    "\n",
    "# total = input1 + input2\n",
    "\n",
    "# print('두 수의 합은 %s입니다' % total)"
   ]
  },
  {
   "cell_type": "code",
   "execution_count": null,
   "id": "b69851bf-cddc-4698-8089-5d6b0394385d",
   "metadata": {},
   "outputs": [],
   "source": []
  }
 ],
 "metadata": {
  "kernelspec": {
   "display_name": "Python 3 (ipykernel)",
   "language": "python",
   "name": "python3"
  },
  "language_info": {
   "codemirror_mode": {
    "name": "ipython",
    "version": 3
   },
   "file_extension": ".py",
   "mimetype": "text/x-python",
   "name": "python",
   "nbconvert_exporter": "python",
   "pygments_lexer": "ipython3",
   "version": "3.12.7"
  }
 },
 "nbformat": 4,
 "nbformat_minor": 5
}
