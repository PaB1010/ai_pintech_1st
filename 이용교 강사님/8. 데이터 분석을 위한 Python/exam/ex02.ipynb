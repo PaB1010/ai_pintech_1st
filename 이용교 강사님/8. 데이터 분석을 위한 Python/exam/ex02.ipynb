{
 "cells": [
  {
   "cell_type": "code",
   "execution_count": 3,
   "id": "4adff5f5-d1b9-456d-b59d-b50019eb5c97",
   "metadata": {},
   "outputs": [],
   "source": [
    "# 1. 평균 점수 구하기"
   ]
  },
  {
   "cell_type": "code",
   "execution_count": 56,
   "id": "83580bff-7139-4452-a33d-a20f89c6cf8f",
   "metadata": {},
   "outputs": [
    {
     "name": "stdout",
     "output_type": "stream",
     "text": [
      "70.0\n"
     ]
    }
   ],
   "source": [
    "exam = [{'과목' : '국어', '점수' : 80},\n",
    "       {'과목' : '영어', '점수' : 75},\n",
    "       {'과목' : '수학', '점수' : 55}]\n",
    "\n",
    "total = 0\n",
    "cnt = 0\n",
    "\n",
    "for item in exam:\n",
    "    total += item['점수']\n",
    "    cnt += 1\n",
    "\n",
    "print(total / cnt) "
   ]
  },
  {
   "cell_type": "code",
   "execution_count": 53,
   "id": "5530c070-0101-4454-a282-544ffa718023",
   "metadata": {},
   "outputs": [
    {
     "name": "stdout",
     "output_type": "stream",
     "text": [
      "70.0\n"
     ]
    }
   ],
   "source": [
    "exam = [('국어', 80), ('영어', 75), ('수학', 55)]\n",
    "\n",
    "avg = (exam[0][1] + exam[1][1] + exam[2][1]) / 3\n",
    "\n",
    "print(avg)"
   ]
  },
  {
   "cell_type": "code",
   "execution_count": 54,
   "id": "c1a5a45c-56d5-4aa8-9ec9-39f57f2e8088",
   "metadata": {},
   "outputs": [],
   "source": [
    "# 2. 홀수 / 짝수 판별하기"
   ]
  },
  {
   "cell_type": "code",
   "execution_count": 57,
   "id": "2dfbc861-54ca-4217-bdd0-84df67389690",
   "metadata": {},
   "outputs": [
    {
     "name": "stdout",
     "output_type": "stream",
     "text": [
      "num은 홀수입니다.\n"
     ]
    }
   ],
   "source": [
    "# 자연수 13이 홀수인지 짝수인지 판별하기\n",
    "\n",
    "num = 13\n",
    "\n",
    "if num % 2 == 0 :\n",
    "    print('num은 짝수입니다.')\n",
    "else :\n",
    "    print('num은 홀수입니다.')"
   ]
  },
  {
   "cell_type": "code",
   "execution_count": 5,
   "id": "1a203c5a-c745-4632-9131-a62310f839fa",
   "metadata": {},
   "outputs": [],
   "source": [
    "# 3. 주민등록번호 나누기"
   ]
  },
  {
   "cell_type": "code",
   "execution_count": 4,
   "id": "5c75af29-cf78-4507-b5b9-e4a308af928a",
   "metadata": {},
   "outputs": [
    {
     "name": "stdout",
     "output_type": "stream",
     "text": [
      "881120\n",
      "1068234\n"
     ]
    }
   ],
   "source": [
    "pin = '881120-1068234'\n",
    "yyyymmdd = pin[:6]\n",
    "num = pin[7:]\n",
    "\n",
    "# 연월일 부분 출력\n",
    "print(yyyymmdd)\n",
    "\n",
    "# 숫자 부분 출력\n",
    "print(num)"
   ]
  },
  {
   "cell_type": "code",
   "execution_count": 6,
   "id": "871df8a8-de13-4a34-acb4-6b2e4cfb882b",
   "metadata": {},
   "outputs": [],
   "source": [
    "# 4. 주민등록번호 인덱싱"
   ]
  },
  {
   "cell_type": "code",
   "execution_count": 8,
   "id": "570fe275-f93e-4cec-a09d-9ad815a4e751",
   "metadata": {},
   "outputs": [
    {
     "name": "stdout",
     "output_type": "stream",
     "text": [
      "1\n"
     ]
    }
   ],
   "source": [
    "pin = '881120-1068234'\n",
    "print(pin[7])"
   ]
  },
  {
   "cell_type": "code",
   "execution_count": 9,
   "id": "da5c9eaf-79df-4267-879a-b85d187ee9c1",
   "metadata": {},
   "outputs": [],
   "source": [
    "# 5. 문자열 바꾸기"
   ]
  },
  {
   "cell_type": "code",
   "execution_count": 12,
   "id": "87c14d73-30eb-4e89-9891-1a75fc755e01",
   "metadata": {},
   "outputs": [
    {
     "name": "stdout",
     "output_type": "stream",
     "text": [
      "a#b#c#d#\n"
     ]
    }
   ],
   "source": [
    "a = 'a:b:c:d:'\n",
    "b = a.replace(':', '#')\n",
    "print(b)"
   ]
  },
  {
   "cell_type": "code",
   "execution_count": 13,
   "id": "6f8a5cd7-c61d-4e69-adaa-841ee8f042e0",
   "metadata": {},
   "outputs": [],
   "source": [
    "# 6. List 역순 정렬"
   ]
  },
  {
   "cell_type": "code",
   "execution_count": 16,
   "id": "613ebcb2-5ee0-46f5-a60b-13c0efb75944",
   "metadata": {},
   "outputs": [
    {
     "name": "stdout",
     "output_type": "stream",
     "text": [
      "[5, 4, 3, 2, 1]\n"
     ]
    }
   ],
   "source": [
    "a = [1, 3, 5, 4, 2]\n",
    "\n",
    "a.sort()\n",
    "a.reverse()\n",
    "\n",
    "print(a)"
   ]
  },
  {
   "cell_type": "code",
   "execution_count": 17,
   "id": "27710d98-8d21-460c-84a4-b809b70d5ee7",
   "metadata": {},
   "outputs": [],
   "source": [
    "# 7. List -> 문자열 변환"
   ]
  },
  {
   "cell_type": "code",
   "execution_count": 20,
   "id": "2945bd33-9ec4-4eb0-aa30-46eb17d21aec",
   "metadata": {},
   "outputs": [
    {
     "name": "stdout",
     "output_type": "stream",
     "text": [
      "Life is too short\n"
     ]
    }
   ],
   "source": [
    "a = ['Life', 'is', 'too', 'short']\n",
    "\n",
    "result = ' '.join(a)\n",
    "\n",
    "print(result)"
   ]
  },
  {
   "cell_type": "code",
   "execution_count": 21,
   "id": "f595c7a5-7c9a-47c1-b3f1-e35729338aac",
   "metadata": {},
   "outputs": [],
   "source": [
    "# 8. Tuple 더하기"
   ]
  },
  {
   "cell_type": "code",
   "execution_count": 34,
   "id": "372cb90c-58db-451d-9de6-dbacaf5db850",
   "metadata": {},
   "outputs": [
    {
     "name": "stdout",
     "output_type": "stream",
     "text": [
      "(1, 2, 3)\n"
     ]
    }
   ],
   "source": [
    "a = (1, 2, 3)\n",
    "a\n",
    "print(a)"
   ]
  },
  {
   "cell_type": "code",
   "execution_count": 35,
   "id": "ae0323ec-932d-4bfe-8e47-5302d15b8929",
   "metadata": {},
   "outputs": [],
   "source": [
    "# 9. Dict의 Key"
   ]
  },
  {
   "cell_type": "code",
   "execution_count": 37,
   "id": "f15ea299-ba67-4760-876c-acbb60e67a84",
   "metadata": {},
   "outputs": [
    {
     "data": {
      "text/plain": [
       "{}"
      ]
     },
     "execution_count": 37,
     "metadata": {},
     "output_type": "execute_result"
    }
   ],
   "source": [
    "a = dict()\n",
    "a"
   ]
  },
  {
   "cell_type": "code",
   "execution_count": 39,
   "id": "667c6451-3181-4206-ab4d-1701eddb31fe",
   "metadata": {},
   "outputs": [],
   "source": [
    "a['name'] = 'python'"
   ]
  },
  {
   "cell_type": "code",
   "execution_count": 41,
   "id": "5817b5bb-4957-45a5-86a5-3183f7662efb",
   "metadata": {},
   "outputs": [],
   "source": [
    "a[('a',)] = 'python'"
   ]
  },
  {
   "cell_type": "code",
   "execution_count": 43,
   "id": "6a7e15e6-1c16-4c68-8ea1-1ece615e17fa",
   "metadata": {},
   "outputs": [
    {
     "ename": "TypeError",
     "evalue": "unhashable type: 'list'",
     "output_type": "error",
     "traceback": [
      "\u001b[1;31m---------------------------------------------------------------------------\u001b[0m",
      "\u001b[1;31mTypeError\u001b[0m                                 Traceback (most recent call last)",
      "Cell \u001b[1;32mIn[43], line 1\u001b[0m\n\u001b[1;32m----> 1\u001b[0m \u001b[43ma\u001b[49m\u001b[43m[\u001b[49m\u001b[43m[\u001b[49m\u001b[38;5;241;43m1\u001b[39;49m\u001b[43m]\u001b[49m\u001b[43m]\u001b[49m \u001b[38;5;241m=\u001b[39m \u001b[38;5;124m'\u001b[39m\u001b[38;5;124mpython\u001b[39m\u001b[38;5;124m'\u001b[39m\n",
      "\u001b[1;31mTypeError\u001b[0m: unhashable type: 'list'"
     ]
    }
   ],
   "source": [
    "a[[1]] = 'python'\n",
    "# key 값은 변경 가능하기 때문에 List는 사용 불가능"
   ]
  },
  {
   "cell_type": "code",
   "execution_count": 45,
   "id": "ce637651-918b-43b0-8a38-c208095bab62",
   "metadata": {},
   "outputs": [],
   "source": [
    "a[250] = 'python'"
   ]
  },
  {
   "cell_type": "code",
   "execution_count": 46,
   "id": "42ec0bdb-62b4-4796-8c29-cb6e682b11a4",
   "metadata": {},
   "outputs": [],
   "source": [
    "# 10. Dict 값 추출"
   ]
  },
  {
   "cell_type": "code",
   "execution_count": null,
   "id": "cdd56ca7-b520-45e0-b135-897d9df2daa3",
   "metadata": {},
   "outputs": [],
   "source": [
    "a = {'A' : 90, 'B' : 80, 'C' : 70}\n",
    "result = \n",
    "print(a)\n",
    "print(result)"
   ]
  }
 ],
 "metadata": {
  "kernelspec": {
   "display_name": "Python 3 (ipykernel)",
   "language": "python",
   "name": "python3"
  },
  "language_info": {
   "codemirror_mode": {
    "name": "ipython",
    "version": 3
   },
   "file_extension": ".py",
   "mimetype": "text/x-python",
   "name": "python",
   "nbconvert_exporter": "python",
   "pygments_lexer": "ipython3",
   "version": "3.12.7"
  }
 },
 "nbformat": 4,
 "nbformat_minor": 5
}
