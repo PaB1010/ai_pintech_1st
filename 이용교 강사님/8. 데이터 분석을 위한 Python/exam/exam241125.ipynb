{
 "cells": [
  {
   "cell_type": "code",
   "execution_count": 3,
   "id": "fabf24cf-d70c-4e37-b5d7-4ce3acfab3e8",
   "metadata": {},
   "outputs": [],
   "source": [
    "# 1. a 리스트에서 중복 숫자를 제거해 보세요"
   ]
  },
  {
   "cell_type": "code",
   "execution_count": 5,
   "id": "ec402360-a359-485f-a6d0-cda9ff2bfa79",
   "metadata": {},
   "outputs": [
    {
     "name": "stdout",
     "output_type": "stream",
     "text": [
      "[1, 2, 3, 4, 5]\n"
     ]
    }
   ],
   "source": [
    "a = [1, 1, 1, 2, 2, 3, 3, 3, 4, 4, 5]\n",
    "setA = set(a)\n",
    "a = list(setA)\n",
    "print(a)"
   ]
  },
  {
   "cell_type": "code",
   "execution_count": null,
   "id": "8d534095-de31-4a3f-937d-280fd1187d8b",
   "metadata": {},
   "outputs": [],
   "source": [
    "# 2. 입력으로 들어오는 모든 수의 평균값을 계산해 주는 함수를 작성해보자.\n",
    "# 단, 입력으로 들어오는 수의 개수는 정해져 있지 않다."
   ]
  },
  {
   "cell_type": "code",
   "execution_count": 322,
   "id": "a0a52250-1749-43c1-9821-ddbc790620c0",
   "metadata": {},
   "outputs": [],
   "source": [
    "def add (*val) :\n",
    "    result = 0\n",
    "    result += int(val)\n",
    "    argv = argv(result)\n",
    "    print(argv)"
   ]
  },
  {
   "cell_type": "code",
   "execution_count": 323,
   "id": "9345d540-c07d-4d9c-ba5b-00d5c1420f61",
   "metadata": {},
   "outputs": [
    {
     "ename": "TypeError",
     "evalue": "int() argument must be a string, a bytes-like object or a real number, not 'tuple'",
     "output_type": "error",
     "traceback": [
      "\u001b[1;31m---------------------------------------------------------------------------\u001b[0m",
      "\u001b[1;31mTypeError\u001b[0m                                 Traceback (most recent call last)",
      "Cell \u001b[1;32mIn[323], line 1\u001b[0m\n\u001b[1;32m----> 1\u001b[0m \u001b[43madd\u001b[49m\u001b[43m(\u001b[49m\u001b[38;5;241;43m10\u001b[39;49m\u001b[43m,\u001b[49m\u001b[43m \u001b[49m\u001b[38;5;241;43m20\u001b[39;49m\u001b[43m)\u001b[49m\n",
      "Cell \u001b[1;32mIn[322], line 3\u001b[0m, in \u001b[0;36madd\u001b[1;34m(*val)\u001b[0m\n\u001b[0;32m      1\u001b[0m \u001b[38;5;28;01mdef\u001b[39;00m \u001b[38;5;21madd\u001b[39m (\u001b[38;5;241m*\u001b[39mval) :\n\u001b[0;32m      2\u001b[0m     result \u001b[38;5;241m=\u001b[39m \u001b[38;5;241m0\u001b[39m\n\u001b[1;32m----> 3\u001b[0m     result \u001b[38;5;241m+\u001b[39m\u001b[38;5;241m=\u001b[39m \u001b[38;5;28;43mint\u001b[39;49m\u001b[43m(\u001b[49m\u001b[43mval\u001b[49m\u001b[43m)\u001b[49m\n\u001b[0;32m      4\u001b[0m     argv \u001b[38;5;241m=\u001b[39m argv(result)\n\u001b[0;32m      5\u001b[0m     \u001b[38;5;28mprint\u001b[39m(argv)\n",
      "\u001b[1;31mTypeError\u001b[0m: int() argument must be a string, a bytes-like object or a real number, not 'tuple'"
     ]
    }
   ],
   "source": [
    "add(10, 20)"
   ]
  },
  {
   "cell_type": "code",
   "execution_count": 15,
   "id": "d85e5466-9bde-4773-a9ab-f076bc017580",
   "metadata": {},
   "outputs": [],
   "source": [
    "# 3. [1, 2, 3, 4] 리스트의 각 요소값에 3이 곱해진 리스트 [3,6,9,12]를 만들어봅시다."
   ]
  },
  {
   "cell_type": "code",
   "execution_count": 319,
   "id": "0afa8ed2-1ee8-4ee7-a640-df7b24b720b1",
   "metadata": {},
   "outputs": [
    {
     "data": {
      "text/plain": [
       "[3, 6, 9, 12]"
      ]
     },
     "execution_count": 319,
     "metadata": {},
     "output_type": "execute_result"
    }
   ],
   "source": [
    "a = [1, 2, 3, 4]\n",
    "b = [x * 3 for x in a]\n",
    "b"
   ]
  }
 ],
 "metadata": {
  "kernelspec": {
   "display_name": "Python 3 (ipykernel)",
   "language": "python",
   "name": "python3"
  },
  "language_info": {
   "codemirror_mode": {
    "name": "ipython",
    "version": 3
   },
   "file_extension": ".py",
   "mimetype": "text/x-python",
   "name": "python",
   "nbconvert_exporter": "python",
   "pygments_lexer": "ipython3",
   "version": "3.12.7"
  }
 },
 "nbformat": 4,
 "nbformat_minor": 5
}
