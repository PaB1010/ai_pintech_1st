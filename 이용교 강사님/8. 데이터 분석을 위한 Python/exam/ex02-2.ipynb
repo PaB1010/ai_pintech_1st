{
 "cells": [
  {
   "cell_type": "code",
   "execution_count": 1,
   "id": "4adff5f5-d1b9-456d-b59d-b50019eb5c97",
   "metadata": {},
   "outputs": [],
   "source": [
    "# 1. 평균 점수 구하기"
   ]
  },
  {
   "cell_type": "code",
   "execution_count": 6,
   "id": "fe09a356-5b9d-4057-a9c8-da9b5e51640b",
   "metadata": {},
   "outputs": [
    {
     "data": {
      "text/plain": [
       "70.0"
      ]
     },
     "execution_count": 6,
     "metadata": {},
     "output_type": "execute_result"
    }
   ],
   "source": [
    "score = 80 + 75 + 55\n",
    "avg = score / 3\n",
    "avg"
   ]
  },
  {
   "cell_type": "code",
   "execution_count": 54,
   "id": "c1a5a45c-56d5-4aa8-9ec9-39f57f2e8088",
   "metadata": {},
   "outputs": [],
   "source": [
    "# 2. 홀수 / 짝수 판별하기"
   ]
  },
  {
   "cell_type": "code",
   "execution_count": 10,
   "id": "2dfbc861-54ca-4217-bdd0-84df67389690",
   "metadata": {},
   "outputs": [
    {
     "name": "stdout",
     "output_type": "stream",
     "text": [
      "홀수\n"
     ]
    }
   ],
   "source": [
    "# 자연수 13이 홀수인지 짝수인지 판별하기\n",
    "num = 13\n",
    "\n",
    "if num % 2 == 1 :\n",
    "    print('홀수')\n",
    "else : print('짝수')"
   ]
  },
  {
   "cell_type": "code",
   "execution_count": 11,
   "id": "1a203c5a-c745-4632-9131-a62310f839fa",
   "metadata": {},
   "outputs": [],
   "source": [
    "# 3. 주민등록번호 나누기"
   ]
  },
  {
   "cell_type": "code",
   "execution_count": 15,
   "id": "55e1e9de-02a3-4c31-b567-95c8fde4d3b1",
   "metadata": {},
   "outputs": [
    {
     "name": "stdout",
     "output_type": "stream",
     "text": [
      "881120\n",
      "1068234\n"
     ]
    }
   ],
   "source": [
    "pin = '881120-1068234'\n",
    "yyyymmdd = pin[:6]\n",
    "num = pin[-7:]\n",
    "\n",
    "print(yyyymmdd)\n",
    "print(num)"
   ]
  },
  {
   "cell_type": "code",
   "execution_count": 16,
   "id": "871df8a8-de13-4a34-acb4-6b2e4cfb882b",
   "metadata": {},
   "outputs": [],
   "source": [
    "# 4. 주민등록번호 인덱싱"
   ]
  },
  {
   "cell_type": "code",
   "execution_count": 17,
   "id": "17fd98e4-ee3d-436a-b2ae-0e993bb0466c",
   "metadata": {},
   "outputs": [
    {
     "name": "stdout",
     "output_type": "stream",
     "text": [
      "1\n"
     ]
    }
   ],
   "source": [
    "pin = '881120-1068234'\n",
    "print(pin[-7])"
   ]
  },
  {
   "cell_type": "code",
   "execution_count": 18,
   "id": "da5c9eaf-79df-4267-879a-b85d187ee9c1",
   "metadata": {},
   "outputs": [],
   "source": [
    "# 5. 문자열 바꾸기"
   ]
  },
  {
   "cell_type": "code",
   "execution_count": 20,
   "id": "c2b2189c-8b56-4503-a906-84ad59cd8a11",
   "metadata": {},
   "outputs": [
    {
     "name": "stdout",
     "output_type": "stream",
     "text": [
      "a#b#c#d\n"
     ]
    }
   ],
   "source": [
    "a = 'a:b:c:d'\n",
    "b = a.replace(':','#')\n",
    "print(b)"
   ]
  },
  {
   "cell_type": "code",
   "execution_count": 21,
   "id": "6f8a5cd7-c61d-4e69-adaa-841ee8f042e0",
   "metadata": {},
   "outputs": [],
   "source": [
    "# 6. List 역순 정렬"
   ]
  },
  {
   "cell_type": "code",
   "execution_count": 22,
   "id": "09834763-b486-4815-a267-9e7dd5d059fd",
   "metadata": {},
   "outputs": [
    {
     "name": "stdout",
     "output_type": "stream",
     "text": [
      "[5, 4, 3, 2, 1]\n"
     ]
    }
   ],
   "source": [
    "a = [1, 3, 5, 4, 2]\n",
    "a.sort()\n",
    "a.reverse()\n",
    "print(a)"
   ]
  },
  {
   "cell_type": "code",
   "execution_count": 23,
   "id": "27710d98-8d21-460c-84a4-b809b70d5ee7",
   "metadata": {},
   "outputs": [],
   "source": [
    "# 7. List -> 문자열 변환"
   ]
  },
  {
   "cell_type": "code",
   "execution_count": 27,
   "id": "4b6c7fb8-f267-47fc-8873-1328a7cabd52",
   "metadata": {},
   "outputs": [
    {
     "name": "stdout",
     "output_type": "stream",
     "text": [
      "Life is too short\n"
     ]
    }
   ],
   "source": [
    "a = ['Life', 'is', 'too', 'short']\n",
    "result = (' ').join(a)\n",
    "print(result)"
   ]
  },
  {
   "cell_type": "code",
   "execution_count": 28,
   "id": "f595c7a5-7c9a-47c1-b3f1-e35729338aac",
   "metadata": {},
   "outputs": [],
   "source": [
    "# 8. Tuple 더하기"
   ]
  },
  {
   "cell_type": "code",
   "execution_count": 31,
   "id": "e16319a0-8d3c-4911-a997-1cf63c42ec07",
   "metadata": {},
   "outputs": [
    {
     "name": "stdout",
     "output_type": "stream",
     "text": [
      "(1, 2, 3, 4)\n"
     ]
    }
   ],
   "source": [
    "a = 1, 2, 3\n",
    "a = a + (4,)\n",
    "print(a)"
   ]
  },
  {
   "cell_type": "code",
   "execution_count": 32,
   "id": "ae0323ec-932d-4bfe-8e47-5302d15b8929",
   "metadata": {},
   "outputs": [],
   "source": [
    "# 9. Dict의 Key"
   ]
  },
  {
   "cell_type": "code",
   "execution_count": null,
   "id": "69b3f68c-541d-4174-989f-c87272508c16",
   "metadata": {},
   "outputs": [],
   "source": [
    "\"\"\"\n",
    "오류가 뜨는 경우는\n",
    "a[[1]] = 'python'\n",
    "List 는 Key값이 될 수없다\n",
    "\"\"\""
   ]
  },
  {
   "cell_type": "code",
   "execution_count": 33,
   "id": "42ec0bdb-62b4-4796-8c29-cb6e682b11a4",
   "metadata": {},
   "outputs": [],
   "source": [
    "# 10. Dict 값 추출"
   ]
  },
  {
   "cell_type": "code",
   "execution_count": 36,
   "id": "26ba7fc9-29d1-4365-9bb7-68576ae6d5aa",
   "metadata": {},
   "outputs": [
    {
     "name": "stdout",
     "output_type": "stream",
     "text": [
      "{'A': 90, 'C': 70}\n",
      "80\n"
     ]
    }
   ],
   "source": [
    "a = {'A':90, 'B':80, 'C':70}\n",
    "result = a.pop('B')\n",
    "print(a)\n",
    "print(result)"
   ]
  },
  {
   "cell_type": "code",
   "execution_count": 37,
   "id": "ac9744e8-1a82-401b-9087-729ab8902b57",
   "metadata": {},
   "outputs": [],
   "source": [
    "# 11. List에서 중복 제거"
   ]
  },
  {
   "cell_type": "code",
   "execution_count": 39,
   "id": "7489a1f3-da42-4120-bb72-163ae17e2e67",
   "metadata": {},
   "outputs": [
    {
     "name": "stdout",
     "output_type": "stream",
     "text": [
      "[1, 2, 3, 4, 5]\n"
     ]
    }
   ],
   "source": [
    "a = [1, 1, 1, 2, 2, 3, 3, 3, 4, 4, 5]\n",
    "aSet = set(a)\n",
    "b = list(aSet)\n",
    "print(b)"
   ]
  },
  {
   "cell_type": "code",
   "execution_count": 40,
   "id": "707c9d6d-97a4-4753-9269-2d65892e4fc2",
   "metadata": {},
   "outputs": [],
   "source": [
    "# 12. Python 변수"
   ]
  },
  {
   "cell_type": "code",
   "execution_count": null,
   "id": "e5556082-c3b0-4eec-a854-77d2c4fa55fe",
   "metadata": {},
   "outputs": [],
   "source": [
    "\"\"\"\n",
    "print(b)\n",
    "[1, 4, 3]\n",
    "a와 b의 주소값이 같으니 a[1]을 변경하면 b[1]도 변경됨\n",
    "\"\"\""
   ]
  },
  {
   "cell_type": "code",
   "execution_count": 30,
   "id": "3fd24126-95c9-4231-aa4a-f6a05cd28cfa",
   "metadata": {},
   "outputs": [],
   "source": [
    "# 제어문"
   ]
  },
  {
   "cell_type": "code",
   "execution_count": 41,
   "id": "4ffe4f4d-eccd-4851-a4be-701bb816d31a",
   "metadata": {},
   "outputs": [],
   "source": [
    "# 1. 조건문의 참과 거짓"
   ]
  },
  {
   "cell_type": "code",
   "execution_count": null,
   "id": "9fb8b838-67ef-4dc4-ac8d-5fde3fc7a4c3",
   "metadata": {},
   "outputs": [],
   "source": [
    "\"\"\"\n",
    "shirt\n",
    "\"\"\""
   ]
  },
  {
   "cell_type": "code",
   "execution_count": 42,
   "id": "7e8d3fa7-9c46-45d9-a9cd-916a51dae7e6",
   "metadata": {},
   "outputs": [],
   "source": [
    "# 2. 3의 배수의 합 구하기"
   ]
  },
  {
   "cell_type": "code",
   "execution_count": 48,
   "id": "aca63165-e8cb-4ceb-bf77-b63cb712e7d9",
   "metadata": {},
   "outputs": [
    {
     "name": "stdout",
     "output_type": "stream",
     "text": [
      "166833\n"
     ]
    }
   ],
   "source": [
    "result = 0\n",
    "i = 1\n",
    "while i <= 1000 :\n",
    "    if i % 3 == 0 :\n",
    "        result += i\n",
    "    i += 1\n",
    "\n",
    "print(result)"
   ]
  },
  {
   "cell_type": "code",
   "execution_count": 49,
   "id": "97ef2d00-4c25-43df-a184-2d3e1b6eb7dc",
   "metadata": {},
   "outputs": [],
   "source": [
    "# 3. 별 표시하기"
   ]
  },
  {
   "cell_type": "code",
   "execution_count": 50,
   "id": "f6e44089-c693-4af4-aa9b-887e792cde1f",
   "metadata": {},
   "outputs": [
    {
     "name": "stdout",
     "output_type": "stream",
     "text": [
      "*\n",
      "**\n",
      "***\n",
      "****\n",
      "*****\n"
     ]
    }
   ],
   "source": [
    "i = 0\n",
    "while True :\n",
    "    i += 1\n",
    "    if i > 5 : break\n",
    "    print('*'*i)"
   ]
  },
  {
   "cell_type": "code",
   "execution_count": 51,
   "id": "8db78a9d-ac4c-485f-b61d-847bcd94125e",
   "metadata": {},
   "outputs": [],
   "source": [
    "# 4. 1부터 100까지 출력하기"
   ]
  },
  {
   "cell_type": "code",
   "execution_count": 52,
   "id": "7b956703-8618-477f-907b-76afe9cb1b8b",
   "metadata": {},
   "outputs": [
    {
     "name": "stdout",
     "output_type": "stream",
     "text": [
      "1\n",
      "2\n",
      "3\n",
      "4\n",
      "5\n",
      "6\n",
      "7\n",
      "8\n",
      "9\n",
      "10\n",
      "11\n",
      "12\n",
      "13\n",
      "14\n",
      "15\n",
      "16\n",
      "17\n",
      "18\n",
      "19\n",
      "20\n",
      "21\n",
      "22\n",
      "23\n",
      "24\n",
      "25\n",
      "26\n",
      "27\n",
      "28\n",
      "29\n",
      "30\n",
      "31\n",
      "32\n",
      "33\n",
      "34\n",
      "35\n",
      "36\n",
      "37\n",
      "38\n",
      "39\n",
      "40\n",
      "41\n",
      "42\n",
      "43\n",
      "44\n",
      "45\n",
      "46\n",
      "47\n",
      "48\n",
      "49\n",
      "50\n",
      "51\n",
      "52\n",
      "53\n",
      "54\n",
      "55\n",
      "56\n",
      "57\n",
      "58\n",
      "59\n",
      "60\n",
      "61\n",
      "62\n",
      "63\n",
      "64\n",
      "65\n",
      "66\n",
      "67\n",
      "68\n",
      "69\n",
      "70\n",
      "71\n",
      "72\n",
      "73\n",
      "74\n",
      "75\n",
      "76\n",
      "77\n",
      "78\n",
      "79\n",
      "80\n",
      "81\n",
      "82\n",
      "83\n",
      "84\n",
      "85\n",
      "86\n",
      "87\n",
      "88\n",
      "89\n",
      "90\n",
      "91\n",
      "92\n",
      "93\n",
      "94\n",
      "95\n",
      "96\n",
      "97\n",
      "98\n",
      "99\n",
      "100\n"
     ]
    }
   ],
   "source": [
    "for i in range(1, 101) :\n",
    "    print(i)"
   ]
  },
  {
   "cell_type": "code",
   "execution_count": 53,
   "id": "0c2ed471-f3fe-4650-ba47-96a21d16cdf0",
   "metadata": {},
   "outputs": [],
   "source": [
    "# 5. 평균 점수 구하기"
   ]
  },
  {
   "cell_type": "code",
   "execution_count": 54,
   "id": "8a25d2af-3c2d-40f3-b378-05dd9611863e",
   "metadata": {},
   "outputs": [
    {
     "name": "stdout",
     "output_type": "stream",
     "text": [
      "79.0\n"
     ]
    }
   ],
   "source": [
    "A = [70, 60, 55, 75, 95, 90, 80, 80, 85, 100]\n",
    "total = 0\n",
    "for score in A :\n",
    "    total += score\n",
    "\n",
    "average = total / len(A)\n",
    "\n",
    "print (average)"
   ]
  },
  {
   "cell_type": "code",
   "execution_count": 55,
   "id": "f16ff373-3e3d-4eb9-b60f-1b5519170ba4",
   "metadata": {},
   "outputs": [],
   "source": [
    "# 6. 리스트 컴프리헨션 사용"
   ]
  },
  {
   "cell_type": "code",
   "execution_count": 69,
   "id": "0a490822-8875-4c58-adf3-58f15fd82a99",
   "metadata": {},
   "outputs": [
    {
     "name": "stdout",
     "output_type": "stream",
     "text": [
      "[2, 6, 10]\n"
     ]
    }
   ],
   "source": [
    "numbers = [1, 2, 3, 4, 5]\n",
    "result = [n * 2 for n in numbers if n % 2 == 1]\n",
    "print(result)"
   ]
  },
  {
   "cell_type": "code",
   "execution_count": 57,
   "id": "7b611278-b299-4ebb-9748-904f509cf58e",
   "metadata": {},
   "outputs": [],
   "source": [
    "# 입출력"
   ]
  },
  {
   "cell_type": "code",
   "execution_count": 63,
   "id": "2df79668-d825-4656-a47a-e8e41694a280",
   "metadata": {},
   "outputs": [],
   "source": [
    "# 1. 홀수, 짝수 판별하기"
   ]
  },
  {
   "cell_type": "code",
   "execution_count": 67,
   "id": "081afbe7-e927-469d-8fff-d8b9aa2b8479",
   "metadata": {},
   "outputs": [
    {
     "data": {
      "text/plain": [
       "True"
      ]
     },
     "execution_count": 67,
     "metadata": {},
     "output_type": "execute_result"
    }
   ],
   "source": [
    "def is_odd(number) :\n",
    "    if number % 2 == 1 :\n",
    "        return True\n",
    "    else :\n",
    "        return False\n",
    "        \n",
    "is_odd(1)"
   ]
  },
  {
   "cell_type": "code",
   "execution_count": 70,
   "id": "562dd400-c1ec-46de-806a-aa26494845c1",
   "metadata": {},
   "outputs": [],
   "source": [
    "# 2. 모든 입력의 평균값 구하기"
   ]
  },
  {
   "cell_type": "code",
   "execution_count": 84,
   "id": "1b8279c5-6467-44fd-b235-a6ecaa36df63",
   "metadata": {},
   "outputs": [
    {
     "data": {
      "text/plain": [
       "3.0"
      ]
     },
     "execution_count": 84,
     "metadata": {},
     "output_type": "execute_result"
    }
   ],
   "source": [
    "def avg_numbers(*args) :\n",
    "    result = 0\n",
    "    for i in args :\n",
    "        result += i\n",
    "    return result / len(args)\n",
    "\n",
    "avg_numbers(1, 2)\n",
    "avg_numbers(1, 2, 3, 4, 5)"
   ]
  },
  {
   "cell_type": "code",
   "execution_count": 86,
   "id": "bdcc8525-60e3-478c-b497-fe0540c8866e",
   "metadata": {},
   "outputs": [],
   "source": [
    "# 3. 프로그램 오류 수정하기1"
   ]
  },
  {
   "cell_type": "code",
   "execution_count": 89,
   "id": "8d8dbf44-3464-4a1f-a8eb-8279781763e4",
   "metadata": {},
   "outputs": [
    {
     "name": "stdin",
     "output_type": "stream",
     "text": [
      "첫 번째 숫자를 입력하세요 :  3\n",
      "두 번째 숫자를 입력하세요 :  6\n"
     ]
    },
    {
     "name": "stdout",
     "output_type": "stream",
     "text": [
      "두 수의 합은 9입니다\n"
     ]
    }
   ],
   "source": [
    "input1 = input('첫 번째 숫자를 입력하세요 : ')\n",
    "input2 = input('두 번째 숫자를 입력하세요 : ')\n",
    "\n",
    "total = int(input1) + int(input2)\n",
    "\n",
    "print('두 수의 합은 %s입니다' % total)"
   ]
  },
  {
   "cell_type": "code",
   "execution_count": 90,
   "id": "b69851bf-cddc-4698-8089-5d6b0394385d",
   "metadata": {},
   "outputs": [],
   "source": [
    "# 4. 출력 결과가 다른 것은?"
   ]
  },
  {
   "cell_type": "code",
   "execution_count": 94,
   "id": "da92ed02-b394-41f2-8532-2a052d0286d1",
   "metadata": {},
   "outputs": [
    {
     "name": "stdout",
     "output_type": "stream",
     "text": [
      "youneedpython\n",
      "youneedpython\n",
      "you neen python\n",
      "youneedpython\n"
     ]
    }
   ],
   "source": [
    "\"\"\"\n",
    "3. print('you','neen','python')\n",
    "\"\"\"\n",
    "print('you''need''python')\n",
    "print('you' + 'need' + 'python')\n",
    "print('you','neen','python')\n",
    "print(''.join(['you', 'need', 'python']))"
   ]
  },
  {
   "cell_type": "code",
   "execution_count": 95,
   "id": "f4a9e39c-e10d-463d-8eba-62d327529e48",
   "metadata": {},
   "outputs": [],
   "source": [
    "# 5. 프로그램 오류 수정하기 2"
   ]
  },
  {
   "cell_type": "code",
   "execution_count": 13,
   "id": "9059e59e-ecd5-4c14-b36b-1da5496d4aaa",
   "metadata": {},
   "outputs": [
    {
     "name": "stdout",
     "output_type": "stream",
     "text": [
      "Life is too short\n"
     ]
    }
   ],
   "source": [
    "f1 = open('test.txt', 'w')\n",
    "f1.write('Life is too short')\n",
    "# f1.close()\n",
    "\n",
    "f2 = open('test.txt', 'r')\n",
    "print(f2.read())\n",
    "# f2.close()"
   ]
  },
  {
   "cell_type": "code",
   "execution_count": 115,
   "id": "21a626bc-cdcd-4cfa-ae36-186068e5cbdf",
   "metadata": {},
   "outputs": [],
   "source": [
    "# 6. 사용자 입력 저장하기"
   ]
  },
  {
   "cell_type": "code",
   "execution_count": 123,
   "id": "871d9ec7-27c0-43f8-89bd-64c864a940a6",
   "metadata": {},
   "outputs": [
    {
     "name": "stdin",
     "output_type": "stream",
     "text": [
      "저장할 내용을 입력하세요 : 라마바\n"
     ]
    }
   ],
   "source": [
    "user_input = input('저장할 내용을 입력하세요 :')\n",
    "f = open('test.txt', 'a')\n",
    "f.write(user_input)\n",
    "f.write('\\n')\n",
    "f.close()"
   ]
  },
  {
   "cell_type": "code",
   "execution_count": 124,
   "id": "8e0d787e-c324-41d2-9895-66eddbb55512",
   "metadata": {},
   "outputs": [],
   "source": [
    "# 7. 파일의 문자열 바꾸기"
   ]
  },
  {
   "cell_type": "code",
   "execution_count": 126,
   "id": "cb5f9d1e-5f03-4556-8a7b-9572e6768252",
   "metadata": {},
   "outputs": [],
   "source": [
    "f = open('test.txt', 'r')\n",
    "body = f.read()\n",
    "f.close()\n",
    "body = body.replace('java','python')\n",
    "f = open('test.txt', 'w')\n",
    "f.write(body)\n",
    "f.close()"
   ]
  },
  {
   "cell_type": "code",
   "execution_count": 127,
   "id": "99f6c23f-1c52-4498-a394-4ca2ceb8fe10",
   "metadata": {},
   "outputs": [],
   "source": [
    "# 8. 입력값을 모두 더해 출력하기"
   ]
  },
  {
   "cell_type": "code",
   "execution_count": 14,
   "id": "a3e546e0-fdcd-466e-b8cd-1179edd0f1e7",
   "metadata": {},
   "outputs": [
    {
     "ename": "ValueError",
     "evalue": "invalid literal for int() with base 10: '-f'",
     "output_type": "error",
     "traceback": [
      "\u001b[1;31m---------------------------------------------------------------------------\u001b[0m",
      "\u001b[1;31mValueError\u001b[0m                                Traceback (most recent call last)",
      "Cell \u001b[1;32mIn[14], line 7\u001b[0m\n\u001b[0;32m      5\u001b[0m result \u001b[38;5;241m=\u001b[39m \u001b[38;5;241m0\u001b[39m\n\u001b[0;32m      6\u001b[0m \u001b[38;5;28;01mfor\u001b[39;00m number \u001b[38;5;129;01min\u001b[39;00m numbers :\n\u001b[1;32m----> 7\u001b[0m     result \u001b[38;5;241m+\u001b[39m\u001b[38;5;241m=\u001b[39m \u001b[38;5;28;43mint\u001b[39;49m\u001b[43m(\u001b[49m\u001b[43mnumber\u001b[49m\u001b[43m)\u001b[49m\n\u001b[0;32m      9\u001b[0m \u001b[38;5;28mprint\u001b[39m(result)\n",
      "\u001b[1;31mValueError\u001b[0m: invalid literal for int() with base 10: '-f'"
     ]
    }
   ],
   "source": [
    "import sys\n",
    "\n",
    "numbers = sys.argv[1:]\n",
    "\n",
    "result = 0\n",
    "for number in numbers :\n",
    "    result += int(number)\n",
    "\n",
    "print(result)"
   ]
  },
  {
   "cell_type": "code",
   "execution_count": 135,
   "id": "e1546f11-9a16-4dfe-b4b9-b3fbff4b6751",
   "metadata": {},
   "outputs": [],
   "source": [
    "# 상속"
   ]
  },
  {
   "cell_type": "code",
   "execution_count": 136,
   "id": "e717dbe0-dcd2-4feb-81b8-9160c16d908d",
   "metadata": {},
   "outputs": [],
   "source": [
    "# 1. 클래스 상속받고 메서드 추가하기 1"
   ]
  },
  {
   "cell_type": "code",
   "execution_count": 137,
   "id": "86234be4-3fcd-493d-9dc3-89db62fc3fd2",
   "metadata": {},
   "outputs": [],
   "source": [
    "class Calculator :\n",
    "    def __init__(self) :\n",
    "        self.value = 0\n",
    "\n",
    "    def add(self, val) :\n",
    "        self.value += val"
   ]
  },
  {
   "cell_type": "code",
   "execution_count": 138,
   "id": "f0570dd4-5263-4cc5-96da-bfc8db233929",
   "metadata": {},
   "outputs": [],
   "source": [
    "class UpgradeCalculator(Calculator) :\n",
    "    def minus(self, val) :\n",
    "        self.value -= val"
   ]
  },
  {
   "cell_type": "code",
   "execution_count": 141,
   "id": "adf88b22-2f7f-413a-9455-7a74073270d3",
   "metadata": {},
   "outputs": [
    {
     "name": "stdout",
     "output_type": "stream",
     "text": [
      "3\n"
     ]
    }
   ],
   "source": [
    "cal = UpgradeCalculator()\n",
    "cal.add(10)\n",
    "cal.minus(7)\n",
    "\n",
    "print(cal.value)"
   ]
  },
  {
   "cell_type": "code",
   "execution_count": 142,
   "id": "2f51e96d-eb00-43a0-aa33-2ce4b2006c25",
   "metadata": {},
   "outputs": [],
   "source": [
    "# 2. 클래스 상속받고 메서드 추가하기 2"
   ]
  },
  {
   "cell_type": "code",
   "execution_count": 143,
   "id": "a7457de9-aa8d-4e91-84ce-db83bbfbbb9c",
   "metadata": {},
   "outputs": [],
   "source": [
    "class MaxLimitCalculator(Calculator) :\n",
    "    def add(self, val) :\n",
    "        self.value += val\n",
    "        if self.value > 100 :\n",
    "            self.value = 100"
   ]
  },
  {
   "cell_type": "code",
   "execution_count": 150,
   "id": "e07d6512-9ef9-44c9-a7bd-dfa52ff63225",
   "metadata": {},
   "outputs": [
    {
     "name": "stdout",
     "output_type": "stream",
     "text": [
      "100\n"
     ]
    }
   ],
   "source": [
    "cal = MaxLimitCalculator()\n",
    "cal.add(50)\n",
    "cal.add(60)\n",
    "print(cal.value)"
   ]
  },
  {
   "cell_type": "code",
   "execution_count": 152,
   "id": "961dcb82-9976-407c-828d-b03f6b2cb3e0",
   "metadata": {},
   "outputs": [],
   "source": [
    "# 3. 참과 거짓 예측하기"
   ]
  },
  {
   "cell_type": "code",
   "execution_count": 153,
   "id": "82abc36c-3bd2-464a-8b33-4ac9f7e38d7b",
   "metadata": {},
   "outputs": [
    {
     "data": {
      "text/plain": [
       "False"
      ]
     },
     "execution_count": 153,
     "metadata": {},
     "output_type": "execute_result"
    }
   ],
   "source": [
    "all([1, 2, abs(-3)-3])"
   ]
  },
  {
   "cell_type": "code",
   "execution_count": 155,
   "id": "c8efb38b-a147-488a-93ce-9a309d33a763",
   "metadata": {},
   "outputs": [
    {
     "data": {
      "text/plain": [
       "True"
      ]
     },
     "execution_count": 155,
     "metadata": {},
     "output_type": "execute_result"
    }
   ],
   "source": [
    "chr(ord('a')) == 'a'"
   ]
  },
  {
   "cell_type": "code",
   "execution_count": 156,
   "id": "635c2793-1480-42ac-bb2b-f1ae7f9eaa2b",
   "metadata": {},
   "outputs": [],
   "source": [
    "# 4. 음수 제거하기"
   ]
  },
  {
   "cell_type": "code",
   "execution_count": 159,
   "id": "957077b1-54ad-4683-9218-92a7a6cbb6c9",
   "metadata": {},
   "outputs": [
    {
     "data": {
      "text/plain": [
       "[1, 3, 8]"
      ]
     },
     "execution_count": 159,
     "metadata": {},
     "output_type": "execute_result"
    }
   ],
   "source": [
    "list(filter(lambda x : x > 0,[1, -2, 3, -5, 8, -3]))"
   ]
  },
  {
   "cell_type": "code",
   "execution_count": 160,
   "id": "6f64ab12-9bb1-467e-a330-c2630557fdb6",
   "metadata": {},
   "outputs": [],
   "source": [
    "# 5. 16진수를 10진수로 변경하기"
   ]
  },
  {
   "cell_type": "code",
   "execution_count": 162,
   "id": "17247859-0c02-43c2-a840-fa8d9766427d",
   "metadata": {},
   "outputs": [
    {
     "data": {
      "text/plain": [
       "'0xea'"
      ]
     },
     "execution_count": 162,
     "metadata": {},
     "output_type": "execute_result"
    }
   ],
   "source": [
    "hex(234)"
   ]
  },
  {
   "cell_type": "code",
   "execution_count": 167,
   "id": "4d6e7faf-891c-41a8-9182-81ca8131903d",
   "metadata": {},
   "outputs": [
    {
     "data": {
      "text/plain": [
       "234"
      ]
     },
     "execution_count": 167,
     "metadata": {},
     "output_type": "execute_result"
    }
   ],
   "source": [
    "int('0xea', 16)"
   ]
  },
  {
   "cell_type": "code",
   "execution_count": 170,
   "id": "6518814f-f700-49e6-a832-a6e41ce8844e",
   "metadata": {},
   "outputs": [
    {
     "data": {
      "text/plain": [
       "234"
      ]
     },
     "execution_count": 170,
     "metadata": {},
     "output_type": "execute_result"
    }
   ],
   "source": [
    "int(0xea)"
   ]
  },
  {
   "cell_type": "code",
   "execution_count": 171,
   "id": "e1a5c13c-51d6-4249-915d-a325f3749a26",
   "metadata": {},
   "outputs": [],
   "source": [
    "# 6. 리스트 항목마다 3곱하여 리턴하기"
   ]
  },
  {
   "cell_type": "code",
   "execution_count": 173,
   "id": "8a00359d-bd19-493b-a617-959430fb0ac3",
   "metadata": {},
   "outputs": [
    {
     "data": {
      "text/plain": [
       "[3, 6, 9, 12]"
      ]
     },
     "execution_count": 173,
     "metadata": {},
     "output_type": "execute_result"
    }
   ],
   "source": [
    "list(map(lambda x : x * 3, [1, 2, 3, 4]))"
   ]
  },
  {
   "cell_type": "code",
   "execution_count": 174,
   "id": "737dda5b-a6dd-4354-aa5f-c5e7ce5bde58",
   "metadata": {},
   "outputs": [],
   "source": [
    "# 7. 최댓값과 최솟값의 합"
   ]
  },
  {
   "cell_type": "code",
   "execution_count": 177,
   "id": "2fafa99f-aa93-4902-881c-451995a92ac7",
   "metadata": {},
   "outputs": [
    {
     "data": {
      "text/plain": [
       "-1"
      ]
     },
     "execution_count": 177,
     "metadata": {},
     "output_type": "execute_result"
    }
   ],
   "source": [
    "A = [-8, 2, 7, 5, -3, 5, 0, 1]\n",
    "minA = min(A)\n",
    "maxA = max(A)\n",
    "minA + maxA"
   ]
  },
  {
   "cell_type": "code",
   "execution_count": 178,
   "id": "536ef76f-66d3-4f1f-bef5-d302cd0ffdd4",
   "metadata": {},
   "outputs": [],
   "source": [
    "# 8. 소수점 반올림하기"
   ]
  },
  {
   "cell_type": "code",
   "execution_count": 184,
   "id": "ef396373-8657-473c-bc0c-83e819f8f671",
   "metadata": {},
   "outputs": [
    {
     "data": {
      "text/plain": [
       "5.6667"
      ]
     },
     "execution_count": 184,
     "metadata": {},
     "output_type": "execute_result"
    }
   ],
   "source": [
    "round(17 / 3, 4)"
   ]
  },
  {
   "cell_type": "code",
   "execution_count": 185,
   "id": "81b03040-1f77-458b-8b2d-200b71940969",
   "metadata": {},
   "outputs": [],
   "source": [
    "# 9. 디렉터리 이동하고 파일 목록 출력하기"
   ]
  },
  {
   "cell_type": "code",
   "execution_count": 195,
   "id": "1a841407-c7b2-4494-86e3-54e6157ef598",
   "metadata": {},
   "outputs": [
    {
     "name": "stderr",
     "output_type": "stream",
     "text": [
      "<>:3: SyntaxWarning: invalid escape sequence '\\d'\n",
      "<>:3: SyntaxWarning: invalid escape sequence '\\d'\n",
      "C:\\Users\\mudod\\AppData\\Local\\Temp\\ipykernel_10200\\3821050005.py:3: SyntaxWarning: invalid escape sequence '\\d'\n",
      "  os.chdir('C:\\doit')\n"
     ]
    },
    {
     "ename": "FileNotFoundError",
     "evalue": "[WinError 2] 지정된 파일을 찾을 수 없습니다: 'C:\\\\doit'",
     "output_type": "error",
     "traceback": [
      "\u001b[1;31m---------------------------------------------------------------------------\u001b[0m",
      "\u001b[1;31mFileNotFoundError\u001b[0m                         Traceback (most recent call last)",
      "Cell \u001b[1;32mIn[195], line 3\u001b[0m\n\u001b[0;32m      1\u001b[0m \u001b[38;5;28;01mimport\u001b[39;00m \u001b[38;5;21;01mos\u001b[39;00m\n\u001b[1;32m----> 3\u001b[0m os\u001b[38;5;241m.\u001b[39mchdir(\u001b[38;5;124m'\u001b[39m\u001b[38;5;124mC:\u001b[39m\u001b[38;5;124m\\\u001b[39m\u001b[38;5;124mdoit\u001b[39m\u001b[38;5;124m'\u001b[39m)\n\u001b[0;32m      5\u001b[0m result \u001b[38;5;241m=\u001b[39m os\u001b[38;5;241m.\u001b[39mpepen(\u001b[38;5;124m'\u001b[39m\u001b[38;5;124mdir\u001b[39m\u001b[38;5;124m'\u001b[39m)\n\u001b[0;32m      7\u001b[0m \u001b[38;5;28mprint\u001b[39m(result\u001b[38;5;241m.\u001b[39mread())\n",
      "\u001b[1;31mFileNotFoundError\u001b[0m: [WinError 2] 지정된 파일을 찾을 수 없습니다: 'C:\\\\doit'"
     ]
    }
   ],
   "source": [
    "import os\n",
    "\n",
    "os.chdir('C:\\doit')\n",
    "\n",
    "result = os.pepen('dir')\n",
    "\n",
    "print(result.read())"
   ]
  },
  {
   "cell_type": "code",
   "execution_count": 188,
   "id": "7871de14-aa80-4a86-a9da-0997428f5abb",
   "metadata": {},
   "outputs": [],
   "source": [
    "# 10. 파일 확장자가 .py인 파일만 찾기"
   ]
  },
  {
   "cell_type": "code",
   "execution_count": 200,
   "id": "e4d648fa-db5c-443d-b1d3-f835e3bb53bc",
   "metadata": {},
   "outputs": [
    {
     "name": "stderr",
     "output_type": "stream",
     "text": [
      "<>:3: SyntaxWarning: invalid escape sequence '\\d'\n",
      "<>:3: SyntaxWarning: invalid escape sequence '\\d'\n",
      "C:\\Users\\mudod\\AppData\\Local\\Temp\\ipykernel_10200\\2762308268.py:3: SyntaxWarning: invalid escape sequence '\\d'\n",
      "  glob.glob('C:\\doit\\*.py')\n"
     ]
    },
    {
     "data": {
      "text/plain": [
       "[]"
      ]
     },
     "execution_count": 200,
     "metadata": {},
     "output_type": "execute_result"
    }
   ],
   "source": [
    "import glob\n",
    "\n",
    "glob.glob('C:\\doit\\*.py')"
   ]
  },
  {
   "cell_type": "code",
   "execution_count": 201,
   "id": "ac15405f-9917-4824-b0cf-a059a41b4aec",
   "metadata": {},
   "outputs": [],
   "source": [
    "# 11. 날짜 표시하기"
   ]
  },
  {
   "cell_type": "code",
   "execution_count": 203,
   "id": "37f06d16-e726-4e5f-8f0c-1c0c71b80371",
   "metadata": {},
   "outputs": [
    {
     "data": {
      "text/plain": [
       "'20241125 03:23:55'"
      ]
     },
     "execution_count": 203,
     "metadata": {},
     "output_type": "execute_result"
    }
   ],
   "source": [
    "import time\n",
    "\n",
    "time.strftime('%Y%m%d %H:%M:%S')"
   ]
  },
  {
   "cell_type": "code",
   "execution_count": null,
   "id": "c86ed415-4965-4d5d-ae94-6c0097045bf0",
   "metadata": {},
   "outputs": [],
   "source": [
    "# "
   ]
  }
 ],
 "metadata": {
  "kernelspec": {
   "display_name": "Python 3 (ipykernel)",
   "language": "python",
   "name": "python3"
  },
  "language_info": {
   "codemirror_mode": {
    "name": "ipython",
    "version": 3
   },
   "file_extension": ".py",
   "mimetype": "text/x-python",
   "name": "python",
   "nbconvert_exporter": "python",
   "pygments_lexer": "ipython3",
   "version": "3.12.7"
  }
 },
 "nbformat": 4,
 "nbformat_minor": 5
}
