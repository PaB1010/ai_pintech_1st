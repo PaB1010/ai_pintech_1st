{
 "cells": [
  {
   "cell_type": "code",
   "execution_count": 1,
   "id": "eba95f00-4dcb-4501-a098-98d141724b12",
   "metadata": {},
   "outputs": [],
   "source": [
    "# 리스트 컴프리헨션\n",
    "items = [1,2,3,4,5]\n",
    "items2 = [6,7,8,9,10]"
   ]
  },
  {
   "cell_type": "code",
   "execution_count": 2,
   "id": "0e470eb0-cfb0-42e2-8456-58c06fd5610f",
   "metadata": {},
   "outputs": [],
   "source": [
    "# 첫번째 문제 두 수의 합을 구해봅시다."
   ]
  },
  {
   "cell_type": "code",
   "execution_count": 12,
   "id": "ddc2831f-2612-49e7-bf00-01161a6198c6",
   "metadata": {},
   "outputs": [
    {
     "name": "stdout",
     "output_type": "stream",
     "text": [
      "[7, 8, 9, 10, 11, 8, 9, 10, 11, 12, 9, 10, 11, 12, 13, 10, 11, 12, 13, 14, 11, 12, 13, 14, 15]\n"
     ]
    }
   ],
   "source": [
    "result = [i + j  for i in items for j in items2]\n",
    "print(result)"
   ]
  },
  {
   "cell_type": "code",
   "execution_count": 3,
   "id": "50e684a0-7ff0-4b19-9ed6-7c88771f8308",
   "metadata": {},
   "outputs": [],
   "source": [
    "# 두번째 문제 두 수의 곱을 구해봅시다."
   ]
  },
  {
   "cell_type": "code",
   "execution_count": 13,
   "id": "34380c9b-0f8e-427c-9259-92dbb8932a7b",
   "metadata": {},
   "outputs": [
    {
     "name": "stdout",
     "output_type": "stream",
     "text": [
      "[6, 7, 8, 9, 10, 12, 14, 16, 18, 20, 18, 21, 24, 27, 30, 24, 28, 32, 36, 40, 30, 35, 40, 45, 50]\n"
     ]
    }
   ],
   "source": [
    "result2 = [i * j for i in items for j in items2]\n",
    "print(result2)"
   ]
  },
  {
   "cell_type": "code",
   "execution_count": 14,
   "id": "3d51954f-639e-452f-a425-e62292db09dc",
   "metadata": {},
   "outputs": [],
   "source": [
    "# 세번째 문제 두 수가 홀수 일 경우 곱."
   ]
  },
  {
   "cell_type": "code",
   "execution_count": 16,
   "id": "2ed98a5e-be9b-4dde-b274-8705528a2d60",
   "metadata": {},
   "outputs": [
    {
     "name": "stdout",
     "output_type": "stream",
     "text": [
      "[7, 9, 21, 27, 35, 45]\n"
     ]
    }
   ],
   "source": [
    "result3 = [i * j for i in items if i % 2 == 1 for j in items2 if j % 2 == 1]\n",
    "print(result3)"
   ]
  }
 ],
 "metadata": {
  "kernelspec": {
   "display_name": "Python 3 (ipykernel)",
   "language": "python",
   "name": "python3"
  },
  "language_info": {
   "codemirror_mode": {
    "name": "ipython",
    "version": 3
   },
   "file_extension": ".py",
   "mimetype": "text/x-python",
   "name": "python",
   "nbconvert_exporter": "python",
   "pygments_lexer": "ipython3",
   "version": "3.12.7"
  }
 },
 "nbformat": 4,
 "nbformat_minor": 5
}
