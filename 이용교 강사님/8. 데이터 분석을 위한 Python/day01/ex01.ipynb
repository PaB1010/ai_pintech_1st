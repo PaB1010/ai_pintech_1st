{
 "cells": [
  {
   "cell_type": "code",
   "execution_count": 6,
   "id": "84ad06c9-9c6c-428e-b41a-86d3cb33e8b1",
   "metadata": {},
   "outputs": [
    {
     "data": {
      "text/plain": [
       "8"
      ]
     },
     "execution_count": 6,
     "metadata": {},
     "output_type": "execute_result"
    }
   ],
   "source": [
    "# ** : 제곱 연산\n",
    "2 ** 3  # 2의 3제곱"
   ]
  },
  {
   "cell_type": "code",
   "execution_count": 9,
   "id": "c3101901-81b7-4753-b0ed-8d3c0507dd12",
   "metadata": {},
   "outputs": [
    {
     "name": "stdout",
     "output_type": "stream",
     "text": [
      "1\n",
      "4\n"
     ]
    }
   ],
   "source": [
    "# % : 나머지 연산\n",
    "# // : 몫 연산\n",
    "print(9 % 2)\n",
    "print(9 // 2)"
   ]
  },
  {
   "cell_type": "code",
   "execution_count": 10,
   "id": "8830e992-93e0-4ce4-875b-40a45350d8a5",
   "metadata": {},
   "outputs": [
    {
     "data": {
      "text/plain": [
       "int"
      ]
     },
     "execution_count": 10,
     "metadata": {},
     "output_type": "execute_result"
    }
   ],
   "source": [
    "a = 100\n",
    "type(a) # type() - 자료형 체크 함수"
   ]
  },
  {
   "cell_type": "code",
   "execution_count": 11,
   "id": "aac1ca75-0a83-4cc0-82c2-1a6a8a9a8972",
   "metadata": {},
   "outputs": [
    {
     "data": {
      "text/plain": [
       "float"
      ]
     },
     "execution_count": 11,
     "metadata": {},
     "output_type": "execute_result"
    }
   ],
   "source": [
    "a = 100.123\n",
    "type(a)"
   ]
  },
  {
   "cell_type": "code",
   "execution_count": 12,
   "id": "1f421267-1bbf-430e-beec-6ba0a3f6cbad",
   "metadata": {},
   "outputs": [
    {
     "data": {
      "text/plain": [
       "str"
      ]
     },
     "execution_count": 12,
     "metadata": {},
     "output_type": "execute_result"
    }
   ],
   "source": [
    "a = \"Python\" # \"과 ' 구분 X\n",
    "type(a)"
   ]
  },
  {
   "cell_type": "code",
   "execution_count": 17,
   "id": "953583f9-4499-4109-9e5b-6372184732a5",
   "metadata": {},
   "outputs": [
    {
     "data": {
      "text/plain": [
       "\"Python's favorite food is perl\""
      ]
     },
     "execution_count": 17,
     "metadata": {},
     "output_type": "execute_result"
    }
   ],
   "source": [
    "\"Python's favorite food is perl\"\n",
    "# 문장에 작은 따옴표가 섞여 있는 경우 큰 따옴표(\") 사용"
   ]
  },
  {
   "cell_type": "code",
   "execution_count": 23,
   "id": "7b6ea203-5a6e-4cbd-a6da-c6944a317638",
   "metadata": {},
   "outputs": [
    {
     "data": {
      "text/plain": [
       "'Python\"s favorite food is perl'"
      ]
     },
     "execution_count": 23,
     "metadata": {},
     "output_type": "execute_result"
    }
   ],
   "source": [
    "#'Python's favorite food is perl' - 오류 발생 (문법 오류)\n",
    "'Python\\'s favorite food is perl'\n",
    "# \\' - 작은 따옴표 인식 가능 \\ - escape 문자\n",
    "\"Python\\\"s favorite food is perl\"\n",
    "# \\\" - 큰 따옴표 인식 가능"
   ]
  },
  {
   "cell_type": "code",
   "execution_count": 24,
   "id": "bcce4987-bd9f-46e8-a6e1-13f7815a2a4e",
   "metadata": {},
   "outputs": [
    {
     "name": "stdout",
     "output_type": "stream",
     "text": [
      "Life is short, \n",
      "You need python\n"
     ]
    }
   ],
   "source": [
    "a = \"Life is short, \\nYou need python\" # \\n - 메타 문자(줄 개행)\n",
    "print(a)"
   ]
  },
  {
   "cell_type": "code",
   "execution_count": 25,
   "id": "e46e7297-f7e5-48a6-b548-aa64fac65f99",
   "metadata": {},
   "outputs": [
    {
     "name": "stdout",
     "output_type": "stream",
     "text": [
      "Life is short,\n",
      "You need python\n"
     ]
    }
   ],
   "source": [
    "b = \"\"\"Life is short,\n",
    "You need python\"\"\"  # \"\"\" 또는 ''' 모두 줄개행 가능\n",
    "print(b)"
   ]
  },
  {
   "cell_type": "code",
   "execution_count": 26,
   "id": "60fdf40a-e5a8-4b6f-ae82-4f185cd69f21",
   "metadata": {},
   "outputs": [
    {
     "data": {
      "text/plain": [
       "'python is  fun!'"
      ]
     },
     "execution_count": 26,
     "metadata": {},
     "output_type": "execute_result"
    }
   ],
   "source": [
    "\"python\" + \" is \" + \" fun!\""
   ]
  },
  {
   "cell_type": "code",
   "execution_count": 27,
   "id": "e13bdec8-440d-4c34-8bb7-dee79bff2b95",
   "metadata": {},
   "outputs": [
    {
     "data": {
      "text/plain": [
       "'pythonpythonpython'"
      ]
     },
     "execution_count": 27,
     "metadata": {},
     "output_type": "execute_result"
    }
   ],
   "source": [
    "\"python\" * 3"
   ]
  },
  {
   "cell_type": "code",
   "execution_count": 28,
   "id": "feaed7ee-dd03-47cc-be2f-e8013848d569",
   "metadata": {},
   "outputs": [
    {
     "name": "stdout",
     "output_type": "stream",
     "text": [
      "==============================\n",
      "재미있는 파이썬 공부!\n",
      "==============================\n"
     ]
    }
   ],
   "source": [
    "print(\"=\" * 30)\n",
    "print(\"재미있는 파이썬 공부!\")\n",
    "print(\"=\" * 30)"
   ]
  },
  {
   "cell_type": "code",
   "execution_count": 31,
   "id": "c73b56ce-9ad7-45cd-a475-b853e6c06435",
   "metadata": {},
   "outputs": [
    {
     "data": {
      "text/plain": [
       "5"
      ]
     },
     "execution_count": 31,
     "metadata": {},
     "output_type": "execute_result"
    }
   ],
   "source": [
    "a = \"가나다라마\"\n",
    "len(a)"
   ]
  },
  {
   "cell_type": "code",
   "execution_count": 32,
   "id": "869e64b1-cbe7-42b0-b637-a38ff1038616",
   "metadata": {},
   "outputs": [],
   "source": [
    "a = \"Life is too short, You need Python\""
   ]
  },
  {
   "cell_type": "code",
   "execution_count": 81,
   "id": "051df8ed-db8c-41ae-b0a3-b3a5ad598843",
   "metadata": {},
   "outputs": [
    {
     "name": "stdout",
     "output_type": "stream",
     "text": [
      "Python\n",
      "2747472738368 2747472738368\n",
      "Pyth 2747472738176 2747472738368\n"
     ]
    }
   ],
   "source": [
    "b = a[:]  # 문자열 전체 복사\n",
    "print(b)\n",
    "print(id(a), id(b))  # , 입력시 공백 한칸두고 둘다 출력\n",
    "# 문자열은 불변이라 주소 같음\n",
    "print(a[0:4], id(a[0:4]), id(a))"
   ]
  },
  {
   "cell_type": "code",
   "execution_count": 57,
   "id": "bd73af3b-af2a-4cf9-a0fa-431bbbab1506",
   "metadata": {},
   "outputs": [
    {
     "data": {
      "text/plain": [
       "'Life is too short, You need'"
      ]
     },
     "execution_count": 57,
     "metadata": {},
     "output_type": "execute_result"
    }
   ],
   "source": [
    "a[:-7]  # 0 ~ -8 까지"
   ]
  },
  {
   "cell_type": "code",
   "execution_count": 56,
   "id": "4662fb3a-6eaa-4118-90de-63032494c5a9",
   "metadata": {},
   "outputs": [
    {
     "data": {
      "text/plain": [
       "'Python'"
      ]
     },
     "execution_count": 56,
     "metadata": {},
     "output_type": "execute_result"
    }
   ],
   "source": [
    "a[-6:]  # -6 index ~ 끝까지"
   ]
  },
  {
   "cell_type": "code",
   "execution_count": 43,
   "id": "6c5f0f7b-e65b-446e-9b7d-3e00ccd909d7",
   "metadata": {},
   "outputs": [
    {
     "data": {
      "text/plain": [
       "'Life'"
      ]
     },
     "execution_count": 43,
     "metadata": {},
     "output_type": "execute_result"
    }
   ],
   "source": [
    "a[0:4]  # 0, 1, 2, 3 (4는 포함 X)"
   ]
  },
  {
   "cell_type": "code",
   "execution_count": 40,
   "id": "da3024bd-785f-4a3c-8fee-531c4eb5871f",
   "metadata": {},
   "outputs": [
    {
     "data": {
      "text/plain": [
       "'n'"
      ]
     },
     "execution_count": 40,
     "metadata": {},
     "output_type": "execute_result"
    }
   ],
   "source": [
    "a[-1]  # 음수 - 오른쪽 끝부터 찾음"
   ]
  },
  {
   "cell_type": "code",
   "execution_count": 35,
   "id": "42b8efb7-6927-427d-884f-6593621c3904",
   "metadata": {},
   "outputs": [
    {
     "data": {
      "text/plain": [
       "'f'"
      ]
     },
     "execution_count": 35,
     "metadata": {},
     "output_type": "execute_result"
    }
   ],
   "source": [
    "a[2]  # 양수 - 왼쪽 끝부터 찾음"
   ]
  },
  {
   "cell_type": "code",
   "execution_count": 37,
   "id": "d3b654df-a938-4314-9e17-ca42f2135add",
   "metadata": {},
   "outputs": [
    {
     "ename": "TypeError",
     "evalue": "'str' object does not support item assignment",
     "output_type": "error",
     "traceback": [
      "\u001b[1;31m---------------------------------------------------------------------------\u001b[0m",
      "\u001b[1;31mTypeError\u001b[0m                                 Traceback (most recent call last)",
      "Cell \u001b[1;32mIn[37], line 1\u001b[0m\n\u001b[1;32m----> 1\u001b[0m \u001b[43ma\u001b[49m\u001b[43m[\u001b[49m\u001b[38;5;241;43m2\u001b[39;49m\u001b[43m]\u001b[49m \u001b[38;5;241m=\u001b[39m \u001b[38;5;124m'\u001b[39m\u001b[38;5;124mF\u001b[39m\u001b[38;5;124m'\u001b[39m  \u001b[38;5;66;03m# 문자열은 불변(final)\u001b[39;00m\n",
      "\u001b[1;31mTypeError\u001b[0m: 'str' object does not support item assignment"
     ]
    }
   ],
   "source": [
    "a[2] = 'F'  # 문자열은 불변(final)이라서 오류"
   ]
  },
  {
   "cell_type": "code",
   "execution_count": 39,
   "id": "8f91fb5c-c3d9-4256-9924-142ff0985080",
   "metadata": {},
   "outputs": [
    {
     "name": "stdout",
     "output_type": "stream",
     "text": [
      "140705267205040\n",
      "2747473812176\n",
      "ABCDEF\n"
     ]
    }
   ],
   "source": [
    "b = \"ABC\"  # id(..) - 자원 주소 조회 함수\n",
    "print(id(b))\n",
    "\n",
    "b += \"DEF\"\n",
    "print(id(b))\n",
    "# 문자열은 불변이라 추가하면 새로운 문자열 객체가 생성돼 주소가 바뀜\n",
    "print(b)"
   ]
  },
  {
   "cell_type": "code",
   "execution_count": 79,
   "id": "f1c6f443-1c9e-4c01-be6a-e398d5569ea7",
   "metadata": {},
   "outputs": [
    {
     "name": "stdout",
     "output_type": "stream",
     "text": [
      "Python\n"
     ]
    }
   ],
   "source": [
    "a = \"Pithon\"  # Python으로 변경하시오\n",
    "b = a[0] + \"y\" + a[2:]\n",
    "print(b)"
   ]
  },
  {
   "cell_type": "code",
   "execution_count": 89,
   "id": "205f05f1-c6be-48ee-b51f-b5bd24931366",
   "metadata": {},
   "outputs": [
    {
     "data": {
      "text/plain": [
       "'I eat 3 apples'"
      ]
     },
     "execution_count": 89,
     "metadata": {},
     "output_type": "execute_result"
    }
   ],
   "source": [
    "\"I eat %d apples\" % 3"
   ]
  },
  {
   "cell_type": "code",
   "execution_count": 90,
   "id": "a2d0ee77-7c50-4399-9eea-b735e44d49bc",
   "metadata": {},
   "outputs": [
    {
     "data": {
      "text/plain": [
       "'I eat three apples'"
      ]
     },
     "execution_count": 90,
     "metadata": {},
     "output_type": "execute_result"
    }
   ],
   "source": [
    "\"I eat %s apples\" % \"three\""
   ]
  },
  {
   "cell_type": "code",
   "execution_count": 91,
   "id": "ef8b4c4a-5f6d-4f6d-93f3-55eb6d2ebd82",
   "metadata": {},
   "outputs": [
    {
     "data": {
      "text/plain": [
       "'I eat 3 apples and 5 breads'"
      ]
     },
     "execution_count": 91,
     "metadata": {},
     "output_type": "execute_result"
    }
   ],
   "source": [
    "\"I eat %d apples and %d breads\" % (3, 5)\n",
    "# JAVA의 String.format(...)과 유사"
   ]
  },
  {
   "cell_type": "code",
   "execution_count": 97,
   "id": "ccc70ed9-2547-4368-9d7a-548b94175fae",
   "metadata": {},
   "outputs": [
    {
     "data": {
      "text/plain": [
       "'loading is now 78%'"
      ]
     },
     "execution_count": 97,
     "metadata": {},
     "output_type": "execute_result"
    }
   ],
   "source": [
    "\"loading is now %d%%\" % 78\n",
    "# % : 형식화를 위한 문법적 문자로 인식하므로 %% 써야 %문자로 인식"
   ]
  },
  {
   "cell_type": "code",
   "execution_count": 101,
   "id": "75bafac1-0d66-421e-aa9c-2b060e1f8bb5",
   "metadata": {},
   "outputs": [
    {
     "data": {
      "text/plain": [
       "'ABC       DEFXYZ'"
      ]
     },
     "execution_count": 101,
     "metadata": {},
     "output_type": "execute_result"
    }
   ],
   "source": [
    "\"ABC%10sXYZ\" % \"DEF\""
   ]
  },
  {
   "cell_type": "code",
   "execution_count": 102,
   "id": "59c1611f-e888-4de9-9ff7-1b4cd026e94b",
   "metadata": {},
   "outputs": [
    {
     "data": {
      "text/plain": [
       "'ABCDEF       XYZ'"
      ]
     },
     "execution_count": 102,
     "metadata": {},
     "output_type": "execute_result"
    }
   ],
   "source": [
    "\"ABC%-10sXYZ\" % \"DEF\""
   ]
  },
  {
   "cell_type": "code",
   "execution_count": 104,
   "id": "a6476d7f-af5c-431d-bf81-bd79433a1462",
   "metadata": {},
   "outputs": [
    {
     "data": {
      "text/plain": [
       "'   12.1235'"
      ]
     },
     "execution_count": 104,
     "metadata": {},
     "output_type": "execute_result"
    }
   ],
   "source": [
    "\"%10.4f\" % 12.12345678"
   ]
  },
  {
   "cell_type": "code",
   "execution_count": 112,
   "id": "fda5069b-c90d-404e-b06f-c331698b2348",
   "metadata": {},
   "outputs": [
    {
     "data": {
      "text/plain": [
       "'12341234.1234'"
      ]
     },
     "execution_count": 112,
     "metadata": {},
     "output_type": "execute_result"
    }
   ],
   "source": [
    "\"%0.4f\" % 12341234.12345678\n",
    "\"%.4f\" % 12341234.12344444\n",
    "# 소수점은 반올림"
   ]
  },
  {
   "cell_type": "code",
   "execution_count": 123,
   "id": "239bc70d-3ca3-49cc-8ce0-5ec9552e86d1",
   "metadata": {},
   "outputs": [
    {
     "data": {
      "text/plain": [
       "'I eat 1,2 apples and five breads'"
      ]
     },
     "execution_count": 123,
     "metadata": {},
     "output_type": "execute_result"
    }
   ],
   "source": [
    "\"I eat {0} apples\".format(3)\n",
    "# 'I eat 3 apples'\n",
    "\"I eat {0} apples\".format(\"three\")\n",
    "# 'I eat three appesl'\n",
    "\"I eat {0} apples and {1} breads\".format(3, \"five\")\n",
    "# 'I eat 3 apples and five breads'\n",
    "\"I eat {num1} apples and {num2} breads\".format(num2=\"two\", num1=4)\n",
    "# 'I eat 4 apples and two breads'\n",
    "\"I eat {0},{1} apples and {num} breads\".format(1, 2, num=\"five\")"
   ]
  },
  {
   "cell_type": "code",
   "execution_count": 124,
   "id": "44b15636-68a0-40e8-9101-f749a57a41c9",
   "metadata": {},
   "outputs": [
    {
     "data": {
      "text/plain": [
       "'안녕        '"
      ]
     },
     "execution_count": 124,
     "metadata": {},
     "output_type": "execute_result"
    }
   ],
   "source": [
    "\"{0:<10}\".format(\"안녕\")  # 왼쪽 정렬"
   ]
  },
  {
   "cell_type": "code",
   "execution_count": 130,
   "id": "fb2d9a05-5b1c-4d05-9ec1-9617620db03e",
   "metadata": {},
   "outputs": [
    {
     "data": {
      "text/plain": [
       "'안녕!!!!!!!!'"
      ]
     },
     "execution_count": 130,
     "metadata": {},
     "output_type": "execute_result"
    }
   ],
   "source": [
    "\"{0:!<10}\".format(\"안녕\")  # 공백을 !로 채워 넣음"
   ]
  },
  {
   "cell_type": "code",
   "execution_count": 129,
   "id": "e5c1c585-1b3d-414b-a179-dd9b839e0c37",
   "metadata": {},
   "outputs": [
    {
     "data": {
      "text/plain": [
       "'        안녕'"
      ]
     },
     "execution_count": 129,
     "metadata": {},
     "output_type": "execute_result"
    }
   ],
   "source": [
    "\"{0:>10}\".format(\"안녕\")  # 오른쪽 정렬"
   ]
  },
  {
   "cell_type": "code",
   "execution_count": 126,
   "id": "c01efec2-0b26-4862-9605-66c13f35c078",
   "metadata": {},
   "outputs": [
    {
     "data": {
      "text/plain": [
       "'    안녕    '"
      ]
     },
     "execution_count": 126,
     "metadata": {},
     "output_type": "execute_result"
    }
   ],
   "source": [
    "\"{0:^10}\".format(\"안녕\")  # 가운데 정렬"
   ]
  },
  {
   "cell_type": "code",
   "execution_count": 127,
   "id": "9195cc30-685b-407c-b9bc-427bec0494be",
   "metadata": {},
   "outputs": [
    {
     "data": {
      "text/plain": [
       "'****안녕****'"
      ]
     },
     "execution_count": 127,
     "metadata": {},
     "output_type": "execute_result"
    }
   ],
   "source": [
    "\"{0:*^10}\".format(\"안녕\")  # 공백을 *로 채워 넣음"
   ]
  },
  {
   "cell_type": "code",
   "execution_count": 131,
   "id": "854dfae8-904c-4323-8856-a2199c10cec2",
   "metadata": {},
   "outputs": [
    {
     "data": {
      "text/plain": [
       "'100.123'"
      ]
     },
     "execution_count": 131,
     "metadata": {},
     "output_type": "execute_result"
    }
   ],
   "source": [
    "\"{0:0.3f}\".format(100.12345678)"
   ]
  },
  {
   "cell_type": "code",
   "execution_count": 133,
   "id": "67a5f32d-e888-420c-b88c-ae28b58a5cae",
   "metadata": {},
   "outputs": [
    {
     "data": {
      "text/plain": [
       "'{   number1  } - 100'"
      ]
     },
     "execution_count": 133,
     "metadata": {},
     "output_type": "execute_result"
    }
   ],
   "source": [
    "\"{{   number1  }} - {0}\".format(100)\n",
    "# { }를 문자로 인식하려면 {{ }}"
   ]
  },
  {
   "cell_type": "code",
   "execution_count": 136,
   "id": "dc8766a8-907c-4166-8d7d-6dcf7c49bf6a",
   "metadata": {},
   "outputs": [
    {
     "data": {
      "text/plain": [
       "'num1=10, num2=20 result=30'"
      ]
     },
     "execution_count": 136,
     "metadata": {},
     "output_type": "execute_result"
    }
   ],
   "source": [
    "num1 = 10\n",
    "num2 = 20\n",
    "f\"num1={num1}, num2={num2} result={num1 + num2}\" # \" 말고 '도 가능\n",
    "# Python 3.6 버전부터 도입된 문법"
   ]
  },
  {
   "cell_type": "code",
   "execution_count": 148,
   "id": "b2e3edd1-6196-4570-96db-1d8eb0fa39b8",
   "metadata": {},
   "outputs": [
    {
     "data": {
      "text/plain": [
       "'!!!!안녕!!!!'"
      ]
     },
     "execution_count": 148,
     "metadata": {},
     "output_type": "execute_result"
    }
   ],
   "source": [
    "f\"{'안녕' : <10}\"\n",
    "# '안녕        '\n",
    "f\"{'안녕' : >10}\"\n",
    "# '        안녕'\n",
    "f\"{'안녕' : ^10}\"\n",
    "# '    안녕    '\n",
    "f\"{'안녕' :!^10}\""
   ]
  },
  {
   "cell_type": "code",
   "execution_count": 150,
   "id": "028e32e7-bf5c-42c7-a229-6a70ba1f5edd",
   "metadata": {},
   "outputs": [],
   "source": [
    "a = \"Life is too short, You need Python.\""
   ]
  },
  {
   "cell_type": "code",
   "execution_count": 154,
   "id": "99f2e34b-b09a-4aa3-b8ef-a2f91d42d79d",
   "metadata": {},
   "outputs": [
    {
     "data": {
      "text/plain": [
       "-1"
      ]
     },
     "execution_count": 154,
     "metadata": {},
     "output_type": "execute_result"
    }
   ],
   "source": [
    "a.find(\"too\")\n",
    "# 8\n",
    "a.find(\"tooo\")\n",
    "# -1 (발견 못해서)"
   ]
  },
  {
   "cell_type": "code",
   "execution_count": 155,
   "id": "41b8aaf5-c583-4da7-b61f-cf2b06264e89",
   "metadata": {},
   "outputs": [
    {
     "ename": "ValueError",
     "evalue": "substring not found",
     "output_type": "error",
     "traceback": [
      "\u001b[1;31m---------------------------------------------------------------------------\u001b[0m",
      "\u001b[1;31mValueError\u001b[0m                                Traceback (most recent call last)",
      "Cell \u001b[1;32mIn[155], line 1\u001b[0m\n\u001b[1;32m----> 1\u001b[0m \u001b[43ma\u001b[49m\u001b[38;5;241;43m.\u001b[39;49m\u001b[43mindex\u001b[49m\u001b[43m(\u001b[49m\u001b[38;5;124;43m\"\u001b[39;49m\u001b[38;5;124;43mtooo\u001b[39;49m\u001b[38;5;124;43m\"\u001b[39;49m\u001b[43m)\u001b[49m\n",
      "\u001b[1;31mValueError\u001b[0m: substring not found"
     ]
    }
   ],
   "source": [
    "a.index(\"tooo\")"
   ]
  }
 ],
 "metadata": {
  "kernelspec": {
   "display_name": "Python 3 (ipykernel)",
   "language": "python",
   "name": "python3"
  },
  "language_info": {
   "codemirror_mode": {
    "name": "ipython",
    "version": 3
   },
   "file_extension": ".py",
   "mimetype": "text/x-python",
   "name": "python",
   "nbconvert_exporter": "python",
   "pygments_lexer": "ipython3",
   "version": "3.12.7"
  }
 },
 "nbformat": 4,
 "nbformat_minor": 5
}
