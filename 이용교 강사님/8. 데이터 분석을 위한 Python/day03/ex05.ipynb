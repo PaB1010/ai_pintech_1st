{
 "cells": [
  {
   "cell_type": "code",
   "execution_count": null,
   "id": "fe7bbc0c-812d-4a8e-a744-56ea2f70eaaf",
   "metadata": {},
   "outputs": [],
   "source": [
    "# 사용자 입출력 - print()"
   ]
  },
  {
   "cell_type": "code",
   "execution_count": 2,
   "id": "bfc3eaf6-82ad-4b9c-a870-6ac8201dd3cb",
   "metadata": {},
   "outputs": [
    {
     "name": "stdout",
     "output_type": "stream",
     "text": [
      "ABCDEFGHI\n"
     ]
    }
   ],
   "source": [
    "# 문자열 결합 + 연산자, 문자열끼리만 가능\n",
    "print('ABC' + 'DEF' + 'GHI')"
   ]
  },
  {
   "cell_type": "code",
   "execution_count": 10,
   "id": "099d7a12-6a07-4300-b209-52051d9891c0",
   "metadata": {},
   "outputs": [
    {
     "name": "stdout",
     "output_type": "stream",
     "text": [
      "ABCDEFGHI\n"
     ]
    }
   ],
   "source": [
    "# 문자열 결합, + 연산자 사용하지 않아도 결합해서 출력\n",
    "print('ABC' 'DEF''GHI')"
   ]
  },
  {
   "cell_type": "code",
   "execution_count": 7,
   "id": "a76fa3d9-4149-4f5d-96ab-2baef0e6a448",
   "metadata": {},
   "outputs": [
    {
     "name": "stdout",
     "output_type": "stream",
     "text": [
      "ABC DEF GHI\n"
     ]
    }
   ],
   "source": [
    "# , 사용시 문자열을 공백으로 띄워서 결합\n",
    "print('ABC', 'DEF', 'GHI')"
   ]
  },
  {
   "cell_type": "code",
   "execution_count": 11,
   "id": "043b51ae-6916-41c6-a598-e7efcab4f598",
   "metadata": {},
   "outputs": [
    {
     "name": "stdout",
     "output_type": "stream",
     "text": [
      "ABC\n",
      "DEF\n",
      "GHI\n"
     ]
    }
   ],
   "source": [
    "# end : 기본 값인 \\n\n",
    "# 'ABC\\n' 'DEF\\n' 'GHI\\n'\n",
    "print('ABC')\n",
    "print('DEF')\n",
    "print('GHI')"
   ]
  },
  {
   "cell_type": "code",
   "execution_count": 14,
   "id": "eaf2648c-f984-45c4-9488-9f1d4f48e31f",
   "metadata": {
    "scrolled": true
   },
   "outputs": [
    {
     "name": "stdout",
     "output_type": "stream",
     "text": [
      "ABC#DEF\tGHI\n"
     ]
    }
   ],
   "source": [
    "print('ABC', end='#')\n",
    "print('DEF', end='\\t')\n",
    "print('GHI')"
   ]
  }
 ],
 "metadata": {
  "kernelspec": {
   "display_name": "Python 3 (ipykernel)",
   "language": "python",
   "name": "python3"
  },
  "language_info": {
   "codemirror_mode": {
    "name": "ipython",
    "version": 3
   },
   "file_extension": ".py",
   "mimetype": "text/x-python",
   "name": "python",
   "nbconvert_exporter": "python",
   "pygments_lexer": "ipython3",
   "version": "3.12.7"
  }
 },
 "nbformat": 4,
 "nbformat_minor": 5
}
