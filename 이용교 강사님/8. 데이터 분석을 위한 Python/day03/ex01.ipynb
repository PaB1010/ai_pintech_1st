{
 "cells": [
  {
   "cell_type": "code",
   "execution_count": null,
   "id": "8d9cd236-c5db-4f0a-a746-2f65befc6289",
   "metadata": {},
   "outputs": [],
   "source": [
    "# 제어문 (if문)"
   ]
  },
  {
   "cell_type": "code",
   "execution_count": 3,
   "id": "a78cf7b8-0fe3-4c8a-8c03-94ec4a12a70a",
   "metadata": {},
   "outputs": [
    {
     "name": "stdout",
     "output_type": "stream",
     "text": [
      "중학생\n"
     ]
    }
   ],
   "source": [
    "age = 16\n",
    "\n",
    "if age < 8 :\n",
    "    print(\"유치원\")\n",
    "    \n",
    "elif age < 14 :\n",
    "    print(\"초등학생\")\n",
    "\n",
    "elif age < 17 :\n",
    "    print(\"중학생\")\n",
    "\n",
    "elif age < 20 :\n",
    "    print(\"고등학생\")\n",
    "\n",
    "else :\n",
    "    print(\"성인\")"
   ]
  },
  {
   "cell_type": "code",
   "execution_count": 4,
   "id": "47d74122-b080-49f4-9f1d-b3c0c3e8c01d",
   "metadata": {},
   "outputs": [],
   "source": [
    "# in & not in"
   ]
  },
  {
   "cell_type": "code",
   "execution_count": 6,
   "id": "79ba83f3-cb09-48e5-bc20-a4edfd68bfb9",
   "metadata": {},
   "outputs": [
    {
     "name": "stdout",
     "output_type": "stream",
     "text": [
      "사과가 있습니다.\n"
     ]
    }
   ],
   "source": [
    "fruits = ['사과', '오렌지', '멜론']\n",
    "\n",
    "#사과가 포함되어 있는지 체크\n",
    "if '사과' in fruits :\n",
    "    print('사과가 있습니다.')\n",
    "\n",
    "else :\n",
    "    print('사과가 없습니다.')"
   ]
  },
  {
   "cell_type": "code",
   "execution_count": 7,
   "id": "82a4ab29-d48a-4e5c-b72a-6622a1e4dff7",
   "metadata": {},
   "outputs": [
    {
     "name": "stdout",
     "output_type": "stream",
     "text": [
      "망고가 없습니다.\n"
     ]
    }
   ],
   "source": [
    "fruits = ['사과', '오렌지', '멜론']\n",
    "\n",
    "#망고가 포함되어 있지 않은지 체크 (부정연산)\n",
    "if '망고' not in fruits :\n",
    "    print('망고가 없습니다.')\n",
    "\n",
    "else :\n",
    "    print('망고가 있습니다.')"
   ]
  },
  {
   "cell_type": "code",
   "execution_count": null,
   "id": "d749075e-0fa7-466c-80ed-ead188dc0f48",
   "metadata": {},
   "outputs": [],
   "source": [
    "# pass"
   ]
  },
  {
   "cell_type": "code",
   "execution_count": 14,
   "id": "18794cbb-33be-4473-8adf-c9bcfbc07f64",
   "metadata": {},
   "outputs": [
    {
     "ename": "SyntaxError",
     "evalue": "incomplete input (1072973527.py, line 4)",
     "output_type": "error",
     "traceback": [
      "\u001b[1;36m  Cell \u001b[1;32mIn[14], line 4\u001b[1;36m\u001b[0m\n\u001b[1;33m    # 아무것도 안한다고 코드 입력이 없으면 오류\u001b[0m\n\u001b[1;37m                             ^\u001b[0m\n\u001b[1;31mSyntaxError\u001b[0m\u001b[1;31m:\u001b[0m incomplete input\n"
     ]
    }
   ],
   "source": [
    "num = 10\n",
    "\n",
    "if num > 5 and num < 20 :\n",
    "    # 아무것도 안한다고 코드 입력이 없으면 오류"
   ]
  },
  {
   "cell_type": "code",
   "execution_count": 15,
   "id": "dc738335-31c5-440e-af30-e834da40b844",
   "metadata": {},
   "outputs": [],
   "source": [
    "num = 10\n",
    "\n",
    "if num > 5 and num < 20 :\n",
    "    pass  # 아무것도 안함"
   ]
  },
  {
   "cell_type": "code",
   "execution_count": 16,
   "id": "0732ce75-4732-4c24-b33d-6d4dacfd4a60",
   "metadata": {},
   "outputs": [],
   "source": [
    "if num > 5 and num < 20 : pass\n",
    "    # 한줄 입력 가능"
   ]
  },
  {
   "cell_type": "code",
   "execution_count": 17,
   "id": "ddd837c0-558f-4e68-803b-ce34e777f3c9",
   "metadata": {},
   "outputs": [],
   "source": [
    "# 조건부 표현식"
   ]
  },
  {
   "cell_type": "code",
   "execution_count": 19,
   "id": "63809013-a283-40ac-bcc1-0c73e8c97b30",
   "metadata": {},
   "outputs": [
    {
     "name": "stdout",
     "output_type": "stream",
     "text": [
      "합격\n"
     ]
    }
   ],
   "source": [
    "score = 60\n",
    "\n",
    "result = '합격' if score >= 60 else '불합격'\n",
    "\n",
    "print(result)"
   ]
  }
 ],
 "metadata": {
  "kernelspec": {
   "display_name": "Python 3 (ipykernel)",
   "language": "python",
   "name": "python3"
  },
  "language_info": {
   "codemirror_mode": {
    "name": "ipython",
    "version": 3
   },
   "file_extension": ".py",
   "mimetype": "text/x-python",
   "name": "python",
   "nbconvert_exporter": "python",
   "pygments_lexer": "ipython3",
   "version": "3.12.7"
  }
 },
 "nbformat": 4,
 "nbformat_minor": 5
}
