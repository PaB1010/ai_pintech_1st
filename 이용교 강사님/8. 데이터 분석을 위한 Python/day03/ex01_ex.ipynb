{
 "cells": [
  {
   "cell_type": "code",
   "execution_count": 2,
   "id": "cf590ee2-ad31-4a26-bb06-576d6d4fa7ee",
   "metadata": {},
   "outputs": [],
   "source": [
    "# if문 강의 자료 예제"
   ]
  },
  {
   "cell_type": "code",
   "execution_count": null,
   "id": "1ff8031d-32e9-4375-bad9-2f3d3d256d62",
   "metadata": {},
   "outputs": [],
   "source": [
    "# 돈이 있으면 택시를 타고 가고, 돈이 없으면 걸어간다."
   ]
  },
  {
   "cell_type": "code",
   "execution_count": 4,
   "id": "403eff5f-4984-458a-b18d-6d6f427342e6",
   "metadata": {},
   "outputs": [
    {
     "name": "stdout",
     "output_type": "stream",
     "text": [
      "택시를 타고 가라\n"
     ]
    }
   ],
   "source": [
    "money = True\n",
    "\n",
    "if money : \n",
    "    print('택시를 타고 가라')\n",
    "\n",
    "else :\n",
    "    print('걸어 가라')"
   ]
  },
  {
   "cell_type": "code",
   "execution_count": 5,
   "id": "b933ffeb-e22e-408c-b33d-3520a65498b1",
   "metadata": {},
   "outputs": [],
   "source": [
    "# 만약 3000원 이상의 돈을 가지고 있으면 택시를 타고 가고, 그렇지 않으면 걸어가라."
   ]
  },
  {
   "cell_type": "code",
   "execution_count": 6,
   "id": "785832b7-4fe8-4638-a632-84d3347e5542",
   "metadata": {},
   "outputs": [
    {
     "name": "stdout",
     "output_type": "stream",
     "text": [
      "걸어가라\n"
     ]
    }
   ],
   "source": [
    "money = 2000\n",
    "\n",
    "if money >= 3000 :\n",
    "    print('택시를 타고 가라')\n",
    "\n",
    "else :\n",
    "    print('걸어가라')"
   ]
  },
  {
   "cell_type": "code",
   "execution_count": 7,
   "id": "13adacb1-1534-4fab-ba45-1beda8d7c217",
   "metadata": {},
   "outputs": [],
   "source": [
    "# 돈이 3000원 이상 있거나 카드가 있다면 택시를 타고 가고, 그렇지 않으면 걸어가라."
   ]
  },
  {
   "cell_type": "code",
   "execution_count": 8,
   "id": "5dbddd18-31e6-434c-88c8-d4f93972dc16",
   "metadata": {},
   "outputs": [
    {
     "name": "stdout",
     "output_type": "stream",
     "text": [
      "택시를 타고 가라\n"
     ]
    }
   ],
   "source": [
    "money = 2000\n",
    "\n",
    "card = True\n",
    "\n",
    "if money >= 3000 or card :\n",
    "    print('택시를 타고 가라')\n",
    "\n",
    "else :\n",
    "    print('걸어 가라')"
   ]
  },
  {
   "cell_type": "code",
   "execution_count": null,
   "id": "0770a441-3f3f-45ea-b784-70b4ba833569",
   "metadata": {},
   "outputs": [],
   "source": [
    "# 만약 주머니에 돈이 있으면 택시를 타고 가고, 없으면 걸어가라."
   ]
  },
  {
   "cell_type": "code",
   "execution_count": 10,
   "id": "c0fcfc25-9c1a-42a3-93cb-8f781ce47490",
   "metadata": {},
   "outputs": [
    {
     "name": "stdout",
     "output_type": "stream",
     "text": [
      "택시를 타고 가라\n"
     ]
    }
   ],
   "source": [
    "pocket = ['paper', 'cellphone', 'money']\n",
    "\n",
    "if 'money' in pocket :\n",
    "    print('택시를 타고 가라')\n",
    "\n",
    "else : \n",
    "    print('걸어 가라')"
   ]
  },
  {
   "cell_type": "code",
   "execution_count": 11,
   "id": "6c7f03a6-4494-415d-b4ab-be94d864ff77",
   "metadata": {},
   "outputs": [],
   "source": [
    "# 주머니에 돈이 있으면 가만히 있고, 주머니에 돈이 없으면 카드를 꺼내라."
   ]
  },
  {
   "cell_type": "code",
   "execution_count": 12,
   "id": "09a2c796-4e95-4b75-b954-b5b1ca763c02",
   "metadata": {},
   "outputs": [],
   "source": [
    "pocket = ['paper', 'money', 'cellpheon']\n",
    "\n",
    "if 'money' in pocket :\n",
    "    pass\n",
    "\n",
    "else : \n",
    "    print('카드를 꺼내라')"
   ]
  }
 ],
 "metadata": {
  "kernelspec": {
   "display_name": "Python 3 (ipykernel)",
   "language": "python",
   "name": "python3"
  },
  "language_info": {
   "codemirror_mode": {
    "name": "ipython",
    "version": 3
   },
   "file_extension": ".py",
   "mimetype": "text/x-python",
   "name": "python",
   "nbconvert_exporter": "python",
   "pygments_lexer": "ipython3",
   "version": "3.12.7"
  }
 },
 "nbformat": 4,
 "nbformat_minor": 5
}
