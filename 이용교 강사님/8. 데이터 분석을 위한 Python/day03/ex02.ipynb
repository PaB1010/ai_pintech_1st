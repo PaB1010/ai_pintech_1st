{
 "cells": [
  {
   "cell_type": "code",
   "execution_count": 2,
   "id": "56e28845-38e4-414c-a381-04bf7f480059",
   "metadata": {},
   "outputs": [],
   "source": [
    "# 제어문 (while문)"
   ]
  },
  {
   "cell_type": "code",
   "execution_count": null,
   "id": "38c35017-3761-4ecc-974c-f80b444a6582",
   "metadata": {},
   "outputs": [],
   "source": [
    "# 무한 루프 - while True"
   ]
  },
  {
   "cell_type": "code",
   "execution_count": null,
   "id": "7c587737-5132-45d8-adf0-ecb8083581be",
   "metadata": {},
   "outputs": [],
   "source": [
    "# 예외 처리 - try except (예습)"
   ]
  },
  {
   "cell_type": "code",
   "execution_count": null,
   "id": "727edbe1-9dfa-43dc-8949-fc30cbc19f9b",
   "metadata": {},
   "outputs": [],
   "source": [
    "total = 0\n",
    "\n",
    "while True :\n",
    "    \n",
    "    num = input('숫자 입력 : ')\n",
    "\n",
    "    try : \n",
    "        # 문자열 숫자 -> 정수 숫자 형변환\n",
    "        total += int(num)\n",
    "        print('합계 : ', total)\n",
    "\n",
    "    except : \n",
    "        print('숫자 형식만 입력하세요.')"
   ]
  },
  {
   "cell_type": "code",
   "execution_count": null,
   "id": "bf4aa4be-be3c-4b00-9722-5c322fc3deec",
   "metadata": {},
   "outputs": [],
   "source": [
    "# break & continue"
   ]
  },
  {
   "cell_type": "code",
   "execution_count": 10,
   "id": "0bc0fcea-3871-4a93-82e4-e3009541443c",
   "metadata": {},
   "outputs": [
    {
     "name": "stdout",
     "output_type": "stream",
     "text": [
      "합계 :  625\n"
     ]
    }
   ],
   "source": [
    "total = 0\n",
    "num = 1\n",
    "\n",
    "while num <= 100 :\n",
    "\n",
    "    if num == 50 :\n",
    "        \n",
    "        break  # 반복 멈추기\n",
    "\n",
    "    if num % 2 == 0 : \n",
    "\n",
    "        num += 1\n",
    "        \n",
    "        # 현재 반복을 중단하고 새로 반복 시작(반복 건너뛰기)\n",
    "        continue\n",
    "\n",
    "    total += num\n",
    "    \n",
    "    # num++ // Python은 증가 감소 연산자 사용 불가\n",
    "    # ++num\n",
    "    num += 1\n",
    "\n",
    "print('합계 : ', total)"
   ]
  },
  {
   "cell_type": "code",
   "execution_count": null,
   "id": "0fea437e-7af0-4e7c-b39c-e65658edfd1e",
   "metadata": {},
   "outputs": [],
   "source": []
  }
 ],
 "metadata": {
  "kernelspec": {
   "display_name": "Python 3 (ipykernel)",
   "language": "python",
   "name": "python3"
  },
  "language_info": {
   "codemirror_mode": {
    "name": "ipython",
    "version": 3
   },
   "file_extension": ".py",
   "mimetype": "text/x-python",
   "name": "python",
   "nbconvert_exporter": "python",
   "pygments_lexer": "ipython3",
   "version": "3.12.7"
  }
 },
 "nbformat": 4,
 "nbformat_minor": 5
}
