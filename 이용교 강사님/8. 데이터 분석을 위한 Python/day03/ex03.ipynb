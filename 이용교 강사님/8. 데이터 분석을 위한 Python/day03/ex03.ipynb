{
 "cells": [
  {
   "cell_type": "code",
   "execution_count": 8,
   "id": "e2da1e1d-73da-4622-b118-9478de8bed1a",
   "metadata": {},
   "outputs": [],
   "source": [
    "# 제어문 (for문)"
   ]
  },
  {
   "cell_type": "code",
   "execution_count": null,
   "id": "b26da0c3-62fd-4f41-ba6d-090df8be7461",
   "metadata": {},
   "outputs": [],
   "source": [
    "# Tuple - 변수와 동일하게 할당하여 사용하는 법"
   ]
  },
  {
   "cell_type": "code",
   "execution_count": 10,
   "id": "7e67e012-e230-4bed-9e55-752e1fcaa9e4",
   "metadata": {},
   "outputs": [
    {
     "name": "stdout",
     "output_type": "stream",
     "text": [
      "사과 apple\n",
      "오렌지 orange\n",
      "멜론 melon\n",
      "망고 mango\n"
     ]
    }
   ],
   "source": [
    "fruits = [('사과', 'apple'), ('오렌지', 'orange'), ('멜론', 'melon'), ('망고', 'mango')]\n",
    "\n",
    "# Tuple은 () 생략 가능\n",
    "for title, item in frtuis :\n",
    "    print (title, item)\n",
    "\n",
    "# for (title, item) in fruits :\n",
    "#    print (titme, item)\n",
    "\n",
    "# for item in fruits :\n",
    "#    print(item)"
   ]
  },
  {
   "cell_type": "code",
   "execution_count": null,
   "id": "2ea778d7-cf06-4775-ae0d-310de83882f2",
   "metadata": {},
   "outputs": [],
   "source": [
    "# 문자열도 반복 가능"
   ]
  },
  {
   "cell_type": "code",
   "execution_count": 5,
   "id": "1b73fd96-3c7e-4e0e-98be-7df52ff0d9f2",
   "metadata": {},
   "outputs": [
    {
     "name": "stdout",
     "output_type": "stream",
     "text": [
      "A\n",
      "B\n",
      "C\n"
     ]
    }
   ],
   "source": [
    "for item in 'ABC' :\n",
    "\n",
    "    print(item)"
   ]
  },
  {
   "cell_type": "code",
   "execution_count": null,
   "id": "6762163c-2d61-4e3f-a6aa-0ee54beeeaa8",
   "metadata": {},
   "outputs": [],
   "source": [
    "# range 함수"
   ]
  },
  {
   "cell_type": "code",
   "execution_count": 12,
   "id": "411204a1-b6ed-4cf1-b16d-2ebf98acaa96",
   "metadata": {},
   "outputs": [
    {
     "name": "stdout",
     "output_type": "stream",
     "text": [
      "0 반복\n",
      "1 반복\n",
      "2 반복\n",
      "3 반복\n",
      "4 반복\n",
      "5 반복\n",
      "6 반복\n",
      "7 반복\n",
      "8 반복\n",
      "9 반복\n"
     ]
    }
   ],
   "source": [
    "# 0~9\n",
    "for i in range(10) :\n",
    "    print(i, '반복')"
   ]
  },
  {
   "cell_type": "code",
   "execution_count": 14,
   "id": "a240914a-89c5-4a1e-a5bf-b4e820c41410",
   "metadata": {},
   "outputs": [
    {
     "name": "stdout",
     "output_type": "stream",
     "text": [
      "1 반복\n",
      "2 반복\n",
      "3 반복\n",
      "4 반복\n",
      "5 반복\n",
      "6 반복\n",
      "7 반복\n",
      "8 반복\n",
      "9 반복\n",
      "10 반복\n"
     ]
    }
   ],
   "source": [
    "# 1~10\n",
    "for i in range(1, 11) :\n",
    "    print(i, '반복')"
   ]
  },
  {
   "cell_type": "code",
   "execution_count": 15,
   "id": "f1e47860-b8a7-4e95-a12a-5640cae6a56b",
   "metadata": {},
   "outputs": [
    {
     "name": "stdout",
     "output_type": "stream",
     "text": [
      "1 반복\n",
      "3 반복\n",
      "5 반복\n",
      "7 반복\n",
      "9 반복\n"
     ]
    }
   ],
   "source": [
    "# 1, 3, 5, 7, 9\n",
    "for i in range(1, 11, 2) :\n",
    "    print(i, '반복')"
   ]
  },
  {
   "cell_type": "code",
   "execution_count": 16,
   "id": "82c7f60c-bb3c-4686-8d8c-dd9051401fb5",
   "metadata": {},
   "outputs": [],
   "source": [
    "# 중첩 for문 - 구구단 출력"
   ]
  },
  {
   "cell_type": "code",
   "execution_count": 20,
   "id": "b8705203-ca72-441e-9adf-3ac926eb8003",
   "metadata": {},
   "outputs": [
    {
     "name": "stdout",
     "output_type": "stream",
     "text": [
      "----- 2단 -----\n",
      "2 X 1 = 2\n",
      "2 X 2 = 4\n",
      "2 X 3 = 6\n",
      "2 X 4 = 8\n",
      "2 X 5 = 10\n",
      "2 X 6 = 12\n",
      "2 X 7 = 14\n",
      "2 X 8 = 16\n",
      "2 X 9 = 18\n",
      "----- 3단 -----\n",
      "3 X 1 = 3\n",
      "3 X 2 = 6\n",
      "3 X 3 = 9\n",
      "3 X 4 = 12\n",
      "3 X 5 = 15\n",
      "3 X 6 = 18\n",
      "3 X 7 = 21\n",
      "3 X 8 = 24\n",
      "3 X 9 = 27\n",
      "----- 4단 -----\n",
      "4 X 1 = 4\n",
      "4 X 2 = 8\n",
      "4 X 3 = 12\n",
      "4 X 4 = 16\n",
      "4 X 5 = 20\n",
      "4 X 6 = 24\n",
      "4 X 7 = 28\n",
      "4 X 8 = 32\n",
      "4 X 9 = 36\n",
      "----- 5단 -----\n",
      "5 X 1 = 5\n",
      "5 X 2 = 10\n",
      "5 X 3 = 15\n",
      "5 X 4 = 20\n",
      "5 X 5 = 25\n",
      "5 X 6 = 30\n",
      "5 X 7 = 35\n",
      "5 X 8 = 40\n",
      "5 X 9 = 45\n",
      "----- 6단 -----\n",
      "6 X 1 = 6\n",
      "6 X 2 = 12\n",
      "6 X 3 = 18\n",
      "6 X 4 = 24\n",
      "6 X 5 = 30\n",
      "6 X 6 = 36\n",
      "6 X 7 = 42\n",
      "6 X 8 = 48\n",
      "6 X 9 = 54\n",
      "----- 7단 -----\n",
      "7 X 1 = 7\n",
      "7 X 2 = 14\n",
      "7 X 3 = 21\n",
      "7 X 4 = 28\n",
      "7 X 5 = 35\n",
      "7 X 6 = 42\n",
      "7 X 7 = 49\n",
      "7 X 8 = 56\n",
      "7 X 9 = 63\n",
      "----- 8단 -----\n",
      "8 X 1 = 8\n",
      "8 X 2 = 16\n",
      "8 X 3 = 24\n",
      "8 X 4 = 32\n",
      "8 X 5 = 40\n",
      "8 X 6 = 48\n",
      "8 X 7 = 56\n",
      "8 X 8 = 64\n",
      "8 X 9 = 72\n",
      "----- 9단 -----\n",
      "9 X 1 = 9\n",
      "9 X 2 = 18\n",
      "9 X 3 = 27\n",
      "9 X 4 = 36\n",
      "9 X 5 = 45\n",
      "9 X 6 = 54\n",
      "9 X 7 = 63\n",
      "9 X 8 = 72\n",
      "9 X 9 = 81\n"
     ]
    }
   ],
   "source": [
    "# 2~9\n",
    "for i in range(2, 10) :\n",
    "    print('----- %d단 -----' % i)\n",
    "    \n",
    "    # 1~9\n",
    "    for j in range(1, 10) :\n",
    "        print(f'{i} X {j} = {i * j}')"
   ]
  },
  {
   "cell_type": "code",
   "execution_count": 21,
   "id": "445cdb23-f1ab-4caf-91e9-5ee472c38564",
   "metadata": {},
   "outputs": [],
   "source": [
    "# List Comprehension"
   ]
  },
  {
   "cell_type": "code",
   "execution_count": 23,
   "id": "7bb5871d-42c3-413a-aaa0-24b71cf7e9a5",
   "metadata": {},
   "outputs": [
    {
     "name": "stdout",
     "output_type": "stream",
     "text": [
      "[484, 361, 4, 25, 5929, 7396, 625]\n"
     ]
    }
   ],
   "source": [
    "nums = [22, 19, 2, 5, 77, 86, 25]\n",
    "\n",
    "result = []\n",
    "\n",
    "for i in nums :\n",
    "    result.append(i * i)\n",
    "\n",
    "print(result)"
   ]
  },
  {
   "cell_type": "code",
   "execution_count": 37,
   "id": "005ab8f8-1e01-4021-b9d8-83ecb9c78cc5",
   "metadata": {},
   "outputs": [
    {
     "name": "stdout",
     "output_type": "stream",
     "text": [
      "[484, 361, 4, 25, 5929, 7396, 625]\n",
      "[484, 4, 7396]\n"
     ]
    }
   ],
   "source": [
    "nums = [22, 19, 2, 5, 77, 86, 25]\n",
    "\n",
    "# List Comprehension 문법\n",
    "result = [ i * i for i in nums]\n",
    "\n",
    "# 짝수만 제곱\n",
    "result2 = [i * i for i in nums if i % 2 == 0]\n",
    "\n",
    "print(result)\n",
    "print(result2)"
   ]
  },
  {
   "cell_type": "code",
   "execution_count": 38,
   "id": "97a5ef58-cd72-4f94-aafc-718233639132",
   "metadata": {},
   "outputs": [
    {
     "name": "stdout",
     "output_type": "stream",
     "text": [
      "[22, 66, 110, 154, 198, 44, 132, 220, 308, 396, 66, 198, 330, 462, 594, 88, 264, 440, 616, 792, 110, 330, 550, 770, 990]\n"
     ]
    }
   ],
   "source": [
    "nums1 = [1, 2, 3, 4, 5, 6, 7, 8, 9, 10]\n",
    "\n",
    "nums2 = [11, 22, 33, 44, 55, 66, 77, 88, 99, 100]\n",
    "\n",
    "# result = [ i * j for i in nums1 for j in nums2]\n",
    "\n",
    "# result = [ i * j for i in nums1\n",
    "#                  for j in nums2]\n",
    "\n",
    "result = [i * j for i in nums1 if i % 2 == 0\n",
    "                for j in nums2 if j % 2 == 1]\n",
    "\n",
    "\n",
    "print(result)"
   ]
  }
 ],
 "metadata": {
  "kernelspec": {
   "display_name": "Python 3 (ipykernel)",
   "language": "python",
   "name": "python3"
  },
  "language_info": {
   "codemirror_mode": {
    "name": "ipython",
    "version": 3
   },
   "file_extension": ".py",
   "mimetype": "text/x-python",
   "name": "python",
   "nbconvert_exporter": "python",
   "pygments_lexer": "ipython3",
   "version": "3.12.7"
  }
 },
 "nbformat": 4,
 "nbformat_minor": 5
}
