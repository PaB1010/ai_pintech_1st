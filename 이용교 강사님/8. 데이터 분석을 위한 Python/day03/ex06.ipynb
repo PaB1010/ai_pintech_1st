{
 "cells": [
  {
   "cell_type": "code",
   "execution_count": 1,
   "id": "460a4cb0-5cc8-4d5a-a14c-d8d0f500dcd5",
   "metadata": {},
   "outputs": [],
   "source": [
    "# 파일 읽고 쓰기"
   ]
  },
  {
   "cell_type": "code",
   "execution_count": 2,
   "id": "45791753-fb4c-4d35-b107-91d0b4f2215e",
   "metadata": {},
   "outputs": [],
   "source": [
    "# 파일 생성 & 열기(open) & 쓰기(write)"
   ]
  },
  {
   "cell_type": "code",
   "execution_count": 7,
   "id": "2ccaaa7f-89f0-43e1-b0af-070171d6fede",
   "metadata": {},
   "outputs": [],
   "source": [
    "# r, w, a, 파일이 없으면 새로 생성\n",
    "f = open('D:/data.txt', 'w')\n",
    "\n",
    "# 1~10\n",
    "for i in range(1, 11) :\n",
    "    f.write('%d번째 줄입니다.\\n' % i)\n",
    "\n",
    "f.close()"
   ]
  },
  {
   "cell_type": "code",
   "execution_count": 8,
   "id": "530767fb-edde-4030-b5a3-46c2f7941635",
   "metadata": {},
   "outputs": [],
   "source": [
    "# 파일 전체 읽기(read)"
   ]
  },
  {
   "cell_type": "code",
   "execution_count": 12,
   "id": "aa4810a0-7022-404a-b397-d97ac64318eb",
   "metadata": {},
   "outputs": [
    {
     "name": "stdout",
     "output_type": "stream",
     "text": [
      "1번째 줄입니다.\n",
      "2번째 줄입니다.\n",
      "3번째 줄입니다.\n",
      "4번째 줄입니다.\n",
      "5번째 줄입니다.\n",
      "6번째 줄입니다.\n",
      "7번째 줄입니다.\n",
      "8번째 줄입니다.\n",
      "9번째 줄입니다.\n",
      "10번째 줄입니다.\n",
      "\n"
     ]
    }
   ],
   "source": [
    "f = open('D:/data.txt', 'r')\n",
    "\n",
    "# 전체 문자열 데이터 가져옴\n",
    "data = f.read()\n",
    "\n",
    "print(data)\n",
    "\n",
    "f.close()"
   ]
  },
  {
   "cell_type": "code",
   "execution_count": 13,
   "id": "d110c4dd-7c64-4523-b8a0-f6c582b061bf",
   "metadata": {},
   "outputs": [],
   "source": [
    "# 파일 행별로 읽기 (readLine)"
   ]
  },
  {
   "cell_type": "code",
   "execution_count": 22,
   "id": "d9fee051-bc9d-458b-80a0-a81493fb6cf9",
   "metadata": {},
   "outputs": [
    {
     "name": "stdout",
     "output_type": "stream",
     "text": [
      "1번째 줄입니다.\n",
      "2번째 줄입니다.\n",
      "3번째 줄입니다.\n",
      "4번째 줄입니다.\n",
      "5번째 줄입니다.\n",
      "6번째 줄입니다.\n",
      "7번째 줄입니다.\n",
      "8번째 줄입니다.\n",
      "9번째 줄입니다.\n",
      "10번째 줄입니다.\n"
     ]
    }
   ],
   "source": [
    "f = open('D:/data.txt', 'r')\n",
    "\n",
    "# 전체 문자열 데이터 가져옴\n",
    "while True : \n",
    "    line = f.readline()\n",
    "    print(line, end='')\n",
    "\n",
    "    # 다 읽었을때 빈 문자열 반환\n",
    "    if not line : break\n",
    "\n",
    "f.close()"
   ]
  }
 ],
 "metadata": {
  "kernelspec": {
   "display_name": "Python 3 (ipykernel)",
   "language": "python",
   "name": "python3"
  },
  "language_info": {
   "codemirror_mode": {
    "name": "ipython",
    "version": 3
   },
   "file_extension": ".py",
   "mimetype": "text/x-python",
   "name": "python",
   "nbconvert_exporter": "python",
   "pygments_lexer": "ipython3",
   "version": "3.12.7"
  }
 },
 "nbformat": 4,
 "nbformat_minor": 5
}
