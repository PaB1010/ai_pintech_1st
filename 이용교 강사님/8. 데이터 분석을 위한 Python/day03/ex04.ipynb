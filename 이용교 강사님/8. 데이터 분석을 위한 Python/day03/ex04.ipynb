{
 "cells": [
  {
   "cell_type": "code",
   "execution_count": 1,
   "id": "636c97ca-163f-4c86-9bcc-0a7fbb2193e0",
   "metadata": {},
   "outputs": [],
   "source": [
    "# 함수"
   ]
  },
  {
   "cell_type": "code",
   "execution_count": 2,
   "id": "75eb4e7d-414b-44da-a74d-296969089662",
   "metadata": {},
   "outputs": [],
   "source": [
    "def add(a, b) :\n",
    "    return a + b"
   ]
  },
  {
   "cell_type": "code",
   "execution_count": 4,
   "id": "dc3c1bb3-d5b5-4a6c-a5b8-f562aefe88ab",
   "metadata": {},
   "outputs": [
    {
     "data": {
      "text/plain": [
       "30"
      ]
     },
     "execution_count": 4,
     "metadata": {},
     "output_type": "execute_result"
    }
   ],
   "source": [
    "add(10, 20)"
   ]
  },
  {
   "cell_type": "code",
   "execution_count": null,
   "id": "a14e89ea-5ccb-4c1b-8813-2e8c780e40c3",
   "metadata": {},
   "outputs": [],
   "source": [
    "# 함수 정의만 하고 구현체 미룰때 - pass"
   ]
  },
  {
   "cell_type": "code",
   "execution_count": 5,
   "id": "196b02f0-db64-4ec0-a6a1-fe75404a4cf6",
   "metadata": {},
   "outputs": [],
   "source": [
    "def sub(a, b) :\n",
    "    pass"
   ]
  },
  {
   "cell_type": "code",
   "execution_count": 6,
   "id": "f7a60c63-aaca-44f2-a380-707d9f32d0d9",
   "metadata": {},
   "outputs": [],
   "source": [
    "# Tuple로 반환 - 반환값 4개가 아니라 Tuple 1개!"
   ]
  },
  {
   "cell_type": "code",
   "execution_count": 13,
   "id": "21bc3d20-bdf1-40f8-87fa-d396404820e1",
   "metadata": {},
   "outputs": [],
   "source": [
    "def calc(a, b) :\n",
    "#    return (a + b, a - b, a * b, a / b)\n",
    "    return a + b, a - b, a * b, a / b"
   ]
  },
  {
   "cell_type": "code",
   "execution_count": 10,
   "id": "d25e73c8-d656-4a5c-ab17-109e52e21aa3",
   "metadata": {},
   "outputs": [
    {
     "name": "stdout",
     "output_type": "stream",
     "text": [
      "(15, 5, 50, 2.0)\n"
     ]
    },
    {
     "data": {
      "text/plain": [
       "tuple"
      ]
     },
     "execution_count": 10,
     "metadata": {},
     "output_type": "execute_result"
    }
   ],
   "source": [
    "result = calc(10, 5)\n",
    "print(result)\n",
    "type(result)"
   ]
  },
  {
   "cell_type": "code",
   "execution_count": 14,
   "id": "ea9d582b-9de5-4a9b-8a1b-a752dbd70c29",
   "metadata": {},
   "outputs": [
    {
     "name": "stdout",
     "output_type": "stream",
     "text": [
      "15 5 50 2.0\n"
     ]
    }
   ],
   "source": [
    "# (r1, r2, r3, r4) = calc(10, 5)\n",
    "r1, r2, r3, r4 = calc(10, 5)\n",
    "\n",
    "print(r1, r2, r3, r4)"
   ]
  },
  {
   "cell_type": "code",
   "execution_count": 15,
   "id": "42fc1db5-a2b5-4fb0-aa39-7a9346b7f533",
   "metadata": {},
   "outputs": [],
   "source": [
    "# * = 가변 매개 변수 (Tuple로 값이 들어감)"
   ]
  },
  {
   "cell_type": "code",
   "execution_count": 41,
   "id": "4c7ddcf6-0b19-4d01-83e6-696e18b2aaa7",
   "metadata": {},
   "outputs": [],
   "source": [
    "# 첫번째 매개변수 = num,\n",
    "# 나머지 매개변수 = params\n",
    "def sum(num, *params) :\n",
    "\n",
    "    print('num : ', num, '/ params : ', params, ' / type : ',\n",
    "          type(params))\n",
    "    total = 0\n",
    "    \n",
    "    for i in params :\n",
    "        total += i\n",
    "        \n",
    "    return total"
   ]
  },
  {
   "cell_type": "code",
   "execution_count": 42,
   "id": "7578902a-c268-4267-9356-61442f49c267",
   "metadata": {},
   "outputs": [
    {
     "name": "stdout",
     "output_type": "stream",
     "text": [
      "num :  10 / params :  (20, 30)  / type :  <class 'tuple'>\n"
     ]
    },
    {
     "data": {
      "text/plain": [
       "50"
      ]
     },
     "execution_count": 42,
     "metadata": {},
     "output_type": "execute_result"
    }
   ],
   "source": [
    "sum(10, 20, 30)"
   ]
  },
  {
   "cell_type": "code",
   "execution_count": 43,
   "id": "7d73c0de-e01a-40d7-b29c-e4bfcbb658ce",
   "metadata": {},
   "outputs": [
    {
     "name": "stdout",
     "output_type": "stream",
     "text": [
      "num :  1 / params :  (2, 3, 4, 5)  / type :  <class 'tuple'>\n"
     ]
    },
    {
     "data": {
      "text/plain": [
       "14"
      ]
     },
     "execution_count": 43,
     "metadata": {},
     "output_type": "execute_result"
    }
   ],
   "source": [
    "sum(1, 2, 3, 4, 5)"
   ]
  },
  {
   "cell_type": "code",
   "execution_count": null,
   "id": "5eb5ee51-8802-4fd3-8c00-260d2c179d59",
   "metadata": {},
   "outputs": [],
   "source": [
    "# kwargs = 키워드 매개 변수"
   ]
  },
  {
   "cell_type": "code",
   "execution_count": 53,
   "id": "c5855295-c3a1-4609-87b9-8f6eb93c8e79",
   "metadata": {},
   "outputs": [],
   "source": [
    "def min(a, b) :\n",
    "    return a - b"
   ]
  },
  {
   "cell_type": "code",
   "execution_count": 54,
   "id": "004c30f4-0ba2-4cea-83d9-d114b76b1280",
   "metadata": {},
   "outputs": [
    {
     "data": {
      "text/plain": [
       "-10"
      ]
     },
     "execution_count": 54,
     "metadata": {},
     "output_type": "execute_result"
    }
   ],
   "source": [
    "# a = 10, b = 20\n",
    "min(10, 20)"
   ]
  },
  {
   "cell_type": "code",
   "execution_count": 56,
   "id": "bb23ac36-235f-4f63-bc9c-37d2ab40d357",
   "metadata": {},
   "outputs": [
    {
     "data": {
      "text/plain": [
       "-10"
      ]
     },
     "execution_count": 56,
     "metadata": {},
     "output_type": "execute_result"
    }
   ],
   "source": [
    "# 직접 매개변수 키워드로 지정 가능\n",
    "min(b = 20, a = 10)"
   ]
  },
  {
   "cell_type": "code",
   "execution_count": null,
   "id": "3c1eaf7c-46f1-47b5-b275-9775e616bcf9",
   "metadata": {},
   "outputs": [],
   "source": [
    "# ** = Map형태 가변 매개변수"
   ]
  },
  {
   "cell_type": "code",
   "execution_count": 57,
   "id": "adcedf08-fbdd-49c2-836c-00b02ca85c83",
   "metadata": {},
   "outputs": [],
   "source": [
    "def words(**params) :\n",
    "    print(params)"
   ]
  },
  {
   "cell_type": "code",
   "execution_count": 59,
   "id": "04755bdf-6563-43ac-a028-2015c805d246",
   "metadata": {},
   "outputs": [
    {
     "name": "stdout",
     "output_type": "stream",
     "text": [
      "{'name': '이이름', 'age': 40, 'address': '주소'}\n"
     ]
    }
   ],
   "source": [
    "words(name='이이름', age=40, address='주소')"
   ]
  },
  {
   "cell_type": "code",
   "execution_count": 61,
   "id": "d1659d64-fd5d-489f-8c3f-c9a20e8ab2ad",
   "metadata": {},
   "outputs": [],
   "source": [
    "# Return의 다른 쓰임새 = 함수의 종료"
   ]
  },
  {
   "cell_type": "code",
   "execution_count": 63,
   "id": "6cfdcd8a-86a5-4af1-a3c4-b8de64c56f12",
   "metadata": {},
   "outputs": [],
   "source": [
    "def get_number(num) :\n",
    "    if num % 10 == 0 :\n",
    "        print('종료!')\n",
    "        return  # 함수의 종료, 이 후 코드 실행 X\n",
    "\n",
    "    print(num)"
   ]
  },
  {
   "cell_type": "code",
   "execution_count": 73,
   "id": "77048ea1-0759-4553-a974-9cbec3c66509",
   "metadata": {},
   "outputs": [
    {
     "name": "stdout",
     "output_type": "stream",
     "text": [
      "종료!\n",
      "11\n"
     ]
    }
   ],
   "source": [
    "get_number(10)\n",
    "get_number(11)"
   ]
  },
  {
   "cell_type": "code",
   "execution_count": 89,
   "id": "cae050dd-26f5-4ffa-b09a-a05fd9694234",
   "metadata": {},
   "outputs": [],
   "source": [
    "def get_number(num) :\n",
    "    \n",
    "    try:\n",
    "        if num % 10 == 0:\n",
    "            print(\"종료!\")\n",
    "            return # 함수의 종료, 이 후 코드는 실행 X\n",
    "        print(num)\n",
    "        \n",
    "    finally :\n",
    "        print(\"안녕!\")"
   ]
  },
  {
   "cell_type": "code",
   "execution_count": 90,
   "id": "a5c4bc70-e684-495c-bde8-c3b7559b90d5",
   "metadata": {},
   "outputs": [
    {
     "name": "stdout",
     "output_type": "stream",
     "text": [
      "종료!\n",
      "안녕!\n"
     ]
    }
   ],
   "source": [
    "get_number(10)"
   ]
  },
  {
   "cell_type": "code",
   "execution_count": 66,
   "id": "edf19392-2446-4e28-a0d3-df5a97308dc4",
   "metadata": {},
   "outputs": [],
   "source": [
    "# 매개 변수 초기 값 설정"
   ]
  },
  {
   "cell_type": "code",
   "execution_count": 68,
   "id": "39152dd8-ad43-4a58-b946-c3e01a8a9824",
   "metadata": {},
   "outputs": [],
   "source": [
    "# 기본 값은 항상 마지막 매개변수부터 차례대로 설정!\n",
    "def sum(a, b, c = 100) :\n",
    "    return a + b + c"
   ]
  },
  {
   "cell_type": "code",
   "execution_count": 70,
   "id": "a69bd477-73c6-49c4-8531-79294f4d5411",
   "metadata": {},
   "outputs": [
    {
     "data": {
      "text/plain": [
       "130"
      ]
     },
     "execution_count": 70,
     "metadata": {},
     "output_type": "execute_result"
    }
   ],
   "source": [
    "# c가 기본값인 100으로 대체\n",
    "sum(10, 20)"
   ]
  },
  {
   "cell_type": "code",
   "execution_count": 71,
   "id": "c3eb592c-a163-4856-a6b2-0e5864512bbb",
   "metadata": {},
   "outputs": [
    {
     "ename": "SyntaxError",
     "evalue": "parameter without a default follows parameter with a default (458429113.py, line 1)",
     "output_type": "error",
     "traceback": [
      "\u001b[1;36m  Cell \u001b[1;32mIn[71], line 1\u001b[1;36m\u001b[0m\n\u001b[1;33m    def sum2(a, b = 100, c) :\u001b[0m\n\u001b[1;37m                         ^\u001b[0m\n\u001b[1;31mSyntaxError\u001b[0m\u001b[1;31m:\u001b[0m parameter without a default follows parameter with a default\n"
     ]
    }
   ],
   "source": [
    "# 기본값 설정을 마지막 매개변수부터 하지 않아서 오류\n",
    "def sum2(a, b = 100, c) :\n",
    "    return a + b + c"
   ]
  },
  {
   "cell_type": "code",
   "execution_count": 72,
   "id": "edff60d4-f2b8-4620-9fa7-51730b0970c0",
   "metadata": {},
   "outputs": [],
   "source": [
    "# global 명령어"
   ]
  },
  {
   "cell_type": "code",
   "execution_count": 94,
   "id": "6113f354-f642-4c2d-b9d8-eb3c06404589",
   "metadata": {},
   "outputs": [],
   "source": [
    "name = '이이름'\n",
    "\n",
    "def message(msg) :\n",
    "    # 전역변수 name을 message 함수 지역 내에서 사용하겠다\n",
    "    global name\n",
    "    \n",
    "    print(f'{name}님 {msg}')"
   ]
  },
  {
   "cell_type": "code",
   "execution_count": 92,
   "id": "9dfa04e0-db06-4658-ba91-a20426511c25",
   "metadata": {},
   "outputs": [
    {
     "name": "stdout",
     "output_type": "stream",
     "text": [
      "이이름님 안녕하세요\n"
     ]
    }
   ],
   "source": [
    "message('안녕하세요')"
   ]
  },
  {
   "cell_type": "code",
   "execution_count": 95,
   "id": "dfea576a-23f7-4a94-94b1-70dbfb552fe9",
   "metadata": {},
   "outputs": [],
   "source": [
    "# Lambda 예약어 - 함수형 프로그래밍"
   ]
  },
  {
   "cell_type": "code",
   "execution_count": 96,
   "id": "902f13ef-ea50-4c69-9740-9749a6d9caf5",
   "metadata": {},
   "outputs": [],
   "source": [
    "# Lambda 없이 함수를 매개변수로 사용\n",
    "# filter()"
   ]
  },
  {
   "cell_type": "code",
   "execution_count": 99,
   "id": "ef25f95c-33cd-4cf7-bd19-7077e483fdff",
   "metadata": {},
   "outputs": [
    {
     "name": "stdout",
     "output_type": "stream",
     "text": [
      "[2, 4, 6, 8, 10]\n"
     ]
    }
   ],
   "source": [
    "nums = [1, 2, 3, 4, 5, 6, 7, 8, 9, 10]\n",
    "\n",
    "# 짝수 판별 함수 - 사용자 정의 함수, 일회용으로 사용하는 경우가 많음\n",
    "def is_even(num) :\n",
    "    return num % 2 == 0\n",
    "\n",
    "even = filter(is_even, nums)\n",
    "\n",
    "# List 형변환\n",
    "even_nums = list(even)\n",
    "\n",
    "print(even_nums)"
   ]
  },
  {
   "cell_type": "code",
   "execution_count": null,
   "id": "e37b2f57-db14-43d8-be40-3c32e34cd2a7",
   "metadata": {},
   "outputs": [],
   "source": [
    "# Lambda 키워드 예약어 사용"
   ]
  },
  {
   "cell_type": "code",
   "execution_count": 101,
   "id": "4ab4a006-5e3e-4c78-ae9a-4e295dfc3b78",
   "metadata": {},
   "outputs": [
    {
     "name": "stdout",
     "output_type": "stream",
     "text": [
      "[2, 4, 6, 8, 10]\n"
     ]
    }
   ],
   "source": [
    "nums = [1, 2, 3, 4, 5, 6, 7, 8, 9, 10]\n",
    "\n",
    "is_even = lambda x : x % 2 == 0\n",
    "\n",
    "even = list(filter(is_even, nums))\n",
    "\n",
    "print(even)"
   ]
  },
  {
   "cell_type": "code",
   "execution_count": 102,
   "id": "103adb1f-97e2-4c79-a7f8-a6109f6745b6",
   "metadata": {},
   "outputs": [],
   "source": [
    "# 매개 변수 안에 바로 Lambda 정의"
   ]
  },
  {
   "cell_type": "code",
   "execution_count": 103,
   "id": "7e6e4ad3-3886-4390-b474-5c629103dacb",
   "metadata": {},
   "outputs": [
    {
     "name": "stdout",
     "output_type": "stream",
     "text": [
      "[2, 4, 6, 8, 10]\n"
     ]
    }
   ],
   "source": [
    "nums = [1, 2, 3, 4, 5, 6, 7, 8, 9, 10]\n",
    "\n",
    "even = list(filter(lambda x : x % 2 == 0, nums))\n",
    "\n",
    "print(even)"
   ]
  }
 ],
 "metadata": {
  "kernelspec": {
   "display_name": "Python 3 (ipykernel)",
   "language": "python",
   "name": "python3"
  },
  "language_info": {
   "codemirror_mode": {
    "name": "ipython",
    "version": 3
   },
   "file_extension": ".py",
   "mimetype": "text/x-python",
   "name": "python",
   "nbconvert_exporter": "python",
   "pygments_lexer": "ipython3",
   "version": "3.12.7"
  }
 },
 "nbformat": 4,
 "nbformat_minor": 5
}
