{
 "cells": [
  {
   "cell_type": "code",
   "execution_count": null,
   "id": "2404a9b9-2096-4d77-b457-68814d2ddec4",
   "metadata": {},
   "outputs": [],
   "source": [
    "# 집합 자료형"
   ]
  },
  {
   "cell_type": "code",
   "execution_count": 14,
   "id": "ccb4cb9f-d580-4fc0-b31e-037f5a5e8f23",
   "metadata": {},
   "outputs": [
    {
     "name": "stdout",
     "output_type": "stream",
     "text": [
      "{1, 2, 3, 4, 5}\n"
     ]
    }
   ],
   "source": [
    "a = set([5, 2, 2, 2, 3, 4, 1])\n",
    "print(a)\n",
    "# 중복된 2가 제거된 모습, 내부적으로 빠르게 검색가능한 구조로 바뀌어 숫자 정렬된 모습"
   ]
  },
  {
   "cell_type": "code",
   "execution_count": 19,
   "id": "6651dce0-df05-4c51-adac-0142fe02ca24",
   "metadata": {},
   "outputs": [
    {
     "name": "stdout",
     "output_type": "stream",
     "text": [
      "{'o', 'e', 'l', 'h'}\n"
     ]
    }
   ],
   "source": [
    "b = set('hello')\n",
    "print(b)\n",
    "# 중복된 l가 사라지고, 순서가 내부적으로 빠르게 검색가능한 구조로 바뀜"
   ]
  },
  {
   "cell_type": "code",
   "execution_count": 23,
   "id": "9000925f-8543-4a3b-9519-465b202d4ccc",
   "metadata": {},
   "outputs": [
    {
     "ename": "TypeError",
     "evalue": "'set' object is not subscriptable",
     "output_type": "error",
     "traceback": [
      "\u001b[1;31m---------------------------------------------------------------------------\u001b[0m",
      "\u001b[1;31mTypeError\u001b[0m                                 Traceback (most recent call last)",
      "Cell \u001b[1;32mIn[23], line 1\u001b[0m\n\u001b[1;32m----> 1\u001b[0m \u001b[43mb\u001b[49m\u001b[43m[\u001b[49m\u001b[38;5;241;43m0\u001b[39;49m\u001b[43m]\u001b[49m  \u001b[38;5;66;03m# 집합 자료는 순서 결정이 불가하므로 index 사용시 오류\u001b[39;00m\n",
      "\u001b[1;31mTypeError\u001b[0m: 'set' object is not subscriptable"
     ]
    }
   ],
   "source": [
    "b[0]  # 집합 자료는 순서 결정이 불가하므로 index 사용시 오류"
   ]
  },
  {
   "cell_type": "code",
   "execution_count": 26,
   "id": "f3f3e83a-de1c-40b1-ac79-fbe071a898c7",
   "metadata": {},
   "outputs": [
    {
     "name": "stdout",
     "output_type": "stream",
     "text": [
      "['o', 'e', 'l', 'h']\n",
      "o\n"
     ]
    }
   ],
   "source": [
    "c = list(b)\n",
    "print(c)\n",
    "\n",
    "# List로 변환시 index 생겨서 연산 가능\n",
    "print(c[0])"
   ]
  },
  {
   "cell_type": "code",
   "execution_count": 1,
   "id": "e3730b56-8fe9-4aec-908a-0bd0c6ef955c",
   "metadata": {},
   "outputs": [],
   "source": [
    "# 참고) List & Tuple 문자열의 반복"
   ]
  },
  {
   "cell_type": "code",
   "execution_count": 5,
   "id": "6e4cf2a7-6c10-471b-aaa9-71a589b02241",
   "metadata": {},
   "outputs": [
    {
     "name": "stdout",
     "output_type": "stream",
     "text": [
      "A\n",
      "B\n",
      "C\n"
     ]
    }
   ],
   "source": [
    "for ch in 'ABC':\n",
    "    print(ch)\n",
    "# 자동으로 println?"
   ]
  },
  {
   "cell_type": "code",
   "execution_count": 7,
   "id": "7d5bdec7-924c-44aa-a588-692ce4d884a2",
   "metadata": {},
   "outputs": [
    {
     "name": "stdout",
     "output_type": "stream",
     "text": [
      "['A', 'B', 'C']\n"
     ]
    }
   ],
   "source": [
    "a = list('ABC')\n",
    "print(a)"
   ]
  },
  {
   "cell_type": "code",
   "execution_count": 8,
   "id": "fda3eddb-4d0f-4f2b-8f5d-e06105d38660",
   "metadata": {},
   "outputs": [
    {
     "name": "stdout",
     "output_type": "stream",
     "text": [
      "('A', 'B', 'C')\n"
     ]
    }
   ],
   "source": [
    "a = tuple('ABC')\n",
    "print(a)"
   ]
  },
  {
   "cell_type": "code",
   "execution_count": 29,
   "id": "6d8eb8be-a5a7-440d-8cce-1ec6a8c79d97",
   "metadata": {},
   "outputs": [],
   "source": [
    "a = set([1, 2, 3, 4])\n",
    "b = set([3, 4, 5, 6])"
   ]
  },
  {
   "cell_type": "code",
   "execution_count": 33,
   "id": "2d3a05c8-cb85-449f-a962-2025a768dea1",
   "metadata": {},
   "outputs": [
    {
     "data": {
      "text/plain": [
       "{3, 4}"
      ]
     },
     "execution_count": 33,
     "metadata": {},
     "output_type": "execute_result"
    }
   ],
   "source": [
    "a & b  # 교집합\n",
    "a.intersection(b)  # 교집합 함수"
   ]
  },
  {
   "cell_type": "code",
   "execution_count": 37,
   "id": "cb185c2b-df26-4db9-aeff-07bdd783726e",
   "metadata": {},
   "outputs": [
    {
     "data": {
      "text/plain": [
       "{1, 2, 3, 4, 5, 6}"
      ]
     },
     "execution_count": 37,
     "metadata": {},
     "output_type": "execute_result"
    }
   ],
   "source": [
    "a | b  # 합집합\n",
    "a.union(b)  # 합집합 함수"
   ]
  },
  {
   "cell_type": "code",
   "execution_count": 41,
   "id": "1152fed8-eadd-428a-a7c4-2e521989858f",
   "metadata": {},
   "outputs": [
    {
     "data": {
      "text/plain": [
       "{1, 2}"
      ]
     },
     "execution_count": 41,
     "metadata": {},
     "output_type": "execute_result"
    }
   ],
   "source": [
    "a - b  # 차집합\n",
    "a.difference(b)  # 차집합 함수"
   ]
  },
  {
   "cell_type": "code",
   "execution_count": 42,
   "id": "2ba92d5f-2abb-4ad9-adf8-3117822adb67",
   "metadata": {},
   "outputs": [],
   "source": [
    "a = set([1, 2, 3])"
   ]
  },
  {
   "cell_type": "code",
   "execution_count": 46,
   "id": "1c5b30bb-8030-44d4-93e0-5e4fde45a46f",
   "metadata": {},
   "outputs": [],
   "source": [
    "a.update([4, 5])\n",
    "a.update((6, 7))\n",
    "# List & Tuple 모두 가능"
   ]
  },
  {
   "cell_type": "code",
   "execution_count": 48,
   "id": "ce0aabbf-52d3-4192-bd75-49c265f4498c",
   "metadata": {},
   "outputs": [
    {
     "data": {
      "text/plain": [
       "{1, 2, 3, 4, 5, 6, 7}"
      ]
     },
     "execution_count": 48,
     "metadata": {},
     "output_type": "execute_result"
    }
   ],
   "source": [
    "a"
   ]
  },
  {
   "cell_type": "code",
   "execution_count": 51,
   "id": "a42db3c9-1337-489b-a1b5-c374503ee07c",
   "metadata": {},
   "outputs": [
    {
     "ename": "KeyError",
     "evalue": "9",
     "output_type": "error",
     "traceback": [
      "\u001b[1;31m---------------------------------------------------------------------------\u001b[0m",
      "\u001b[1;31mKeyError\u001b[0m                                  Traceback (most recent call last)",
      "Cell \u001b[1;32mIn[51], line 1\u001b[0m\n\u001b[1;32m----> 1\u001b[0m \u001b[43ma\u001b[49m\u001b[38;5;241;43m.\u001b[39;49m\u001b[43mremove\u001b[49m\u001b[43m(\u001b[49m\u001b[38;5;241;43m9\u001b[39;49m\u001b[43m)\u001b[49m\n",
      "\u001b[1;31mKeyError\u001b[0m: 9"
     ]
    }
   ],
   "source": [
    "a.remove(9)\n",
    "# 없는 값을 삭제하면 예외 오류"
   ]
  }
 ],
 "metadata": {
  "kernelspec": {
   "display_name": "Python 3 (ipykernel)",
   "language": "python",
   "name": "python3"
  },
  "language_info": {
   "codemirror_mode": {
    "name": "ipython",
    "version": 3
   },
   "file_extension": ".py",
   "mimetype": "text/x-python",
   "name": "python",
   "nbconvert_exporter": "python",
   "pygments_lexer": "ipython3",
   "version": "3.12.7"
  }
 },
 "nbformat": 4,
 "nbformat_minor": 5
}
