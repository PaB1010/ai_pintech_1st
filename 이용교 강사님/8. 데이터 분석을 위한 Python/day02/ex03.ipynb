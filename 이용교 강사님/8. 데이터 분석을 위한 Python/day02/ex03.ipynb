{
 "cells": [
  {
   "cell_type": "code",
   "execution_count": 1,
   "id": "2b8fbab5-01e9-40a6-8185-999c3515af62",
   "metadata": {},
   "outputs": [],
   "source": [
    "# Dictionary 자료형 (Map)"
   ]
  },
  {
   "cell_type": "code",
   "execution_count": 21,
   "id": "95a85fc6-bba7-4d67-9d78-80f823dfb132",
   "metadata": {},
   "outputs": [],
   "source": [
    "person = { 'name' : '이이름', 'age' : 40}"
   ]
  },
  {
   "cell_type": "code",
   "execution_count": 9,
   "id": "c4e6502c-a8a3-470e-b401-c29b9cc8926e",
   "metadata": {},
   "outputs": [
    {
     "data": {
      "text/plain": [
       "'이이름'"
      ]
     },
     "execution_count": 9,
     "metadata": {},
     "output_type": "execute_result"
    }
   ],
   "source": [
    "person['name']  # Dictionary 속성명(Key 값)으로 조회"
   ]
  },
  {
   "cell_type": "code",
   "execution_count": 19,
   "id": "948ae73d-1b12-4e29-b1bd-dc76551c367a",
   "metadata": {},
   "outputs": [
    {
     "name": "stdout",
     "output_type": "stream",
     "text": [
      "{'name': '(수정)이이름', 'age': 40, 'address': '주소'}\n"
     ]
    }
   ],
   "source": [
    "person['name'] = '(수정)이이름'  # 수정\n",
    "person['address'] = '주소'  # 추가\n",
    "print(person)"
   ]
  },
  {
   "cell_type": "code",
   "execution_count": 20,
   "id": "46ed6a9e-3927-4f77-b622-7fff68703c28",
   "metadata": {},
   "outputs": [
    {
     "name": "stdout",
     "output_type": "stream",
     "text": [
      "{'name': '(수정)이이름', 'age': 40}\n"
     ]
    }
   ],
   "source": [
    "del person['address']  # 삭제\n",
    "print(person)"
   ]
  },
  {
   "cell_type": "code",
   "execution_count": 5,
   "id": "18d39648-0d40-45a5-a772-c977656f60c5",
   "metadata": {},
   "outputs": [
    {
     "data": {
      "text/plain": [
       "dict"
      ]
     },
     "execution_count": 5,
     "metadata": {},
     "output_type": "execute_result"
    }
   ],
   "source": [
    "type(person)"
   ]
  },
  {
   "cell_type": "code",
   "execution_count": 24,
   "id": "caa225c1-6316-40d3-975e-f5f4f77eb0f7",
   "metadata": {},
   "outputs": [],
   "source": [
    "person = { 'name' : '김이름' }"
   ]
  },
  {
   "cell_type": "code",
   "execution_count": 26,
   "id": "2e823605-8081-4e5c-85c1-533f7c287b9b",
   "metadata": {},
   "outputs": [
    {
     "ename": "KeyError",
     "evalue": "'age'",
     "output_type": "error",
     "traceback": [
      "\u001b[1;31m---------------------------------------------------------------------------\u001b[0m",
      "\u001b[1;31mKeyError\u001b[0m                                  Traceback (most recent call last)",
      "Cell \u001b[1;32mIn[26], line 1\u001b[0m\n\u001b[1;32m----> 1\u001b[0m \u001b[43mperson\u001b[49m\u001b[43m[\u001b[49m\u001b[38;5;124;43m'\u001b[39;49m\u001b[38;5;124;43mage\u001b[39;49m\u001b[38;5;124;43m'\u001b[39;49m\u001b[43m]\u001b[49m\n\u001b[0;32m      2\u001b[0m \u001b[38;5;66;03m# 없는 속성명을 조회하면 오류\u001b[39;00m\n",
      "\u001b[1;31mKeyError\u001b[0m: 'age'"
     ]
    }
   ],
   "source": [
    "person['age']\n",
    "# 없는 속성명을 조회하면 오류"
   ]
  },
  {
   "cell_type": "code",
   "execution_count": 31,
   "id": "51df4e1e-f912-48da-b2e7-0d16d4308178",
   "metadata": {},
   "outputs": [
    {
     "name": "stdout",
     "output_type": "stream",
     "text": [
      "None\n"
     ]
    }
   ],
   "source": [
    "print(person.get('age'))\n",
    "# 없는 속성명을 조회시 None"
   ]
  },
  {
   "cell_type": "code",
   "execution_count": 33,
   "id": "8505fc4e-9fca-486f-9a72-d9e2775223ad",
   "metadata": {},
   "outputs": [
    {
     "name": "stdout",
     "output_type": "stream",
     "text": [
      "40\n"
     ]
    }
   ],
   "source": [
    "person.get('age', 40)\n",
    "# Value가 없을때 기본 값 40으로 설정\n",
    "print(person.get('age',40))"
   ]
  },
  {
   "cell_type": "code",
   "execution_count": 34,
   "id": "bf5677f7-d58c-4298-80ba-e6812e130502",
   "metadata": {},
   "outputs": [],
   "source": [
    "person = { 'name' : '김이름', 'age' : 40 }"
   ]
  },
  {
   "cell_type": "code",
   "execution_count": 42,
   "id": "0cb45fa8-6a0b-4812-917d-30c0050e8005",
   "metadata": {},
   "outputs": [
    {
     "name": "stdout",
     "output_type": "stream",
     "text": [
      "dict_keys(['name', 'age']) dict_values(['김이름', 40])\n"
     ]
    }
   ],
   "source": [
    "keys = person.keys()  # 전체 Key 목록 조회\n",
    "values = person.values()  # 전체 Value 목록 조회\n",
    "\n",
    "print(keys, values)\n",
    "# Python의 List는 LinkedList 형태이므로 자료형이 dict_keys, dict_values"
   ]
  },
  {
   "cell_type": "code",
   "execution_count": 46,
   "id": "a85f613e-613f-459d-bbad-c6c8aea212bc",
   "metadata": {},
   "outputs": [
    {
     "name": "stdout",
     "output_type": "stream",
     "text": [
      "<class 'list'> ['김이름', 40]\n"
     ]
    }
   ],
   "source": [
    "values2 = list(values)\n",
    "print(type(values2), values2)"
   ]
  },
  {
   "cell_type": "code",
   "execution_count": 49,
   "id": "0001a3ad-9974-4dc7-af39-fd884e9e14ed",
   "metadata": {},
   "outputs": [
    {
     "name": "stdout",
     "output_type": "stream",
     "text": [
      "dict_items([('name', '김이름'), ('age', 40)])\n"
     ]
    }
   ],
   "source": [
    "items = person.items()  # 전체 Key & Value 쌍 목록 조회\n",
    "print(items)\n",
    "# 여기서 ('name', '김이름') = Tupel 자료형"
   ]
  },
  {
   "cell_type": "code",
   "execution_count": 52,
   "id": "bb1f9acb-0f8a-42dc-8968-5a44eb6cb294",
   "metadata": {},
   "outputs": [
    {
     "name": "stdout",
     "output_type": "stream",
     "text": [
      "name 김이름\n",
      "age 40\n"
     ]
    }
   ],
   "source": [
    "# for (name, age) in items : \n",
    "#    print(name, age)\n",
    "\n",
    "# Tuple이니까 () 생략 가능\n",
    "for name, age in items :\n",
    "    print(name, age)"
   ]
  },
  {
   "cell_type": "code",
   "execution_count": 59,
   "id": "70409d21-a675-42cf-b6d7-b0cee6268df3",
   "metadata": {},
   "outputs": [
    {
     "name": "stdout",
     "output_type": "stream",
     "text": [
      "<class 'bool'> True\n"
     ]
    }
   ],
   "source": [
    "print(type('name' in person), 'name' in person)"
   ]
  }
 ],
 "metadata": {
  "kernelspec": {
   "display_name": "Python 3 (ipykernel)",
   "language": "python",
   "name": "python3"
  },
  "language_info": {
   "codemirror_mode": {
    "name": "ipython",
    "version": 3
   },
   "file_extension": ".py",
   "mimetype": "text/x-python",
   "name": "python",
   "nbconvert_exporter": "python",
   "pygments_lexer": "ipython3",
   "version": "3.12.7"
  }
 },
 "nbformat": 4,
 "nbformat_minor": 5
}
