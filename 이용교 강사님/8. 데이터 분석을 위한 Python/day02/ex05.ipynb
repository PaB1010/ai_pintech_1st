{
 "cells": [
  {
   "cell_type": "code",
   "execution_count": null,
   "id": "d70dd4e5-4ee4-4315-b236-7b6a2c34441c",
   "metadata": {},
   "outputs": [],
   "source": [
    "# 논리형 자료형"
   ]
  },
  {
   "cell_type": "code",
   "execution_count": 1,
   "id": "be5a79b9-3cd1-438a-a996-fc59fdf58d87",
   "metadata": {},
   "outputs": [],
   "source": [
    "a = ''\n",
    "b = '1'\n",
    "c = '   '"
   ]
  },
  {
   "cell_type": "code",
   "execution_count": 3,
   "id": "1b3044e2-6dc4-419a-91c0-61978dd7dc23",
   "metadata": {},
   "outputs": [
    {
     "name": "stdout",
     "output_type": "stream",
     "text": [
      "거짓\n"
     ]
    }
   ],
   "source": [
    "if a :\n",
    "    print('참')\n",
    "else :\n",
    "    print('거짓')"
   ]
  },
  {
   "cell_type": "code",
   "execution_count": 4,
   "id": "02e77453-6ced-47ed-96d2-653c61b0a8c6",
   "metadata": {},
   "outputs": [
    {
     "name": "stdout",
     "output_type": "stream",
     "text": [
      "참\n"
     ]
    }
   ],
   "source": [
    "if b :\n",
    "    print('참')\n",
    "else :\n",
    "    print('거짓')"
   ]
  },
  {
   "cell_type": "code",
   "execution_count": 6,
   "id": "7c06493e-916c-4007-85e0-9e082068f8e3",
   "metadata": {},
   "outputs": [
    {
     "name": "stdout",
     "output_type": "stream",
     "text": [
      "참\n"
     ]
    }
   ],
   "source": [
    "if c :\n",
    "    print('참')\n",
    "else :\n",
    "    print('거짓')\n",
    "\n",
    "# 공백도 문자라서 참"
   ]
  },
  {
   "cell_type": "code",
   "execution_count": 10,
   "id": "0283d61c-9639-426e-a788-e22a1f019f6d",
   "metadata": {},
   "outputs": [
    {
     "name": "stdout",
     "output_type": "stream",
     "text": [
      "False\n",
      "True\n",
      "False\n",
      "False\n",
      "False\n"
     ]
    }
   ],
   "source": [
    "print(bool(''))  # False\n",
    "print(bool('1'))  #True\n",
    "print(bool([]))  # False - 빈 List (JavaScript에서는 True)\n",
    "print(bool(()))  # False - 빈 Tuple\n",
    "print(bool(None))  # False"
   ]
  }
 ],
 "metadata": {
  "kernelspec": {
   "display_name": "Python 3 (ipykernel)",
   "language": "python",
   "name": "python3"
  },
  "language_info": {
   "codemirror_mode": {
    "name": "ipython",
    "version": 3
   },
   "file_extension": ".py",
   "mimetype": "text/x-python",
   "name": "python",
   "nbconvert_exporter": "python",
   "pygments_lexer": "ipython3",
   "version": "3.12.7"
  }
 },
 "nbformat": 4,
 "nbformat_minor": 5
}
