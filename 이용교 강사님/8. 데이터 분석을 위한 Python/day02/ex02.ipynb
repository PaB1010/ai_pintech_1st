{
 "cells": [
  {
   "cell_type": "code",
   "execution_count": null,
   "id": "f5909ded-68b7-4300-ac06-8c663789a9f2",
   "metadata": {},
   "outputs": [],
   "source": [
    "# Tuple 자료형"
   ]
  },
  {
   "cell_type": "code",
   "execution_count": 2,
   "id": "deb06ba3-7984-4ef1-8682-ad6dc8cd562a",
   "metadata": {},
   "outputs": [],
   "source": [
    "a = (1, 2, 3)"
   ]
  },
  {
   "cell_type": "code",
   "execution_count": 7,
   "id": "05adbd98-9531-4bfa-b424-2f085fbaa575",
   "metadata": {},
   "outputs": [
    {
     "data": {
      "text/plain": [
       "2"
      ]
     },
     "execution_count": 7,
     "metadata": {},
     "output_type": "execute_result"
    }
   ],
   "source": [
    "a[1]"
   ]
  },
  {
   "cell_type": "code",
   "execution_count": 11,
   "id": "de073d97-57aa-4dbb-9ceb-b2e6ca42bf80",
   "metadata": {},
   "outputs": [
    {
     "ename": "TypeError",
     "evalue": "'tuple' object does not support item assignment",
     "output_type": "error",
     "traceback": [
      "\u001b[1;31m---------------------------------------------------------------------------\u001b[0m",
      "\u001b[1;31mTypeError\u001b[0m                                 Traceback (most recent call last)",
      "Cell \u001b[1;32mIn[11], line 1\u001b[0m\n\u001b[1;32m----> 1\u001b[0m \u001b[43ma\u001b[49m\u001b[43m[\u001b[49m\u001b[38;5;241;43m1\u001b[39;49m\u001b[43m]\u001b[49m \u001b[38;5;241m=\u001b[39m \u001b[38;5;124m'\u001b[39m\u001b[38;5;124mA\u001b[39m\u001b[38;5;124m'\u001b[39m\n\u001b[0;32m      2\u001b[0m \u001b[38;5;28;01mdel\u001b[39;00m a[\u001b[38;5;241m1\u001b[39m]\n\u001b[0;32m      3\u001b[0m \u001b[38;5;66;03m# 변경&삭제 불가 List이므로 수정시 예외 오류 발생\u001b[39;00m\n",
      "\u001b[1;31mTypeError\u001b[0m: 'tuple' object does not support item assignment"
     ]
    }
   ],
   "source": [
    "a[1] = 'A'\n",
    "del a[1]\n",
    "# 변경&삭제 불가 List이므로 수정시 예외 오류 발생"
   ]
  },
  {
   "cell_type": "code",
   "execution_count": 40,
   "id": "9dba4452-5d07-4786-ab73-b4d7ea0a8017",
   "metadata": {},
   "outputs": [
    {
     "name": "stdout",
     "output_type": "stream",
     "text": [
      "<class 'int'>\n",
      "<class 'tuple'>\n"
     ]
    }
   ],
   "source": [
    "a = (1)\n",
    "# Tuple로 인식되는 것이 아닌 숫자 1로 인식\n",
    "\n",
    "b = (1,)\n",
    "# Tuple로 인식, 숫자 1이라는 값이 1개 있는 형태\n",
    "\n",
    "print(type(a))\n",
    "print(type(b))"
   ]
  },
  {
   "cell_type": "code",
   "execution_count": 20,
   "id": "b7443418-18bc-4c15-94b3-9255a94c561d",
   "metadata": {},
   "outputs": [
    {
     "ename": "TypeError",
     "evalue": "'int' object is not subscriptable",
     "output_type": "error",
     "traceback": [
      "\u001b[1;31m---------------------------------------------------------------------------\u001b[0m",
      "\u001b[1;31mTypeError\u001b[0m                                 Traceback (most recent call last)",
      "Cell \u001b[1;32mIn[20], line 1\u001b[0m\n\u001b[1;32m----> 1\u001b[0m \u001b[43ma\u001b[49m\u001b[43m[\u001b[49m\u001b[38;5;241;43m0\u001b[39;49m\u001b[43m]\u001b[49m\n",
      "\u001b[1;31mTypeError\u001b[0m: 'int' object is not subscriptable"
     ]
    }
   ],
   "source": [
    "a[0]  # Tuple이 아닌 숫자라 인덱싱 불가능"
   ]
  },
  {
   "cell_type": "code",
   "execution_count": 29,
   "id": "c041d28f-224e-4114-84f2-8aaa71394112",
   "metadata": {},
   "outputs": [
    {
     "name": "stdout",
     "output_type": "stream",
     "text": [
      "(1,)\n",
      "1\n"
     ]
    }
   ],
   "source": [
    "print(b)\n",
    "print(b[0])"
   ]
  },
  {
   "cell_type": "code",
   "execution_count": 41,
   "id": "7d5a8e07-8874-48df-895b-2ed23c5ba32d",
   "metadata": {},
   "outputs": [
    {
     "name": "stdout",
     "output_type": "stream",
     "text": [
      "<class 'int'>\n",
      "<class 'tuple'>\n"
     ]
    }
   ],
   "source": [
    "print(type((1)))\n",
    "print(type((1,)))"
   ]
  },
  {
   "cell_type": "code",
   "execution_count": 47,
   "id": "a5754860-e960-4a4b-aaf1-b6186789c2c6",
   "metadata": {},
   "outputs": [
    {
     "name": "stdout",
     "output_type": "stream",
     "text": [
      "(1, 2, 3, 4, 5)\n",
      "<class 'tuple'>\n"
     ]
    }
   ],
   "source": [
    "a = 1, 2, 3, 4, 5\n",
    "# tuple로 인식 (간략회된 문법)\n",
    "print(a)\n",
    "print(type(a))"
   ]
  },
  {
   "cell_type": "code",
   "execution_count": 48,
   "id": "db69ff10-afc5-47c1-9644-560e01efbb6e",
   "metadata": {},
   "outputs": [],
   "source": [
    "a = (1, 2, 3)\n",
    "b = (4, 5, 6)"
   ]
  },
  {
   "cell_type": "code",
   "execution_count": 57,
   "id": "9caf9e15-f8dd-4812-b4f0-635ee17f41f9",
   "metadata": {},
   "outputs": [
    {
     "name": "stdout",
     "output_type": "stream",
     "text": [
      "(4, 5, 6, 1, 2, 3)\n"
     ]
    }
   ],
   "source": [
    "c = b + a\n",
    "print(c)"
   ]
  },
  {
   "cell_type": "code",
   "execution_count": 58,
   "id": "8e34dc30-afdf-4047-b4c2-665ca03c371f",
   "metadata": {},
   "outputs": [
    {
     "name": "stdout",
     "output_type": "stream",
     "text": [
      "(1, 2, 3, 1, 2, 3, 1, 2, 3)\n"
     ]
    }
   ],
   "source": [
    "d = a * 3\n",
    "print(d)"
   ]
  },
  {
   "cell_type": "code",
   "execution_count": 66,
   "id": "0a0c25cf-4db1-4502-82ea-d55916ffb9f3",
   "metadata": {},
   "outputs": [],
   "source": [
    "# a = (\"사과\", \"오렌지\")\n",
    "# Tuple의 ()는 생략 가능\n",
    "a = \"사과\", \"오렌지\""
   ]
  },
  {
   "cell_type": "code",
   "execution_count": 67,
   "id": "24d416db-4349-4588-a167-23da9c0c7af3",
   "metadata": {},
   "outputs": [],
   "source": [
    "# (apple, orange) = a\n",
    "# Tuple의 ()는 생략 가능\n",
    "apple, orange = a"
   ]
  },
  {
   "cell_type": "code",
   "execution_count": 68,
   "id": "983f3aa0-1f04-43e5-9a43-51a8decb3733",
   "metadata": {},
   "outputs": [
    {
     "name": "stdout",
     "output_type": "stream",
     "text": [
      "사과 오렌지\n"
     ]
    }
   ],
   "source": [
    "print(apple, orange)\n",
    "# 재구조해 변수처럼 할당 가능"
   ]
  },
  {
   "cell_type": "code",
   "execution_count": 69,
   "id": "650fe42e-9e64-4339-9928-0722206aef6e",
   "metadata": {},
   "outputs": [],
   "source": [
    "a = 20\n",
    "b = 10"
   ]
  },
  {
   "cell_type": "code",
   "execution_count": 70,
   "id": "399320c5-7abe-4827-bb7f-7359f3f20b71",
   "metadata": {},
   "outputs": [],
   "source": [
    "a, b = b, a\n",
    "# a와 b의 값 교체\n",
    "# JavaScript의 비구조 할당과 비슷"
   ]
  },
  {
   "cell_type": "code",
   "execution_count": 71,
   "id": "16ce0a46-5013-433a-a2c3-db0a8446d7d8",
   "metadata": {},
   "outputs": [
    {
     "name": "stdout",
     "output_type": "stream",
     "text": [
      "10 20\n"
     ]
    }
   ],
   "source": [
    "print(a, b)"
   ]
  }
 ],
 "metadata": {
  "kernelspec": {
   "display_name": "Python 3 (ipykernel)",
   "language": "python",
   "name": "python3"
  },
  "language_info": {
   "codemirror_mode": {
    "name": "ipython",
    "version": 3
   },
   "file_extension": ".py",
   "mimetype": "text/x-python",
   "name": "python",
   "nbconvert_exporter": "python",
   "pygments_lexer": "ipython3",
   "version": "3.12.7"
  }
 },
 "nbformat": 4,
 "nbformat_minor": 5
}
