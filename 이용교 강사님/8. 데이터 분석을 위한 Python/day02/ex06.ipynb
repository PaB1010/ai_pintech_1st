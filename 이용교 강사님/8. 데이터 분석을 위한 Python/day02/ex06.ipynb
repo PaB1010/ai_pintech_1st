{
 "cells": [
  {
   "cell_type": "code",
   "execution_count": 1,
   "id": "1e1ad04b-b473-432b-a0e6-e72811f1185d",
   "metadata": {},
   "outputs": [],
   "source": [
    "# 변수"
   ]
  },
  {
   "cell_type": "code",
   "execution_count": 2,
   "id": "96c154db-5a32-486d-94da-15cb83abc370",
   "metadata": {},
   "outputs": [],
   "source": [
    "a = 10  # JAVA의 리터럴 상수와 비슷, 재료가 되는 수는 1개의 주소를 가지고 공유\n",
    "b = 10"
   ]
  },
  {
   "cell_type": "code",
   "execution_count": 4,
   "id": "5645e1d9-34fc-4b41-a0a9-663a2603d16f",
   "metadata": {},
   "outputs": [
    {
     "name": "stdout",
     "output_type": "stream",
     "text": [
      "140703703182040 140703703182040\n"
     ]
    }
   ],
   "source": [
    "print(id(a), id(b))"
   ]
  },
  {
   "cell_type": "code",
   "execution_count": 31,
   "id": "e601a688-45b5-43ac-9203-c3fffccc8f6c",
   "metadata": {},
   "outputs": [],
   "source": [
    "a = [1, 2, 3, 4, 5]  # a = 참조 변수\n",
    "# 모든 것이 객체이기때문에 값의 주소를 가져오는 참조변수임"
   ]
  },
  {
   "cell_type": "code",
   "execution_count": 32,
   "id": "0c136862-f64c-424a-87bb-e5fa0e46e3f7",
   "metadata": {},
   "outputs": [],
   "source": [
    "b = a  # b는 a가 가지고 있는 주소값이 대입"
   ]
  },
  {
   "cell_type": "code",
   "execution_count": 33,
   "id": "e265d33a-2edf-4fa9-a719-faf3c7eb779a",
   "metadata": {},
   "outputs": [
    {
     "name": "stdout",
     "output_type": "stream",
     "text": [
      "True\n"
     ]
    }
   ],
   "source": [
    "print(b==a)  # 주소 비교"
   ]
  },
  {
   "cell_type": "code",
   "execution_count": 34,
   "id": "074025ab-27b8-4972-a44a-3dbb7ec10b3f",
   "metadata": {},
   "outputs": [],
   "source": [
    "b[1] = '둘'"
   ]
  },
  {
   "cell_type": "code",
   "execution_count": 35,
   "id": "6fff8b2b-8090-46ed-8ac7-8bd7ced22e8b",
   "metadata": {},
   "outputs": [
    {
     "name": "stdout",
     "output_type": "stream",
     "text": [
      "[1, '둘', 3, 4, 5]\n",
      "[1, '둘', 3, 4, 5]\n",
      "1816804225920 1816804225920\n"
     ]
    }
   ],
   "source": [
    "print(b)\n",
    "print(a)\n",
    "print(id(a), id(b))\n",
    "# 같은 주소의 값이 변경 되어서"
   ]
  },
  {
   "cell_type": "code",
   "execution_count": 39,
   "id": "7aafcc01-fa42-46d0-89e9-d2408d8d9eb0",
   "metadata": {},
   "outputs": [
    {
     "name": "stdout",
     "output_type": "stream",
     "text": [
      "True\n"
     ]
    },
    {
     "data": {
      "text/plain": [
       "True"
      ]
     },
     "execution_count": 39,
     "metadata": {},
     "output_type": "execute_result"
    }
   ],
   "source": [
    "print(a==b)  # 주소 비교\n",
    "a is b # a, b가 같은 객체를 참조하는지 체크"
   ]
  },
  {
   "cell_type": "code",
   "execution_count": 41,
   "id": "38586232-9e64-4167-96b5-f6f6d6816340",
   "metadata": {},
   "outputs": [],
   "source": [
    "# 깊은 복사 [:] 사용"
   ]
  },
  {
   "cell_type": "code",
   "execution_count": 51,
   "id": "6877ce1e-c778-411e-a287-22487204e330",
   "metadata": {},
   "outputs": [],
   "source": [
    "a = [1, 2, 3, 4, 5]"
   ]
  },
  {
   "cell_type": "code",
   "execution_count": 52,
   "id": "5ebf5219-a8ae-478d-872b-b2a8efe84863",
   "metadata": {},
   "outputs": [],
   "source": [
    "b = a[:]\n",
    "# 전체 값을 복사해 새로운 List 객체로 반환"
   ]
  },
  {
   "cell_type": "code",
   "execution_count": 54,
   "id": "c889fbb1-b0f8-41d6-a8bc-e76a3d5a3432",
   "metadata": {},
   "outputs": [
    {
     "name": "stdout",
     "output_type": "stream",
     "text": [
      "[1, 2, 3, 4, 5]\n",
      "[1, 2, 3, 4, 5]\n",
      "1816800543168 1816809868032\n"
     ]
    },
    {
     "data": {
      "text/plain": [
       "False"
      ]
     },
     "execution_count": 54,
     "metadata": {},
     "output_type": "execute_result"
    }
   ],
   "source": [
    "print(b)\n",
    "print(a)\n",
    "print(id(a), id(b))\n",
    "a is b"
   ]
  },
  {
   "cell_type": "code",
   "execution_count": 56,
   "id": "d6253645-9c8e-4386-8c5b-33f59ff774aa",
   "metadata": {},
   "outputs": [],
   "source": [
    "b[1] = '둘'"
   ]
  },
  {
   "cell_type": "code",
   "execution_count": 59,
   "id": "0f1c20da-8ce7-4b83-a5a0-8cd3ebcc40d0",
   "metadata": {},
   "outputs": [
    {
     "name": "stdout",
     "output_type": "stream",
     "text": [
      "[1, 2, 3, 4, 5] [1, '둘', 3, 4, 5]\n"
     ]
    }
   ],
   "source": [
    "print(a, b)  # 독립적 값 으로 유지"
   ]
  },
  {
   "cell_type": "code",
   "execution_count": 61,
   "id": "52d52b5d-0613-4154-8f8e-f8628a8d1248",
   "metadata": {},
   "outputs": [],
   "source": [
    "c = a.copy()  # 전체 값을 복사해 새로운 List 객체로 반환하는 함수"
   ]
  },
  {
   "cell_type": "code",
   "execution_count": 62,
   "id": "49407acd-0ce2-46cd-bcc1-76a11fa710e3",
   "metadata": {},
   "outputs": [
    {
     "name": "stdout",
     "output_type": "stream",
     "text": [
      "[1, 2, 3, 4, 5]\n",
      "[1, 2, 3, 4, 5]\n",
      "1816800543168 1816809760896\n"
     ]
    },
    {
     "data": {
      "text/plain": [
       "False"
      ]
     },
     "execution_count": 62,
     "metadata": {},
     "output_type": "execute_result"
    }
   ],
   "source": [
    "print(c)\n",
    "print(a)\n",
    "print(id(a), id(c))\n",
    "a is c"
   ]
  },
  {
   "cell_type": "code",
   "execution_count": 69,
   "id": "158970e4-3087-4c82-ac93-1156a4b64895",
   "metadata": {},
   "outputs": [],
   "source": [
    "c[2] = '셋'"
   ]
  },
  {
   "cell_type": "code",
   "execution_count": 70,
   "id": "061f6f7d-ea0c-4ba1-89aa-723299a20b28",
   "metadata": {},
   "outputs": [
    {
     "name": "stdout",
     "output_type": "stream",
     "text": [
      "사과 [1, 2, '셋', 4, 5]\n"
     ]
    }
   ],
   "source": [
    "print(a, c)"
   ]
  },
  {
   "cell_type": "code",
   "execution_count": null,
   "id": "0ea272c7-4d45-4814-a8d4-e930e1bd8c21",
   "metadata": {},
   "outputs": [],
   "source": [
    "# 변수 생성 & 대입"
   ]
  },
  {
   "cell_type": "code",
   "execution_count": 67,
   "id": "17b0ec3f-00cd-4eef-9e8e-bbed747a6988",
   "metadata": {},
   "outputs": [],
   "source": [
    "[a, b] = ['사과', '오렌지']"
   ]
  },
  {
   "cell_type": "code",
   "execution_count": 68,
   "id": "952e1c06-943e-470e-8729-5b591bc050a3",
   "metadata": {},
   "outputs": [
    {
     "name": "stdout",
     "output_type": "stream",
     "text": [
      "사과 오렌지\n"
     ]
    }
   ],
   "source": [
    "print(a, b)"
   ]
  },
  {
   "cell_type": "code",
   "execution_count": 72,
   "id": "27c62bef-4f75-4017-a97f-9a1bd10e6415",
   "metadata": {},
   "outputs": [],
   "source": [
    "a, b = 'python', 'life'"
   ]
  },
  {
   "cell_type": "code",
   "execution_count": 73,
   "id": "cc16a0ae-e900-452a-8c01-277af9103be0",
   "metadata": {},
   "outputs": [
    {
     "name": "stdout",
     "output_type": "stream",
     "text": [
      "python life\n"
     ]
    }
   ],
   "source": [
    "print(a, b)"
   ]
  }
 ],
 "metadata": {
  "kernelspec": {
   "display_name": "Python 3 (ipykernel)",
   "language": "python",
   "name": "python3"
  },
  "language_info": {
   "codemirror_mode": {
    "name": "ipython",
    "version": 3
   },
   "file_extension": ".py",
   "mimetype": "text/x-python",
   "name": "python",
   "nbconvert_exporter": "python",
   "pygments_lexer": "ipython3",
   "version": "3.12.7"
  }
 },
 "nbformat": 4,
 "nbformat_minor": 5
}
