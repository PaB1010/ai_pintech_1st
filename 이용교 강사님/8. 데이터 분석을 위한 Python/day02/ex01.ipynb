{
 "cells": [
  {
   "cell_type": "code",
   "execution_count": null,
   "id": "f971ef6c-e49f-4df7-bb24-8a3490338b18",
   "metadata": {},
   "outputs": [],
   "source": [
    "# List 자료형"
   ]
  },
  {
   "cell_type": "code",
   "execution_count": 1,
   "id": "be512380-679c-4c40-8c63-3c1db80fc4a7",
   "metadata": {},
   "outputs": [],
   "source": [
    "a = [1, 2, 3]"
   ]
  },
  {
   "cell_type": "code",
   "execution_count": 2,
   "id": "fed1222f-ae6b-4beb-8392-a44558296166",
   "metadata": {},
   "outputs": [
    {
     "data": {
      "text/plain": [
       "[1, 2, 3]"
      ]
     },
     "execution_count": 2,
     "metadata": {},
     "output_type": "execute_result"
    }
   ],
   "source": [
    "a"
   ]
  },
  {
   "cell_type": "code",
   "execution_count": 3,
   "id": "e023b78b-279a-4d1d-bd3b-7b6d81ab7360",
   "metadata": {},
   "outputs": [
    {
     "data": {
      "text/plain": [
       "1"
      ]
     },
     "execution_count": 3,
     "metadata": {},
     "output_type": "execute_result"
    }
   ],
   "source": [
    "a[0]  # index 번호는 0부터 시작"
   ]
  },
  {
   "cell_type": "code",
   "execution_count": 4,
   "id": "81d36d3f-a192-4931-b469-2b5671aebd04",
   "metadata": {},
   "outputs": [
    {
     "data": {
      "text/plain": [
       "3"
      ]
     },
     "execution_count": 4,
     "metadata": {},
     "output_type": "execute_result"
    }
   ],
   "source": [
    "a[-1]"
   ]
  },
  {
   "cell_type": "code",
   "execution_count": 5,
   "id": "d502e7f4-5bd5-4936-bf70-135e33bb4c90",
   "metadata": {},
   "outputs": [],
   "source": [
    "a = [1, 2, 3, ['a', 'b', 'c']]  # List 중첩 (자료형 유연성)"
   ]
  },
  {
   "cell_type": "code",
   "execution_count": 7,
   "id": "d87ce40f-a273-4b4e-9dba-5a9e344f0d91",
   "metadata": {},
   "outputs": [
    {
     "data": {
      "text/plain": [
       "['a', 'b', 'c']"
      ]
     },
     "execution_count": 7,
     "metadata": {},
     "output_type": "execute_result"
    }
   ],
   "source": [
    "a[-1]"
   ]
  },
  {
   "cell_type": "code",
   "execution_count": 13,
   "id": "454c9b65-62d9-4bb8-9bdd-5cccdf6472f8",
   "metadata": {},
   "outputs": [
    {
     "data": {
      "text/plain": [
       "'b'"
      ]
     },
     "execution_count": 13,
     "metadata": {},
     "output_type": "execute_result"
    }
   ],
   "source": [
    "a[-1][1]  # index -1의 index 1번째 요소 = 'b'"
   ]
  },
  {
   "cell_type": "code",
   "execution_count": 14,
   "id": "9f22bf11-5a41-407a-896e-5c7ee793f11f",
   "metadata": {},
   "outputs": [],
   "source": [
    "a = [1, 2, 3, 4, 5]"
   ]
  },
  {
   "cell_type": "code",
   "execution_count": 15,
   "id": "30d4a5d9-ddb7-445e-aba2-8be94e15bf81",
   "metadata": {},
   "outputs": [
    {
     "data": {
      "text/plain": [
       "[1, 2]"
      ]
     },
     "execution_count": 15,
     "metadata": {},
     "output_type": "execute_result"
    }
   ],
   "source": [
    "a[0:2]  # index 0, 1"
   ]
  },
  {
   "cell_type": "code",
   "execution_count": 17,
   "id": "4e4d94f1-df45-4a1d-8b8a-646e66b979e3",
   "metadata": {},
   "outputs": [
    {
     "data": {
      "text/plain": [
       "[3, 4, 5]"
      ]
     },
     "execution_count": 17,
     "metadata": {},
     "output_type": "execute_result"
    }
   ],
   "source": [
    "a[2:]"
   ]
  },
  {
   "cell_type": "code",
   "execution_count": 20,
   "id": "85db59c9-ea0f-4f2c-b1e5-bf895fd86797",
   "metadata": {},
   "outputs": [
    {
     "data": {
      "text/plain": [
       "[1, 2, 3, 4]"
      ]
     },
     "execution_count": 20,
     "metadata": {},
     "output_type": "execute_result"
    }
   ],
   "source": [
    "a[:4]"
   ]
  },
  {
   "cell_type": "code",
   "execution_count": 21,
   "id": "cfff5ea7-21bc-4615-9824-bf0a3b8566de",
   "metadata": {},
   "outputs": [],
   "source": [
    "a = [1, 2, 3, ['a', 'b', 'c'], 4, 5]"
   ]
  },
  {
   "cell_type": "code",
   "execution_count": 25,
   "id": "05f0b493-1653-4c68-a75f-09e244a341a4",
   "metadata": {},
   "outputs": [
    {
     "data": {
      "text/plain": [
       "['a', 'b']"
      ]
     },
     "execution_count": 25,
     "metadata": {},
     "output_type": "execute_result"
    }
   ],
   "source": [
    "a[3][:2]"
   ]
  },
  {
   "cell_type": "code",
   "execution_count": 32,
   "id": "b3858f17-dd8e-4bec-ac76-9386d3d7190f",
   "metadata": {},
   "outputs": [
    {
     "name": "stdout",
     "output_type": "stream",
     "text": [
      "[4, 5, 6, 1, 2, 3]\n"
     ]
    }
   ],
   "source": [
    "a = [1, 2, 3]\n",
    "b = [4, 5, 6]\n",
    "c = b + a\n",
    "print(c)"
   ]
  },
  {
   "cell_type": "code",
   "execution_count": 29,
   "id": "6a63f439-1c94-4d12-b188-caba4d0f436f",
   "metadata": {},
   "outputs": [
    {
     "name": "stdout",
     "output_type": "stream",
     "text": [
      "[1, 2, 3, 1, 2, 3, 1, 2, 3]\n"
     ]
    }
   ],
   "source": [
    "d = a * 3\n",
    "print(d)"
   ]
  },
  {
   "cell_type": "code",
   "execution_count": 34,
   "id": "e420655f-6e91-4bc3-a876-23a3abca5bf4",
   "metadata": {},
   "outputs": [
    {
     "ename": "TypeError",
     "evalue": "unsupported operand type(s) for +: 'int' and 'str'",
     "output_type": "error",
     "traceback": [
      "\u001b[1;31m---------------------------------------------------------------------------\u001b[0m",
      "\u001b[1;31mTypeError\u001b[0m                                 Traceback (most recent call last)",
      "Cell \u001b[1;32mIn[34], line 1\u001b[0m\n\u001b[1;32m----> 1\u001b[0m \u001b[38;5;241;43m1\u001b[39;49m\u001b[43m \u001b[49m\u001b[38;5;241;43m+\u001b[39;49m\u001b[43m \u001b[49m\u001b[38;5;124;43m'\u001b[39;49m\u001b[38;5;124;43mabc\u001b[39;49m\u001b[38;5;124;43m'\u001b[39;49m\n",
      "\u001b[1;31mTypeError\u001b[0m: unsupported operand type(s) for +: 'int' and 'str'"
     ]
    }
   ],
   "source": [
    "1 + 'abc'\n",
    "# 형변환 없어 숫자 + 문자열 연산 불가능, 오류!"
   ]
  },
  {
   "cell_type": "code",
   "execution_count": 35,
   "id": "43fa3848-2ef4-4ac3-93e3-8182039fe99a",
   "metadata": {},
   "outputs": [
    {
     "data": {
      "text/plain": [
       "'1abc'"
      ]
     },
     "execution_count": 35,
     "metadata": {},
     "output_type": "execute_result"
    }
   ],
   "source": [
    "str(1) + 'abc'\n",
    "# 숫자는 반드시 문자로 변경해야 문자열 결합으로 연산 가능"
   ]
  },
  {
   "cell_type": "code",
   "execution_count": 73,
   "id": "f3c15fff-315b-409e-a5a2-5e506b8a3795",
   "metadata": {},
   "outputs": [
    {
     "data": {
      "text/plain": [
       "'2a'"
      ]
     },
     "execution_count": 73,
     "metadata": {},
     "output_type": "execute_result"
    }
   ],
   "source": [
    "a = [1, 2, 3, 'a', 'b', 'c']\n",
    "# a[1] + a[3] 아직 형변환 문제로 오류!\n",
    "str(a[1]) + a[3]"
   ]
  },
  {
   "cell_type": "code",
   "execution_count": 74,
   "id": "dc3c8ddc-6f02-4d3c-b5ee-c588cf24e439",
   "metadata": {},
   "outputs": [
    {
     "name": "stdout",
     "output_type": "stream",
     "text": [
      "[1, 2, 3, 1, 'b', 'c']\n"
     ]
    }
   ],
   "source": [
    "a[3] = 1  # 자료형 달라도 수정 가능\n",
    "print(a)"
   ]
  },
  {
   "cell_type": "code",
   "execution_count": 40,
   "id": "6a012a0c-d363-4550-adfa-cd22de437bfb",
   "metadata": {},
   "outputs": [
    {
     "name": "stdout",
     "output_type": "stream",
     "text": [
      "[1, 2, 3, 'b', 'c']\n"
     ]
    }
   ],
   "source": [
    "# a[3] = 'A'\n",
    "del a[3]\n",
    "# index 번호도 삭제 후 자동으로 재조정 (JavaScript와의 차이)\n",
    "print(a)"
   ]
  },
  {
   "cell_type": "code",
   "execution_count": 45,
   "id": "2ff3bd03-1d84-433d-b6e5-0a0eed03a73d",
   "metadata": {},
   "outputs": [],
   "source": [
    "a = [1, 2, 3]"
   ]
  },
  {
   "cell_type": "code",
   "execution_count": 75,
   "id": "74e2e1f8-3ffc-4126-8325-17b6c5f4e7d9",
   "metadata": {},
   "outputs": [
    {
     "name": "stdout",
     "output_type": "stream",
     "text": [
      "None\n",
      "[1, 2, 3, 1, 'b', 'c', 4]\n"
     ]
    }
   ],
   "source": [
    "b = a + [4]\n",
    "# 연산해 b라는 새로운 객체로 생성\n",
    "b = a.append(4)  # a의 원데이터에 추가\n",
    "print(b)\n",
    "print(a)"
   ]
  },
  {
   "cell_type": "code",
   "execution_count": 117,
   "id": "eaf455e4-324f-4ef9-9b66-5e8e45b35f8b",
   "metadata": {},
   "outputs": [],
   "source": [
    "a = [2, 1, 3, 5, 4]"
   ]
  },
  {
   "cell_type": "code",
   "execution_count": 118,
   "id": "e594c870-91e6-4e0b-aff4-3b88a4a8c954",
   "metadata": {},
   "outputs": [],
   "source": [
    "# a.sort()\n",
    "# [1, 2, 3, 4, 5]\n",
    "# 오름차순 정렬 - 원본 데이터를 변경하므로 반환 값 X\n",
    "\n",
    "a.sort()\n",
    "a.reverse()\n",
    "# 오름차순 정렬 후 순서를 반대로 변경 = 내림차순"
   ]
  },
  {
   "cell_type": "code",
   "execution_count": 98,
   "id": "b8bd30f7-65ef-48f6-9464-780ab2da5a7f",
   "metadata": {},
   "outputs": [
    {
     "name": "stdout",
     "output_type": "stream",
     "text": [
      "[5, 4, 3, 2, 1]\n"
     ]
    }
   ],
   "source": [
    "print(a)"
   ]
  },
  {
   "cell_type": "code",
   "execution_count": 99,
   "id": "37ddc39b-e51d-450e-99e3-eae0a198f971",
   "metadata": {},
   "outputs": [
    {
     "name": "stdout",
     "output_type": "stream",
     "text": [
      "[3, 2, 1]\n"
     ]
    }
   ],
   "source": [
    "b = [1, 2, 3]\n",
    "b.reverse()\n",
    "print(b)"
   ]
  },
  {
   "cell_type": "code",
   "execution_count": 119,
   "id": "b6db3215-1832-41f2-be92-b8260c9878a7",
   "metadata": {},
   "outputs": [
    {
     "data": {
      "text/plain": [
       "0"
      ]
     },
     "execution_count": 119,
     "metadata": {},
     "output_type": "execute_result"
    }
   ],
   "source": [
    "a.index(5)"
   ]
  },
  {
   "cell_type": "code",
   "execution_count": 120,
   "id": "bcccbb5a-6aef-4fd7-ae7a-1037d66c3cbb",
   "metadata": {},
   "outputs": [
    {
     "data": {
      "text/plain": [
       "1"
      ]
     },
     "execution_count": 120,
     "metadata": {},
     "output_type": "execute_result"
    }
   ],
   "source": [
    "a.pop()"
   ]
  },
  {
   "cell_type": "code",
   "execution_count": 121,
   "id": "b41b89a4-dae1-45ed-9f81-9ac42402e04d",
   "metadata": {},
   "outputs": [
    {
     "name": "stdout",
     "output_type": "stream",
     "text": [
      "[5, 4, 3, 2]\n"
     ]
    }
   ],
   "source": [
    "print(a)"
   ]
  },
  {
   "cell_type": "code",
   "execution_count": 122,
   "id": "42e9c6be-7d0d-4a4b-a348-fa22ed8b78f4",
   "metadata": {},
   "outputs": [
    {
     "data": {
      "text/plain": [
       "2"
      ]
     },
     "execution_count": 122,
     "metadata": {},
     "output_type": "execute_result"
    }
   ],
   "source": [
    "a.pop(3)"
   ]
  },
  {
   "cell_type": "code",
   "execution_count": 133,
   "id": "6b3a5252-8ebe-4f78-b550-f4a639e21500",
   "metadata": {},
   "outputs": [
    {
     "name": "stdout",
     "output_type": "stream",
     "text": [
      "[1, 2, 3, 4, 5, 6]\n",
      "[1, 2, 3, 4, 5, 6, 7, 8]\n",
      "[1, 2, 3, 4]\n"
     ]
    }
   ],
   "source": [
    "a = [1, 2, 3]\n",
    "b = [4, 5, 6]\n",
    "a.extend(b)\n",
    "print(a)\n",
    "\n",
    "a.extend([7, 8])\n",
    "print(a)\n",
    "\n",
    "# print([1, 2].extend([8, 9]))\n",
    "# 반환값이 없는 원본이 변경되므로 불가, 오류!\n",
    "\n",
    "print([1,2] + [3,4])"
   ]
  },
  {
   "cell_type": "code",
   "execution_count": 141,
   "id": "c7f9c6d1-cccd-484c-95de-a1aa6c96dfb3",
   "metadata": {},
   "outputs": [],
   "source": [
    "a = [1, 2, 3]"
   ]
  },
  {
   "cell_type": "code",
   "execution_count": 142,
   "id": "67001f75-524e-4bf9-b267-a8df2af34de3",
   "metadata": {},
   "outputs": [
    {
     "name": "stdout",
     "output_type": "stream",
     "text": [
      "None\n",
      "[1, 2, 3, 4, 5, 6]\n"
     ]
    }
   ],
   "source": [
    "print(a.extend([4, 5, 6]))\n",
    "print(a)  # 원본 변경"
   ]
  },
  {
   "cell_type": "code",
   "execution_count": 143,
   "id": "e781f2ce-4daf-4204-b882-5d784ec6bc9f",
   "metadata": {},
   "outputs": [
    {
     "name": "stdout",
     "output_type": "stream",
     "text": [
      "[1, 2, 3, 4, 5, 6, 7, 8, 9]\n",
      "[1, 2, 3, 4, 5, 6]\n"
     ]
    }
   ],
   "source": [
    "print(a + [7, 8, 9])\n",
    "print(a)  # 원본 데이터 유지"
   ]
  }
 ],
 "metadata": {
  "kernelspec": {
   "display_name": "Python 3 (ipykernel)",
   "language": "python",
   "name": "python3"
  },
  "language_info": {
   "codemirror_mode": {
    "name": "ipython",
    "version": 3
   },
   "file_extension": ".py",
   "mimetype": "text/x-python",
   "name": "python",
   "nbconvert_exporter": "python",
   "pygments_lexer": "ipython3",
   "version": "3.12.7"
  }
 },
 "nbformat": 4,
 "nbformat_minor": 5
}
