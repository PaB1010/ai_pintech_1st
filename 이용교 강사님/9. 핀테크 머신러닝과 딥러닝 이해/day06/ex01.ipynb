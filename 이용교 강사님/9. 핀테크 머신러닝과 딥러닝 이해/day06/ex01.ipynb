{
 "cells": [
  {
   "cell_type": "code",
   "execution_count": 3,
   "id": "c6249bf8-d9d6-49ac-beab-9a63b533baec",
   "metadata": {},
   "outputs": [],
   "source": [
    "# 심층 신경망(딥러닝) 만들기"
   ]
  },
  {
   "cell_type": "code",
   "execution_count": 4,
   "id": "fbf62be1-331f-4947-930e-bd3ca8b5bdd6",
   "metadata": {},
   "outputs": [],
   "source": [
    "# 학습 세트 & 훈련(테스트) 세트 - 패션MNIST에서 가져오기"
   ]
  },
  {
   "cell_type": "code",
   "execution_count": 5,
   "id": "d09599ec-db91-44c3-8536-876b6d2d3865",
   "metadata": {},
   "outputs": [],
   "source": [
    "# tensorflow = 백엔드, keras = API\n",
    "from tensorflow import keras\n",
    "\n",
    "# Target이 있으니 지도 학습\n",
    "(train_input, train_target), (test_input, test_target) = keras.datasets.fashion_mnist.load_data()"
   ]
  },
  {
   "cell_type": "code",
   "execution_count": 6,
   "id": "16e35039-54a0-49f6-97be-19bd86cdf162",
   "metadata": {},
   "outputs": [],
   "source": [
    "# 데이터 전처리"
   ]
  },
  {
   "cell_type": "code",
   "execution_count": 7,
   "id": "5d0805f2-50a1-47bd-8b42-22ea3f1d4415",
   "metadata": {},
   "outputs": [
    {
     "name": "stdout",
     "output_type": "stream",
     "text": [
      "(60000, 28, 28) (60000,)\n"
     ]
    }
   ],
   "source": [
    "print(train_input.shape, train_target.shape)\n",
    "\n",
    "# 6만개의 학습 세트 28X28 픽셀"
   ]
  },
  {
   "cell_type": "code",
   "execution_count": 8,
   "id": "f9cc5816-0f67-4c0f-894a-07e58cc91880",
   "metadata": {},
   "outputs": [],
   "source": [
    "# 표준 점수 (각 픽셀 값을 0~255에서 0~1으로 전처리)"
   ]
  },
  {
   "cell_type": "code",
   "execution_count": 9,
   "id": "1a7f0e1a-4ec6-4bde-95bc-d8751a33e3e0",
   "metadata": {},
   "outputs": [],
   "source": [
    "# 학습 세트 전처리"
   ]
  },
  {
   "cell_type": "code",
   "execution_count": 10,
   "id": "d3282208-f4b5-4dea-a91e-c976cf0b8532",
   "metadata": {},
   "outputs": [],
   "source": [
    "train_scaled = train_input / 255\n",
    "\n",
    "# -1 = 전체 행\n",
    "train_scaled = train_scaled.reshape(-1, 28 * 28)"
   ]
  },
  {
   "cell_type": "code",
   "execution_count": 11,
   "id": "271a52dd-7d3b-4ed3-92dd-c3fcd7a6092d",
   "metadata": {},
   "outputs": [],
   "source": [
    "# 훈련(테스트) 세트 전처리"
   ]
  },
  {
   "cell_type": "code",
   "execution_count": 12,
   "id": "572e2e68-6646-4a07-8158-cc372ba4ec43",
   "metadata": {},
   "outputs": [],
   "source": [
    "test_scaled = test_input / 255\n",
    "\n",
    "test_scaled = test_scaled.reshape(-1, 28 * 28)"
   ]
  },
  {
   "cell_type": "code",
   "execution_count": 13,
   "id": "6f446f2f-beef-43d3-bbec-7f00a6769cf2",
   "metadata": {},
   "outputs": [
    {
     "name": "stdout",
     "output_type": "stream",
     "text": [
      "(60000, 784) (10000, 784)\n"
     ]
    }
   ],
   "source": [
    "print(train_scaled.shape, test_scaled.shape)"
   ]
  },
  {
   "cell_type": "code",
   "execution_count": 14,
   "id": "ae67f53b-92ab-4eff-a00c-35028682da79",
   "metadata": {},
   "outputs": [],
   "source": [
    "# Keras API로 층 추가"
   ]
  },
  {
   "cell_type": "code",
   "execution_count": 15,
   "id": "3253d245-bb3a-4e93-87a4-c93422de1326",
   "metadata": {},
   "outputs": [],
   "source": [
    "# 입력층 (Input)"
   ]
  },
  {
   "cell_type": "code",
   "execution_count": 16,
   "id": "3a5fc495-84c4-4d16-a00e-7b3090ffc0ae",
   "metadata": {},
   "outputs": [],
   "source": [
    "input = keras.layers.Input(shape=(784,))"
   ]
  },
  {
   "cell_type": "code",
   "execution_count": 17,
   "id": "432e70a1-ca83-461f-bb7d-4bf01968c645",
   "metadata": {},
   "outputs": [],
   "source": [
    "# 밀집층(은닉층)\n",
    "# sigmoid = 이진 분류"
   ]
  },
  {
   "cell_type": "code",
   "execution_count": 18,
   "id": "d54ffba5-c04c-4a79-b081-fe74ff8dc3fe",
   "metadata": {},
   "outputs": [],
   "source": [
    "# hidden = keras.layers.Dense(100, activation = 'sigmoid')\n",
    "hidden = keras.layers.Dense(100, activation = 'relu')"
   ]
  },
  {
   "cell_type": "code",
   "execution_count": 19,
   "id": "1e039cb4-93fb-41dc-82a6-784468994fee",
   "metadata": {},
   "outputs": [],
   "source": [
    "# 출력층 (Output)\n",
    "# 마지막은 항상 활성 함수로 softmax 함수"
   ]
  },
  {
   "cell_type": "code",
   "execution_count": 20,
   "id": "e4785886-2f98-44be-aaf0-d8ea9b71144b",
   "metadata": {},
   "outputs": [],
   "source": [
    "output = keras.layers.Dense(10, activation = 'softmax')"
   ]
  },
  {
   "cell_type": "code",
   "execution_count": 21,
   "id": "6fa22960-36e3-49cd-ab86-1254d5d8efac",
   "metadata": {},
   "outputs": [],
   "source": [
    "# model = keras.Sequential([input, hidden, output], name = '패션  MNIST 분류 모델')\n",
    "# = \n",
    "# 층 추가시 add 함수 사용\n",
    "model = keras.Sequential()\n",
    "\n",
    "# 순서 중요\n",
    "model.add(input)\n",
    "model.add(hidden)\n",
    "model.add(output)"
   ]
  },
  {
   "cell_type": "code",
   "execution_count": 22,
   "id": "9cba0f99-2bca-4df4-9c24-d2fb1d174030",
   "metadata": {},
   "outputs": [],
   "source": [
    "# 모델의 상세 내용 확인\n",
    "# 학습할 파라미터를 개수(Trainable params), 층의 상세\n",
    "# model.summary() 함수"
   ]
  },
  {
   "cell_type": "code",
   "execution_count": 23,
   "id": "48f89fe3-91d4-4f85-b14c-dd73e4cdc7f5",
   "metadata": {},
   "outputs": [
    {
     "data": {
      "text/html": [
       "<pre style=\"white-space:pre;overflow-x:auto;line-height:normal;font-family:Menlo,'DejaVu Sans Mono',consolas,'Courier New',monospace\"><span style=\"font-weight: bold\">Model: \"sequential\"</span>\n",
       "</pre>\n"
      ],
      "text/plain": [
       "\u001b[1mModel: \"sequential\"\u001b[0m\n"
      ]
     },
     "metadata": {},
     "output_type": "display_data"
    },
    {
     "data": {
      "text/html": [
       "<pre style=\"white-space:pre;overflow-x:auto;line-height:normal;font-family:Menlo,'DejaVu Sans Mono',consolas,'Courier New',monospace\">┏━━━━━━━━━━━━━━━━━━━━━━━━━━━━━━━━━━━━━━┳━━━━━━━━━━━━━━━━━━━━━━━━━━━━━┳━━━━━━━━━━━━━━━━━┓\n",
       "┃<span style=\"font-weight: bold\"> Layer (type)                         </span>┃<span style=\"font-weight: bold\"> Output Shape                </span>┃<span style=\"font-weight: bold\">         Param # </span>┃\n",
       "┡━━━━━━━━━━━━━━━━━━━━━━━━━━━━━━━━━━━━━━╇━━━━━━━━━━━━━━━━━━━━━━━━━━━━━╇━━━━━━━━━━━━━━━━━┩\n",
       "│ dense (<span style=\"color: #0087ff; text-decoration-color: #0087ff\">Dense</span>)                        │ (<span style=\"color: #00d7ff; text-decoration-color: #00d7ff\">None</span>, <span style=\"color: #00af00; text-decoration-color: #00af00\">100</span>)                 │          <span style=\"color: #00af00; text-decoration-color: #00af00\">78,500</span> │\n",
       "├──────────────────────────────────────┼─────────────────────────────┼─────────────────┤\n",
       "│ dense_1 (<span style=\"color: #0087ff; text-decoration-color: #0087ff\">Dense</span>)                      │ (<span style=\"color: #00d7ff; text-decoration-color: #00d7ff\">None</span>, <span style=\"color: #00af00; text-decoration-color: #00af00\">10</span>)                  │           <span style=\"color: #00af00; text-decoration-color: #00af00\">1,010</span> │\n",
       "└──────────────────────────────────────┴─────────────────────────────┴─────────────────┘\n",
       "</pre>\n"
      ],
      "text/plain": [
       "┏━━━━━━━━━━━━━━━━━━━━━━━━━━━━━━━━━━━━━━┳━━━━━━━━━━━━━━━━━━━━━━━━━━━━━┳━━━━━━━━━━━━━━━━━┓\n",
       "┃\u001b[1m \u001b[0m\u001b[1mLayer (type)                        \u001b[0m\u001b[1m \u001b[0m┃\u001b[1m \u001b[0m\u001b[1mOutput Shape               \u001b[0m\u001b[1m \u001b[0m┃\u001b[1m \u001b[0m\u001b[1m        Param #\u001b[0m\u001b[1m \u001b[0m┃\n",
       "┡━━━━━━━━━━━━━━━━━━━━━━━━━━━━━━━━━━━━━━╇━━━━━━━━━━━━━━━━━━━━━━━━━━━━━╇━━━━━━━━━━━━━━━━━┩\n",
       "│ dense (\u001b[38;5;33mDense\u001b[0m)                        │ (\u001b[38;5;45mNone\u001b[0m, \u001b[38;5;34m100\u001b[0m)                 │          \u001b[38;5;34m78,500\u001b[0m │\n",
       "├──────────────────────────────────────┼─────────────────────────────┼─────────────────┤\n",
       "│ dense_1 (\u001b[38;5;33mDense\u001b[0m)                      │ (\u001b[38;5;45mNone\u001b[0m, \u001b[38;5;34m10\u001b[0m)                  │           \u001b[38;5;34m1,010\u001b[0m │\n",
       "└──────────────────────────────────────┴─────────────────────────────┴─────────────────┘\n"
      ]
     },
     "metadata": {},
     "output_type": "display_data"
    },
    {
     "data": {
      "text/html": [
       "<pre style=\"white-space:pre;overflow-x:auto;line-height:normal;font-family:Menlo,'DejaVu Sans Mono',consolas,'Courier New',monospace\"><span style=\"font-weight: bold\"> Total params: </span><span style=\"color: #00af00; text-decoration-color: #00af00\">79,510</span> (310.59 KB)\n",
       "</pre>\n"
      ],
      "text/plain": [
       "\u001b[1m Total params: \u001b[0m\u001b[38;5;34m79,510\u001b[0m (310.59 KB)\n"
      ]
     },
     "metadata": {},
     "output_type": "display_data"
    },
    {
     "data": {
      "text/html": [
       "<pre style=\"white-space:pre;overflow-x:auto;line-height:normal;font-family:Menlo,'DejaVu Sans Mono',consolas,'Courier New',monospace\"><span style=\"font-weight: bold\"> Trainable params: </span><span style=\"color: #00af00; text-decoration-color: #00af00\">79,510</span> (310.59 KB)\n",
       "</pre>\n"
      ],
      "text/plain": [
       "\u001b[1m Trainable params: \u001b[0m\u001b[38;5;34m79,510\u001b[0m (310.59 KB)\n"
      ]
     },
     "metadata": {},
     "output_type": "display_data"
    },
    {
     "data": {
      "text/html": [
       "<pre style=\"white-space:pre;overflow-x:auto;line-height:normal;font-family:Menlo,'DejaVu Sans Mono',consolas,'Courier New',monospace\"><span style=\"font-weight: bold\"> Non-trainable params: </span><span style=\"color: #00af00; text-decoration-color: #00af00\">0</span> (0.00 B)\n",
       "</pre>\n"
      ],
      "text/plain": [
       "\u001b[1m Non-trainable params: \u001b[0m\u001b[38;5;34m0\u001b[0m (0.00 B)\n"
      ]
     },
     "metadata": {},
     "output_type": "display_data"
    }
   ],
   "source": [
    "model.summary()"
   ]
  },
  {
   "cell_type": "code",
   "execution_count": 24,
   "id": "f29a19c3-d312-4cbd-a846-c2b36254a3e0",
   "metadata": {},
   "outputs": [
    {
     "data": {
      "text/plain": [
       "'\\n이진 분류 - binary_crossentropy\\n\\n            이진 분류는 어차피 0~1이라 인코딩 불필요\\n            \\n다중 분류 - categorical_crossentropy\\n\\n            Target Data를 반드시 원핫 인코딩 처리\\n            전체 개수만큼 1차원 배열을 만들고 해당하는 index만 1,\\n            나머지는 0으로 처리하는 방식\\n            EX) 3일 경우 0001000000\\n            (0~9사이 값을 0~1로 변경)\\n            인코딩 처리하지 않으면 데이터 편향됨\\n\\n            sparse_categorical_crossentropy\\n            = 원핫 인코딩을 자동으로 처리\\n'"
      ]
     },
     "execution_count": 24,
     "metadata": {},
     "output_type": "execute_result"
    }
   ],
   "source": [
    "# 손실 함수 처리 방식\n",
    "# 측정 지표 설정 model.compile(...)\n",
    "\n",
    "\"\"\"\n",
    "이진 분류 - binary_crossentropy\n",
    "\n",
    "            이진 분류는 어차피 0~1이라 인코딩 불필요\n",
    "            \n",
    "다중 분류 - categorical_crossentropy\n",
    "\n",
    "            Target Data를 반드시 원핫 인코딩 처리\n",
    "            전체 개수만큼 1차원 배열을 만들고 해당하는 index만 1,\n",
    "            나머지는 0으로 처리하는 방식\n",
    "            EX) 3일 경우 0001000000\n",
    "            (0~9사이 값을 0~1로 변경)\n",
    "            인코딩 처리하지 않으면 데이터 편향됨\n",
    "\n",
    "            sparse_categorical_crossentropy\n",
    "            = 원핫 인코딩을 자동으로 처리\n",
    "\"\"\""
   ]
  },
  {
   "cell_type": "code",
   "execution_count": 25,
   "id": "5c6f8165-1168-4a98-ad8a-b3da85dc1f5b",
   "metadata": {},
   "outputs": [],
   "source": [
    "# metrics는 항상 List형태로 써야함(안할시 오류)\n",
    "model.compile(optimizer = 'adam', loss = 'sparse_categorical_crossentropy', metrics = ['accuracy'])"
   ]
  },
  {
   "cell_type": "code",
   "execution_count": 32,
   "id": "ae528907-01d1-4887-ae5b-f2a0e57d20a9",
   "metadata": {},
   "outputs": [
    {
     "name": "stdout",
     "output_type": "stream",
     "text": [
      "Epoch 1/5\n",
      "\u001b[1m1875/1875\u001b[0m \u001b[32m━━━━━━━━━━━━━━━━━━━━\u001b[0m\u001b[37m\u001b[0m \u001b[1m2s\u001b[0m 1ms/step - accuracy: 0.8948 - loss: 0.2827\n",
      "Epoch 2/5\n",
      "\u001b[1m1875/1875\u001b[0m \u001b[32m━━━━━━━━━━━━━━━━━━━━\u001b[0m\u001b[37m\u001b[0m \u001b[1m2s\u001b[0m 1ms/step - accuracy: 0.8988 - loss: 0.2756  \n",
      "Epoch 3/5\n",
      "\u001b[1m1875/1875\u001b[0m \u001b[32m━━━━━━━━━━━━━━━━━━━━\u001b[0m\u001b[37m\u001b[0m \u001b[1m2s\u001b[0m 991us/step - accuracy: 0.9021 - loss: 0.2612\n",
      "Epoch 4/5\n",
      "\u001b[1m1875/1875\u001b[0m \u001b[32m━━━━━━━━━━━━━━━━━━━━\u001b[0m\u001b[37m\u001b[0m \u001b[1m2s\u001b[0m 1ms/step - accuracy: 0.9057 - loss: 0.2535\n",
      "Epoch 5/5\n",
      "\u001b[1m1875/1875\u001b[0m \u001b[32m━━━━━━━━━━━━━━━━━━━━\u001b[0m\u001b[37m\u001b[0m \u001b[1m2s\u001b[0m 1ms/step - accuracy: 0.9113 - loss: 0.2404\n"
     ]
    },
    {
     "data": {
      "text/plain": [
       "<keras.src.callbacks.history.History at 0x2532b0a6840>"
      ]
     },
     "execution_count": 32,
     "metadata": {},
     "output_type": "execute_result"
    }
   ],
   "source": [
    "# 훈련\n",
    "model.fit(train_scaled, train_target, epochs = 5)"
   ]
  },
  {
   "cell_type": "code",
   "execution_count": 27,
   "id": "51b7140d-bf45-443d-950f-e08f47e43c2e",
   "metadata": {},
   "outputs": [],
   "source": [
    "# 테스트 세트 정확도 확인"
   ]
  },
  {
   "cell_type": "code",
   "execution_count": 33,
   "id": "f59c0b0c-08f3-439f-a428-58ea5838151a",
   "metadata": {},
   "outputs": [
    {
     "name": "stdout",
     "output_type": "stream",
     "text": [
      "\u001b[1m313/313\u001b[0m \u001b[32m━━━━━━━━━━━━━━━━━━━━\u001b[0m\u001b[37m\u001b[0m \u001b[1m0s\u001b[0m 793us/step - accuracy: 0.8858 - loss: 0.3311\n"
     ]
    },
    {
     "data": {
      "text/plain": [
       "[0.32991087436676025, 0.8849999904632568]"
      ]
     },
     "execution_count": 33,
     "metadata": {},
     "output_type": "execute_result"
    }
   ],
   "source": [
    "model.evaluate(test_scaled, test_target)"
   ]
  },
  {
   "cell_type": "code",
   "execution_count": 29,
   "id": "6b72b84d-a56c-452a-bb9e-943b7a53e7fe",
   "metadata": {},
   "outputs": [
    {
     "name": "stdout",
     "output_type": "stream",
     "text": [
      "\u001b[1m1/1\u001b[0m \u001b[32m━━━━━━━━━━━━━━━━━━━━\u001b[0m\u001b[37m\u001b[0m \u001b[1m0s\u001b[0m 42ms/step\n"
     ]
    }
   ],
   "source": [
    "predictions = model.predict(test_scaled[:5])"
   ]
  },
  {
   "cell_type": "code",
   "execution_count": 30,
   "id": "5bdb54f5-fed2-4921-beef-2205893907df",
   "metadata": {},
   "outputs": [
    {
     "name": "stdout",
     "output_type": "stream",
     "text": [
      "[9 2 1 1 6]\n"
     ]
    }
   ],
   "source": [
    "predictions = predictions.argmax(axis=1)\n",
    "\n",
    "print(predictions)"
   ]
  },
  {
   "cell_type": "code",
   "execution_count": 31,
   "id": "a7ec1e05-8ce6-45b6-b7d6-20ac19298fc1",
   "metadata": {},
   "outputs": [
    {
     "name": "stdout",
     "output_type": "stream",
     "text": [
      "[9 2 1 1 6]\n"
     ]
    }
   ],
   "source": [
    "print(test_target[:5])"
   ]
  }
 ],
 "metadata": {
  "kernelspec": {
   "display_name": "Python 3 (ipykernel)",
   "language": "python",
   "name": "python3"
  },
  "language_info": {
   "codemirror_mode": {
    "name": "ipython",
    "version": 3
   },
   "file_extension": ".py",
   "mimetype": "text/x-python",
   "name": "python",
   "nbconvert_exporter": "python",
   "pygments_lexer": "ipython3",
   "version": "3.12.7"
  }
 },
 "nbformat": 4,
 "nbformat_minor": 5
}
