{
 "cells": [
  {
   "cell_type": "code",
   "execution_count": 43,
   "id": "0df33eda-51d2-45fb-aea8-554ffd10f484",
   "metadata": {},
   "outputs": [],
   "source": [
    "# 신경망 모델 훈련 - 과대 적합을 막는 기법들(자동 하이퍼 파라미터)"
   ]
  },
  {
   "cell_type": "code",
   "execution_count": 44,
   "id": "96f0fa0c-f061-4bbd-b724-6f56a0e73ad8",
   "metadata": {},
   "outputs": [],
   "source": [
    "# 패션 MNIST - 훈련 세트 & 테스트 세트"
   ]
  },
  {
   "cell_type": "code",
   "execution_count": 45,
   "id": "5eea26df-d966-42aa-860a-3cc92227e368",
   "metadata": {},
   "outputs": [],
   "source": [
    "from tensorflow import keras\n",
    "\n",
    "(train_input, train_target), (test_input, test_target) = keras.datasets.fashion_mnist.load_data()"
   ]
  },
  {
   "cell_type": "code",
   "execution_count": 46,
   "id": "38fd5138-b746-41bf-9db2-a2c416d382b1",
   "metadata": {},
   "outputs": [],
   "source": [
    "# 모델 생성 함수 - 층 추가가 가능"
   ]
  },
  {
   "cell_type": "code",
   "execution_count": 47,
   "id": "79dd27f3-49d5-4e09-b0e0-5e11ca03132c",
   "metadata": {},
   "outputs": [],
   "source": [
    "# 입력, 출력 이외의 층 추가가 없을 수도 있어서 default 값 = None\n",
    "def model_fn (a_layer = None) :\n",
    "    \n",
    "    model = keras.Sequential()\n",
    "    \n",
    "    # 입력층\n",
    "    model.add(keras.layers.Input(shape=(28,28)))\n",
    "\n",
    "    # 평탄화 (2차원 -> 1차원)\n",
    "    model.add(keras.layers.Flatten())\n",
    "\n",
    "    # 은닉층 (밀집층)\n",
    "    model.add(keras.layers.Dense(100, activation = 'relu'))\n",
    "\n",
    "    # a_layer가 있을 경우 중간 중간 추가 가능하도록\n",
    "    if a_layer :\n",
    "\n",
    "        model.add(a_layer)\n",
    "    \n",
    "    # 출력층\n",
    "    model.add(keras.layers.Dense(10, activation = 'softmax'))\n",
    "\n",
    "    return model"
   ]
  },
  {
   "cell_type": "code",
   "execution_count": 48,
   "id": "89f81a74-f9cf-418f-9b24-d5b7caefbd8d",
   "metadata": {},
   "outputs": [],
   "source": [
    "# Dropout 은닉층 추가"
   ]
  },
  {
   "cell_type": "code",
   "execution_count": 49,
   "id": "8231dfb5-9c45-42db-bd12-5e5f8f10530e",
   "metadata": {},
   "outputs": [
    {
     "data": {
      "text/html": [
       "<pre style=\"white-space:pre;overflow-x:auto;line-height:normal;font-family:Menlo,'DejaVu Sans Mono',consolas,'Courier New',monospace\"><span style=\"font-weight: bold\">Model: \"sequential_2\"</span>\n",
       "</pre>\n"
      ],
      "text/plain": [
       "\u001b[1mModel: \"sequential_2\"\u001b[0m\n"
      ]
     },
     "metadata": {},
     "output_type": "display_data"
    },
    {
     "data": {
      "text/html": [
       "<pre style=\"white-space:pre;overflow-x:auto;line-height:normal;font-family:Menlo,'DejaVu Sans Mono',consolas,'Courier New',monospace\">┏━━━━━━━━━━━━━━━━━━━━━━━━━━━━━━━━━━━━━━┳━━━━━━━━━━━━━━━━━━━━━━━━━━━━━┳━━━━━━━━━━━━━━━━━┓\n",
       "┃<span style=\"font-weight: bold\"> Layer (type)                         </span>┃<span style=\"font-weight: bold\"> Output Shape                </span>┃<span style=\"font-weight: bold\">         Param # </span>┃\n",
       "┡━━━━━━━━━━━━━━━━━━━━━━━━━━━━━━━━━━━━━━╇━━━━━━━━━━━━━━━━━━━━━━━━━━━━━╇━━━━━━━━━━━━━━━━━┩\n",
       "│ flatten_2 (<span style=\"color: #0087ff; text-decoration-color: #0087ff\">Flatten</span>)                  │ (<span style=\"color: #00d7ff; text-decoration-color: #00d7ff\">None</span>, <span style=\"color: #00af00; text-decoration-color: #00af00\">784</span>)                 │               <span style=\"color: #00af00; text-decoration-color: #00af00\">0</span> │\n",
       "├──────────────────────────────────────┼─────────────────────────────┼─────────────────┤\n",
       "│ dense_4 (<span style=\"color: #0087ff; text-decoration-color: #0087ff\">Dense</span>)                      │ (<span style=\"color: #00d7ff; text-decoration-color: #00d7ff\">None</span>, <span style=\"color: #00af00; text-decoration-color: #00af00\">100</span>)                 │          <span style=\"color: #00af00; text-decoration-color: #00af00\">78,500</span> │\n",
       "├──────────────────────────────────────┼─────────────────────────────┼─────────────────┤\n",
       "│ dropout_2 (<span style=\"color: #0087ff; text-decoration-color: #0087ff\">Dropout</span>)                  │ (<span style=\"color: #00d7ff; text-decoration-color: #00d7ff\">None</span>, <span style=\"color: #00af00; text-decoration-color: #00af00\">100</span>)                 │               <span style=\"color: #00af00; text-decoration-color: #00af00\">0</span> │\n",
       "├──────────────────────────────────────┼─────────────────────────────┼─────────────────┤\n",
       "│ dense_5 (<span style=\"color: #0087ff; text-decoration-color: #0087ff\">Dense</span>)                      │ (<span style=\"color: #00d7ff; text-decoration-color: #00d7ff\">None</span>, <span style=\"color: #00af00; text-decoration-color: #00af00\">10</span>)                  │           <span style=\"color: #00af00; text-decoration-color: #00af00\">1,010</span> │\n",
       "└──────────────────────────────────────┴─────────────────────────────┴─────────────────┘\n",
       "</pre>\n"
      ],
      "text/plain": [
       "┏━━━━━━━━━━━━━━━━━━━━━━━━━━━━━━━━━━━━━━┳━━━━━━━━━━━━━━━━━━━━━━━━━━━━━┳━━━━━━━━━━━━━━━━━┓\n",
       "┃\u001b[1m \u001b[0m\u001b[1mLayer (type)                        \u001b[0m\u001b[1m \u001b[0m┃\u001b[1m \u001b[0m\u001b[1mOutput Shape               \u001b[0m\u001b[1m \u001b[0m┃\u001b[1m \u001b[0m\u001b[1m        Param #\u001b[0m\u001b[1m \u001b[0m┃\n",
       "┡━━━━━━━━━━━━━━━━━━━━━━━━━━━━━━━━━━━━━━╇━━━━━━━━━━━━━━━━━━━━━━━━━━━━━╇━━━━━━━━━━━━━━━━━┩\n",
       "│ flatten_2 (\u001b[38;5;33mFlatten\u001b[0m)                  │ (\u001b[38;5;45mNone\u001b[0m, \u001b[38;5;34m784\u001b[0m)                 │               \u001b[38;5;34m0\u001b[0m │\n",
       "├──────────────────────────────────────┼─────────────────────────────┼─────────────────┤\n",
       "│ dense_4 (\u001b[38;5;33mDense\u001b[0m)                      │ (\u001b[38;5;45mNone\u001b[0m, \u001b[38;5;34m100\u001b[0m)                 │          \u001b[38;5;34m78,500\u001b[0m │\n",
       "├──────────────────────────────────────┼─────────────────────────────┼─────────────────┤\n",
       "│ dropout_2 (\u001b[38;5;33mDropout\u001b[0m)                  │ (\u001b[38;5;45mNone\u001b[0m, \u001b[38;5;34m100\u001b[0m)                 │               \u001b[38;5;34m0\u001b[0m │\n",
       "├──────────────────────────────────────┼─────────────────────────────┼─────────────────┤\n",
       "│ dense_5 (\u001b[38;5;33mDense\u001b[0m)                      │ (\u001b[38;5;45mNone\u001b[0m, \u001b[38;5;34m10\u001b[0m)                  │           \u001b[38;5;34m1,010\u001b[0m │\n",
       "└──────────────────────────────────────┴─────────────────────────────┴─────────────────┘\n"
      ]
     },
     "metadata": {},
     "output_type": "display_data"
    },
    {
     "data": {
      "text/html": [
       "<pre style=\"white-space:pre;overflow-x:auto;line-height:normal;font-family:Menlo,'DejaVu Sans Mono',consolas,'Courier New',monospace\"><span style=\"font-weight: bold\"> Total params: </span><span style=\"color: #00af00; text-decoration-color: #00af00\">79,510</span> (310.59 KB)\n",
       "</pre>\n"
      ],
      "text/plain": [
       "\u001b[1m Total params: \u001b[0m\u001b[38;5;34m79,510\u001b[0m (310.59 KB)\n"
      ]
     },
     "metadata": {},
     "output_type": "display_data"
    },
    {
     "data": {
      "text/html": [
       "<pre style=\"white-space:pre;overflow-x:auto;line-height:normal;font-family:Menlo,'DejaVu Sans Mono',consolas,'Courier New',monospace\"><span style=\"font-weight: bold\"> Trainable params: </span><span style=\"color: #00af00; text-decoration-color: #00af00\">79,510</span> (310.59 KB)\n",
       "</pre>\n"
      ],
      "text/plain": [
       "\u001b[1m Trainable params: \u001b[0m\u001b[38;5;34m79,510\u001b[0m (310.59 KB)\n"
      ]
     },
     "metadata": {},
     "output_type": "display_data"
    },
    {
     "data": {
      "text/html": [
       "<pre style=\"white-space:pre;overflow-x:auto;line-height:normal;font-family:Menlo,'DejaVu Sans Mono',consolas,'Courier New',monospace\"><span style=\"font-weight: bold\"> Non-trainable params: </span><span style=\"color: #00af00; text-decoration-color: #00af00\">0</span> (0.00 B)\n",
       "</pre>\n"
      ],
      "text/plain": [
       "\u001b[1m Non-trainable params: \u001b[0m\u001b[38;5;34m0\u001b[0m (0.00 B)\n"
      ]
     },
     "metadata": {},
     "output_type": "display_data"
    }
   ],
   "source": [
    "# model = model_fn()\n",
    "\n",
    "# 30% 비율의 밀집층의 출력을 0으로 랜덤하게 변경\n",
    "model = model_fn(keras.layers.Dropout(0.3))\n",
    "\n",
    "model.summary()"
   ]
  },
  {
   "cell_type": "code",
   "execution_count": 50,
   "id": "148c7cea-09d3-49f6-a287-0e3bb8872f7a",
   "metadata": {},
   "outputs": [],
   "source": [
    "# 데이터 전처리"
   ]
  },
  {
   "cell_type": "code",
   "execution_count": 51,
   "id": "e2b00b9a-9784-4ab7-8e19-980a45e849b3",
   "metadata": {},
   "outputs": [],
   "source": [
    "train_scaled = train_input / 255\n",
    "test_scaled = test_input / 255"
   ]
  },
  {
   "cell_type": "code",
   "execution_count": 52,
   "id": "a2c810fb-1c72-48a6-a445-498c47fb4151",
   "metadata": {},
   "outputs": [],
   "source": [
    "# 학습"
   ]
  },
  {
   "cell_type": "code",
   "execution_count": 53,
   "id": "403a0240-93d6-4c54-b414-2f4b041cabd2",
   "metadata": {},
   "outputs": [
    {
     "name": "stdout",
     "output_type": "stream",
     "text": [
      "Epoch 1/13\n",
      "\u001b[1m1875/1875\u001b[0m \u001b[32m━━━━━━━━━━━━━━━━━━━━\u001b[0m\u001b[37m\u001b[0m \u001b[1m3s\u001b[0m 1ms/step - accuracy: 0.7450 - loss: 0.7300 - val_accuracy: 0.8457 - val_loss: 0.4326\n",
      "Epoch 2/13\n",
      "\u001b[1m1875/1875\u001b[0m \u001b[32m━━━━━━━━━━━━━━━━━━━━\u001b[0m\u001b[37m\u001b[0m \u001b[1m2s\u001b[0m 1ms/step - accuracy: 0.8460 - loss: 0.4299 - val_accuracy: 0.8585 - val_loss: 0.4016\n",
      "Epoch 3/13\n",
      "\u001b[1m1875/1875\u001b[0m \u001b[32m━━━━━━━━━━━━━━━━━━━━\u001b[0m\u001b[37m\u001b[0m \u001b[1m2s\u001b[0m 1ms/step - accuracy: 0.8523 - loss: 0.4007 - val_accuracy: 0.8620 - val_loss: 0.3849\n",
      "Epoch 4/13\n",
      "\u001b[1m1875/1875\u001b[0m \u001b[32m━━━━━━━━━━━━━━━━━━━━\u001b[0m\u001b[37m\u001b[0m \u001b[1m2s\u001b[0m 1ms/step - accuracy: 0.8610 - loss: 0.3795 - val_accuracy: 0.8625 - val_loss: 0.3738\n",
      "Epoch 5/13\n",
      "\u001b[1m1875/1875\u001b[0m \u001b[32m━━━━━━━━━━━━━━━━━━━━\u001b[0m\u001b[37m\u001b[0m \u001b[1m2s\u001b[0m 1ms/step - accuracy: 0.8680 - loss: 0.3609 - val_accuracy: 0.8686 - val_loss: 0.3662\n",
      "Epoch 6/13\n",
      "\u001b[1m1875/1875\u001b[0m \u001b[32m━━━━━━━━━━━━━━━━━━━━\u001b[0m\u001b[37m\u001b[0m \u001b[1m2s\u001b[0m 1ms/step - accuracy: 0.8722 - loss: 0.3461 - val_accuracy: 0.8630 - val_loss: 0.3740\n",
      "Epoch 7/13\n",
      "\u001b[1m1875/1875\u001b[0m \u001b[32m━━━━━━━━━━━━━━━━━━━━\u001b[0m\u001b[37m\u001b[0m \u001b[1m2s\u001b[0m 1ms/step - accuracy: 0.8746 - loss: 0.3388 - val_accuracy: 0.8740 - val_loss: 0.3539\n",
      "Epoch 8/13\n",
      "\u001b[1m1875/1875\u001b[0m \u001b[32m━━━━━━━━━━━━━━━━━━━━\u001b[0m\u001b[37m\u001b[0m \u001b[1m2s\u001b[0m 1ms/step - accuracy: 0.8779 - loss: 0.3289 - val_accuracy: 0.8666 - val_loss: 0.3684\n",
      "Epoch 9/13\n",
      "\u001b[1m1875/1875\u001b[0m \u001b[32m━━━━━━━━━━━━━━━━━━━━\u001b[0m\u001b[37m\u001b[0m \u001b[1m2s\u001b[0m 1ms/step - accuracy: 0.8806 - loss: 0.3258 - val_accuracy: 0.8745 - val_loss: 0.3487\n",
      "Epoch 10/13\n",
      "\u001b[1m1875/1875\u001b[0m \u001b[32m━━━━━━━━━━━━━━━━━━━━\u001b[0m\u001b[37m\u001b[0m \u001b[1m2s\u001b[0m 1ms/step - accuracy: 0.8812 - loss: 0.3152 - val_accuracy: 0.8708 - val_loss: 0.3580\n",
      "Epoch 11/13\n",
      "\u001b[1m1875/1875\u001b[0m \u001b[32m━━━━━━━━━━━━━━━━━━━━\u001b[0m\u001b[37m\u001b[0m \u001b[1m2s\u001b[0m 1ms/step - accuracy: 0.8844 - loss: 0.3077 - val_accuracy: 0.8776 - val_loss: 0.3478\n",
      "Epoch 12/13\n",
      "\u001b[1m1875/1875\u001b[0m \u001b[32m━━━━━━━━━━━━━━━━━━━━\u001b[0m\u001b[37m\u001b[0m \u001b[1m2s\u001b[0m 1ms/step - accuracy: 0.8835 - loss: 0.3101 - val_accuracy: 0.8776 - val_loss: 0.3439\n",
      "Epoch 13/13\n",
      "\u001b[1m1875/1875\u001b[0m \u001b[32m━━━━━━━━━━━━━━━━━━━━\u001b[0m\u001b[37m\u001b[0m \u001b[1m2s\u001b[0m 1ms/step - accuracy: 0.8892 - loss: 0.2956 - val_accuracy: 0.8777 - val_loss: 0.3534\n"
     ]
    }
   ],
   "source": [
    "model.compile(optimizer = 'adam', loss = 'sparse_categorical_crossentropy', metrics = ['accuracy'])\n",
    "\n",
    "# history 객체 return값 = 정확도, 손실률에 대한 각 epoch별 측정 데이터\n",
    "# history = model.fit(train_scaled, train_target, epochs = 20, validation_data = (test_scaled, test_target))\n",
    "\n",
    "# dropout 확인 해보니 13 epoch 이후 과대 적합, 13 epoch가 최적 지점\n",
    "history = model.fit(train_scaled, train_target, epochs = 13, validation_data = (test_scaled, test_target))"
   ]
  },
  {
   "cell_type": "code",
   "execution_count": 54,
   "id": "0997f52d-bddf-4824-a08e-174f1a148bf4",
   "metadata": {},
   "outputs": [
    {
     "name": "stdout",
     "output_type": "stream",
     "text": [
      "dict_keys(['accuracy', 'loss', 'val_accuracy', 'val_loss'])\n"
     ]
    }
   ],
   "source": [
    "print(history.history.keys())\n",
    "\n",
    "# 정확도, 손실률"
   ]
  },
  {
   "cell_type": "code",
   "execution_count": 55,
   "id": "197be142-3b45-4faf-8631-dd86396c540c",
   "metadata": {},
   "outputs": [
    {
     "data": {
      "image/png": "[encoded data removed]",
      "text/plain": [
       "<Figure size 640x480 with 1 Axes>"
      ]
     },
     "metadata": {},
     "output_type": "display_data"
    }
   ],
   "source": [
    "import matplotlib.pyplot as plt\n",
    "\n",
    "# 학습 세트 손실률\n",
    "plt.plot(history.history['loss'])\n",
    "\n",
    "# 테스트 세트 손실률\n",
    "plt.plot(history.history['val_loss'])\n",
    "\n",
    "plt.xlabel('epoch')\n",
    "plt.ylabel('loss')\n",
    "\n",
    "plt.legend(['train', 'test'])\n",
    "\n",
    "plt.show()\n",
    "\n",
    "# 손실률이 급격히 떨어지다가 점점 완만해지는 모습"
   ]
  },
  {
   "cell_type": "code",
   "execution_count": 56,
   "id": "02cf5e30-1ab8-4ec3-b1ee-7b3e1215a008",
   "metadata": {},
   "outputs": [
    {
     "data": {
      "image/png": "[encoded data removed]",
      "text/plain": [
       "<Figure size 640x480 with 1 Axes>"
      ]
     },
     "metadata": {},
     "output_type": "display_data"
    }
   ],
   "source": [
    "# 학습 세트 정확도\n",
    "plt.plot(history.history['accuracy'])\n",
    "\n",
    "# 테스트 세트 정확도\n",
    "plt.plot(history.history['val_accuracy'])\n",
    "\n",
    "plt.xlabel('epochs')\n",
    "plt.ylabel('accuracy')\n",
    "\n",
    "plt.legend(['train', 'test'])\n",
    "\n",
    "plt.show()\n",
    "\n",
    "# 정확도가 급격히 오르다가 점점 완만해지는 모습"
   ]
  },
  {
   "cell_type": "code",
   "execution_count": 58,
   "id": "a931a48d-ecc3-41ae-88ba-1c15858d12c4",
   "metadata": {},
   "outputs": [],
   "source": [
    "# 1. 가중치(기울기)만 저장, 2. 모델 전체 저장 save 함수\n",
    "# Schedule 활용"
   ]
  },
  {
   "cell_type": "code",
   "execution_count": 59,
   "id": "7b78d44d-0cdd-4d40-bd9f-268a6684a274",
   "metadata": {},
   "outputs": [],
   "source": [
    "# 1. 가중치만 저장"
   ]
  },
  {
   "cell_type": "code",
   "execution_count": 60,
   "id": "482c78d9-a084-4483-bf7c-50ef8fec8ab0",
   "metadata": {},
   "outputs": [],
   "source": [
    "# h5 형식 = HDFS (체크포인트, 모델 복구 가능)\n",
    "# model.save_weights('model.weights.h5')"
   ]
  },
  {
   "cell_type": "code",
   "execution_count": 61,
   "id": "4f809af1-4c10-4c92-b328-c8dbf3de91d6",
   "metadata": {},
   "outputs": [],
   "source": [
    "# 저장해준 모델과 동일한 구성 후 로드시 모델 복구"
   ]
  },
  {
   "cell_type": "code",
   "execution_count": 62,
   "id": "e07641a9-2a51-4a05-b8a5-7fc85812deee",
   "metadata": {},
   "outputs": [],
   "source": [
    "# model = model_fn(keras.layers.Dropout(0.3))"
   ]
  },
  {
   "cell_type": "code",
   "execution_count": 63,
   "id": "781f0f6c-5be4-4e6f-ae8f-67ab2828d6a2",
   "metadata": {},
   "outputs": [],
   "source": [
    "# 앞서 학습한 13 epoch 가중치 로드"
   ]
  },
  {
   "cell_type": "code",
   "execution_count": 64,
   "id": "c6c1780b-dd6c-4dd2-a579-2f2545f9f7b4",
   "metadata": {},
   "outputs": [],
   "source": [
    "# model.load_weights('model.weights.h5')"
   ]
  },
  {
   "cell_type": "code",
   "execution_count": 65,
   "id": "75e3e469-6f46-4d76-aff8-b990dfea462a",
   "metadata": {},
   "outputs": [],
   "source": [
    "# predictions = model.predict(test_scaled)"
   ]
  },
  {
   "cell_type": "code",
   "execution_count": 66,
   "id": "a146b373-05dd-47db-8cc5-41d651ce7974",
   "metadata": {},
   "outputs": [],
   "source": [
    "import numpy as np\n",
    "\n",
    "# 정답 1, 오답 0\n",
    "# 정답 평균구해 정확도 구하기\n",
    "# np.mean(test_target == predictions.argmax(axis = 1))"
   ]
  },
  {
   "cell_type": "code",
   "execution_count": 67,
   "id": "1448f711-b468-4f6a-8739-c4c40d45e263",
   "metadata": {},
   "outputs": [],
   "source": [
    "# 2. 모델 전체 저장 save 함수"
   ]
  },
  {
   "cell_type": "code",
   "execution_count": 68,
   "id": "430158f6-ba1e-4795-9670-eef61aa5bc7c",
   "metadata": {},
   "outputs": [],
   "source": [
    "model.save('model-whole.keras')"
   ]
  },
  {
   "cell_type": "code",
   "execution_count": 69,
   "id": "4649ba1f-4f80-4418-a2ec-c5fcfa1c8167",
   "metadata": {},
   "outputs": [],
   "source": [
    "# 저장된 모델 로드"
   ]
  },
  {
   "cell_type": "code",
   "execution_count": 70,
   "id": "bfe8f24e-e09c-483d-bb46-ba355ba39237",
   "metadata": {},
   "outputs": [],
   "source": [
    "model = keras.models.load_model('model-whole.keras')"
   ]
  },
  {
   "cell_type": "code",
   "execution_count": 72,
   "id": "010bec3b-4095-4697-a209-d58e429e4e6b",
   "metadata": {},
   "outputs": [
    {
     "name": "stdout",
     "output_type": "stream",
     "text": [
      "\u001b[1m313/313\u001b[0m \u001b[32m━━━━━━━━━━━━━━━━━━━━\u001b[0m\u001b[37m\u001b[0m \u001b[1m0s\u001b[0m 832us/step - accuracy: 0.8771 - loss: 0.3542\n"
     ]
    },
    {
     "data": {
      "text/plain": [
       "[0.3534291088581085, 0.8776999711990356]"
      ]
     },
     "execution_count": 72,
     "metadata": {},
     "output_type": "execute_result"
    }
   ],
   "source": [
    "model.evaluate(test_scaled, test_target)"
   ]
  }
 ],
 "metadata": {
  "kernelspec": {
   "display_name": "Python 3 (ipykernel)",
   "language": "python",
   "name": "python3"
  },
  "language_info": {
   "codemirror_mode": {
    "name": "ipython",
    "version": 3
   },
   "file_extension": ".py",
   "mimetype": "text/x-python",
   "name": "python",
   "nbconvert_exporter": "python",
   "pygments_lexer": "ipython3",
   "version": "3.12.7"
  }
 },
 "nbformat": 4,
 "nbformat_minor": 5
}
