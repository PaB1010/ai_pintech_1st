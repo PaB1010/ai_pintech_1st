{
 "cells": [
  {
   "cell_type": "code",
   "execution_count": 20,
   "id": "f73f210c-cec8-4a71-b185-a5799b05ab8d",
   "metadata": {},
   "outputs": [],
   "source": [
    "# Broad Casting & Numpy - Column_stack()"
   ]
  },
  {
   "cell_type": "code",
   "execution_count": 3,
   "id": "2a348c5c-1bec-420b-ab1b-fcb93e9556a5",
   "metadata": {},
   "outputs": [],
   "source": [
    "import numpy as np"
   ]
  },
  {
   "cell_type": "code",
   "execution_count": 9,
   "id": "6bf49a32-deb1-47c0-a22b-493222f9514e",
   "metadata": {},
   "outputs": [
    {
     "name": "stdout",
     "output_type": "stream",
     "text": [
      "[10 20 30 40]\n"
     ]
    }
   ],
   "source": [
    "# Broad Casting\n",
    "nums = np.array([10, 20, 30, 40])\n",
    "\n",
    "print(nums)"
   ]
  },
  {
   "cell_type": "code",
   "execution_count": 13,
   "id": "7862fb84-c4b9-4505-b683-2dbac4bccb33",
   "metadata": {},
   "outputs": [
    {
     "name": "stdout",
     "output_type": "stream",
     "text": [
      "[20 40 60 80]\n"
     ]
    }
   ],
   "source": [
    "# 요소 각각에 적용 = Broad Casting\n",
    "nums2 = nums * 2\n",
    "\n",
    "print(nums2)"
   ]
  },
  {
   "cell_type": "code",
   "execution_count": 16,
   "id": "f639b997-77a4-4721-9dc5-419f12ce9ea2",
   "metadata": {},
   "outputs": [
    {
     "name": "stdout",
     "output_type": "stream",
     "text": [
      "[ 5 15 25 35]\n"
     ]
    }
   ],
   "source": [
    "nums3 = nums -5\n",
    "\n",
    "print(nums3)"
   ]
  },
  {
   "cell_type": "code",
   "execution_count": null,
   "id": "92b87b9b-12a1-4c65-877f-2f302854bc75",
   "metadata": {},
   "outputs": [],
   "source": [
    "# column_stack(Tuple(..., ...)\n",
    "# Python 내장 함수인 zip()과 유사"
   ]
  },
  {
   "cell_type": "code",
   "execution_count": 19,
   "id": "27b06d5d-6526-4693-9419-d47474032c3e",
   "metadata": {},
   "outputs": [
    {
     "name": "stdout",
     "output_type": "stream",
     "text": [
      "[[ 10   1 100]\n",
      " [ 20   2 200]\n",
      " [ 30   3 300]]\n"
     ]
    }
   ],
   "source": [
    "data = np.column_stack(([10, 20, 30], [1, 2, 3,], [100, 200, 300]))\n",
    "\n",
    "print(data)"
   ]
  }
 ],
 "metadata": {
  "kernelspec": {
   "display_name": "Python 3 (ipykernel)",
   "language": "python",
   "name": "python3"
  },
  "language_info": {
   "codemirror_mode": {
    "name": "ipython",
    "version": 3
   },
   "file_extension": ".py",
   "mimetype": "text/x-python",
   "name": "python",
   "nbconvert_exporter": "python",
   "pygments_lexer": "ipython3",
   "version": "3.12.7"
  }
 },
 "nbformat": 4,
 "nbformat_minor": 5
}
