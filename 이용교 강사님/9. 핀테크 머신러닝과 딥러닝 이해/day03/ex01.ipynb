{
 "cells": [
  {
   "cell_type": "code",
   "execution_count": 2,
   "id": "e9b9ead0-8ea9-4537-b0db-66991780b460",
   "metadata": {},
   "outputs": [],
   "source": [
    "import pandas as pd"
   ]
  },
  {
   "cell_type": "code",
   "execution_count": 3,
   "id": "928603e6-31df-4231-9ef5-9e93200de5e3",
   "metadata": {},
   "outputs": [
    {
     "data": {
      "text/html": [
       "<div>\n",
       "<style scoped>\n",
       "    .dataframe tbody tr th:only-of-type {\n",
       "        vertical-align: middle;\n",
       "    }\n",
       "\n",
       "    .dataframe tbody tr th {\n",
       "        vertical-align: top;\n",
       "    }\n",
       "\n",
       "    .dataframe thead th {\n",
       "        text-align: right;\n",
       "    }\n",
       "</style>\n",
       "<table border=\"1\" class=\"dataframe\">\n",
       "  <thead>\n",
       "    <tr style=\"text-align: right;\">\n",
       "      <th></th>\n",
       "      <th>length</th>\n",
       "      <th>height</th>\n",
       "      <th>width</th>\n",
       "    </tr>\n",
       "  </thead>\n",
       "  <tbody>\n",
       "    <tr>\n",
       "      <th>0</th>\n",
       "      <td>8.4</td>\n",
       "      <td>2.11</td>\n",
       "      <td>1.41</td>\n",
       "    </tr>\n",
       "    <tr>\n",
       "      <th>1</th>\n",
       "      <td>13.7</td>\n",
       "      <td>3.53</td>\n",
       "      <td>2.00</td>\n",
       "    </tr>\n",
       "    <tr>\n",
       "      <th>2</th>\n",
       "      <td>15.0</td>\n",
       "      <td>3.82</td>\n",
       "      <td>2.43</td>\n",
       "    </tr>\n",
       "    <tr>\n",
       "      <th>3</th>\n",
       "      <td>16.2</td>\n",
       "      <td>4.59</td>\n",
       "      <td>2.63</td>\n",
       "    </tr>\n",
       "    <tr>\n",
       "      <th>4</th>\n",
       "      <td>17.4</td>\n",
       "      <td>4.59</td>\n",
       "      <td>2.94</td>\n",
       "    </tr>\n",
       "  </tbody>\n",
       "</table>\n",
       "</div>"
      ],
      "text/plain": [
       "   length   height   width\n",
       "0     8.4     2.11    1.41\n",
       "1    13.7     3.53    2.00\n",
       "2    15.0     3.82    2.43\n",
       "3    16.2     4.59    2.63\n",
       "4    17.4     4.59    2.94"
      ]
     },
     "execution_count": 3,
     "metadata": {},
     "output_type": "execute_result"
    }
   ],
   "source": [
    "df = pd.read_csv('https://bit.ly/perch_csv_data')\n",
    "\n",
    "# 처음 5개의 행을 출력\n",
    "df.head()"
   ]
  },
  {
   "cell_type": "code",
   "execution_count": 7,
   "id": "959fe5a9-5ad7-41d6-a18e-bf2c64b5077e",
   "metadata": {},
   "outputs": [],
   "source": [
    "# 학습 Data - 농어의 모든 특성 - 길이, 높이, 너비\n",
    "\n",
    "# 학습 Data로 가공하기 위해 Numpy 변환"
   ]
  },
  {
   "cell_type": "code",
   "execution_count": 6,
   "id": "ff8c4d76-5c34-479e-b300-ac12c233529e",
   "metadata": {},
   "outputs": [
    {
     "name": "stdout",
     "output_type": "stream",
     "text": [
      "[[ 8.4   2.11  1.41]\n",
      " [13.7   3.53  2.  ]\n",
      " [15.    3.82  2.43]\n",
      " [16.2   4.59  2.63]\n",
      " [17.4   4.59  2.94]\n",
      " [18.    5.22  3.32]\n",
      " [18.7   5.2   3.12]\n",
      " [19.    5.64  3.05]\n",
      " [19.6   5.14  3.04]\n",
      " [20.    5.08  2.77]\n",
      " [21.    5.69  3.56]\n",
      " [21.    5.92  3.31]\n",
      " [21.    5.69  3.67]\n",
      " [21.3   6.38  3.53]\n",
      " [22.    6.11  3.41]\n",
      " [22.    5.64  3.52]\n",
      " [22.    6.11  3.52]\n",
      " [22.    5.88  3.52]\n",
      " [22.    5.52  4.  ]\n",
      " [22.5   5.86  3.62]\n",
      " [22.5   6.79  3.62]\n",
      " [22.7   5.95  3.63]\n",
      " [23.    5.22  3.63]\n",
      " [23.5   6.28  3.72]\n",
      " [24.    7.29  3.72]\n",
      " [24.    6.38  3.82]\n",
      " [24.6   6.73  4.17]\n",
      " [25.    6.44  3.68]\n",
      " [25.6   6.56  4.24]\n",
      " [26.5   7.17  4.14]\n",
      " [27.3   8.32  5.14]\n",
      " [27.5   7.17  4.34]\n",
      " [27.5   7.05  4.34]\n",
      " [27.5   7.28  4.57]\n",
      " [28.    7.82  4.2 ]\n",
      " [28.7   7.59  4.64]\n",
      " [30.    7.62  4.77]\n",
      " [32.8  10.03  6.02]\n",
      " [34.5  10.26  6.39]\n",
      " [35.   11.49  7.8 ]\n",
      " [36.5  10.88  6.86]\n",
      " [36.   10.61  6.74]\n",
      " [37.   10.84  6.26]\n",
      " [37.   10.57  6.37]\n",
      " [39.   11.14  7.49]\n",
      " [39.   11.14  6.  ]\n",
      " [39.   12.43  7.35]\n",
      " [40.   11.93  7.11]\n",
      " [40.   11.73  7.22]\n",
      " [40.   12.38  7.46]\n",
      " [40.   11.14  6.63]\n",
      " [42.   12.8   6.87]\n",
      " [43.   11.93  7.28]\n",
      " [43.   12.51  7.42]\n",
      " [43.5  12.6   8.14]\n",
      " [44.   12.49  7.6 ]]\n"
     ]
    }
   ],
   "source": [
    "import numpy as np\n",
    "\n",
    "# DataFrame -> Numpy Array\n",
    "perch_full = df.to_numpy()\n",
    "\n",
    "# 학습 Data\n",
    "print(perch_full)"
   ]
  },
  {
   "cell_type": "code",
   "execution_count": 8,
   "id": "c20984ea-c0df-4407-94f2-2f567c2c1aff",
   "metadata": {},
   "outputs": [],
   "source": [
    "# Target Data - 농어의 무게\n",
    "# 농어의 길이, 높이, 너비의 특성을 가지고 무게를 예측"
   ]
  },
  {
   "cell_type": "code",
   "execution_count": 10,
   "id": "2b3e1c5d-5552-46e0-9e0c-9dd2a427fcb0",
   "metadata": {},
   "outputs": [],
   "source": [
    "perch_weight = np.array(\n",
    "    [5.9, 32.0, 40.0, 51.5, 70.0, 100.0, 78.0, 80.0, 85.0, 85.0,\n",
    "     110.0, 115.0, 125.0, 130.0, 120.0, 120.0, 130.0, 135.0, 110.0,\n",
    "     130.0, 150.0, 145.0, 150.0, 170.0, 225.0, 145.0, 188.0, 180.0,\n",
    "     197.0, 218.0, 300.0, 260.0, 265.0, 250.0, 250.0, 300.0, 320.0,\n",
    "     514.0, 556.0, 840.0, 685.0, 700.0, 700.0, 690.0, 900.0, 650.0,\n",
    "     820.0, 850.0, 900.0, 1015.0, 820.0, 1100.0, 1000.0, 1100.0,\n",
    "     1000.0, 1000.0]\n",
    "     )"
   ]
  },
  {
   "cell_type": "code",
   "execution_count": 11,
   "id": "de01161e-8f4f-4ac4-972b-f9e2cabb022c",
   "metadata": {},
   "outputs": [],
   "source": [
    "# 학습 Set & Test Set 분리"
   ]
  },
  {
   "cell_type": "code",
   "execution_count": 16,
   "id": "1ab6203c-c1c1-4fc5-b32d-7fc56e48e9cc",
   "metadata": {},
   "outputs": [],
   "source": [
    "from sklearn.model_selection import train_test_split\n",
    "\n",
    "train_input, test_input, train_target, test_target = train_test_split(perch_full, perch_weight)"
   ]
  },
  {
   "cell_type": "code",
   "execution_count": 19,
   "id": "8762d6e5-d3a1-46ba-8eb0-fc063f09d329",
   "metadata": {},
   "outputs": [
    {
     "name": "stdout",
     "output_type": "stream",
     "text": [
      "(42, 3) (14, 3)\n"
     ]
    }
   ],
   "source": [
    "print(train_input.shape, test_input.shape)"
   ]
  },
  {
   "cell_type": "code",
   "execution_count": 22,
   "id": "1f6ec14e-5ab3-4032-8746-6a6a17c2ff4f",
   "metadata": {},
   "outputs": [],
   "source": [
    "# 특성 공학 - 특성을 조합해서 새로운 특성 여러개를 만들어 주는 방법, 최적의 특성\n",
    "\n",
    "# PolynomialFeatures - 특성 조합 편의 Class"
   ]
  },
  {
   "cell_type": "code",
   "execution_count": 24,
   "id": "b3745345-3a92-4d1b-908b-bf8a69f69377",
   "metadata": {},
   "outputs": [],
   "source": [
    "from sklearn.preprocessing import PolynomialFeatures"
   ]
  },
  {
   "cell_type": "code",
   "execution_count": 35,
   "id": "8100cc70-dc9f-489a-a7f8-9613029ebb6c",
   "metadata": {},
   "outputs": [
    {
     "name": "stdout",
     "output_type": "stream",
     "text": [
      "[[2. 3. 4. 6. 9.]]\n"
     ]
    }
   ],
   "source": [
    "# include_bias = 절편에 곱해지는 1은 제외\n",
    "poly = PolynomialFeatures(include_bias=False)\n",
    "\n",
    "# 2와 3을 원재료로 조합해 새로운 특성 추가\n",
    "poly.fit([[2, 3]])\n",
    "\n",
    "result = poly.transform([[2, 3]])\n",
    "# [[1. 2. 3. 4. 6. 9.]]\n",
    "# [[1추가, 2, 3, 2**, 2 + 3, 3**]]\n",
    "\n",
    "print(result)"
   ]
  },
  {
   "cell_type": "code",
   "execution_count": 33,
   "id": "8655b73d-9c85-4e3a-b11f-4a89be53eeea",
   "metadata": {},
   "outputs": [
    {
     "data": {
      "text/plain": [
       "array(['x0', 'x1', 'x0^2', 'x0 x1', 'x1^2'], dtype=object)"
      ]
     },
     "execution_count": 33,
     "metadata": {},
     "output_type": "execute_result"
    }
   ],
   "source": [
    "# 특성 조합 공식 확인\n",
    "\n",
    "poly.get_feature_names_out()"
   ]
  },
  {
   "cell_type": "code",
   "execution_count": 39,
   "id": "dd28e7e2-48ac-49db-a4b9-2246756432a9",
   "metadata": {},
   "outputs": [
    {
     "name": "stdout",
     "output_type": "stream",
     "text": [
      "(42, 9)\n"
     ]
    }
   ],
   "source": [
    "poly = PolynomialFeatures(include_bias=False)\n",
    "\n",
    "poly.fit(train_input)\n",
    "\n",
    "train_poly = poly.transform(train_input)\n",
    "\n",
    "# 기존 3개 특성 -> 9개로 변경\n",
    "print(train_poly.shape)"
   ]
  },
  {
   "cell_type": "code",
   "execution_count": 42,
   "id": "b1db4d79-317b-43c5-ad8d-350b73f30334",
   "metadata": {},
   "outputs": [
    {
     "name": "stdout",
     "output_type": "stream",
     "text": [
      "(14, 9)\n"
     ]
    }
   ],
   "source": [
    "test_poly = poly.transform(test_input)\n",
    "\n",
    "print(test_poly.shape)"
   ]
  },
  {
   "cell_type": "code",
   "execution_count": 44,
   "id": "c97454db-28ae-49c0-8908-cd47acbc56bb",
   "metadata": {},
   "outputs": [],
   "source": [
    "# 다중 회귀 모델 훈련 - 선형 회귀로 예측"
   ]
  },
  {
   "cell_type": "code",
   "execution_count": 47,
   "id": "96778664-2f06-4823-9c65-f50ef4ef2731",
   "metadata": {},
   "outputs": [
    {
     "name": "stdout",
     "output_type": "stream",
     "text": [
      "0.9930190324842829\n"
     ]
    }
   ],
   "source": [
    "from sklearn.linear_model import LinearRegression\n",
    "\n",
    "lr = LinearRegression()\n",
    "\n",
    "# 지도 학습\n",
    "lr.fit(train_poly, train_target)\n",
    "\n",
    "print(lr.score(train_poly, train_target))"
   ]
  },
  {
   "cell_type": "code",
   "execution_count": 48,
   "id": "f6c858ff-ae66-49ec-bd24-78e0799ff4b1",
   "metadata": {},
   "outputs": [
    {
     "name": "stdout",
     "output_type": "stream",
     "text": [
      "0.9651609299748076\n"
     ]
    }
   ],
   "source": [
    "print(lr.score(test_poly, test_target))"
   ]
  },
  {
   "cell_type": "code",
   "execution_count": 49,
   "id": "fb145643-daa0-405b-9bbd-093ca78fcfcf",
   "metadata": {},
   "outputs": [],
   "source": [
    "# 무조건 특성 조합이 많을 수록 예측 결정 계수가 높아질까?\n",
    "# -> X"
   ]
  },
  {
   "cell_type": "code",
   "execution_count": 50,
   "id": "f07dc412-3c46-4e7e-b456-cc7f6d5e5c8b",
   "metadata": {},
   "outputs": [],
   "source": [
    "# dergree = 차수, 특성의 최대 조합 차수를 5차 x^5\n",
    "poly = PolynomialFeatures(degree = 5, include_bias = False)\n",
    "\n",
    "poly.fit(train_input)\n",
    "\n",
    "train_poly = poly.transform(train_input)\n",
    "\n",
    "test_poly = poly.transform(test_input)"
   ]
  },
  {
   "cell_type": "code",
   "execution_count": 52,
   "id": "2862f9dd-329d-4f4a-bdd3-824bdd861877",
   "metadata": {},
   "outputs": [
    {
     "name": "stdout",
     "output_type": "stream",
     "text": [
      "(42, 55) (14, 55)\n"
     ]
    }
   ],
   "source": [
    "print(train_poly.shape, test_poly.shape)"
   ]
  },
  {
   "cell_type": "code",
   "execution_count": 54,
   "id": "5268c1f1-9c62-4b30-b320-6ae8bd307d67",
   "metadata": {},
   "outputs": [
    {
     "name": "stdout",
     "output_type": "stream",
     "text": [
      "0.9999999999954993\n"
     ]
    }
   ],
   "source": [
    "lr.fit(train_poly, train_target)\n",
    "\n",
    "print(lr.score(train_poly, train_target))"
   ]
  },
  {
   "cell_type": "code",
   "execution_count": 56,
   "id": "ef7ddcdc-afd9-4456-95fa-821324eaea1d",
   "metadata": {},
   "outputs": [
    {
     "name": "stdout",
     "output_type": "stream",
     "text": [
      "-99.45010044565693\n"
     ]
    }
   ],
   "source": [
    "# 과대 적합\n",
    "\n",
    "print(lr.score(test_poly, test_target))"
   ]
  },
  {
   "cell_type": "code",
   "execution_count": 58,
   "id": "4acbef14-d863-46da-968c-02630c58a4d5",
   "metadata": {},
   "outputs": [],
   "source": [
    "# 과대 적합\n",
    "# -> 규제 -> 훈련 세트의 결정 계수는 낮추고, 테스트 세트의 결정 계수는 높임"
   ]
  },
  {
   "cell_type": "code",
   "execution_count": 64,
   "id": "85a13ec2-762d-47fb-a063-e28865400a69",
   "metadata": {},
   "outputs": [],
   "source": [
    "# 특정 특성에 편향된 규제를 하지 않기 위해서\n",
    "# 훈련 세트, 테스트 세트 -> 표준 점수"
   ]
  },
  {
   "cell_type": "code",
   "execution_count": 65,
   "id": "55db4b7e-4236-461d-bf90-f42394763607",
   "metadata": {},
   "outputs": [],
   "source": [
    "from sklearn.preprocessing import StandardScaler\n",
    "\n",
    "ss = StandardScaler()\n",
    "\n",
    "ss.fit(train_poly)\n",
    "\n",
    "train_scaled = ss.transform(train_poly)\n",
    "test_scaled = ss.transform(test_poly)"
   ]
  },
  {
   "cell_type": "code",
   "execution_count": 145,
   "id": "c31646b5-89ba-4042-900c-8e5fb829b652",
   "metadata": {},
   "outputs": [],
   "source": [
    "# Ridge - 대표적 선형 회귀 모델"
   ]
  },
  {
   "cell_type": "code",
   "execution_count": 67,
   "id": "8bf2c57c-9cfd-4a8f-96a3-8fd73e638b17",
   "metadata": {},
   "outputs": [
    {
     "name": "stdout",
     "output_type": "stream",
     "text": [
      "0.991078608223752\n"
     ]
    }
   ],
   "source": [
    "from sklearn.linear_model import Ridge\n",
    "\n",
    "ridge = Ridge()\n",
    "\n",
    "ridge.fit(train_scaled, train_target)\n",
    "\n",
    "print(ridge.score(train_scaled, train_target))"
   ]
  },
  {
   "cell_type": "code",
   "execution_count": 70,
   "id": "cf11fd52-4d22-435c-be7e-15c71a50c789",
   "metadata": {},
   "outputs": [
    {
     "name": "stdout",
     "output_type": "stream",
     "text": [
      "0.9763361003822727\n"
     ]
    }
   ],
   "source": [
    "print(ridge.score(test_scaled, test_target))"
   ]
  },
  {
   "cell_type": "code",
   "execution_count": 71,
   "id": "d3395fe4-6b70-4ff0-85fd-bf6e19febe46",
   "metadata": {},
   "outputs": [],
   "source": [
    "# 최적의 alpha 값 찾기 - 하이퍼 파라미터"
   ]
  },
  {
   "cell_type": "code",
   "execution_count": 76,
   "id": "27a9d086-dacc-4b53-b18f-7157b1ad1d29",
   "metadata": {},
   "outputs": [],
   "source": [
    "# 훈련 세트 결정 계수\n",
    "train_score = []\n",
    "\n",
    "# 테스트 세트 결정 계수\n",
    "test_score = []\n",
    "\n",
    "# 규제 강도\n",
    "alpha_list = [0.001, 0.01, 0.1, 1, 10, 100]\n",
    "\n",
    "for alpha in alpha_list :\n",
    "    \n",
    "    # 규제 강도(alpha)를 달리해서 Ridge 모델 객체 생성\n",
    "    ridge = Ridge(alpha = alpha)\n",
    "\n",
    "    # 훈련\n",
    "    ridge.fit(train_scaled, train_target)\n",
    "    train_score.append(ridge.score(train_scaled, train_target))\n",
    "    test_score.append(ridge.score(test_scaled, test_target))"
   ]
  },
  {
   "cell_type": "code",
   "execution_count": 78,
   "id": "a0f205e6-f48d-47c8-b102-fafe842c6bfd",
   "metadata": {},
   "outputs": [
    {
     "name": "stdout",
     "output_type": "stream",
     "text": [
      "[0.9948522062320859, 0.9942367943322912, 0.9931165749555343, 0.991078608223752, 0.9896236632208706, 0.9848493419119386]\n"
     ]
    }
   ],
   "source": [
    "print(train_score)"
   ]
  },
  {
   "cell_type": "code",
   "execution_count": 80,
   "id": "3684639a-f280-4231-8550-0f15283b13c8",
   "metadata": {},
   "outputs": [
    {
     "name": "stdout",
     "output_type": "stream",
     "text": [
      "[0.9648054383459003, 0.9693773416438248, 0.9748902929600831, 0.9763361003822727, 0.9705256718994301, 0.9625645679888172]\n"
     ]
    }
   ],
   "source": [
    "print(test_score)"
   ]
  },
  {
   "cell_type": "code",
   "execution_count": 81,
   "id": "45883abc-bcb2-4e0b-8676-b375d211b384",
   "metadata": {},
   "outputs": [],
   "source": [
    "# 산포도"
   ]
  },
  {
   "cell_type": "code",
   "execution_count": 146,
   "id": "3db4a792-5007-4663-ae0f-a31705037c6c",
   "metadata": {},
   "outputs": [
    {
     "data": {
      "image/png": "[encoded data removed]",
      "text/plain": [
       "<Figure size 640x480 with 1 Axes>"
      ]
     },
     "metadata": {},
     "output_type": "display_data"
    }
   ],
   "source": [
    "import matplotlib.pyplot as plt\n",
    "\n",
    "# Numpy의 log 함수\n",
    "plt.plot(np.log10(alpha_list), train_score)\n",
    "plt.plot(np.log10(alpha_list), test_score)\n",
    "\n",
    "plt.xlabel('alpha')\n",
    "\n",
    "# 결졍 계수\n",
    "plt.ylabel('R^2')\n",
    "\n",
    "plt.show()\n",
    "\n",
    "# alpha가 작은쪽은 과대 적합, 큰쪽은 과소 적합\n",
    "# 최적의 alpha 값 = 0 -> 1"
   ]
  },
  {
   "cell_type": "code",
   "execution_count": 105,
   "id": "e9ab456f-ea65-4899-afe2-abf4c7c0b889",
   "metadata": {},
   "outputs": [
    {
     "name": "stdout",
     "output_type": "stream",
     "text": [
      "0.991078608223752\n",
      "0.9763361003822727\n"
     ]
    }
   ],
   "source": [
    "ridge = Ridge(alpha = 1)\n",
    "\n",
    "ridge.fit(train_scaled, train_target)\n",
    "\n",
    "print(ridge.score(train_scaled, train_target))\n",
    "\n",
    "print(ridge.score(test_scaled, test_target))"
   ]
  },
  {
   "cell_type": "code",
   "execution_count": 147,
   "id": "2abf6445-02c7-4cf0-bbdf-28a48ce24893",
   "metadata": {},
   "outputs": [],
   "source": [
    "# Lasso - 규제 선형 모델"
   ]
  },
  {
   "cell_type": "code",
   "execution_count": 110,
   "id": "c3650c44-dbd1-4748-91cd-90588081a907",
   "metadata": {},
   "outputs": [
    {
     "name": "stdout",
     "output_type": "stream",
     "text": [
      "0.9911508247348029\n"
     ]
    }
   ],
   "source": [
    "from sklearn.linear_model import Lasso\n",
    "\n",
    "# 반복 횟수, defualt 1000, 1000 보다 낮으면 경고\n",
    "lasso = Lasso(max_iter = 100000)\n",
    "\n",
    "lasso.fit(train_scaled, train_target)\n",
    "\n",
    "print(lasso.score(train_scaled, train_target))"
   ]
  },
  {
   "cell_type": "code",
   "execution_count": 112,
   "id": "0cb62f8c-b7f1-4f49-b511-6bcc31795e40",
   "metadata": {},
   "outputs": [
    {
     "name": "stdout",
     "output_type": "stream",
     "text": [
      "0.9759626158948101\n"
     ]
    }
   ],
   "source": [
    "print(lasso.score(test_scaled, test_target))"
   ]
  },
  {
   "cell_type": "code",
   "execution_count": 126,
   "id": "1161eae4-2a03-4b92-8fa0-ce88152fe9d7",
   "metadata": {},
   "outputs": [
    {
     "name": "stderr",
     "output_type": "stream",
     "text": [
      "D:\\mldl\\Lib\\site-packages\\sklearn\\linear_model\\_coordinate_descent.py:697: ConvergenceWarning: Objective did not converge. You might want to increase the number of iterations, check the scale of the features or consider increasing regularisation. Duality gap: 1.357e+04, tolerance: 5.152e+02\n",
      "  model = cd_fast.enet_coordinate_descent(\n",
      "D:\\mldl\\Lib\\site-packages\\sklearn\\linear_model\\_coordinate_descent.py:697: ConvergenceWarning: Objective did not converge. You might want to increase the number of iterations, check the scale of the features or consider increasing regularisation. Duality gap: 5.651e+03, tolerance: 5.152e+02\n",
      "  model = cd_fast.enet_coordinate_descent(\n",
      "D:\\mldl\\Lib\\site-packages\\sklearn\\linear_model\\_coordinate_descent.py:697: ConvergenceWarning: Objective did not converge. You might want to increase the number of iterations, check the scale of the features or consider increasing regularisation. Duality gap: 6.283e+02, tolerance: 5.152e+02\n",
      "  model = cd_fast.enet_coordinate_descent(\n"
     ]
    }
   ],
   "source": [
    "# 훈련 세트 결정 계수\n",
    "train_score = []\n",
    "\n",
    "# 테스트 세트 결정 계수\n",
    "test_score = []\n",
    "\n",
    "alpha_list = [0.001, 0.01, 0.1, 1, 10, 100]\n",
    "\n",
    "for alpha in alpha_list :\n",
    "\n",
    "    # 규제별 Lasso 모델 객체\n",
    "    lasso = Lasso(alpha = alpha, max_iter = 10000)\n",
    "\n",
    "    # 훈련\n",
    "    lasso.fit(train_scaled, train_target)\n",
    "\n",
    "    train_score.append(lasso.score(train_scaled, train_target))\n",
    "    test_score.append(lasso.score(test_scaled, test_target))"
   ]
  },
  {
   "cell_type": "code",
   "execution_count": 129,
   "id": "b9e253e5-cd2e-46f7-9bd6-cf08e754d416",
   "metadata": {},
   "outputs": [
    {
     "data": {
      "image/png": "[encoded data removed]",
      "text/plain": [
       "<Figure size 640x480 with 1 Axes>"
      ]
     },
     "metadata": {},
     "output_type": "display_data"
    }
   ],
   "source": [
    "plt.plot(np.log10(alpha_list), train_score)\n",
    "plt.plot(np.log10(alpha_list), test_score)\n",
    "\n",
    "plt.xlabel('alpha')\n",
    "plt.ylabel('R^2')\n",
    "\n",
    "plt.show()\n",
    "\n",
    "# 최적의 alpha 값 = 1 -> 10"
   ]
  },
  {
   "cell_type": "code",
   "execution_count": 132,
   "id": "9835b34a-9b8c-4cda-b983-6b3449d0bc17",
   "metadata": {},
   "outputs": [
    {
     "name": "stdout",
     "output_type": "stream",
     "text": [
      "0.9902485440562799\n",
      "0.9782758909771148\n"
     ]
    }
   ],
   "source": [
    "lasso = Lasso(alpha = 10, max_iter = 10000)\n",
    "\n",
    "# 훈련\n",
    "lasso.fit(train_scaled, train_target)\n",
    "\n",
    "# 훈련 세트 결정 계수\n",
    "print(lasso.score(train_scaled, train_target))\n",
    "\n",
    "# 테스트 세트 결정 계수\n",
    "print(lasso.score(test_scaled, test_target))"
   ]
  },
  {
   "cell_type": "code",
   "execution_count": 134,
   "id": "7154d830-6efa-49d4-9432-3a0cce4777fa",
   "metadata": {},
   "outputs": [
    {
     "name": "stdout",
     "output_type": "stream",
     "text": [
      "(42, 55)\n"
     ]
    }
   ],
   "source": [
    "print(train_scaled.shape)"
   ]
  },
  {
   "cell_type": "code",
   "execution_count": 140,
   "id": "1b52da65-0524-4a77-afe4-7e849de32eee",
   "metadata": {},
   "outputs": [],
   "source": [
    "# 사용된 특성 개수 구하기"
   ]
  },
  {
   "cell_type": "code",
   "execution_count": 142,
   "id": "83ae3977-c44f-48ae-b251-bbf4db8549fe",
   "metadata": {},
   "outputs": [
    {
     "data": {
      "text/plain": [
       "array([  0.        ,   0.        ,   0.        ,  40.91328081,\n",
       "         0.        ,   0.        ,   0.        ,   0.        ,\n",
       "         0.        ,   0.        ,  52.58339328,   0.        ,\n",
       "       186.67665369,   0.        ,   0.        ,  10.55622634,\n",
       "         0.        ,   0.        ,  49.90544501,   0.        ,\n",
       "         0.        ,   0.        ,   0.        ,   0.        ,\n",
       "         0.        ,   0.        ,   0.        ,   0.        ,\n",
       "         0.        ,   0.        ,   0.        ,   0.        ,\n",
       "         0.        ,   0.        ,   0.        ,   0.        ,\n",
       "         0.        ,   0.        ,   0.        ,   0.        ,\n",
       "         0.        ,   0.        ,   0.        ,   0.        ,\n",
       "         0.        ,   0.        ,   0.        ,   0.        ,\n",
       "         0.        ,   0.        ,   0.        ,   0.        ,\n",
       "         0.        ,   0.        ,   0.        ])"
      ]
     },
     "execution_count": 142,
     "metadata": {},
     "output_type": "execute_result"
    }
   ],
   "source": [
    "# 가중치, 기울기\n",
    "\n",
    "lasso.coef_\n",
    "\n",
    "# 0 = 안쓰는 특성"
   ]
  },
  {
   "cell_type": "code",
   "execution_count": 144,
   "id": "31c69917-ef5f-427a-a13b-0d04e727b937",
   "metadata": {},
   "outputs": [
    {
     "data": {
      "text/plain": [
       "50"
      ]
     },
     "execution_count": 144,
     "metadata": {},
     "output_type": "execute_result"
    }
   ],
   "source": [
    "# 가중치가 0이 된 총 합계\n",
    "# -> 특성 중에서 사용되지 않은 특성의 개수\n",
    "np.sum(lasso.coef_ == 0)\n",
    "\n",
    "# 총 55개의 특성중 50개를 뺀 5개만 사용"
   ]
  }
 ],
 "metadata": {
  "kernelspec": {
   "display_name": "Python 3 (ipykernel)",
   "language": "python",
   "name": "python3"
  },
  "language_info": {
   "codemirror_mode": {
    "name": "ipython",
    "version": 3
   },
   "file_extension": ".py",
   "mimetype": "text/x-python",
   "name": "python",
   "nbconvert_exporter": "python",
   "pygments_lexer": "ipython3",
   "version": "3.12.7"
  }
 },
 "nbformat": 4,
 "nbformat_minor": 5
}
