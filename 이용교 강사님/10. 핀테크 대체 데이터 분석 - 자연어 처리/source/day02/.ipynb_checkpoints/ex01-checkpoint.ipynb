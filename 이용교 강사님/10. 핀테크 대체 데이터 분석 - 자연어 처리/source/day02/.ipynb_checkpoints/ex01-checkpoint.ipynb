{
 "cells": [
  {
   "cell_type": "code",
   "execution_count": null,
   "id": "8b71b7f8-a223-4ef0-a032-c7960d6aaed0",
   "metadata": {},
   "outputs": [],
   "source": [
    "# N-Gram"
   ]
  },
  {
   "cell_type": "code",
   "execution_count": 28,
   "id": "b28d4c29-3f15-40e3-881d-101f80e45bf9",
   "metadata": {},
   "outputs": [],
   "source": [
    "# 문장 시작-끝에 대한 Token 추가 편의 기능\n",
    "from nltk.util import pad_sequence\n",
    "\n",
    "# EX) a, b, c 있을경우 2개씩 묶어\n",
    "# (a, b), (b, c) 교차 방식 편의 Token 생성 기능\n",
    "from nltk.util import bigrams\n",
    "\n",
    "# bigrams과 다르게 2개 아니고 n개 Token 생성 기능\n",
    "from nltk.util import ngrams\n",
    "\n",
    "# 지정 개수한만큼 다 만들어주는 Token 생성 기능\n",
    "from nltk.util import everygrams"
   ]
  },
  {
   "cell_type": "code",
   "execution_count": 2,
   "id": "33161ab8-6351-4af8-bce7-0d5057aec7c9",
   "metadata": {},
   "outputs": [
    {
     "data": {
      "text/plain": [
       "True"
      ]
     },
     "execution_count": 2,
     "metadata": {},
     "output_type": "execute_result"
    }
   ],
   "source": [
    "# 편의 도구\n",
    "import nltk\n",
    "nltk.download(\"all\", quiet = True)"
   ]
  },
  {
   "cell_type": "code",
   "execution_count": 3,
   "id": "309a08dd-5ff0-4527-9555-f093eb87461c",
   "metadata": {},
   "outputs": [],
   "source": [
    "# 연습용 List\n",
    "text = [['a', 'b', 'c'], ['a', 'c', 'd', 'c', 'e', 'f']]"
   ]
  },
  {
   "cell_type": "code",
   "execution_count": 10,
   "id": "2dfac1e2-6639-4232-a1b1-772b757dcbc7",
   "metadata": {},
   "outputs": [],
   "source": [
    "# Bigrams (Generator 형태 반환)\n",
    "# 메모리 절약위한 Generator\n",
    "# 한번에 연산하지 않고 하나하나 연산"
   ]
  },
  {
   "cell_type": "code",
   "execution_count": 6,
   "id": "f53c3b9d-24c6-4482-b7e6-ee2d6cf9a747",
   "metadata": {},
   "outputs": [
    {
     "data": {
      "text/plain": [
       "<generator object bigrams at 0x000001FDD31FDEE0>"
      ]
     },
     "execution_count": 6,
     "metadata": {},
     "output_type": "execute_result"
    }
   ],
   "source": [
    "bigrams(text[0])"
   ]
  },
  {
   "cell_type": "code",
   "execution_count": 16,
   "id": "a727b103-a31f-492a-ada6-9f2de3bc2210",
   "metadata": {},
   "outputs": [
    {
     "data": {
      "text/plain": [
       "[('a', 'b'), ('b', 'c')]"
      ]
     },
     "execution_count": 16,
     "metadata": {},
     "output_type": "execute_result"
    }
   ],
   "source": [
    "# 2개씩 교차 방식\n",
    "list(bigrams(text[0]))"
   ]
  },
  {
   "cell_type": "code",
   "execution_count": 17,
   "id": "cc6ab514-395d-42a5-b0c9-666a370d298b",
   "metadata": {},
   "outputs": [
    {
     "data": {
      "text/plain": [
       "[('a', 'c'), ('c', 'd'), ('d', 'c'), ('c', 'e'), ('e', 'f')]"
      ]
     },
     "execution_count": 17,
     "metadata": {},
     "output_type": "execute_result"
    }
   ],
   "source": [
    "# 2개씩 교차 방식\n",
    "list(bigrams(text[1]))"
   ]
  },
  {
   "cell_type": "code",
   "execution_count": null,
   "id": "ab0e76b3-1c15-442f-b4c2-f0bbc4ebf687",
   "metadata": {},
   "outputs": [],
   "source": [
    "# N-Gram"
   ]
  },
  {
   "cell_type": "code",
   "execution_count": 22,
   "id": "b620e8e3-fa8f-4348-aa6e-2f5778a6b847",
   "metadata": {},
   "outputs": [
    {
     "data": {
      "text/plain": [
       "[('a', 'c', 'd'), ('c', 'd', 'c'), ('d', 'c', 'e'), ('c', 'e', 'f')]"
      ]
     },
     "execution_count": 22,
     "metadata": {},
     "output_type": "execute_result"
    }
   ],
   "source": [
    "# 3개씩 교차 방식\n",
    "list(ngrams(text[1], n = 3))"
   ]
  },
  {
   "cell_type": "code",
   "execution_count": 19,
   "id": "392f1fc6-b5ac-4a9a-83a0-7cf5862e8aec",
   "metadata": {},
   "outputs": [],
   "source": [
    "# Every-Gram\n",
    "# Pad화 된 Data 필수"
   ]
  },
  {
   "cell_type": "code",
   "execution_count": 23,
   "id": "3bb8d4fb-c72d-47bb-8706-1e50901ad096",
   "metadata": {},
   "outputs": [],
   "source": [
    "# list(everygrams(text[1], n = 3))"
   ]
  },
  {
   "cell_type": "code",
   "execution_count": 29,
   "id": "17424495-4217-4f04-a52e-59741dc9df39",
   "metadata": {},
   "outputs": [],
   "source": [
    "# pad_Sequence - 문장 시작-끝에 대한 Token 추가\n",
    "# Generator 형태 반환\n",
    "# 시작, 종료 Token 관례적으로 <s>, </s>"
   ]
  },
  {
   "cell_type": "code",
   "execution_count": 34,
   "id": "7b2dc23a-4ed8-4359-8f84-875837cff98f",
   "metadata": {},
   "outputs": [
    {
     "data": {
      "text/plain": [
       "['<s>', 'a', 'b', 'c', '</s>']"
      ]
     },
     "execution_count": 34,
     "metadata": {},
     "output_type": "execute_result"
    }
   ],
   "source": [
    "list(pad_sequence(text[0], pad_left = True, left_pad_symbol = '<s>', pad_right = True, right_pad_symbol = '</s>', n = 2))"
   ]
  },
  {
   "cell_type": "code",
   "execution_count": null,
   "id": "72f693f5-6021-4492-b451-c7be52c86a26",
   "metadata": {},
   "outputs": [],
   "source": []
  }
 ],
 "metadata": {
  "kernelspec": {
   "display_name": "Python 3 (ipykernel)",
   "language": "python",
   "name": "python3"
  },
  "language_info": {
   "codemirror_mode": {
    "name": "ipython",
    "version": 3
   },
   "file_extension": ".py",
   "mimetype": "text/x-python",
   "name": "python",
   "nbconvert_exporter": "python",
   "pygments_lexer": "ipython3",
   "version": "3.12.7"
  }
 },
 "nbformat": 4,
 "nbformat_minor": 5
}
