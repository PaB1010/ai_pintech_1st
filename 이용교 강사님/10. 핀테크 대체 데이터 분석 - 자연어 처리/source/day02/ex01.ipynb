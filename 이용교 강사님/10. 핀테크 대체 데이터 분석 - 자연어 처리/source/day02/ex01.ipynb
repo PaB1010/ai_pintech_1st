{
 "cells": [
  {
   "cell_type": "code",
   "execution_count": null,
   "id": "8b71b7f8-a223-4ef0-a032-c7960d6aaed0",
   "metadata": {},
   "outputs": [],
   "source": [
    "# N-Gram"
   ]
  },
  {
   "cell_type": "code",
   "execution_count": 44,
   "id": "b28d4c29-3f15-40e3-881d-101f80e45bf9",
   "metadata": {},
   "outputs": [],
   "source": [
    "# 문장 시작-끝에 대한 Token 추가 편의 기능\n",
    "from nltk.util import pad_sequence\n",
    "\n",
    "# EX) a, b, c 있을경우 2개씩 묶어\n",
    "# (a, b), (b, c) 교차 방식 편의 Token 생성 기능\n",
    "from nltk.util import bigrams\n",
    "\n",
    "# bigrams과 다르게 2개 아니고 n개 Token 생성 기능\n",
    "from nltk.util import ngrams\n",
    "\n",
    "# 1 ~ 지정 개수한만큼 모두 다 만들어주는 Token 생성 기능\n",
    "from nltk.util import everygrams"
   ]
  },
  {
   "cell_type": "code",
   "execution_count": 2,
   "id": "33161ab8-6351-4af8-bce7-0d5057aec7c9",
   "metadata": {},
   "outputs": [
    {
     "data": {
      "text/plain": [
       "True"
      ]
     },
     "execution_count": 2,
     "metadata": {},
     "output_type": "execute_result"
    }
   ],
   "source": [
    "# 편의 도구\n",
    "import nltk\n",
    "nltk.download(\"all\", quiet = True)"
   ]
  },
  {
   "cell_type": "code",
   "execution_count": 3,
   "id": "309a08dd-5ff0-4527-9555-f093eb87461c",
   "metadata": {},
   "outputs": [],
   "source": [
    "# 연습용 List\n",
    "text = [['a', 'b', 'c'], ['a', 'c', 'd', 'c', 'e', 'f']]"
   ]
  },
  {
   "cell_type": "code",
   "execution_count": 10,
   "id": "2dfac1e2-6639-4232-a1b1-772b757dcbc7",
   "metadata": {},
   "outputs": [],
   "source": [
    "# Bigrams (Generator 형태 반환)\n",
    "# 메모리 절약위한 Generator\n",
    "# 한번에 연산하지 않고 하나하나 연산"
   ]
  },
  {
   "cell_type": "code",
   "execution_count": 6,
   "id": "f53c3b9d-24c6-4482-b7e6-ee2d6cf9a747",
   "metadata": {},
   "outputs": [
    {
     "data": {
      "text/plain": [
       "<generator object bigrams at 0x000001FDD31FDEE0>"
      ]
     },
     "execution_count": 6,
     "metadata": {},
     "output_type": "execute_result"
    }
   ],
   "source": [
    "bigrams(text[0])"
   ]
  },
  {
   "cell_type": "code",
   "execution_count": 16,
   "id": "a727b103-a31f-492a-ada6-9f2de3bc2210",
   "metadata": {},
   "outputs": [
    {
     "data": {
      "text/plain": [
       "[('a', 'b'), ('b', 'c')]"
      ]
     },
     "execution_count": 16,
     "metadata": {},
     "output_type": "execute_result"
    }
   ],
   "source": [
    "# 2개씩 교차 방식\n",
    "list(bigrams(text[0]))"
   ]
  },
  {
   "cell_type": "code",
   "execution_count": 17,
   "id": "cc6ab514-395d-42a5-b0c9-666a370d298b",
   "metadata": {},
   "outputs": [
    {
     "data": {
      "text/plain": [
       "[('a', 'c'), ('c', 'd'), ('d', 'c'), ('c', 'e'), ('e', 'f')]"
      ]
     },
     "execution_count": 17,
     "metadata": {},
     "output_type": "execute_result"
    }
   ],
   "source": [
    "# 2개씩 교차 방식\n",
    "list(bigrams(text[1]))"
   ]
  },
  {
   "cell_type": "code",
   "execution_count": null,
   "id": "ab0e76b3-1c15-442f-b4c2-f0bbc4ebf687",
   "metadata": {},
   "outputs": [],
   "source": [
    "# N-Gram"
   ]
  },
  {
   "cell_type": "code",
   "execution_count": 22,
   "id": "b620e8e3-fa8f-4348-aa6e-2f5778a6b847",
   "metadata": {},
   "outputs": [
    {
     "data": {
      "text/plain": [
       "[('a', 'c', 'd'), ('c', 'd', 'c'), ('d', 'c', 'e'), ('c', 'e', 'f')]"
      ]
     },
     "execution_count": 22,
     "metadata": {},
     "output_type": "execute_result"
    }
   ],
   "source": [
    "# 3개씩 교차 방식\n",
    "list(ngrams(text[1], n = 3))"
   ]
  },
  {
   "cell_type": "code",
   "execution_count": 45,
   "id": "17424495-4217-4f04-a52e-59741dc9df39",
   "metadata": {},
   "outputs": [],
   "source": [
    "# pad_sequence - 문장 시작-끝에 대한 Token 추가\n",
    "# Generator 형태 반환\n",
    "# 시작, 종료 Token 관례적으로 <s>, </s>"
   ]
  },
  {
   "cell_type": "code",
   "execution_count": 38,
   "id": "7b2dc23a-4ed8-4359-8f84-875837cff98f",
   "metadata": {},
   "outputs": [
    {
     "name": "stdout",
     "output_type": "stream",
     "text": [
      "['<s>', 'a', 'b', 'c', '</s>']\n"
     ]
    }
   ],
   "source": [
    "padded = list(pad_sequence(text[0], pad_left = True, left_pad_symbol = '<s>', pad_right = True, right_pad_symbol = '</s>', n = 2))\n",
    "print(padded)"
   ]
  },
  {
   "cell_type": "code",
   "execution_count": 39,
   "id": "72f693f5-6021-4492-b451-c7be52c86a26",
   "metadata": {},
   "outputs": [
    {
     "data": {
      "text/plain": [
       "[('<s>', 'a'), ('a', 'b'), ('b', 'c'), ('c', '</s>')]"
      ]
     },
     "execution_count": 39,
     "metadata": {},
     "output_type": "execute_result"
    }
   ],
   "source": [
    "list(ngrams(padded, n = 2))"
   ]
  },
  {
   "cell_type": "code",
   "execution_count": 40,
   "id": "15698e4b-519a-471a-9d1e-3c9bf4e551c2",
   "metadata": {},
   "outputs": [
    {
     "name": "stdout",
     "output_type": "stream",
     "text": [
      "['<s>', 'a', 'c', 'd', 'c', 'e', 'f', '</s>']\n"
     ]
    }
   ],
   "source": [
    "padded = list(pad_sequence(text[1], pad_left = True, left_pad_symbol = '<s>', pad_right = True, right_pad_symbol = '</s>', n = 2))\n",
    "print(padded)"
   ]
  },
  {
   "cell_type": "code",
   "execution_count": 37,
   "id": "392f1fc6-b5ac-4a9a-83a0-7cf5862e8aec",
   "metadata": {},
   "outputs": [],
   "source": [
    "# Every-Gram\n",
    "# Pad화 된 Data 필수"
   ]
  },
  {
   "cell_type": "code",
   "execution_count": 41,
   "id": "ec1fa817-8026-454b-bea9-02fcdce1a775",
   "metadata": {},
   "outputs": [
    {
     "data": {
      "text/plain": [
       "[('<s>',),\n",
       " ('<s>', 'a'),\n",
       " ('<s>', 'a', 'c'),\n",
       " ('a',),\n",
       " ('a', 'c'),\n",
       " ('a', 'c', 'd'),\n",
       " ('c',),\n",
       " ('c', 'd'),\n",
       " ('c', 'd', 'c'),\n",
       " ('d',),\n",
       " ('d', 'c'),\n",
       " ('d', 'c', 'e'),\n",
       " ('c',),\n",
       " ('c', 'e'),\n",
       " ('c', 'e', 'f'),\n",
       " ('e',),\n",
       " ('e', 'f'),\n",
       " ('e', 'f', '</s>'),\n",
       " ('f',),\n",
       " ('f', '</s>'),\n",
       " ('</s>',)]"
      ]
     },
     "execution_count": 41,
     "metadata": {},
     "output_type": "execute_result"
    }
   ],
   "source": [
    "list(everygrams(padded, max_len = 3))"
   ]
  },
  {
   "cell_type": "code",
   "execution_count": 49,
   "id": "7c8204ad-0957-4d63-8541-b80e10b6811a",
   "metadata": {},
   "outputs": [],
   "source": [
    "# pad_sequence 시작, 끝 Token 자동 추가편의 기능\n",
    "from nltk.lm.preprocessing import pad_both_ends"
   ]
  },
  {
   "cell_type": "code",
   "execution_count": 48,
   "id": "5a2fcc52-59f6-4640-8329-4c3ebab74bde",
   "metadata": {},
   "outputs": [
    {
     "data": {
      "text/plain": [
       "['<s>', 'a', 'b', 'c', '</s>']"
      ]
     },
     "execution_count": 48,
     "metadata": {},
     "output_type": "execute_result"
    }
   ],
   "source": [
    "list(pad_both_ends(text[0], n = 2))"
   ]
  },
  {
   "cell_type": "code",
   "execution_count": 51,
   "id": "ab5deb8f-0da9-480a-acae-5d0654c14b3c",
   "metadata": {},
   "outputs": [
    {
     "data": {
      "text/plain": [
       "[['a', 'b', 'c'], ['a', 'c', 'd', 'c', 'e', 'f']]"
      ]
     },
     "execution_count": 51,
     "metadata": {},
     "output_type": "execute_result"
    }
   ],
   "source": [
    "# 2차원 배열인 text 가공\n",
    "text"
   ]
  },
  {
   "cell_type": "code",
   "execution_count": 54,
   "id": "f2677fcc-c847-4e32-a221-d1979968d9bf",
   "metadata": {},
   "outputs": [
    {
     "data": {
      "text/plain": [
       "[['<s>', 'a', 'b', 'c', '</s>'], ['<s>', 'a', 'c', 'd', 'c', 'e', 'f', '</s>']]"
      ]
     },
     "execution_count": 54,
     "metadata": {},
     "output_type": "execute_result"
    }
   ],
   "source": [
    "# 1. List 컴프리헨션 활용 Padding\n",
    "[list(pad_both_ends(sent, n = 2)) for sent in text]"
   ]
  },
  {
   "cell_type": "code",
   "execution_count": 58,
   "id": "24a2b957-6e9b-430e-8daa-4db33e35f085",
   "metadata": {},
   "outputs": [],
   "source": [
    "# 2. Flatten 활용 2차원 배열 -> 1차원 배열\n",
    "from nltk.lm.preprocessing import flatten"
   ]
  },
  {
   "cell_type": "code",
   "execution_count": 61,
   "id": "be800e9a-d981-45c7-9e5b-bb6ccbc3095c",
   "metadata": {},
   "outputs": [
    {
     "data": {
      "text/plain": [
       "['<s>', 'a', 'b', 'c', '</s>', '<s>', 'a', 'c', 'd', 'c', 'e', 'f', '</s>']"
      ]
     },
     "execution_count": 61,
     "metadata": {},
     "output_type": "execute_result"
    }
   ],
   "source": [
    "list(flatten(pad_both_ends(sent, n = 2) for sent in text))"
   ]
  },
  {
   "cell_type": "code",
   "execution_count": 64,
   "id": "662387c6-dcee-4803-af9f-9f6c58603f51",
   "metadata": {},
   "outputs": [],
   "source": [
    "# EveryGram + Flatten 학습 Data 가공 편의 Lib\n",
    "from nltk.lm.preprocessing import padded_everygram_pipeline"
   ]
  },
  {
   "cell_type": "code",
   "execution_count": 66,
   "id": "73bdb113-6954-4858-a65d-934a2b6c8266",
   "metadata": {},
   "outputs": [],
   "source": [
    "training_ngrams, padded_sentences = padded_everygram_pipeline(2, text)"
   ]
  },
  {
   "cell_type": "code",
   "execution_count": 67,
   "id": "fd348f49-00bf-400b-83f5-81e452221f25",
   "metadata": {},
   "outputs": [
    {
     "data": {
      "text/plain": [
       "[<generator object everygrams at 0x000001FDD3212F00>,\n",
       " <generator object everygrams at 0x000001FDD32128A0>]"
      ]
     },
     "execution_count": 67,
     "metadata": {},
     "output_type": "execute_result"
    }
   ],
   "source": [
    "list(training_ngrams)"
   ]
  },
  {
   "cell_type": "code",
   "execution_count": 69,
   "id": "2f18b127-3f18-4793-84c6-305407b2e045",
   "metadata": {},
   "outputs": [
    {
     "data": {
      "text/plain": [
       "['<s>', 'a', 'b', 'c', '</s>', '<s>', 'a', 'c', 'd', 'c', 'e', 'f', '</s>']"
      ]
     },
     "execution_count": 69,
     "metadata": {},
     "output_type": "execute_result"
    }
   ],
   "source": [
    "list(padded_sentences)"
   ]
  }
 ],
 "metadata": {
  "kernelspec": {
   "display_name": "Python 3 (ipykernel)",
   "language": "python",
   "name": "python3"
  },
  "language_info": {
   "codemirror_mode": {
    "name": "ipython",
    "version": 3
   },
   "file_extension": ".py",
   "mimetype": "text/x-python",
   "name": "python",
   "nbconvert_exporter": "python",
   "pygments_lexer": "ipython3",
   "version": "3.12.7"
  }
 },
 "nbformat": 4,
 "nbformat_minor": 5
}
