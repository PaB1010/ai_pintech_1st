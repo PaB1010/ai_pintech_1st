{
 "cells": [
  {
   "cell_type": "code",
   "execution_count": null,
   "id": "f1abbdf2-7cd2-45ac-8658-e346d9463bc6",
   "metadata": {},
   "outputs": [],
   "source": [
    "# Tokenizing 의존성 : nltk"
   ]
  },
  {
   "cell_type": "code",
   "execution_count": 1,
   "id": "5d3f7db9-5b1a-4806-a8f1-5925026ef963",
   "metadata": {},
   "outputs": [
    {
     "name": "stdout",
     "output_type": "stream",
     "text": [
      "Collecting nltk\n",
      "  Downloading nltk-3.9.1-py3-none-any.whl.metadata (2.9 kB)\n",
      "Collecting click (from nltk)\n",
      "  Downloading click-8.1.8-py3-none-any.whl.metadata (2.3 kB)\n",
      "Requirement already satisfied: joblib in d:\\mldl\\lib\\site-packages (from nltk) (1.4.2)\n",
      "Collecting regex>=2021.8.3 (from nltk)\n",
      "  Downloading regex-2024.11.6-cp312-cp312-win_amd64.whl.metadata (41 kB)\n",
      "Collecting tqdm (from nltk)\n",
      "  Downloading tqdm-4.67.1-py3-none-any.whl.metadata (57 kB)\n",
      "Requirement already satisfied: colorama in c:\\users\\admin\\appdata\\roaming\\python\\python312\\site-packages (from click->nltk) (0.4.6)\n",
      "Downloading nltk-3.9.1-py3-none-any.whl (1.5 MB)\n",
      "   ---------------------------------------- 0.0/1.5 MB ? eta -:--:--\n",
      "   ---------------------------------------- 1.5/1.5 MB 19.7 MB/s eta 0:00:00\n",
      "Downloading regex-2024.11.6-cp312-cp312-win_amd64.whl (273 kB)\n",
      "Downloading click-8.1.8-py3-none-any.whl (98 kB)\n",
      "Downloading tqdm-4.67.1-py3-none-any.whl (78 kB)\n",
      "Installing collected packages: tqdm, regex, click, nltk\n",
      "Successfully installed click-8.1.8 nltk-3.9.1 regex-2024.11.6 tqdm-4.67.1\n"
     ]
    }
   ],
   "source": [
    "!pip install nltk"
   ]
  },
  {
   "cell_type": "code",
   "execution_count": 15,
   "id": "057a7177-657d-4063-bf6f-fe8288af2181",
   "metadata": {},
   "outputs": [
    {
     "data": {
      "text/plain": [
       "True"
      ]
     },
     "execution_count": 15,
     "metadata": {},
     "output_type": "execute_result"
    }
   ],
   "source": [
    "import nltk\n",
    "\n",
    "# 모든 Focus 다운로드\n",
    "# quiet = True : Log 없이\n",
    "nltk.download(\"all\", quiet = True)"
   ]
  },
  {
   "cell_type": "code",
   "execution_count": null,
   "id": "d4a0c230-3ffd-4844-b07a-481e2db85199",
   "metadata": {},
   "outputs": [],
   "source": [
    "# word_tokenize - 단어 단위로 Token 분리\n",
    "# sent_tokenize - 문장 단위로 Token 분리"
   ]
  },
  {
   "cell_type": "code",
   "execution_count": 44,
   "id": "ee763760-d092-4be3-a453-09cab85f8402",
   "metadata": {},
   "outputs": [
    {
     "name": "stdout",
     "output_type": "stream",
     "text": [
      "['apple', ',', 'pear', ',', 'orange', ',', 'I', 'bought', '3', 'apples', '.']\n",
      "['사과', ',', '배', ',', '오렌지', ',', '나는', '3개의', '사과를', '구입했다', '.']\n"
     ]
    }
   ],
   "source": [
    "from nltk.tokenize import word_tokenize\n",
    "\n",
    "text1 = \"apple, pear, orange, I bought 3 apples.\"\n",
    "text2 = \"사과, 배, 오렌지, 나는 3개의 사과를 구입했다.\"\n",
    "\n",
    "print(word_tokenize(text1))\n",
    "print(word_tokenize(text2))"
   ]
  },
  {
   "cell_type": "code",
   "execution_count": 45,
   "id": "3d1f14fc-d34d-40ff-b8bc-56dfc5bddbc8",
   "metadata": {},
   "outputs": [
    {
     "name": "stdout",
     "output_type": "stream",
     "text": [
      "['삼성전자의 뒤를 이어 KT(1218억원), 쿠팡(660억원)도 지난해와 순위가 같았다.', '나머지 기업들은 10위 권 내에서 순위 변동이 있었다.', '지난해까지 4위와 5위였던 SK하이닉스와 SK텔레콤은 각각 6위와 7위로 밀려났고, 그 자리는 삼성SDS와 LG U+가 차지했다.', '정보 보호 전담 인력은 삼성전자, KT, 삼성SDS 순으로 많았다.', '공시 대상 기업 전체의 올해 정보 보호 투자액은 2조1196억원, 전담 인력은 7681.4명으로 지난해보다 각각 15.7%, 13.9% 증가했다.', '평균 투자액(29억원)과 평균 전담 인력(10.5명)도 지난해보다 늘었다.', '정보 보호에 대한 기업의 사회적 책임이 강조됨에 따라 자율 공시 기업의 수도 지난해 63개에서 91개로 늘었다.', '업종별 평균 투자액은 금융업(76억원), 정보통신업(59억원), 도소매업(27억원) 순으로 많았다.', '류제명 과학기술정보통신부 네트워크정책실장은 \"정보보호 공시 제도가 기업의 정보보호 수준 제고에 기여하고 있음을 기업들의 자발적인 정보보호 투자 확대를 통해 확인할 수 있었다\"며 \"정부는 공시 내용 검증을 통해 정확한 정보를 이용자에게 제공할 것\"이라고 말했다.']\n"
     ]
    }
   ],
   "source": [
    "from nltk.tokenize import sent_tokenize\n",
    "\n",
    "text = \"\"\"삼성전자의 뒤를 이어 KT(1218억원), 쿠팡(660억원)도 지난해와 순위가 같았다. 나머지 기업들은 10위 권 내에서 순위 변동이 있었다. 지난해까지 4위와 5위였던 SK하이닉스와 SK텔레콤은 각각 6위와 7위로 밀려났고, 그 자리는 삼성SDS와 LG U+가 차지했다.\n",
    "\n",
    "정보 보호 전담 인력은 삼성전자, KT, 삼성SDS 순으로 많았다. 공시 대상 기업 전체의 올해 정보 보호 투자액은 2조1196억원, 전담 인력은 7681.4명으로 지난해보다 각각 15.7%, 13.9% 증가했다. 평균 투자액(29억원)과 평균 전담 인력(10.5명)도 지난해보다 늘었다.\n",
    "\n",
    "정보 보호에 대한 기업의 사회적 책임이 강조됨에 따라 자율 공시 기업의 수도 지난해 63개에서 91개로 늘었다.\n",
    "\n",
    "업종별 평균 투자액은 금융업(76억원), 정보통신업(59억원), 도소매업(27억원) 순으로 많았다.\n",
    "\n",
    "류제명 과학기술정보통신부 네트워크정책실장은 \"정보보호 공시 제도가 기업의 정보보호 수준 제고에 기여하고 있음을 기업들의 자발적인 정보보호 투자 확대를 통해 확인할 수 있었다\"며 \"정부는 공시 내용 검증을 통해 정확한 정보를 이용자에게 제공할 것\"이라고 말했다.\"\"\"\n",
    "\n",
    "print(sent_tokenize(text))"
   ]
  },
  {
   "cell_type": "code",
   "execution_count": null,
   "id": "ed9ebbda-4008-4764-a9b1-c455ddd2ebd7",
   "metadata": {},
   "outputs": [],
   "source": [
    "# One-hot Encoding"
   ]
  },
  {
   "cell_type": "code",
   "execution_count": 46,
   "id": "f633a597-d2fb-49d7-9b62-bd906535050f",
   "metadata": {},
   "outputs": [],
   "source": [
    "from sklearn.preprocessing import LabelEncoder"
   ]
  },
  {
   "cell_type": "code",
   "execution_count": 47,
   "id": "9d07a0d2-946d-4047-acb1-87b6f76185ab",
   "metadata": {},
   "outputs": [
    {
     "name": "stdout",
     "output_type": "stream",
     "text": [
      "{'포도', '배', '사과', '오렌지'}\n"
     ]
    }
   ],
   "source": [
    "data = ['사과', '배', '사과', '오렌지', '포도', '배', '사과']\n",
    "\n",
    "# 중복 제거 위해 집합(Set)화\n",
    "print(set(data))"
   ]
  },
  {
   "cell_type": "code",
   "execution_count": 48,
   "id": "4e528190-c47e-48e9-a5ea-12c81e17a107",
   "metadata": {},
   "outputs": [],
   "source": [
    "import numpy as np"
   ]
  },
  {
   "cell_type": "code",
   "execution_count": 49,
   "id": "fc4965e8-4c22-45c7-96db-21248d85b0c6",
   "metadata": {},
   "outputs": [
    {
     "name": "stdout",
     "output_type": "stream",
     "text": [
      "['사과' '배' '사과' '오렌지' '포도' '배' '사과']\n"
     ]
    }
   ],
   "source": [
    "values = np.array(data)\n",
    "\n",
    "print(values)"
   ]
  },
  {
   "cell_type": "code",
   "execution_count": 39,
   "id": "0f533237-1daa-4fb8-afd2-f476951c8633",
   "metadata": {},
   "outputs": [],
   "source": [
    "# Label Encoding"
   ]
  },
  {
   "cell_type": "code",
   "execution_count": 50,
   "id": "85f4f6e8-063c-4a6b-a1e1-47e750fccedf",
   "metadata": {},
   "outputs": [],
   "source": [
    "label_encoder = LabelEncoder()\n",
    "# Data -> int, int 순서 -> Data\n",
    "\n",
    "# 데이터 전처리시\n",
    "\n",
    "# fit(...) : 전처리 기준\n",
    "# transform(...) : 변환\n",
    "\n",
    "# fit_transform(...) : fit() + transform()\n",
    "\n",
    "integer_encoded = label_encoder.fit_transform(values)"
   ]
  },
  {
   "cell_type": "code",
   "execution_count": 51,
   "id": "7e98f34f-08fb-4184-8dbf-dc83da407014",
   "metadata": {},
   "outputs": [
    {
     "name": "stdout",
     "output_type": "stream",
     "text": [
      "{'포도', '배', '사과', '오렌지'}\n"
     ]
    },
    {
     "data": {
      "text/plain": [
       "array([1, 0, 1, 2, 3, 0, 1], dtype=int64)"
      ]
     },
     "execution_count": 51,
     "metadata": {},
     "output_type": "execute_result"
    }
   ],
   "source": [
    "print(set(data))\n",
    "integer_encoded"
   ]
  },
  {
   "cell_type": "code",
   "execution_count": null,
   "id": "db97cd44-325d-418a-a0d5-5bed7cbd9d4a",
   "metadata": {},
   "outputs": [],
   "source": [
    "# 행/열로 분리"
   ]
  },
  {
   "cell_type": "code",
   "execution_count": 55,
   "id": "9ba3d466-0bcd-4533-9bd7-9e7d6e2989cb",
   "metadata": {},
   "outputs": [
    {
     "name": "stdout",
     "output_type": "stream",
     "text": [
      "[[1]\n",
      " [0]\n",
      " [1]\n",
      " [2]\n",
      " [3]\n",
      " [0]\n",
      " [1]]\n",
      "(7, 1)\n"
     ]
    }
   ],
   "source": [
    "integer_encoded = integer_encoded.reshape(-1, 1)\n",
    "\n",
    "print(integer_encoded)\n",
    "print(integer_encoded.shape)"
   ]
  },
  {
   "cell_type": "code",
   "execution_count": null,
   "id": "e254141c-1436-4fd6-87bd-bd22fbe90fd2",
   "metadata": {},
   "outputs": [],
   "source": [
    "# sklearn - OneHotEncoder"
   ]
  },
  {
   "cell_type": "code",
   "execution_count": 61,
   "id": "652f892e-31ce-4843-b85b-3976eb5eee91",
   "metadata": {},
   "outputs": [
    {
     "name": "stdout",
     "output_type": "stream",
     "text": [
      "[[0. 1. 0. 0.]\n",
      " [1. 0. 0. 0.]\n",
      " [0. 1. 0. 0.]\n",
      " [0. 0. 1. 0.]\n",
      " [0. 0. 0. 1.]\n",
      " [1. 0. 0. 0.]\n",
      " [0. 1. 0. 0.]]\n"
     ]
    }
   ],
   "source": [
    "from sklearn.preprocessing import OneHotEncoder\n",
    "\n",
    "# sparse_output = False : 0과 1 형태로\n",
    "onehot_encoder = OneHotEncoder(sparse_output = False)\n",
    "\n",
    "onehot_encoded = onehot_encoder.fit_transform(integer_encoded)\n",
    "\n",
    "print(onehot_encoded)"
   ]
  },
  {
   "cell_type": "code",
   "execution_count": null,
   "id": "8814fb2a-e5a1-4693-b382-21bdddea8465",
   "metadata": {},
   "outputs": [],
   "source": [
    "# LabelEncoder : invert_transform\n",
    "# - OneHotEncoding된 값 -> 원래 범주 Data로 변환\n",
    "\n",
    "# numpy.argmax(...) : 가장 큰 값의 Index 번호"
   ]
  },
  {
   "cell_type": "code",
   "execution_count": 73,
   "id": "3c4d91a0-9be4-4906-9626-83b3727f1912",
   "metadata": {},
   "outputs": [
    {
     "name": "stdout",
     "output_type": "stream",
     "text": [
      "['오렌지']\n"
     ]
    }
   ],
   "source": [
    "# [1. 0. 0. 0.] 원래 범주 확인\n",
    "\n",
    "inverted = label_encoder.inverse_transform([2])\n",
    "\n",
    "print(inverted)"
   ]
  },
  {
   "cell_type": "code",
   "execution_count": 78,
   "id": "6f06a2fc-0bbc-40ea-a7cb-c017562f788b",
   "metadata": {},
   "outputs": [
    {
     "name": "stdout",
     "output_type": "stream",
     "text": [
      "['사과']\n"
     ]
    }
   ],
   "source": [
    "inverted = label_encoder.inverse_transform([onehot_encoded[6, :].argmax()])\n",
    "\n",
    "print(inverted)"
   ]
  }
 ],
 "metadata": {
  "kernelspec": {
   "display_name": "Python 3 (ipykernel)",
   "language": "python",
   "name": "python3"
  },
  "language_info": {
   "codemirror_mode": {
    "name": "ipython",
    "version": 3
   },
   "file_extension": ".py",
   "mimetype": "text/x-python",
   "name": "python",
   "nbconvert_exporter": "python",
   "pygments_lexer": "ipython3",
   "version": "3.12.7"
  }
 },
 "nbformat": 4,
 "nbformat_minor": 5
}
